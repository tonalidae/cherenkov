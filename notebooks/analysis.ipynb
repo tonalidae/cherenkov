{
 "cells": [
  {
   "cell_type": "code",
   "execution_count": 1,
   "metadata": {
    "collapsed": true,
    "ExecuteTime": {
     "end_time": "2023-06-05T02:10:29.746046800Z",
     "start_time": "2023-06-05T02:10:29.038378600Z"
    }
   },
   "outputs": [],
   "source": [
    "import numpy as np\n",
    "import plotly.graph_objects as go\n",
    "import csv\n",
    "from scipy import optimize\n",
    "import sys,os"
   ]
  },
  {
   "cell_type": "code",
   "execution_count": 2,
   "metadata": {
    "ExecuteTime": {
     "end_time": "2023-06-05T02:10:29.762055Z",
     "start_time": "2023-06-05T02:10:29.754055100Z"
    }
   },
   "outputs": [],
   "source": [
    "def read_data(file_path):\n",
    "\n",
    "    with open(file_path) as f:\n",
    "        reader = csv.reader(f)\n",
    "        data = []\n",
    "        for column in reader:\n",
    "            column[0] = column[0].replace('(', '').replace(\"'\" , '')\n",
    "            column[2] = column[2].replace(')', '').replace(\"'\" , '')\n",
    "            column[1] = column[1].replace(\"'\" , '')\n",
    "            column[0] = float(column[0])\n",
    "            column[1] = float(column[1])\n",
    "            column[2] = float(column[2])\n",
    "            data.append(column)\n",
    "            # print(data)\n",
    "        data = np.array(data)\n",
    "    return data\n",
    "        # print(data)"
   ]
  },
  {
   "cell_type": "code",
   "execution_count": 3,
   "metadata": {
    "ExecuteTime": {
     "end_time": "2023-06-05T02:10:29.790574800Z",
     "start_time": "2023-06-05T02:10:29.764055100Z"
    }
   },
   "outputs": [],
   "source": [
    "#Read energy in GeV of data files, save to list named energies\n",
    "energies = []\n",
    "#Read all files in data folder\n",
    "for root, dir, files in os.walk('../data'):\n",
    "    for file in files:\n",
    "        if file.endswith('.csv'):\n",
    "            energies.append(file.replace('.csv', '').replace('_', '.').replace('G', ''))\n",
    "energies = np.array(energies, dtype=float)"
   ]
  },
  {
   "cell_type": "code",
   "execution_count": 4,
   "metadata": {
    "ExecuteTime": {
     "end_time": "2023-06-05T02:10:29.857303200Z",
     "start_time": "2023-06-05T02:10:29.779507200Z"
    }
   },
   "outputs": [],
   "source": [
    "results = []\n",
    "for root, dir, files in os.walk('../data'):\n",
    "    for file in files:\n",
    "        if file.endswith('.csv'):\n",
    "            # print(file)\n",
    "            data = read_data(os.path.join(root, file))\n",
    "            results.append(data)"
   ]
  },
  {
   "cell_type": "code",
   "execution_count": 5,
   "metadata": {
    "ExecuteTime": {
     "end_time": "2023-06-05T02:10:29.936853200Z",
     "start_time": "2023-06-05T02:10:29.862301400Z"
    }
   },
   "outputs": [
    {
     "name": "stdout",
     "output_type": "stream",
     "text": [
      "data set0 shape: (24, 3)\n",
      "data set1 shape: (48, 3)\n",
      "data set2 shape: (97, 3)\n",
      "data set3 shape: (135, 3)\n",
      "data set4 shape: (129, 3)\n",
      "data set5 shape: (184, 3)\n",
      "data set6 shape: (390, 3)\n",
      "data set7 shape: (202, 3)\n",
      "data set8 shape: (712, 3)\n",
      "data set9 shape: (552, 3)\n",
      "data set10 shape: (607, 3)\n",
      "data set11 shape: (1001, 3)\n",
      "data set12 shape: (717, 3)\n",
      "data set13 shape: (730, 3)\n",
      "data set14 shape: (819, 3)\n",
      "data set15 shape: (2314, 3)\n",
      "data set16 shape: (938, 3)\n",
      "data set17 shape: (489, 3)\n",
      "data set18 shape: (1942, 3)\n",
      "data set19 shape: (1041, 3)\n",
      "data set20 shape: (1098, 3)\n",
      "data set21 shape: (1077, 3)\n"
     ]
    }
   ],
   "source": [
    "for i, array in enumerate(results):\n",
    "    print(f'data set{i} shape: {array.shape}')"
   ]
  },
  {
   "cell_type": "code",
   "execution_count": 6,
   "metadata": {
    "ExecuteTime": {
     "end_time": "2023-06-05T02:10:29.970848Z",
     "start_time": "2023-06-05T02:10:29.903894900Z"
    }
   },
   "outputs": [],
   "source": [
    "def plot_pos(arrays, title, directory):\n",
    "    # if not os.path.exists(directory):\n",
    "    #     os.makedirs(directory)\n",
    "    for i, array in enumerate(arrays):\n",
    "        # np.savetxt(f'{directory}/array_{i}.csv', array, delimiter=',')\n",
    "        # print(f\"plotting array {array[:,0]}\")\n",
    "        energy_str = str(energies[i]).replace('.', '_')\n",
    "        fig = go.Figure(data=go.Scatter(x=array[:,0], y=array[:,1], mode='markers'))\n",
    "        fig.update_layout(title=f\"{energy_str}\"+ 'G', xaxis_title='x', yaxis_title='y')\n",
    "        fig.update_layout(\n",
    "            width=500,\n",
    "            height=500,\n",
    "            margin=dict(\n",
    "                l=50,\n",
    "                r=50,\n",
    "                b=100,\n",
    "                t=100,\n",
    "                pad=4\n",
    "            ),\n",
    "            xaxis=dict(\n",
    "                showgrid=True,\n",
    "                zeroline=True,\n",
    "                showline=True,\n",
    "                showticklabels=True,\n",
    "                scaleratio=1\n",
    "            ),\n",
    "            yaxis=dict(\n",
    "                showgrid=True,\n",
    "                zeroline=True,\n",
    "                showline=True,\n",
    "                showticklabels=True,\n",
    "                scaleratio=1\n",
    "            )\n",
    "        )\n",
    "        # fig.show()\n",
    "        # fig.write_image('../media/plots/'+title+'.png')\n",
    "        fig.write_image(\"../media/plots/pos/\"+f\"{energies[i]}\"+ 'G'+\".png\")\n",
    "\n",
    "\n",
    "        # print(\"../media/plots/\"+f\"{energy_str}\"+ 'G'+\".png\")"
   ]
  },
  {
   "cell_type": "code",
   "execution_count": null,
   "metadata": {},
   "outputs": [],
   "source": [
    "plot_dir = '../media/plots'\n",
    "plot_pos(results, 'GeV', plot_dir)"
   ]
  },
  {
   "cell_type": "markdown",
   "metadata": {},
   "source": [
    "# Calculate emision angle"
   ]
  },
  {
   "cell_type": "code",
   "execution_count": 7,
   "metadata": {
    "ExecuteTime": {
     "end_time": "2023-06-05T02:10:29.971852700Z",
     "start_time": "2023-06-05T02:10:29.926846500Z"
    }
   },
   "outputs": [],
   "source": [
    "def momentum(E, m):\n",
    "    return np.sqrt(E**2 - m**2)"
   ]
  },
  {
   "cell_type": "code",
   "execution_count": 8,
   "metadata": {
    "ExecuteTime": {
     "end_time": "2023-06-05T02:10:30.013402700Z",
     "start_time": "2023-06-05T02:10:29.950848500Z"
    }
   },
   "outputs": [],
   "source": [
    "def fit_circle(data):\n",
    "    x, y = data[:,0], data[:,1]\n",
    "    x_m, y_m = np.mean(x), np.mean(y)\n",
    "\n",
    "    def calc_R(xc, yc):\n",
    "        \"\"\" calculate the distance of each 2D points from the center (xc, yc) \"\"\"\n",
    "        return np.sqrt((x-xc)**2 + (y-yc)**2)\n",
    "\n",
    "    def f(c):\n",
    "        \"\"\" calculate the algebraic distance between the data points and the mean circle centered at c=(xc, yc) \"\"\"\n",
    "        Ri = calc_R(*c)\n",
    "        return Ri - Ri.mean()\n",
    "\n",
    "    center_estimate = x_m, y_m\n",
    "    center, _ = optimize.leastsq(f, center_estimate)\n",
    "\n",
    "    xc, yc = center\n",
    "    Ri       = calc_R(*center)\n",
    "    R       = Ri.mean()\n",
    "    return xc, yc, R"
   ]
  },
  {
   "cell_type": "code",
   "execution_count": 9,
   "metadata": {
    "ExecuteTime": {
     "end_time": "2023-06-05T02:10:30.075656300Z",
     "start_time": "2023-06-05T02:10:29.982865300Z"
    }
   },
   "outputs": [
    {
     "name": "stdout",
     "output_type": "stream",
     "text": [
      "0.31\n",
      "0.32\n",
      "0.33\n",
      "0.34\n",
      "0.35\n",
      "0.36\n",
      "0.37\n",
      "0.38\n",
      "0.39\n",
      "0.4\n",
      "0.42\n",
      "0.44\n",
      "0.46\n",
      "0.48\n",
      "0.5\n",
      "0.55\n",
      "0.6\n",
      "0.65\n",
      "0.7\n",
      "0.8\n",
      "0.9\n",
      "1.0\n",
      "momenta array (22,) energies (22,) radios  (22,)\n",
      "(22, 4)\n"
     ]
    }
   ],
   "source": [
    "radii = []\n",
    "xc=[]\n",
    "yc=[]\n",
    "momenta = []\n",
    "# print(type(energies))\n",
    "for e in range(len(energies)):\n",
    "    p = momentum(energies[e], 0.139)\n",
    "    print(energies[e])\n",
    "    momenta.append(p)\n",
    "momenta_array = np.array(momenta)\n",
    "for array in results:\n",
    "    radii.append(fit_circle(array)[2])\n",
    "    xc.append(fit_circle(array)[0])\n",
    "    yc.append(fit_circle(array)[1])\n",
    "radii = np.array(radii)\n",
    "xc = np.array(xc)\n",
    "yc = np.array(yc)\n",
    "print(\"momenta array\", momenta_array.shape, \"energies\", energies.shape, \"radios \",radii.shape)\n",
    "# distancia 0.24 m\n",
    "d = 240 # mm\n",
    "cherenkov_angle = []\n",
    "for i, array in enumerate(results):\n",
    "    theta = np.arctan(radii[i]/d)\n",
    "    cherenkov_angle.append(theta)\n",
    "cherenkov_ang = np.array(cherenkov_angle)\n",
    "\n",
    "\n",
    "processed_data = np.column_stack((energies, radii, momenta_array,cherenkov_ang))\n",
    "print(processed_data.shape)"
   ]
  },
  {
   "cell_type": "code",
   "execution_count": 10,
   "metadata": {
    "ExecuteTime": {
     "end_time": "2023-06-05T02:10:31.115708600Z",
     "start_time": "2023-06-05T02:10:31.074848Z"
    }
   },
   "outputs": [
    {
     "name": "stdout",
     "output_type": "stream",
     "text": [
      "angle for 0.31 GeV: 0.07373454234081654\n",
      "angle for 0.32 GeV: 0.12917491914285256\n",
      "angle for 0.33 GeV: 0.16385026266046682\n",
      "angle for 0.34 GeV: 0.19194417008870351\n",
      "angle for 0.35 GeV: 0.21409122503908318\n",
      "angle for 0.36 GeV: 0.23258316987153793\n",
      "angle for 0.37 GeV: 0.24967447458425057\n",
      "angle for 0.38 GeV: 0.26319099687811115\n",
      "angle for 0.39 GeV: 0.29221497284629944\n",
      "angle for 0.4 GeV: 0.2873830282242025\n",
      "angle for 0.42 GeV: 0.30589538697248525\n",
      "angle for 0.44 GeV: 0.3224455656869055\n",
      "angle for 0.46 GeV: 0.3348887720176852\n",
      "angle for 0.48 GeV: 0.34584427476650453\n",
      "angle for 0.5 GeV: 0.3553270529265008\n",
      "angle for 0.55 GeV: 0.3927056177169974\n",
      "angle for 0.6 GeV: 0.38791223815463727\n",
      "angle for 0.65 GeV: 0.39901760959037924\n",
      "angle for 0.7 GeV: 0.4068464238310392\n",
      "angle for 0.8 GeV: 0.41927032029829564\n",
      "angle for 0.9 GeV: 0.4265022727168366\n",
      "angle for 1.0 GeV: 0.4322450045552253\n",
      "[0.07373454 0.12917492 0.16385026 0.19194417 0.21409123 0.23258317\n",
      " 0.24967447 0.263191   0.29221497 0.28738303 0.30589539 0.32244557\n",
      " 0.33488877 0.34584427 0.35532705 0.39270562 0.38791224 0.39901761\n",
      " 0.40684642 0.41927032 0.42650227 0.432245  ]\n"
     ]
    }
   ],
   "source": [
    "# distancia 0.24 m\n",
    "d = 240 # mm\n",
    "cherenkov_angle = []\n",
    "for i, array in enumerate(results):\n",
    "    theta = np.arctan(radii[i]/d)\n",
    "    cherenkov_angle.append(theta)\n",
    "    print(f'angle for {energies[i]} GeV: {theta}')\n",
    "cherenkov_ang = np.array(cherenkov_angle)\n",
    "\n",
    "print(cherenkov_ang)"
   ]
  },
  {
   "cell_type": "code",
   "execution_count": 11,
   "metadata": {
    "ExecuteTime": {
     "end_time": "2023-06-05T02:10:33.821063Z",
     "start_time": "2023-06-05T02:10:33.772873400Z"
    }
   },
   "outputs": [],
   "source": [
    "def plot_circle(xc, yc, radii, arrays, energies):\n",
    "    for i, array in enumerate(arrays):\n",
    "        energy_str = str(energies[i]).replace('.', '_')\n",
    "        theta_fit = np.linspace(0, 2*np.pi, 180)\n",
    "        x_fit = xc[i] + (radii[i])*np.cos(theta_fit)\n",
    "        y_fit = yc[i] + (radii[i])*np.sin(theta_fit)\n",
    "        fig = go.Figure(data=go.Scatter(x=x_fit, y=y_fit, mode='lines', marker=dict(color='blue', opacity=0.8)))\n",
    "        fig.add_trace(go.Scatter(x=array[:,0], y=array[:,1], mode='markers', marker=dict(color='violet', size=3, opacity=0.8)))\n",
    "        fig.update_layout(title=f\"{energy_str}\"+ 'G', xaxis_title='y', yaxis_title='z')\n",
    "\n",
    "        fig.update_layout(\n",
    "            width=500,\n",
    "            height=500,\n",
    "            margin=dict(\n",
    "                l=50,\n",
    "                r=50,\n",
    "                b=100,\n",
    "                t=100,\n",
    "                pad=4\n",
    "            ),\n",
    "            xaxis=dict(\n",
    "                showgrid=True,\n",
    "                zeroline=True,\n",
    "                showline=True,\n",
    "                showticklabels=True,\n",
    "                scaleratio=1,\n",
    "                scaleanchor=\"x\",\n",
    "                range=[-200, 200]\n",
    "            ),\n",
    "            yaxis=dict(\n",
    "                showgrid=True,\n",
    "                zeroline=True,\n",
    "                showline=True,\n",
    "                showticklabels=True,\n",
    "                scaleratio=1,\n",
    "                scaleanchor=\"y\",\n",
    "                range=[-200, 200]\n",
    "            )\n",
    "        )\n",
    "        #fig.show()\n",
    "        fig.write_image(\"../media/plots/fit/\"+f\"{energies[i]}\"+ 'G'+\".png\")\n",
    "\n"
   ]
  },
  {
   "cell_type": "code",
   "execution_count": null,
   "metadata": {},
   "outputs": [],
   "source": [
    "plot_circle(xc, yc, radii, results, energies)"
   ]
  },
  {
   "cell_type": "code",
   "execution_count": 12,
   "metadata": {
    "ExecuteTime": {
     "end_time": "2023-06-05T02:10:36.596357100Z",
     "start_time": "2023-06-05T02:10:36.579789600Z"
    }
   },
   "outputs": [],
   "source": [
    "def plot_momenta_cherenkov_angle(data):\n",
    "        fig = go.Figure(data=go.Scatter(x=data[:,2], y=data[:,3], mode='markers', marker=dict(color='darkgreen', opacity=0.8, size=2)))\n",
    "        fig.update_layout(title='Cherenkov angle vs momenta', xaxis_title='momenta', yaxis_title='cherenkov angle', width=500, height=500)\n",
    "        fig.write_image(\"../media/plots/p/\"+\"n_1_1\"+\".png\")"
   ]
  },
  {
   "cell_type": "code",
   "execution_count": null,
   "metadata": {},
   "outputs": [],
   "source": [
    "plot_momenta_cherenkov_angle(processed_data)"
   ]
  },
  {
   "cell_type": "code",
   "execution_count": 13,
   "metadata": {
    "ExecuteTime": {
     "end_time": "2023-06-05T02:10:43.900230100Z",
     "start_time": "2023-06-05T02:10:43.886867800Z"
    }
   },
   "outputs": [],
   "source": [
    "def get_beta(energy, momentum):\n",
    "    beta = []\n",
    "    for i in range(len(energy)):\n",
    "        beta.append(momentum[i]/energy[i])\n",
    "    return np.array(beta)"
   ]
  },
  {
   "cell_type": "code",
   "execution_count": 14,
   "outputs": [
    {
     "name": "stdout",
     "output_type": "stream",
     "text": [
      "(22,) (22,)\n"
     ]
    }
   ],
   "source": [
    "beta = get_beta(energies, momenta)\n",
    "cos_beta = np.cos(beta)\n",
    "v = 1/beta\n",
    "print(v.shape, cos_beta.shape)"
   ],
   "metadata": {
    "collapsed": false,
    "ExecuteTime": {
     "end_time": "2023-06-05T02:10:44.458634900Z",
     "start_time": "2023-06-05T02:10:44.442639700Z"
    }
   }
  },
  {
   "cell_type": "code",
   "execution_count": 15,
   "outputs": [],
   "source": [
    "def plot_cos_beta(cos,v):\n",
    "        fig = go.Figure(data=go.Scatter(x=cos, y=v, mode='markers', marker=dict(color='darkgreen', opacity=0.8, size=2)))\n",
    "        fig.update_layout(title='Cherenkov angle vs beta', xaxis_title='beta', yaxis_title='cherenkov angle', width=500, height=500)\n",
    "        fig.write_image(\"../media/plots/\"+\"n_1_2\"+\".png\")"
   ],
   "metadata": {
    "collapsed": false,
    "ExecuteTime": {
     "end_time": "2023-06-05T02:10:47.952281200Z",
     "start_time": "2023-06-05T02:10:47.940198300Z"
    }
   }
  },
  {
   "cell_type": "code",
   "execution_count": null,
   "outputs": [],
   "source": [
    "plot_cos_beta(cos_beta, v)"
   ],
   "metadata": {
    "collapsed": false,
    "is_executing": true,
    "ExecuteTime": {
     "start_time": "2023-06-05T02:10:48.479120700Z"
    }
   }
  },
  {
   "cell_type": "code",
   "execution_count": null,
   "outputs": [],
   "source": [],
   "metadata": {
    "collapsed": false
   }
  }
 ],
 "metadata": {
  "kernelspec": {
   "display_name": "Python 3",
   "language": "python",
   "name": "python3"
  },
  "language_info": {
   "codemirror_mode": {
    "name": "ipython",
    "version": 3
   },
   "file_extension": ".py",
   "mimetype": "text/x-python",
   "name": "python",
   "nbconvert_exporter": "python",
   "pygments_lexer": "ipython3",
   "version": "3.7.10"
  }
 },
 "nbformat": 4,
 "nbformat_minor": 1
}
