{
 "cells": [
  {
   "cell_type": "code",
   "execution_count": 46,
   "metadata": {
    "ExecuteTime": {
     "end_time": "2023-06-05T22:42:53.048520200Z",
     "start_time": "2023-06-05T22:42:48.538680Z"
    }
   },
   "outputs": [],
   "source": [
    "import numpy as np\n",
    "import plotly.graph_objects as go\n",
    "import csv\n",
    "from scipy import optimize\n",
    "from scipy import stats\n",
    "import sys,os\n",
    "from sklearn.linear_model import LinearRegression"
   ]
  },
  {
   "cell_type": "markdown",
   "metadata": {},
   "source": [
    "# Read data files"
   ]
  },
  {
   "cell_type": "code",
   "execution_count": 47,
   "metadata": {
    "ExecuteTime": {
     "end_time": "2023-06-05T22:42:53.107883Z",
     "start_time": "2023-06-05T22:42:53.067189900Z"
    }
   },
   "outputs": [],
   "source": [
    "def read_data(file_path):\n",
    "    with open(file_path) as f:\n",
    "        reader = csv.reader(f)\n",
    "        data = []\n",
    "        for column in reader:\n",
    "            if len(column) == 3:\n",
    "                column  = column[:2]\n",
    "                column[0] = column[0].replace('(', '').replace(\"'\" , '')\n",
    "                # column[2] = column[2].replace(')', '').replace(\"'\" , '')\n",
    "                column[1] = column[1].replace(\"'\" , '')\n",
    "                column[0] = float(column[0])\n",
    "                column[1] = float(column[1])\n",
    "            else:\n",
    "                column[0] = float(column[0])\n",
    "                column[1] = float(column[1])\n",
    "            data.append(column)\n",
    "        data = np.array(data)\n",
    "    return data"
   ]
  },
  {
   "cell_type": "markdown",
   "metadata": {},
   "source": [
    "# 2D xy projection position plot"
   ]
  },
  {
   "cell_type": "code",
   "execution_count": 48,
   "metadata": {
    "ExecuteTime": {
     "end_time": "2023-06-05T22:42:53.186176700Z",
     "start_time": "2023-06-05T22:42:53.104868200Z"
    }
   },
   "outputs": [],
   "source": [
    "def plot_pos(arrays,energies,particle):\n",
    "    # Create the output directory if it doesn't already exist\n",
    "    output_dir = \"../media/plots/\"+f\"{particle}\"+\"/pos/\"\n",
    "    os.makedirs(output_dir, exist_ok=True)\n",
    "\n",
    "    for i, array in enumerate(arrays):\n",
    "        energy_str = str(energies[i]).replace('.', '_')\n",
    "        fig = go.Figure(data=go.Scatter(x=array[:,0], y=array[:,1], mode='markers'))\n",
    "        fig.update_layout(title=f\"{energy_str}\"+ 'G', xaxis_title='x', yaxis_title='y')\n",
    "        fig.update_layout(\n",
    "            width=500,\n",
    "            height=500,\n",
    "            margin=dict(\n",
    "                l=50,\n",
    "                r=50,\n",
    "                b=100,\n",
    "                t=100,\n",
    "                pad=4\n",
    "            ),\n",
    "            xaxis=dict(\n",
    "                showgrid=True,\n",
    "                zeroline=True,\n",
    "                showline=True,\n",
    "                showticklabels=True,\n",
    "                scaleratio=1\n",
    "            ),\n",
    "            yaxis=dict(\n",
    "                showgrid=True,\n",
    "                zeroline=True,\n",
    "                showline=True,\n",
    "                showticklabels=True,\n",
    "                scaleratio=1\n",
    "            )\n",
    "        )\n",
    "        # fig.show()\n",
    "        fig.write_image(\"../media/plots/\"+f\"{particle}\"+\"/pos/\"+f\"{energies[i]}\"+ 'G'+\".png\")"
   ]
  },
  {
   "cell_type": "markdown",
   "metadata": {},
   "source": [
    "\n",
    "# Calculate physical quantities"
   ]
  },
  {
   "cell_type": "code",
   "execution_count": 49,
   "metadata": {
    "ExecuteTime": {
     "end_time": "2023-06-05T22:42:53.187687800Z",
     "start_time": "2023-06-05T22:42:53.144811300Z"
    }
   },
   "outputs": [],
   "source": [
    "def momentum(E, m):\n",
    "    E = float(E)\n",
    "    return np.sqrt(E**2 - m**2)"
   ]
  },
  {
   "cell_type": "code",
   "execution_count": 50,
   "metadata": {
    "ExecuteTime": {
     "end_time": "2023-06-05T22:42:53.189714200Z",
     "start_time": "2023-06-05T22:42:53.168818300Z"
    }
   },
   "outputs": [],
   "source": [
    "def get_beta(energy, momentum):\n",
    "    beta = []\n",
    "    for i in range(len(energy)):\n",
    "        beta.append(momentum[i]/energy[i])\n",
    "    return np.array(beta)"
   ]
  },
  {
   "cell_type": "code",
   "execution_count": 51,
   "metadata": {
    "ExecuteTime": {
     "end_time": "2023-06-05T22:43:28.456306200Z",
     "start_time": "2023-06-05T22:43:28.432090200Z"
    }
   },
   "outputs": [],
   "source": [
    "#find the slope of plot\n",
    "def get_slope(x, y):\n",
    "    slope, intercept, r_value, p_value, std_err = stats.linregress(x, y)\n",
    "    return slope\n"
   ]
  },
  {
   "cell_type": "markdown",
   "metadata": {},
   "source": [
    "# Fit circle for radius calculation"
   ]
  },
  {
   "cell_type": "code",
   "execution_count": 52,
   "metadata": {
    "ExecuteTime": {
     "end_time": "2023-06-05T22:44:15.362563600Z",
     "start_time": "2023-06-05T22:44:15.320998400Z"
    }
   },
   "outputs": [],
   "source": [
    "def fit_circle(data):\n",
    "    x, y = data[:,0], data[:,1]\n",
    "    x_m, y_m = np.mean(x), np.mean(y)\n",
    "\n",
    "    def calc_R(xc, yc):\n",
    "        \"\"\" calculate the distance of each 2D points from the center (xc, yc) \"\"\"\n",
    "        return np.sqrt((x-xc)**2 + (y-yc)**2)\n",
    "\n",
    "    def f(c):\n",
    "        \"\"\" calculate the algebraic distance between the data points and the mean circle centered at c=(xc, yc) \"\"\"\n",
    "        Ri = calc_R(*c)\n",
    "        return Ri - Ri.mean()\n",
    "\n",
    "    center_estimate = x_m, y_m\n",
    "    center, _ = optimize.leastsq(f, center_estimate)\n",
    "\n",
    "    xc, yc = center\n",
    "    Ri       = calc_R(*center)\n",
    "    R       = Ri.mean()\n",
    "    return xc, yc, R"
   ]
  },
  {
   "cell_type": "markdown",
   "metadata": {},
   "source": [
    "## Plot functions"
   ]
  },
  {
   "cell_type": "code",
   "execution_count": 53,
   "metadata": {},
   "outputs": [],
   "source": [
    "def plot_circle(xc, yc, radii, arrays, energies, particle):\n",
    "    # Create the output directory if it doesn't already exist\n",
    "    output_dir = \"../media/plots/\"+f\"{particle}\"+\"/fit/\"\n",
    "    os.makedirs(output_dir, exist_ok=True)\n",
    "    for i, array in enumerate(arrays):\n",
    "        # Create the output directory if it doesn't already exist\n",
    "        output_dir = \"../media/plots/1.1_pion-/fit/\"\n",
    "        os.makedirs(output_dir, exist_ok=True)\n",
    "\n",
    "        energy_str = str(energies[i]).replace('.', '_')\n",
    "        theta_fit = np.linspace(0, 2*np.pi, 180)\n",
    "        x_fit = xc[i] + (radii[i])*np.cos(theta_fit)\n",
    "        y_fit = yc[i] + (radii[i])*np.sin(theta_fit)\n",
    "        fig = go.Figure(data=go.Scatter(x=x_fit, y=y_fit, mode='lines', marker=dict(color='blue', opacity=0.8, symbol='square', size=3)))\n",
    "        fig.add_trace(go.Scatter(x=array[:,0], y=array[:,1], mode='markers', marker=dict(color='violet', size=3, opacity=0.8)))\n",
    "        fig.update_layout(title=f\"{energy_str}\"+ 'G', xaxis_title='y', yaxis_title='z')\n",
    "\n",
    "        fig.add_trace(go.Histogram(\n",
    "                            x=array[:,0],\n",
    "                            y=array[:,1],\n",
    "                            histfunc='density',\n",
    "                            marker=dict(color='darkgreen', size=3, opacity=0.8)\n",
    "                        )\n",
    "                    )\n",
    "\n",
    "        fig.update_layout(\n",
    "            plot_bgcolor='#F5F5F5',\n",
    "            width=800,\n",
    "            height=800,\n",
    "            margin=dict(\n",
    "                l=50,\n",
    "                r=50,\n",
    "                b=100,\n",
    "                t=100,\n",
    "                pad=4\n",
    "            ),\n",
    "            xaxis=dict(\n",
    "                showgrid=True,\n",
    "                zeroline=True,\n",
    "                showline=True,\n",
    "                showticklabels=True,\n",
    "                scaleratio=1,\n",
    "                scaleanchor=\"Posiciones en x\",\n",
    "                range=[-200, 200],\n",
    "            ),\n",
    "            yaxis=dict(\n",
    "                showgrid=True,\n",
    "                zeroline=True,\n",
    "                showline=True,\n",
    "                showticklabels=True,\n",
    "                scaleratio=1,\n",
    "                scaleanchor=\"Posiciones en y\",\n",
    "                range=[-200, 200]\n",
    "            )\n",
    "        )\n",
    "        # fig.show()\n",
    "        fig.write_image(\"../media/plots/\"+f\"{particle}\"+\"/fit/\"+f\"{energies[i]}\"+ 'G'+\".png\")\n",
    "\n"
   ]
  },
  {
   "cell_type": "code",
   "execution_count": 54,
   "metadata": {},
   "outputs": [],
   "source": [
    "def plot_cos_beta(cos,beta_1, particle):\n",
    "    # Create the output directory if it doesn't already exist\n",
    "    output_dir = \"../media/plots/beta/\"\n",
    "    os.makedirs(output_dir, exist_ok=True)\n",
    "    # output_dir = \"../media/plots/1.1_pion-/beta/\"\n",
    "    fig = go.Figure(data=go.Scatter(x=cos, y=beta_1, mode='markers', marker=dict(color='darkgreen', opacity=0.8)))\n",
    "    fig.update_layout(title='Cherenkov angle vs beta', xaxis_title='beta', yaxis_title='cherenkov angle', width=500, height=500)\n",
    "    fig.write_image(\"../media/plots/beta/\"+f\"{particle}\"+\".png\")\n",
    "    # fig.show()"
   ]
  },
  {
   "cell_type": "markdown",
   "metadata": {},
   "source": [
    "# Calculate Cherenkov cone aperture angle"
   ]
  },
  {
   "cell_type": "code",
   "execution_count": 55,
   "metadata": {},
   "outputs": [],
   "source": [
    "def plot_momenta_cherenkov_angle(data, particle):\n",
    "    # Create the output directory if it doesn't already exist\n",
    "    # output_dir = \"../media/plots/1.1_pion-/p/\"\n",
    "    output_dir = \"../media/plots/p/\"\n",
    "    os.makedirs(output_dir, exist_ok=True)\n",
    "    fig = go.Figure(data=go.Scatter(x=data[:,2], y=data[:,3], mode='markers', marker=dict(color='darkgreen', opacity=0.8, size=2)))\n",
    "    fig.update_layout(title='Cherenkov angle vs momenta', xaxis_title='momenta', yaxis_title='cherenkov angle', width=500, height=500)\n",
    "    fig.write_image(\"../media/plots/p/\"+f\"{particle}\"+\".png\")\n",
    "    # fig.show()"
   ]
  },
  {
   "cell_type": "markdown",
   "metadata": {},
   "source": [
    "## Pion - n=1.1"
   ]
  },
  {
   "cell_type": "code",
   "execution_count": 65,
   "metadata": {
    "ExecuteTime": {
     "end_time": "2023-06-05T22:51:31.356224700Z",
     "start_time": "2023-06-05T22:51:31.221823300Z"
    }
   },
   "outputs": [
    {
     "name": "stdout",
     "output_type": "stream",
     "text": [
      "n 1.166623726442029\n",
      "slope 0.8571744062241917\n"
     ]
    }
   ],
   "source": [
    "#Read energy in GeV of data files, save to list named energies\n",
    "energies_pion = []\n",
    "\n",
    "#Read all pion datasets\n",
    "for root, dir, files in os.walk('../data/n1.1pion-'):\n",
    "    for file in files:\n",
    "        if file.endswith('.csv'):\n",
    "            energies_pion.append(file.replace('.csv', '').replace('_', '.').replace('G', ''))\n",
    "energies_pion = np.array(energies_pion, dtype=float)\n",
    "\n",
    "pion_data = []\n",
    "for root, dir, files in os.walk('../data/n1.1pion-'):\n",
    "    for file in files:\n",
    "        if file.endswith('.csv'):\n",
    "            data = read_data(os.path.join(root, file))\n",
    "            pion_data.append(data)\n",
    "\n",
    "plot_pion_dir = '../media/plots/1.1_pion-/pos/'\n",
    "plot_pos(pion_data, energies_pion, 'n1.1_pion-')\n",
    "\n",
    "#Circle fit for pion data\n",
    "radii_pion = []\n",
    "xc_pion=[]\n",
    "yc_pion=[]\n",
    "momenta_pion = []\n",
    "\n",
    "\n",
    "#quantities calculated for pion\n",
    "# #Mass in GeV\n",
    "for e in range(len(energies_pion)):\n",
    "    p = momentum(energies_pion[e], 0.13957)\n",
    "    # print(energies_pion[e])\n",
    "    # print(p)\n",
    "    momenta_pion.append(p)\n",
    "momenta_pion = np.array(momenta_pion)\n",
    "for array in pion_data:\n",
    "    radii_pion.append(fit_circle(array)[2])\n",
    "    xc_pion.append(fit_circle(array)[0])\n",
    "    yc_pion.append(fit_circle(array)[1])\n",
    "radii_pion = np.array(radii_pion)\n",
    "xc_pion = np.array(xc_pion)\n",
    "yc_pion = np.array(yc_pion)\n",
    "# print(\"momenta array\", momenta_pion.shape, \"energies\", energies_pion.shape, \"radios \",radii_pion.shape)\n",
    "# distancia 0.24 m\n",
    "d = 240 # mm\n",
    "\n",
    "pion_cherenkov_angle = []\n",
    "for i, array in enumerate(pion_data):\n",
    "    theta = np.arctan(radii_pion[i]/d)\n",
    "    theta_deg = np.degrees(theta)\n",
    "    pion_cherenkov_angle.append(theta_deg)\n",
    "pion_cherenkov_ang = np.array(pion_cherenkov_angle)\n",
    "pion_physdata = np.column_stack((energies_pion, radii_pion, momenta_pion,pion_cherenkov_ang))\n",
    "# print(processed_data.shape)\n",
    "pion_directory = '../data/exported_data/1.1_pion-/'\n",
    "if not os.path.exists(pion_directory):\n",
    "    os.makedirs(pion_directory)\n",
    "np.savetxt(pion_directory + 'pion_physdata.dat', pion_physdata, delimiter=',')\n",
    "\n",
    "plot_circle(xc_pion, yc_pion, radii_pion, pion_data, energies_pion, \"n1.1_pion-\")\n",
    "\n",
    "# plot_momenta_cherenkov_angle(pion_physdata, particle=\"1_1pion\")\n",
    "\n",
    "beta_pion = get_beta(energies_pion, momenta_pion)\n",
    "cos_theta_pion = np.cos(np.radians(pion_cherenkov_angle))\n",
    "cos_theta_pion_deg = np.degrees(cos_theta_pion)\n",
    "beta_1_pion = 1/beta_pion\n",
    "#\n",
    "# print(pion_cherenkov_angle)\n",
    "# print(cos_theta_pion)\n",
    "# print(beta_1_pion)\n",
    "\n",
    "# plot_cos_beta(cos_theta_pion, beta_1_pion, \"n_1_1_pion\")\n",
    "\n",
    "slope = get_slope(beta_1_pion,cos_theta_pion)\n",
    "print(\"n\", (1/slope))\n",
    "print(\"slope\", slope)"
   ]
  },
  {
   "cell_type": "markdown",
   "metadata": {},
   "source": [
    "## Kaon - n=1.1"
   ]
  },
  {
   "cell_type": "code",
   "execution_count": 66,
   "metadata": {},
   "outputs": [
    {
     "name": "stdout",
     "output_type": "stream",
     "text": [
      "(21, 4)\n",
      "[0.89888864 0.89998851 0.90083862 0.90243817 0.90338613 0.91145888\n",
      " 0.91772548 0.93196213 0.93569992 0.94039303 0.94607884 0.9522005\n",
      " 0.9700354  0.98148142 0.89935947 0.90528908 0.90799587 0.92889362\n",
      " 0.96005723 0.99624203 0.89918991]\n",
      "slope 1.16318049778449\n"
     ]
    }
   ],
   "source": [
    "energies_kaon = []\n",
    "\n",
    "#Read all kaon datasets\n",
    "for root, dir, files in os.walk('../data/n1.1kaon-'):\n",
    "    for file in files:\n",
    "        if file.endswith('.csv'):\n",
    "            energies_kaon.append(file.replace('.csv', '').replace('_', '.').replace('G', ''))\n",
    "energies_kaon = np.array(energies_kaon, dtype=float)\n",
    "\n",
    "kaon_data = []\n",
    "\n",
    "for root, dir, files in os.walk('../data/n1.1kaon-'):\n",
    "    for file in files:\n",
    "        if file.endswith('.csv'):\n",
    "            data = read_data(os.path.join(root, file))\n",
    "            kaon_data.append(data)\n",
    "\n",
    "\n",
    "plot_kaon_dir = '../media/plots/1.1_kaon-/pos/'\n",
    "# plot_pos(kaon_data, energies_kaon,'n1.1_kaon-')\n",
    "\n",
    "#Circle fit for kaon data\n",
    "radii_kaon = []\n",
    "xc_kaon=[]\n",
    "yc_kaon=[]\n",
    "momenta_kaon = []\n",
    "\n",
    "\n",
    "#quantities calculated for kaon\n",
    "#Mass in GeV\n",
    "for e in range(len(energies_kaon)):\n",
    "    p = momentum(energies_kaon[e], 0.493677)\n",
    "    # print(energies_kaon[e])\n",
    "    # print(p)\n",
    "    momenta_kaon.append(p)\n",
    "momenta_kaon = np.array(momenta_kaon)\n",
    "for array in kaon_data:\n",
    "    radii_kaon.append(fit_circle(array)[2])\n",
    "    xc_kaon.append(fit_circle(array)[0])\n",
    "    yc_kaon.append(fit_circle(array)[1])\n",
    "radii_kaon = np.array(radii_kaon)\n",
    "xc_kaon = np.array(xc_kaon)\n",
    "yc_kaon = np.array(yc_kaon)\n",
    "# print(\"momenta array\", momenta_kaon.shape, \"energies\", energies_kaon.shape, \"radios \",radii_kaon.shape)\n",
    "# distancia 0.24 m\n",
    "d = 240 # mm\n",
    "kaon_cherenkov_angle = []\n",
    "for i, array in enumerate(kaon_data):\n",
    "    theta = np.arctan(radii_kaon[i]/d)\n",
    "    theta = np.degrees(theta)\n",
    "    kaon_cherenkov_angle.append(theta)\n",
    "kaon_cherenkov_ang = np.array(kaon_cherenkov_angle)\n",
    "kaon_physdata = np.column_stack((energies_kaon, radii_kaon, momenta_kaon,kaon_cherenkov_ang))\n",
    "print(kaon_physdata.shape)\n",
    "kaon_directory = '../data/exported_data/1.1_kaon-/'\n",
    "if not os.path.exists(kaon_directory):\n",
    "    os.makedirs(kaon_directory)\n",
    "np.savetxt(kaon_directory + 'kaon_physdata.dat', kaon_physdata, delimiter=',')\n",
    "\n",
    "plot_circle(xc_kaon, yc_kaon, radii_kaon, kaon_data, energies_kaon,\"n1.1_kaon-\")\n",
    "\n",
    "# plot_momenta_cherenkov_angle(kaon_physdata, particle=\"1.1_kaon-\")\n",
    "\n",
    "beta_kaon = get_beta(energies_kaon, momenta_kaon)\n",
    "cos_theta_kaon = np.cos(np.radians(kaon_cherenkov_angle))\n",
    "beta_1_kaon = 1/beta_kaon\n",
    "print(cos_theta_kaon)\n",
    "\n",
    "# plot_cos_beta(cos_theta_kaon, beta_1_kaon)\n",
    "kaon_slope = get_slope(beta_1_kaon,cos_theta_kaon)\n",
    "print(\"slope\", (1/kaon_slope))"
   ]
  },
  {
   "cell_type": "markdown",
   "metadata": {},
   "source": [
    "## Proton - n=1.1"
   ]
  },
  {
   "cell_type": "code",
   "execution_count": 72,
   "metadata": {},
   "outputs": [
    {
     "name": "stdout",
     "output_type": "stream",
     "text": [
      "(27, 4)\n",
      "n 1.252740112962141\n",
      "slope 0.8571744062241917\n"
     ]
    }
   ],
   "source": [
    "energies_proton = []\n",
    "\n",
    "#Read all proton datasets\n",
    "for root, dir, files in os.walk('../data/n1.1proton'):\n",
    "    for file in files:\n",
    "        if file.endswith('.csv'):\n",
    "            energies_proton.append(file.replace('.csv', '').replace('_', '.').replace('G', ''))\n",
    "energies_proton = np.array(energies_proton, dtype=float)\n",
    "\n",
    "\n",
    "proton_data = []\n",
    "for root, dir, files in os.walk('../data/n1.1proton'):\n",
    "    for file in files:\n",
    "        if file.endswith('.csv'):\n",
    "            data = read_data(os.path.join(root, file))\n",
    "            proton_data.append(data)\n",
    "\n",
    "\n",
    "plot_proton_dir = '../media/plots/1.1_proton/pos/'\n",
    "\n",
    "plot_pos(proton_data, energies_proton, 'n1.1_proton')\n",
    "\n",
    "#Circle fit for proton data\n",
    "radii_proton = []\n",
    "xc_proton=[]\n",
    "yc_proton=[]\n",
    "momenta_proton = []\n",
    "\n",
    "\n",
    "\n",
    "#quantities calculated for proton\n",
    "#Mass in GeV\n",
    "for e in range(len(energies_proton)):\n",
    "    p = momentum(energies_proton[e], 0.938272)\n",
    "    # print(energies_proton[e])\n",
    "    # print(p)\n",
    "    momenta_proton.append(p)\n",
    "momenta_proton = np.array(momenta_proton)\n",
    "for array in proton_data:\n",
    "    radii_proton.append(fit_circle(array)[2])\n",
    "    xc_proton.append(fit_circle(array)[0])\n",
    "    yc_proton.append(fit_circle(array)[1])\n",
    "radii_proton = np.array(radii_proton)\n",
    "xc_proton = np.array(xc_proton)\n",
    "yc_proton = np.array(yc_proton)\n",
    "# print(\"momenta array\", momenta_proton.shape, \"energies\", energies_proton.shape, \"radios \",radii_proton.shape)\n",
    "# distancia 0.24 m\n",
    "d = 249 # mm\n",
    "proton_cherenkov_angle = []\n",
    "for i, array in enumerate(proton_data):\n",
    "    theta = np.arctan(radii_proton[i]/d)\n",
    "    theta = np.degrees(theta)\n",
    "    proton_cherenkov_angle.append(theta)\n",
    "proton_cherenkov_ang = np.array(proton_cherenkov_angle)\n",
    "proton_physdata = np.column_stack((energies_proton, radii_proton, momenta_proton,proton_cherenkov_ang))\n",
    "print(proton_physdata.shape)\n",
    "proton_directory = '../data/exported_data/1.1_proton-/'\n",
    "if not os.path.exists(proton_directory):\n",
    "    os.makedirs(proton_directory)\n",
    "np.savetxt(proton_directory + 'proton_physdata.dat', proton_physdata, delimiter=',')\n",
    "\n",
    "plot_circle(xc_proton, yc_proton, radii_proton, proton_data, energies_proton,\"n1.1_proton\")\n",
    "plot_momenta_cherenkov_angle(proton_physdata, \"1.1_proton-\")\n",
    "beta_proton = get_beta(energies_proton, momenta_proton)\n",
    "cos_theta_proton = np.cos(np.radians(proton_cherenkov_ang))\n",
    "beta_1_proton = (1/(beta_proton))\n",
    "\n",
    "plot_cos_beta(beta_1_proton,cos_theta_proton,\"n1.1_proton-\")\n",
    "\n",
    "proton_slope = get_slope (beta_1_proton,cos_theta_proton)\n",
    "print(\"n\", (1/proton_slope))\n",
    "print(\"slope\", slope)"
   ]
  },
  {
   "cell_type": "code",
   "execution_count": null,
   "metadata": {},
   "outputs": [],
   "source": []
  },
  {
   "cell_type": "code",
   "execution_count": null,
   "metadata": {},
   "outputs": [],
   "source": []
  },
  {
   "cell_type": "code",
   "execution_count": null,
   "metadata": {},
   "outputs": [],
   "source": []
  }
 ],
 "metadata": {
  "kernelspec": {
   "display_name": "Python 3",
   "language": "python",
   "name": "python3"
  },
  "language_info": {
   "codemirror_mode": {
    "name": "ipython",
    "version": 3
   },
   "file_extension": ".py",
   "mimetype": "text/x-python",
   "name": "python",
   "nbconvert_exporter": "python",
   "pygments_lexer": "ipython3",
   "version": "3.7.10"
  }
 },
 "nbformat": 4,
 "nbformat_minor": 1
}
