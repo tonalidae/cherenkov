{
 "cells": [
  {
   "cell_type": "code",
   "execution_count": 1,
   "metadata": {},
   "outputs": [],
   "source": [
    "import numpy as np\n",
    "import plotly.graph_objects as go\n",
    "import csv\n",
    "from scipy import optimize\n",
    "import sys,os\n",
    "from sklearn.linear_model import LinearRegression"
   ]
  },
  {
   "cell_type": "markdown",
   "metadata": {},
   "source": [
    "# Read data files"
   ]
  },
  {
   "cell_type": "code",
   "execution_count": 2,
   "metadata": {},
   "outputs": [],
   "source": [
    "def read_data(file_path):\n",
    "    with open(file_path) as f:\n",
    "        reader = csv.reader(f)\n",
    "        data = []\n",
    "        for column in reader:\n",
    "            if len(column) == 3:\n",
    "                column  = column[:2]\n",
    "                column[0] = column[0].replace('(', '').replace(\"'\" , '')\n",
    "                # column[2] = column[2].replace(')', '').replace(\"'\" , '')\n",
    "                column[1] = column[1].replace(\"'\" , '')\n",
    "                column[0] = float(column[0])\n",
    "                column[1] = float(column[1])\n",
    "            else:\n",
    "                column[0] = float(column[0])\n",
    "                column[1] = float(column[1])\n",
    "            data.append(column)\n",
    "        data = np.array(data)\n",
    "    return data"
   ]
  },
  {
   "cell_type": "markdown",
   "metadata": {},
   "source": [
    "# 2D xy projection position plot"
   ]
  },
  {
   "cell_type": "code",
   "execution_count": 3,
   "metadata": {},
   "outputs": [],
   "source": [
    "def plot_pos(arrays,energies,particle):\n",
    "    # Create the output directory if it doesn't already exist\n",
    "    output_dir = \"../media/plots/\"+f\"{particle}\"+\"/pos/\"\n",
    "    os.makedirs(output_dir, exist_ok=True)\n",
    "\n",
    "    for i, array in enumerate(arrays):\n",
    "        energy_str = str(energies[i]).replace('.', '_')\n",
    "        fig = go.Figure(data=go.Scatter(x=array[:,0], y=array[:,1], mode='markers'))\n",
    "        fig.update_layout(title=f\"{energy_str}\"+ 'G', xaxis_title='x', yaxis_title='y')\n",
    "        fig.update_layout(\n",
    "            width=500,\n",
    "            height=500,\n",
    "            margin=dict(\n",
    "                l=50,\n",
    "                r=50,\n",
    "                b=100,\n",
    "                t=100,\n",
    "                pad=4\n",
    "            ),\n",
    "            xaxis=dict(\n",
    "                showgrid=True,\n",
    "                zeroline=True,\n",
    "                showline=True,\n",
    "                showticklabels=True,\n",
    "                scaleratio=1\n",
    "            ),\n",
    "            yaxis=dict(\n",
    "                showgrid=True,\n",
    "                zeroline=True,\n",
    "                showline=True,\n",
    "                showticklabels=True,\n",
    "                scaleratio=1\n",
    "            )\n",
    "        )\n",
    "        #fig.show()\n",
    "        fig.write_image(\"../media/plots/\"+f\"{particle}\"+\"/pos/\"+f\"{energies[i]}\"+ 'G'+\".png\")"
   ]
  },
  {
   "cell_type": "markdown",
   "metadata": {},
   "source": [
    "# Calculate physical quantities"
   ]
  },
  {
   "cell_type": "code",
   "execution_count": 4,
   "metadata": {},
   "outputs": [],
   "source": [
    "def momentum(E, m):\n",
    "    E = float(E)\n",
    "    return np.sqrt(E**2 - m**2)"
   ]
  },
  {
   "cell_type": "code",
   "execution_count": 5,
   "metadata": {},
   "outputs": [],
   "source": [
    "def get_beta(energy, momentum):\n",
    "    beta = []\n",
    "    for i in range(len(energy)):\n",
    "        beta.append(momentum[i]/energy[i])\n",
    "    return np.array(beta)"
   ]
  },
  {
   "cell_type": "code",
   "execution_count": 6,
   "metadata": {},
   "outputs": [],
   "source": [
    "#find the slope of plot\n",
    "def get_slope(x, y):\n",
    "    x = x.reshape(-1,1)\n",
    "    y = y.reshape(-1,1)\n",
    "    reg = LinearRegression()\n",
    "    fit = reg.fit(x, y)\n",
    "    return reg\n",
    "\n"
   ]
  },
  {
   "cell_type": "markdown",
   "metadata": {},
   "source": [
    "# Fit circle for radius calculation"
   ]
  },
  {
   "cell_type": "code",
   "execution_count": 7,
   "metadata": {},
   "outputs": [],
   "source": [
    "def fit_circle(data):\n",
    "    x, y = data[:,0], data[:,1]\n",
    "    x_m, y_m = np.mean(x), np.mean(y)\n",
    "\n",
    "    def calc_R(xc, yc):\n",
    "        \"\"\" calculate the distance of each 2D points from the center (xc, yc) \"\"\"\n",
    "        return np.sqrt((x-xc)**2 + (y-yc)**2)\n",
    "\n",
    "    def f(c):\n",
    "        \"\"\" calculate the algebraic distance between the data points and the mean circle centered at c=(xc, yc) \"\"\"\n",
    "        Ri = calc_R(*c)\n",
    "        return Ri - Ri.mean()\n",
    "\n",
    "    center_estimate = x_m, y_m\n",
    "    center, _ = optimize.leastsq(f, center_estimate)\n",
    "\n",
    "    xc, yc = center\n",
    "    Ri       = calc_R(*center)\n",
    "    R       = Ri.mean()\n",
    "    return xc, yc, R"
   ]
  },
  {
   "cell_type": "markdown",
   "metadata": {},
   "source": [
    "## Plot functions"
   ]
  },
  {
   "cell_type": "code",
   "execution_count": 19,
   "metadata": {},
   "outputs": [],
   "source": [
    "def plot_circle(xc, yc, radii, arrays, energies, particle):\n",
    "    # Create the output directory if it doesn't already exist\n",
    "    output_dir = \"../media/plots/\"+f\"{particle}\"+\"/fit/\"\n",
    "    os.makedirs(output_dir, exist_ok=True)\n",
    "    for i, array in enumerate(arrays):\n",
    "        # Create the output directory if it doesn't already exist\n",
    "        output_dir = \"../media/plots/1.1_pion-/fit/\"\n",
    "        os.makedirs(output_dir, exist_ok=True)\n",
    "\n",
    "        energy_str = str(energies[i]).replace('.', '_')\n",
    "        theta_fit = np.linspace(0, 2*np.pi, 180)\n",
    "        x_fit = xc[i] + (radii[i])*np.cos(theta_fit)\n",
    "        y_fit = yc[i] + (radii[i])*np.sin(theta_fit)\n",
    "        fig = go.Figure(data=go.Scatter(x=x_fit, y=y_fit, mode='lines', marker=dict(color='blue', opacity=0.8)))\n",
    "        fig.add_trace(go.Scatter(x=array[:,0], y=array[:,1], mode='markers', marker=dict(color='violet', size=3, opacity=0.8)))\n",
    "        fig.update_layout(title=f\"{energy_str}\"+ 'G', xaxis_title='y', yaxis_title='z')\n",
    "\n",
    "        fig.update_layout(\n",
    "            width=500,\n",
    "            height=500,\n",
    "            margin=dict(\n",
    "                l=50,\n",
    "                r=50,\n",
    "                b=100,\n",
    "                t=100,\n",
    "                pad=4\n",
    "            ),\n",
    "            xaxis=dict(\n",
    "                showgrid=True,\n",
    "                zeroline=True,\n",
    "                showline=True,\n",
    "                showticklabels=True,\n",
    "                scaleratio=1,\n",
    "                scaleanchor=\"x\",\n",
    "                range=[-200, 200]\n",
    "            ),\n",
    "            yaxis=dict(\n",
    "                showgrid=True,\n",
    "                zeroline=True,\n",
    "                showline=True,\n",
    "                showticklabels=True,\n",
    "                scaleratio=1,\n",
    "                scaleanchor=\"y\",\n",
    "                range=[-200, 200]\n",
    "            )\n",
    "        )\n",
    "        # fig.show()\n",
    "        fig.write_image(\"../media/plots/\"+f\"{particle}\"+\"/fit/\"+f\"{energies[i]}\"+ 'G'+\".png\")\n",
    "\n"
   ]
  },
  {
   "cell_type": "code",
   "execution_count": 26,
   "metadata": {},
   "outputs": [],
   "source": [
    "def plot_cos_beta(cos,beta_1, particle):\n",
    "    # Create the output directory if it doesn't already exist\n",
    "    output_dir = \"../media/plots/beta/\"\n",
    "    os.makedirs(output_dir, exist_ok=True)\n",
    "    # output_dir = \"../media/plots/1.1_pion-/beta/\"\n",
    "    fig = go.Figure(data=go.Scatter(x=cos, y=beta_1, mode='markers', marker=dict(color='darkgreen', opacity=0.8)))\n",
    "    fig.update_layout(title='Cherenkov angle vs beta', xaxis_title='beta', yaxis_title='cherenkov angle', width=500, height=500)\n",
    "    fig.write_image(\"../media/plots/beta/\"+f\"{particle}\"+\".png\")\n",
    "    # fig.show()"
   ]
  },
  {
   "cell_type": "markdown",
   "metadata": {},
   "source": [
    "# Calculate Cherenkov cone aperture angle"
   ]
  },
  {
   "cell_type": "code",
   "execution_count": 24,
   "metadata": {},
   "outputs": [],
   "source": [
    "def plot_momenta_cherenkov_angle(data, particle):\n",
    "    # Create the output directory if it doesn't already exist\n",
    "    # output_dir = \"../media/plots/1.1_pion-/p/\"\n",
    "    output_dir = \"../media/plots/p/\"\n",
    "    os.makedirs(output_dir, exist_ok=True)\n",
    "    fig = go.Figure(data=go.Scatter(x=data[:,2], y=data[:,3], mode='markers', marker=dict(color='darkgreen', opacity=0.8, size=2)))\n",
    "    fig.update_layout(title='Cherenkov angle vs momenta', xaxis_title='momenta', yaxis_title='cherenkov angle', width=500, height=500)\n",
    "    fig.write_image(\"../media/plots/p/\"+f\"{particle}\"+\".png\")\n",
    "    # fig.show()"
   ]
  },
  {
   "cell_type": "markdown",
   "metadata": {},
   "source": [
    "## Pion - n=1.1"
   ]
  },
  {
   "cell_type": "code",
   "execution_count": 30,
   "metadata": {},
   "outputs": [
    {
     "name": "stdout",
     "output_type": "stream",
     "text": [
      "[24.765814476627455, 22.225734067734376, 19.815417312883504, 15.079733326956594, 14.305293645823896, 13.32603401941341, 12.266523625524998, 10.997590848223927, 9.387928522554732, 7.401177685829118, 4.2246780804574575, 24.436780179412377, 24.02241982819055, 23.310582995509264, 22.862024980927533, 20.35874047951012, 19.187713242932183, 18.474770036568042, 17.52651464604451, 16.46583462093582, 21.453522182704265, 15.836420450322322]\n",
      "[ 0.93343427 -0.97261077  0.56870856 -0.80906906 -0.16733576  0.72506786\n",
      "  0.9553817   0.00201656 -0.99932114  0.43748863 -0.46860491  0.76743791\n",
      "  0.44437362 -0.2487233  -0.64415644  0.0615728   0.94336757  0.93058603\n",
      "  0.24522818 -0.72630084 -0.85892662 -0.99176072]\n",
      "[1.00988454 1.02820521 1.04515845 1.07514548 1.07976759 1.08484821\n",
      " 1.09045266 1.09665886 1.10356034 1.11127046 1.11992776 1.01224588\n",
      " 1.01557504 1.02049034 1.02388208 1.04139502 1.04947307 1.05445507\n",
      " 1.06025381 1.0670643  1.0338415  1.07092669]\n",
      "slope -0.006787316381156475\n"
     ]
    }
   ],
   "source": [
    "#Read energy in GeV of data files, save to list named energies\n",
    "energies_pion = []\n",
    "\n",
    "#Read all pion datasets\n",
    "for root, dir, files in os.walk('../data/n1.1pion-'):\n",
    "    for file in files:\n",
    "        if file.endswith('.csv'):\n",
    "            energies_pion.append(file.replace('.csv', '').replace('_', '.').replace('G', ''))\n",
    "energies_pion = np.array(energies_pion, dtype=float)\n",
    "\n",
    "pion_data = []\n",
    "for root, dir, files in os.walk('../data/n1.1pion-'):\n",
    "    for file in files:\n",
    "        if file.endswith('.csv'):\n",
    "            data = read_data(os.path.join(root, file))\n",
    "            pion_data.append(data)\n",
    "\n",
    "plot_pion_dir = '../media/plots/1.1_pion-/pos/'\n",
    "plot_pos(pion_data, energies_pion, 'n1.1_pion-')\n",
    "\n",
    "#Circle fit for pion data\n",
    "radii_pion = []\n",
    "xc_pion=[]\n",
    "yc_pion=[]\n",
    "momenta_pion = []\n",
    "\n",
    "\n",
    "#quantities calculated for pion\n",
    "# #Mass in GeV\n",
    "for e in range(len(energies_pion)):\n",
    "    p = momentum(energies_pion[e], 0.13957)\n",
    "    # print(energies_pion[e])\n",
    "    # print(p)\n",
    "    momenta_pion.append(p)\n",
    "momenta_pion = np.array(momenta_pion)\n",
    "for array in pion_data:\n",
    "    radii_pion.append(fit_circle(array)[2])\n",
    "    xc_pion.append(fit_circle(array)[0])\n",
    "    yc_pion.append(fit_circle(array)[1])\n",
    "radii_pion = np.array(radii_pion)\n",
    "xc_pion = np.array(xc_pion)\n",
    "yc_pion = np.array(yc_pion)\n",
    "# print(\"momenta array\", momenta_pion.shape, \"energies\", energies_pion.shape, \"radios \",radii_pion.shape)\n",
    "# distancia 0.24 m\n",
    "d = 240 # mm\n",
    "pion_cherenkov_angle = []\n",
    "for i, array in enumerate(pion_data):\n",
    "    theta = np.arctan(radii_pion[i]/d)\n",
    "    theta = np.degrees(theta)\n",
    "    pion_cherenkov_angle.append(theta)\n",
    "pion_cherenkov_ang = np.array(pion_cherenkov_angle)\n",
    "pion_physdata = np.column_stack((energies_pion, radii_pion, momenta_pion,pion_cherenkov_ang))\n",
    "# print(processed_data.shape)\n",
    "pion_directory = '../data/exported_data/1.1_pion-/'\n",
    "if not os.path.exists(pion_directory):\n",
    "    os.makedirs(pion_directory)\n",
    "np.savetxt(pion_directory + 'pion_physdata.dat', pion_physdata, delimiter=',')\n",
    "\n",
    "plot_circle(xc_pion, yc_pion, radii_pion, pion_data, energies_pion, particle=\"n1.1_pion-\")\n",
    "\n",
    "plot_momenta_cherenkov_angle(pion_physdata, particle=\"1_1pion\")\n",
    "\n",
    "beta_pion = get_beta(energies_pion, momenta_pion)\n",
    "cos_theta_pion = np.cos(pion_cherenkov_ang)\n",
    "beta_1_pion = 1/beta_pion\n",
    "\n",
    "print(pion_cherenkov_angle)\n",
    "print(cos_theta_pion)\n",
    "print(beta_1_pion)\n",
    "\n",
    "plot_cos_beta(cos_theta_pion, beta_1_pion, \"n_1_1_pion\")\n",
    "\n",
    "reg_pion = get_slope(cos_theta_pion, beta_1_pion)\n",
    "print(\"slope\", reg_pion.coef_[0][0])"
   ]
  },
  {
   "cell_type": "markdown",
   "metadata": {},
   "source": [
    "## Kaon - n=1.1"
   ]
  },
  {
   "cell_type": "code",
   "execution_count": 18,
   "metadata": {},
   "outputs": [
    {
     "name": "stdout",
     "output_type": "stream",
     "text": [
      "(21, 4)\n"
     ]
    },
    {
     "ename": "TypeError",
     "evalue": "plot_circle() missing 1 required positional argument: 'particle'",
     "output_type": "error",
     "traceback": [
      "\u001b[0;31m---------------------------------------------------------------------------\u001b[0m",
      "\u001b[0;31mTypeError\u001b[0m                                 Traceback (most recent call last)",
      "\u001b[0;32m<ipython-input-18-c6cb4c90465f>\u001b[0m in \u001b[0;36m<module>\u001b[0;34m\u001b[0m\n\u001b[1;32m     58\u001b[0m \u001b[0mnp\u001b[0m\u001b[0;34m.\u001b[0m\u001b[0msavetxt\u001b[0m\u001b[0;34m(\u001b[0m\u001b[0mkaon_directory\u001b[0m \u001b[0;34m+\u001b[0m \u001b[0;34m'kaon_physdata.dat'\u001b[0m\u001b[0;34m,\u001b[0m \u001b[0mkaon_physdata\u001b[0m\u001b[0;34m,\u001b[0m \u001b[0mdelimiter\u001b[0m\u001b[0;34m=\u001b[0m\u001b[0;34m','\u001b[0m\u001b[0;34m)\u001b[0m\u001b[0;34m\u001b[0m\u001b[0;34m\u001b[0m\u001b[0m\n\u001b[1;32m     59\u001b[0m \u001b[0;34m\u001b[0m\u001b[0m\n\u001b[0;32m---> 60\u001b[0;31m \u001b[0mplot_circle\u001b[0m\u001b[0;34m(\u001b[0m\u001b[0mxc_kaon\u001b[0m\u001b[0;34m,\u001b[0m \u001b[0myc_kaon\u001b[0m\u001b[0;34m,\u001b[0m \u001b[0mradii_kaon\u001b[0m\u001b[0;34m,\u001b[0m \u001b[0mkaon_data\u001b[0m\u001b[0;34m,\u001b[0m \u001b[0menergies_kaon\u001b[0m\u001b[0;34m)\u001b[0m\u001b[0;34m\u001b[0m\u001b[0;34m\u001b[0m\u001b[0m\n\u001b[0m\u001b[1;32m     61\u001b[0m \u001b[0;34m\u001b[0m\u001b[0m\n\u001b[1;32m     62\u001b[0m \u001b[0mplot_momenta_cherenkov_angle\u001b[0m\u001b[0;34m(\u001b[0m\u001b[0mkaon_physdata\u001b[0m\u001b[0;34m,\u001b[0m \u001b[0mparticle\u001b[0m\u001b[0;34m=\u001b[0m\u001b[0;34m\"1.1_kaon-\"\u001b[0m\u001b[0;34m)\u001b[0m\u001b[0;34m\u001b[0m\u001b[0;34m\u001b[0m\u001b[0m\n",
      "\u001b[0;31mTypeError\u001b[0m: plot_circle() missing 1 required positional argument: 'particle'"
     ]
    }
   ],
   "source": [
    "energies_kaon = []\n",
    "\n",
    "#Read all kaon datasets\n",
    "for root, dir, files in os.walk('../data/n1.1kaon-'):\n",
    "    for file in files:\n",
    "        if file.endswith('.csv'):\n",
    "            energies_kaon.append(file.replace('.csv', '').replace('_', '.').replace('G', ''))\n",
    "energies_kaon = np.array(energies_kaon, dtype=float)\n",
    "\n",
    "kaon_data = []\n",
    "\n",
    "for root, dir, files in os.walk('../data/n1.1kaon-'):\n",
    "    for file in files:\n",
    "        if file.endswith('.csv'):\n",
    "            data = read_data(os.path.join(root, file))\n",
    "            kaon_data.append(data)\n",
    "\n",
    "\n",
    "plot_kaon_dir = '../media/plots/1.1_kaon-/pos/'\n",
    "plot_pos(kaon_data, energies_kaon,'n1.1_kaon-')\n",
    "\n",
    "#Circle fit for kaon data\n",
    "radii_kaon = []\n",
    "xc_kaon=[]\n",
    "yc_kaon=[]\n",
    "momenta_kaon = []\n",
    "\n",
    "\n",
    "#quantities calculated for kaon\n",
    "#Mass in GeV\n",
    "for e in range(len(energies_kaon)):\n",
    "    p = momentum(energies_kaon[e], 0.493677)\n",
    "    # print(energies_kaon[e])\n",
    "    # print(p)\n",
    "    momenta_kaon.append(p)\n",
    "momenta_kaon = np.array(momenta_kaon)\n",
    "for array in kaon_data:\n",
    "    radii_kaon.append(fit_circle(array)[2])\n",
    "    xc_kaon.append(fit_circle(array)[0])\n",
    "    yc_kaon.append(fit_circle(array)[1])\n",
    "radii_kaon = np.array(radii_kaon)\n",
    "xc_kaon = np.array(xc_kaon)\n",
    "yc_kaon = np.array(yc_kaon)\n",
    "# print(\"momenta array\", momenta_kaon.shape, \"energies\", energies_kaon.shape, \"radios \",radii_kaon.shape)\n",
    "# distancia 0.24 m\n",
    "d = 240 # mm\n",
    "kaon_cherenkov_angle = []\n",
    "for i, array in enumerate(kaon_data):\n",
    "    theta = np.arctan(radii_kaon[i]/d)\n",
    "    theta = np.degrees(theta)\n",
    "    kaon_cherenkov_angle.append(theta)\n",
    "kaon_cherenkov_ang = np.array(kaon_cherenkov_angle)\n",
    "kaon_physdata = np.column_stack((energies_kaon, radii_kaon, momenta_kaon,kaon_cherenkov_ang))\n",
    "print(kaon_physdata.shape)\n",
    "kaon_directory = '../data/exported_data/1.1_kaon-/'\n",
    "if not os.path.exists(kaon_directory):\n",
    "    os.makedirs(kaon_directory)\n",
    "np.savetxt(kaon_directory + 'kaon_physdata.dat', kaon_physdata, delimiter=',')\n",
    "\n",
    "plot_circle(xc_kaon, yc_kaon, radii_kaon, kaon_data, energies_kaon)\n",
    "\n",
    "plot_momenta_cherenkov_angle(kaon_physdata, particle=\"1.1_kaon-\")\n",
    "\n",
    "beta_kaon = get_beta(energies_kaon, momenta_kaon)\n",
    "cos_theta_kaon = np.cos(kaon_cherenkov_ang)\n",
    "beta_1_kaon = 1/beta_kaon\n",
    "\n",
    "plot_cos_beta(cos_theta_kaon, beta_1_kaon)\n",
    "reg_kaon = get_slope(cos_theta_kaon, beta_1_kaon)\n",
    "print(\"slope\", reg_kaon.coef_[0][0])"
   ]
  },
  {
   "cell_type": "markdown",
   "metadata": {},
   "source": [
    "## Proton - n=1.1"
   ]
  },
  {
   "cell_type": "code",
   "execution_count": 13,
   "metadata": {},
   "outputs": [
    {
     "ename": "TypeError",
     "evalue": "plot_pos() got multiple values for argument 'particle'",
     "output_type": "error",
     "traceback": [
      "\u001b[0;31m---------------------------------------------------------------------------\u001b[0m",
      "\u001b[0;31mTypeError\u001b[0m                                 Traceback (most recent call last)",
      "\u001b[0;32m<ipython-input-13-99fa6a1ccf6a>\u001b[0m in \u001b[0;36m<module>\u001b[0;34m\u001b[0m\n\u001b[1;32m     19\u001b[0m \u001b[0mplot_proton_dir\u001b[0m \u001b[0;34m=\u001b[0m \u001b[0;34m'../media/plots/1.1_proton/pos/'\u001b[0m\u001b[0;34m\u001b[0m\u001b[0;34m\u001b[0m\u001b[0m\n\u001b[1;32m     20\u001b[0m \u001b[0;34m\u001b[0m\u001b[0m\n\u001b[0;32m---> 21\u001b[0;31m \u001b[0mplot_pos\u001b[0m\u001b[0;34m(\u001b[0m\u001b[0mproton_data\u001b[0m\u001b[0;34m,\u001b[0m \u001b[0mplot_proton_dir\u001b[0m\u001b[0;34m,\u001b[0m \u001b[0menergies_proton\u001b[0m\u001b[0;34m,\u001b[0m \u001b[0mparticle\u001b[0m\u001b[0;34m=\u001b[0m\u001b[0;34m'n1.1_proton'\u001b[0m\u001b[0;34m)\u001b[0m\u001b[0;34m\u001b[0m\u001b[0;34m\u001b[0m\u001b[0m\n\u001b[0m\u001b[1;32m     22\u001b[0m \u001b[0;34m\u001b[0m\u001b[0m\n\u001b[1;32m     23\u001b[0m \u001b[0;31m#Circle fit for proton data\u001b[0m\u001b[0;34m\u001b[0m\u001b[0;34m\u001b[0m\u001b[0;34m\u001b[0m\u001b[0m\n",
      "\u001b[0;31mTypeError\u001b[0m: plot_pos() got multiple values for argument 'particle'"
     ]
    }
   ],
   "source": [
    "energies_proton = []\n",
    "\n",
    "#Read all proton datasets\n",
    "for root, dir, files in os.walk('../data/n1.1proton'):\n",
    "    for file in files:\n",
    "        if file.endswith('.csv'):\n",
    "            energies_proton.append(file.replace('.csv', '').replace('_', '.').replace('G', ''))\n",
    "energies_proton = np.array(energies_proton, dtype=float)\n",
    "\n",
    "\n",
    "proton_data = []\n",
    "for root, dir, files in os.walk('../data/n1.1proton'):\n",
    "    for file in files:\n",
    "        if file.endswith('.csv'):\n",
    "            data = read_data(os.path.join(root, file))\n",
    "            proton_data.append(data)\n",
    "\n",
    "\n",
    "plot_proton_dir = '../media/plots/1.1_proton/pos/'\n",
    "\n",
    "plot_pos(proton_data, plot_proton_dir, energies_proton, particle='n1.1_proton')\n",
    "\n",
    "#Circle fit for proton data\n",
    "radii_proton = []\n",
    "xc_proton=[]\n",
    "yc_proton=[]\n",
    "momenta_proton = []\n",
    "\n",
    "\n",
    "\n",
    "#quantities calculated for proton\n",
    "#Mass in GeV\n",
    "for e in range(len(energies_proton)):\n",
    "    p = momentum(energies_proton[e], 0.938272)\n",
    "    # print(energies_proton[e])\n",
    "    # print(p)\n",
    "    momenta_proton.append(p)\n",
    "momenta_proton = np.array(momenta_proton)\n",
    "for array in proton_data:\n",
    "    radii_proton.append(fit_circle(array)[2])\n",
    "    xc_proton.append(fit_circle(array)[0])\n",
    "    yc_proton.append(fit_circle(array)[1])\n",
    "radii_proton = np.array(radii_proton)\n",
    "xc_proton = np.array(xc_proton)\n",
    "yc_proton = np.array(yc_proton)\n",
    "# print(\"momenta array\", momenta_proton.shape, \"energies\", energies_proton.shape, \"radios \",radii_proton.shape)\n",
    "# distancia 0.24 m\n",
    "d = 249 # mm\n",
    "proton_cherenkov_angle = []\n",
    "for i, array in enumerate(proton_data):\n",
    "    theta = np.arctan(radii_proton[i]/d)\n",
    "    theta = np.degrees(theta)\n",
    "    proton_cherenkov_angle.append(theta)\n",
    "proton_cherenkov_ang = np.array(proton_cherenkov_angle)\n",
    "proton_physdata = np.column_stack((energies_proton, radii_proton, momenta_proton,proton_cherenkov_ang))\n",
    "print(proton_physdata.shape)\n",
    "proton_directory = '../data/exported_data/1.1_proton-/'\n",
    "if not os.path.exists(proton_directory):\n",
    "    os.makedirs(proton_directory)\n",
    "np.savetxt(proton_directory + 'proton_physdata.dat', proton_physdata, delimiter=',')\n",
    "\n",
    "plot_circle(xc_proton, yc_proton, radii_proton, proton_data, energies_proton)\n",
    "plot_momenta_cherenkov_angle(proton_physdata, particle=\"1.1_proton-\")\n",
    "beta_proton = get_beta(energies_proton, momenta_proton)\n",
    "cos_theta_proton = np.cos(proton_cherenkov_ang)\n",
    "beta_1_proton = 1/beta_proton\n",
    "\n",
    "plot_cos_beta(cos_theta_proton, beta_1_proton)\n",
    "\n",
    "reg_proton = get_slope(cos_theta_proton, beta_1_proton)\n",
    "print(\"slope\", reg_proton.coef_[0][0])"
   ]
  },
  {
   "cell_type": "code",
   "execution_count": null,
   "metadata": {},
   "outputs": [],
   "source": []
  },
  {
   "cell_type": "code",
   "execution_count": null,
   "metadata": {},
   "outputs": [],
   "source": []
  },
  {
   "cell_type": "code",
   "execution_count": null,
   "metadata": {},
   "outputs": [],
   "source": []
  }
 ],
 "metadata": {
  "kernelspec": {
   "display_name": "Python 3",
   "language": "python",
   "name": "python3"
  },
  "language_info": {
   "codemirror_mode": {
    "name": "ipython",
    "version": 3
   },
   "file_extension": ".py",
   "mimetype": "text/x-python",
   "name": "python",
   "nbconvert_exporter": "python",
   "pygments_lexer": "ipython3",
   "version": "3.7.10"
  }
 },
 "nbformat": 4,
 "nbformat_minor": 1
}
