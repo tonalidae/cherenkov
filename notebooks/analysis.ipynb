{
 "cells": [
  {
   "cell_type": "code",
   "execution_count": 21,
   "metadata": {
    "ExecuteTime": {
     "end_time": "2023-06-05T13:20:27.775100800Z",
     "start_time": "2023-06-05T13:20:27.251965500Z"
    }
   },
   "outputs": [],
   "source": [
    "import numpy as np\n",
    "import plotly.graph_objects as go\n",
    "import csv\n",
    "from scipy import optimize\n",
    "import sys,os\n",
    "from sklearn.linear_model import LinearRegression"
   ]
  },
  {
   "cell_type": "code",
   "execution_count": 22,
   "metadata": {
    "ExecuteTime": {
     "end_time": "2023-06-05T12:55:16.642379200Z",
     "start_time": "2023-06-05T12:55:16.631209100Z"
    }
   },
   "outputs": [],
   "source": [
    "def read_data(file_path):\n",
    "    with open(file_path) as f:\n",
    "        reader = csv.reader(f)\n",
    "        data = []\n",
    "        for column in reader:\n",
    "            column[0] = column[0].replace('(', '').replace(\"'\" , '')\n",
    "            column[2] = column[2].replace(')', '').replace(\"'\" , '')\n",
    "            column[1] = column[1].replace(\"'\" , '')\n",
    "            column[0] = float(column[0])\n",
    "            column[1] = float(column[1])\n",
    "            column[2] = float(column[2])\n",
    "            data.append(column)\n",
    "            # print(data)\n",
    "        data = np.array(data)\n",
    "    return data\n",
    "        # print(data)"
   ]
  },
  {
   "cell_type": "code",
   "execution_count": 23,
   "metadata": {
    "ExecuteTime": {
     "end_time": "2023-06-05T12:55:16.684728600Z",
     "start_time": "2023-06-05T12:55:16.647383600Z"
    }
   },
   "outputs": [],
   "source": [
    "#Read energy in GeV of data files, save to list named energies\n",
    "energies = []\n",
    "\n",
    "#Read all files in data folder\n",
    "for root, dir, files in os.walk('../data'):\n",
    "    for file in files:\n",
    "        if file.endswith('.csv'):\n",
    "            energies.append(file.replace('.csv', '').replace('_', '.').replace('G', ''))\n",
    "energies = np.array(energies, dtype=float)"
   ]
  },
  {
   "cell_type": "code",
   "execution_count": 24,
   "metadata": {
    "ExecuteTime": {
     "end_time": "2023-06-05T12:55:16.724787300Z",
     "start_time": "2023-06-05T12:55:16.661734400Z"
    }
   },
   "outputs": [],
   "source": [
    "results = []\n",
    "for root, dir, files in os.walk('../data'):\n",
    "    for file in files:\n",
    "        if file.endswith('.csv'):\n",
    "            # print(file)\n",
    "            data = read_data(os.path.join(root, file))\n",
    "            results.append(data)"
   ]
  },
  {
   "cell_type": "code",
   "execution_count": 25,
   "metadata": {
    "ExecuteTime": {
     "end_time": "2023-06-05T12:55:16.736786300Z",
     "start_time": "2023-06-05T12:55:16.722788600Z"
    }
   },
   "outputs": [],
   "source": [
    "#for i, array in enumerate(results):\n",
    "    #print(f'data set{i} shape: {array.shape}')"
   ]
  },
  {
   "cell_type": "code",
   "execution_count": 26,
   "metadata": {
    "ExecuteTime": {
     "end_time": "2023-06-05T12:55:16.780405200Z",
     "start_time": "2023-06-05T12:55:16.740782800Z"
    }
   },
   "outputs": [],
   "source": [
    "def plot_pos(arrays, title, directory):\n",
    "    # Create the output directory if it doesn't already exist\n",
    "    output_dir = \"../media/plots/1.1_pion-/pos/\"\n",
    "    os.makedirs(output_dir, exist_ok=True)\n",
    "\n",
    "    for i, array in enumerate(arrays):\n",
    "        # np.savetxt(f'{directory}/array_{i}.csv', array, delimiter=',')\n",
    "        # print(f\"plotting array {array[:,0]}\")\n",
    "        energy_str = str(energies[i]).replace('.', '_')\n",
    "        fig = go.Figure(data=go.Scatter(x=array[:,0], y=array[:,1], mode='markers'))\n",
    "        fig.update_layout(title=f\"{energy_str}\"+ 'G', xaxis_title='x', yaxis_title='y')\n",
    "        fig.update_layout(\n",
    "            width=500,\n",
    "            height=500,\n",
    "            margin=dict(\n",
    "                l=50,\n",
    "                r=50,\n",
    "                b=100,\n",
    "                t=100,\n",
    "                pad=4\n",
    "            ),\n",
    "            xaxis=dict(\n",
    "                showgrid=True,\n",
    "                zeroline=True,\n",
    "                showline=True,\n",
    "                showticklabels=True,\n",
    "                scaleratio=1\n",
    "            ),\n",
    "            yaxis=dict(\n",
    "                showgrid=True,\n",
    "                zeroline=True,\n",
    "                showline=True,\n",
    "                showticklabels=True,\n",
    "                scaleratio=1\n",
    "            )\n",
    "        )\n",
    "        # fig.show()\n",
    "        # fig.write_image('../media/plots/'+title+'.png')\n",
    "        # Create the output directory if it doesn't already exist\n",
    "        fig.write_image(\"../media/plots/1.1_pion-/pos/\"+f\"{energies[i]}\"+ 'G'+\".png\")\n",
    "\n",
    "\n",
    "        # print(\"../media/plots/\"+f\"{energy_str}\"+ 'G'+\".png\")"
   ]
  },
  {
   "cell_type": "code",
   "execution_count": 27,
   "metadata": {
    "is_executing": true
   },
   "outputs": [],
   "source": [
    "plot_dir = '../media/plots'\n",
    "plot_pos(results, 'GeV', plot_dir)"
   ]
  },
  {
   "cell_type": "markdown",
   "metadata": {},
   "source": [
    "# Calculate emision angle"
   ]
  },
  {
   "cell_type": "code",
   "execution_count": 28,
   "metadata": {
    "ExecuteTime": {
     "end_time": "2023-06-05T12:55:17.404253300Z",
     "start_time": "2023-06-05T12:55:17.384817200Z"
    }
   },
   "outputs": [],
   "source": [
    "def momentum(E, m):\n",
    "    return np.sqrt(E**2 - m**2)"
   ]
  },
  {
   "cell_type": "code",
   "execution_count": 29,
   "metadata": {
    "ExecuteTime": {
     "end_time": "2023-06-05T12:55:18.127626400Z",
     "start_time": "2023-06-05T12:55:18.089073600Z"
    }
   },
   "outputs": [],
   "source": [
    "def fit_circle(data):\n",
    "    x, y = data[:,0], data[:,1]\n",
    "    x_m, y_m = np.mean(x), np.mean(y)\n",
    "\n",
    "    def calc_R(xc, yc):\n",
    "        \"\"\" calculate the distance of each 2D points from the center (xc, yc) \"\"\"\n",
    "        return np.sqrt((x-xc)**2 + (y-yc)**2)\n",
    "\n",
    "    def f(c):\n",
    "        \"\"\" calculate the algebraic distance between the data points and the mean circle centered at c=(xc, yc) \"\"\"\n",
    "        Ri = calc_R(*c)\n",
    "        return Ri - Ri.mean()\n",
    "\n",
    "    center_estimate = x_m, y_m\n",
    "    center, _ = optimize.leastsq(f, center_estimate)\n",
    "\n",
    "    xc, yc = center\n",
    "    Ri       = calc_R(*center)\n",
    "    R       = Ri.mean()\n",
    "    return xc, yc, R"
   ]
  },
  {
   "cell_type": "code",
   "execution_count": 30,
   "metadata": {
    "ExecuteTime": {
     "end_time": "2023-06-05T12:55:19.023491100Z",
     "start_time": "2023-06-05T12:55:18.989086600Z"
    }
   },
   "outputs": [
    {
     "name": "stdout",
     "output_type": "stream",
     "text": [
      "1.3\n",
      "1.2\n",
      "1.4\n",
      "momenta array (3,) energies (3,) radios  (3,)\n",
      "(3, 4)\n"
     ]
    }
   ],
   "source": [
    "radii = []\n",
    "xc=[]\n",
    "yc=[]\n",
    "momenta = []\n",
    "# print(type(energies))\n",
    "for e in range(len(energies)):\n",
    "    p = momentum(energies[e], 0.139)\n",
    "    print(energies[e])\n",
    "    momenta.append(p)\n",
    "momenta_array = np.array(momenta)\n",
    "for array in results:\n",
    "    radii.append(fit_circle(array)[2])\n",
    "    xc.append(fit_circle(array)[0])\n",
    "    yc.append(fit_circle(array)[1])\n",
    "radii = np.array(radii)\n",
    "xc = np.array(xc)\n",
    "yc = np.array(yc)\n",
    "print(\"momenta array\", momenta_array.shape, \"energies\", energies.shape, \"radios \",radii.shape)\n",
    "# distancia 0.24 m\n",
    "d = 240 # mm\n",
    "cherenkov_angle = []\n",
    "for i, array in enumerate(results):\n",
    "    theta = np.arctan(radii[i]/d)\n",
    "    cherenkov_angle.append(theta)\n",
    "cherenkov_ang = np.array(cherenkov_angle)\n",
    "\n",
    "\n",
    "processed_data = np.column_stack((energies, radii, momenta_array,cherenkov_ang))\n",
    "print(processed_data.shape)"
   ]
  },
  {
   "cell_type": "code",
   "execution_count": 31,
   "metadata": {
    "ExecuteTime": {
     "end_time": "2023-06-05T12:55:22.556251800Z",
     "start_time": "2023-06-05T12:55:22.172910200Z"
    }
   },
   "outputs": [
    {
     "name": "stdout",
     "output_type": "stream",
     "text": [
      "angle for 1.3 GeV: 0.2454198540428831\n",
      "angle for 1.2 GeV: 0.19274862761829764\n",
      "angle for 1.4 GeV: 0.28358964689164456\n",
      "[0.24541985 0.19274863 0.28358965]\n"
     ]
    }
   ],
   "source": [
    "# distancia 0.24 m\n",
    "d = 240 # mm\n",
    "cherenkov_angle = []\n",
    "for i, array in enumerate(results):\n",
    "    theta = np.arctan(radii[i]/d)\n",
    "    cherenkov_angle.append(theta)\n",
    "    print(f'angle for {energies[i]} GeV: {theta}')\n",
    "cherenkov_ang = np.array(cherenkov_angle)\n",
    "\n",
    "print(cherenkov_ang)"
   ]
  },
  {
   "cell_type": "code",
   "execution_count": 32,
   "metadata": {
    "ExecuteTime": {
     "end_time": "2023-06-05T12:55:24.324973Z",
     "start_time": "2023-06-05T12:55:24.278960800Z"
    }
   },
   "outputs": [],
   "source": [
    "def plot_circle(xc, yc, radii, arrays, energies):\n",
    "    # Create the output directory if it doesn't already exist\n",
    "    output_dir = \"../media/plots/1.1_pion-/fit/\"\n",
    "    os.makedirs(output_dir, exist_ok=True)\n",
    "    for i, array in enumerate(arrays):\n",
    "        # Create the output directory if it doesn't already exist\n",
    "        output_dir = \"../media/plots/1.1_pion-/fit/\"\n",
    "        os.makedirs(output_dir, exist_ok=True)\n",
    "\n",
    "        energy_str = str(energies[i]).replace('.', '_')\n",
    "        theta_fit = np.linspace(0, 2*np.pi, 180)\n",
    "        x_fit = xc[i] + (radii[i])*np.cos(theta_fit)\n",
    "        y_fit = yc[i] + (radii[i])*np.sin(theta_fit)\n",
    "        fig = go.Figure(data=go.Scatter(x=x_fit, y=y_fit, mode='lines', marker=dict(color='blue', opacity=0.8)))\n",
    "        fig.add_trace(go.Scatter(x=array[:,0], y=array[:,1], mode='markers', marker=dict(color='violet', size=3, opacity=0.8)))\n",
    "        fig.update_layout(title=f\"{energy_str}\"+ 'G', xaxis_title='y', yaxis_title='z')\n",
    "\n",
    "        fig.update_layout(\n",
    "            width=500,\n",
    "            height=500,\n",
    "            margin=dict(\n",
    "                l=50,\n",
    "                r=50,\n",
    "                b=100,\n",
    "                t=100,\n",
    "                pad=4\n",
    "            ),\n",
    "            xaxis=dict(\n",
    "                showgrid=True,\n",
    "                zeroline=True,\n",
    "                showline=True,\n",
    "                showticklabels=True,\n",
    "                scaleratio=1,\n",
    "                scaleanchor=\"x\",\n",
    "                range=[-200, 200]\n",
    "            ),\n",
    "            yaxis=dict(\n",
    "                showgrid=True,\n",
    "                zeroline=True,\n",
    "                showline=True,\n",
    "                showticklabels=True,\n",
    "                scaleratio=1,\n",
    "                scaleanchor=\"y\",\n",
    "                range=[-200, 200]\n",
    "            )\n",
    "        )\n",
    "        #fig.show()\n",
    "        fig.write_image(\"../media/plots/1.1_pion-/fit/\"+f\"{energies[i]}\"+ 'G'+\".png\")\n",
    "\n"
   ]
  },
  {
   "cell_type": "code",
   "execution_count": 33,
   "metadata": {
    "ExecuteTime": {
     "end_time": "2023-06-05T12:55:05.113566300Z",
     "start_time": "2023-06-05T12:54:48.244916300Z"
    }
   },
   "outputs": [],
   "source": [
    "plot_circle(xc, yc, radii, results, energies)"
   ]
  },
  {
   "cell_type": "code",
   "execution_count": 34,
   "metadata": {
    "ExecuteTime": {
     "end_time": "2023-06-05T12:55:25.877473Z",
     "start_time": "2023-06-05T12:55:25.865470600Z"
    }
   },
   "outputs": [],
   "source": [
    "def plot_momenta_cherenkov_angle(data):\n",
    "    # Create the output directory if it doesn't already exist\n",
    "    output_dir = \"../media/plots/1.1_pion-/p/\"\n",
    "    os.makedirs(output_dir, exist_ok=True)\n",
    "    fig = go.Figure(data=go.Scatter(x=data[:,2], y=data[:,3], mode='markers', marker=dict(color='darkgreen', opacity=0.8, size=2)))\n",
    "    fig.update_layout(title='Cherenkov angle vs momenta', xaxis_title='momenta', yaxis_title='cherenkov angle', width=500, height=500)\n",
    "    fig.write_image(\"../media/plots/1.1_pion-/p/\"+\"n_1_1\"+\".png\")"
   ]
  },
  {
   "cell_type": "code",
   "execution_count": 35,
   "metadata": {},
   "outputs": [],
   "source": [
    "plot_momenta_cherenkov_angle(processed_data)"
   ]
  },
  {
   "cell_type": "code",
   "execution_count": 36,
   "metadata": {
    "ExecuteTime": {
     "end_time": "2023-06-05T12:55:29.814367100Z",
     "start_time": "2023-06-05T12:55:29.802747900Z"
    }
   },
   "outputs": [],
   "source": [
    "def get_beta(energy, momentum):\n",
    "    beta = []\n",
    "    for i in range(len(energy)):\n",
    "        beta.append(momentum[i]/energy[i])\n",
    "    return np.array(beta)"
   ]
  },
  {
   "cell_type": "code",
   "execution_count": 37,
   "metadata": {
    "ExecuteTime": {
     "end_time": "2023-06-05T12:55:30.567092900Z",
     "start_time": "2023-06-05T12:55:30.545848Z"
    }
   },
   "outputs": [
    {
     "name": "stdout",
     "output_type": "stream",
     "text": [
      "(3,) (3,)\n"
     ]
    }
   ],
   "source": [
    "beta = get_beta(energies, momenta)\n",
    "cos_beta = np.cos(beta)\n",
    "beta_1 = 1/beta\n",
    "print(beta_1.shape, cos_beta.shape)"
   ]
  },
  {
   "cell_type": "code",
   "execution_count": 38,
   "metadata": {},
   "outputs": [],
   "source": [
    "def plot_cos_beta(cos,beta_1):\n",
    "    # Create the output directory if it doesn't already exist\n",
    "    output_dir = \"../media/plots/1.1_pion-/beta/\"\n",
    "    fig = go.Figure(data=go.Scatter(x=cos, y=beta_1, mode='markers', marker=dict(color='darkgreen', opacity=0.8, size=2)))\n",
    "    fig.update_layout(title='Cherenkov angle vs beta', xaxis_title='beta', yaxis_title='cherenkov angle', width=500, height=500)\n",
    "    fig.write_image(\"../media/plots/1.1_pion-/beta/\"+\"n_1_1\"+\".png\")"
   ]
  },
  {
   "cell_type": "code",
   "execution_count": 39,
   "metadata": {},
   "outputs": [],
   "source": [
    "plot_cos_beta(cos_beta, beta_1)"
   ]
  },
  {
   "cell_type": "code",
   "execution_count": 40,
   "metadata": {
    "ExecuteTime": {
     "end_time": "2023-06-05T13:22:02.954279200Z",
     "start_time": "2023-06-05T13:22:02.930202600Z"
    }
   },
   "outputs": [
    {
     "name": "stdout",
     "output_type": "stream",
     "text": [
      "slope 1.206987661568796\n"
     ]
    }
   ],
   "source": [
    "#find the slope of plot\n",
    "def get_slope(x, y):\n",
    "    x = x.reshape(-1,1)\n",
    "    y = y.reshape(-1,1)\n",
    "    reg = LinearRegression()\n",
    "    fit = reg.fit(x, y)\n",
    "    return reg\n",
    "\n",
    "reg = get_slope(cos_beta, beta_1)\n",
    "print(\"slope\", reg.coef_[0][0])"
   ]
  },
  {
   "cell_type": "code",
   "execution_count": null,
   "metadata": {
    "ExecuteTime": {
     "end_time": "2023-06-05T13:06:25.362307200Z",
     "start_time": "2023-06-05T13:06:25.316548500Z"
    }
   },
   "outputs": [],
   "source": []
  },
  {
   "cell_type": "code",
   "execution_count": null,
   "metadata": {},
   "outputs": [],
   "source": []
  },
  {
   "cell_type": "code",
   "execution_count": null,
   "metadata": {},
   "outputs": [],
   "source": []
  }
 ],
 "metadata": {
  "kernelspec": {
   "display_name": "Python 3",
   "language": "python",
   "name": "python3"
  },
  "language_info": {
   "codemirror_mode": {
    "name": "ipython",
    "version": 3
   },
   "file_extension": ".py",
   "mimetype": "text/x-python",
   "name": "python",
   "nbconvert_exporter": "python",
   "pygments_lexer": "ipython3",
   "version": "3.7.10"
  }
 },
 "nbformat": 4,
 "nbformat_minor": 1
}
