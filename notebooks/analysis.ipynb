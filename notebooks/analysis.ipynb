{
 "cells": [
  {
   "cell_type": "code",
   "execution_count": 3,
   "metadata": {
    "collapsed": true,
    "ExecuteTime": {
     "end_time": "2023-06-04T13:45:18.743877600Z",
     "start_time": "2023-06-04T13:45:18.728785300Z"
    }
   },
   "outputs": [],
   "source": [
    "import numpy as np\n",
    "import plotly.graph_objects as go\n",
    "import csv"
   ]
  },
  {
   "cell_type": "code",
   "execution_count": 10,
   "outputs": [
    {
     "name": "stdout",
     "output_type": "stream",
     "text": [
      "[[ -17.5   -7.5 -490. ]\n",
      " [  12.5   17.5 -490. ]\n",
      " [  -2.5   17.5 -490. ]\n",
      " [   2.5   22.5 -490. ]\n",
      " [  17.5    7.5 -490. ]\n",
      " [ -12.5   12.5 -490. ]\n",
      " [   2.5   17.5 -490. ]\n",
      " [  17.5  -12.5 -490. ]\n",
      " [  22.5    2.5 -490. ]\n",
      " [ -17.5   -2.5 -490. ]\n",
      " [   2.5   17.5 -490. ]\n",
      " [  -7.5   17.5 -490. ]\n",
      " [   2.5  -17.5 -490. ]\n",
      " [   7.5  -17.5 -490. ]\n",
      " [  17.5   -2.5 -490. ]\n",
      " [  -7.5  -17.5 -490. ]\n",
      " [  -7.5  -17.5 -490. ]\n",
      " [ -12.5  -12.5 -490. ]\n",
      " [  -7.5   17.5 -490. ]\n",
      " [  -2.5   17.5 -490. ]\n",
      " [   7.5  -12.5 -490. ]\n",
      " [ -12.5   12.5 -490. ]\n",
      " [   2.5    2.5 -490. ]\n",
      " [   2.5    2.5 -490. ]]\n"
     ]
    }
   ],
   "source": [
    "data = []\n",
    "with open('../data/0_31G.csv') as f:\n",
    "    reader = csv.reader(f)\n",
    "\n",
    "    for column in reader:\n",
    "        column[0] = column[0].replace('(', '').replace(\"'\" , '')\n",
    "        column[2] = column[2].replace(')', '').replace(\"'\" , '')\n",
    "        column[1] = column[1].replace(\"'\" , '')\n",
    "        column[0] = float(column[0])\n",
    "        column[1] = float(column[1])\n",
    "        column[2] = float(column[2])\n",
    "        data.append(column)\n",
    "        # print(data)\n",
    "    data = np.array(data)\n",
    "    print(data)"
   ],
   "metadata": {
    "collapsed": false,
    "ExecuteTime": {
     "end_time": "2023-06-04T13:54:26.348490200Z",
     "start_time": "2023-06-04T13:54:26.310933600Z"
    }
   }
  },
  {
   "cell_type": "code",
   "execution_count": 38,
   "outputs": [
    {
     "ename": "IndexError",
     "evalue": "too many indices for array: array is 1-dimensional, but 2 were indexed",
     "output_type": "error",
     "traceback": [
      "\u001B[1;31m---------------------------------------------------------------------------\u001B[0m",
      "\u001B[1;31mIndexError\u001B[0m                                Traceback (most recent call last)",
      "Cell \u001B[1;32mIn[38], line 1\u001B[0m\n\u001B[1;32m----> 1\u001B[0m fig \u001B[38;5;241m=\u001B[39m go\u001B[38;5;241m.\u001B[39mFigure(data\u001B[38;5;241m=\u001B[39mgo\u001B[38;5;241m.\u001B[39mScatter(x\u001B[38;5;241m=\u001B[39m\u001B[43mdata\u001B[49m\u001B[43m[\u001B[49m\u001B[43m:\u001B[49m\u001B[43m,\u001B[49m\u001B[38;5;241;43m0\u001B[39;49m\u001B[43m]\u001B[49m, y\u001B[38;5;241m=\u001B[39mdata[:,\u001B[38;5;241m2\u001B[39m], mode\u001B[38;5;241m=\u001B[39m\u001B[38;5;124m'\u001B[39m\u001B[38;5;124mmarkers\u001B[39m\u001B[38;5;124m'\u001B[39m))\n\u001B[0;32m      2\u001B[0m fig\u001B[38;5;241m.\u001B[39mshow()\n",
      "\u001B[1;31mIndexError\u001B[0m: too many indices for array: array is 1-dimensional, but 2 were indexed"
     ]
    }
   ],
   "source": [
    "\n",
    "fig = go.Figure(data=go.Scatter(x=data[:,0], y=data[:,2], mode='markers'))\n",
    "fig.show()\n"
   ],
   "metadata": {
    "collapsed": false,
    "ExecuteTime": {
     "end_time": "2023-06-04T13:24:02.125740100Z",
     "start_time": "2023-06-04T13:24:02.093085600Z"
    }
   }
  },
  {
   "cell_type": "code",
   "execution_count": null,
   "outputs": [],
   "source": [],
   "metadata": {
    "collapsed": false
   }
  },
  {
   "cell_type": "markdown",
   "source": [],
   "metadata": {
    "collapsed": false
   }
  }
 ],
 "metadata": {
  "kernelspec": {
   "display_name": "Python 3",
   "language": "python",
   "name": "python3"
  },
  "language_info": {
   "codemirror_mode": {
    "name": "ipython",
    "version": 2
   },
   "file_extension": ".py",
   "mimetype": "text/x-python",
   "name": "python",
   "nbconvert_exporter": "python",
   "pygments_lexer": "ipython2",
   "version": "2.7.6"
  }
 },
 "nbformat": 4,
 "nbformat_minor": 0
}
