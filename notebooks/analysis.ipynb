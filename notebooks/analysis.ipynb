{
 "cells": [
  {
   "cell_type": "code",
   "execution_count": 1,
   "metadata": {
    "ExecuteTime": {
     "end_time": "2023-06-06T04:17:10.805729300Z",
     "start_time": "2023-06-06T04:17:08.761472500Z"
    }
   },
   "outputs": [],
   "source": [
    "import numpy as np\n",
    "import plotly.graph_objects as go\n",
    "import plotly.io as pio\n",
    "import csv\n",
    "from scipy import optimize\n",
    "from scipy import stats\n",
    "import sys,os\n",
    "from sklearn.linear_model import LinearRegression"
   ]
  },
  {
   "cell_type": "markdown",
   "metadata": {},
   "source": [
    "# Read data files"
   ]
  },
  {
   "cell_type": "code",
   "execution_count": 2,
   "metadata": {
    "ExecuteTime": {
     "end_time": "2023-06-06T04:17:10.819906Z",
     "start_time": "2023-06-06T04:17:10.810190300Z"
    }
   },
   "outputs": [],
   "source": [
    "def read_data(file_path):\n",
    "    with open(file_path) as f:\n",
    "        reader = csv.reader(f)\n",
    "        data = []\n",
    "        for column in reader:\n",
    "            if len(column) == 3:\n",
    "                column  = column[:2]\n",
    "                column[0] = column[0].replace('(', '').replace(\"'\" , '')\n",
    "                # column[2] = column[2].replace(')', '').replace(\"'\" , '')\n",
    "                column[1] = column[1].replace(\"'\" , '')\n",
    "                column[0] = float(column[0])\n",
    "                column[1] = float(column[1])\n",
    "            else:\n",
    "                column[0] = float(column[0])\n",
    "                column[1] = float(column[1])\n",
    "            data.append(column)\n",
    "        data = np.array(data)\n",
    "    return data"
   ]
  },
  {
   "cell_type": "markdown",
   "metadata": {},
   "source": [
    "# 2D xy projection position plot"
   ]
  },
  {
   "cell_type": "code",
   "execution_count": 3,
   "metadata": {
    "ExecuteTime": {
     "end_time": "2023-06-06T04:17:10.849254200Z",
     "start_time": "2023-06-06T04:17:10.821908Z"
    }
   },
   "outputs": [],
   "source": [
    "def plot_pos(arrays,energies,particle):\n",
    "    # Create the output directory if it doesn't already exist\n",
    "    output_dir = \"../media/plots/\"+f\"{particle}\"+\"/pos/\"\n",
    "    os.makedirs(output_dir, exist_ok=True)\n",
    "\n",
    "    for i, array in enumerate(arrays):\n",
    "        energy_str = str(energies[i]).replace('.', '_')\n",
    "        fig = go.Figure(data=go.Scatter(x=array[:,0], y=array[:,1], mode='markers'))\n",
    "        fig.update_layout(title=f\"{energy_str}\"+ 'G', xaxis_title='x', yaxis_title='y')\n",
    "        fig.update_layout(\n",
    "            width=500,\n",
    "            height=500,\n",
    "            margin=dict(\n",
    "                l=50,\n",
    "                r=50,\n",
    "                b=100,\n",
    "                t=100,\n",
    "                pad=4\n",
    "            ),\n",
    "            xaxis=dict(\n",
    "                showgrid=True,\n",
    "                zeroline=True,\n",
    "                showline=True,\n",
    "                showticklabels=True,\n",
    "                scaleratio=1\n",
    "            ),\n",
    "            yaxis=dict(\n",
    "                showgrid=True,\n",
    "                zeroline=True,\n",
    "                showline=True,\n",
    "                showticklabels=True,\n",
    "                scaleratio=1\n",
    "            )\n",
    "        )\n",
    "        # fig.show()\n",
    "        fig.write_image(\"../media/plots/\"+f\"{particle}\"+\"/pos/\"+f\"{energies[i]}\"+ 'G'+\".png\")"
   ]
  },
  {
   "cell_type": "markdown",
   "metadata": {},
   "source": [
    "\n",
    "# Calculate physical quantities"
   ]
  },
  {
   "cell_type": "code",
   "execution_count": 4,
   "metadata": {
    "ExecuteTime": {
     "end_time": "2023-06-06T04:28:49.842275100Z",
     "start_time": "2023-06-06T04:28:49.832681700Z"
    }
   },
   "outputs": [],
   "source": [
    "def get_energy(p, m):\n",
    "    p = float(p)\n",
    "    E = np.sqrt(p**2 + m**2)\n",
    "    # E = np.array(E)\n",
    "    return E"
   ]
  },
  {
   "cell_type": "code",
   "execution_count": 5,
   "metadata": {
    "ExecuteTime": {
     "end_time": "2023-06-06T04:28:50.366533800Z",
     "start_time": "2023-06-06T04:28:50.324463300Z"
    }
   },
   "outputs": [],
   "source": [
    "def get_beta(energy, momentum):\n",
    "    beta = []\n",
    "    for i in range(len(energy)):\n",
    "        beta.append((momentum[i])/energy[i])\n",
    "    return np.array(beta)"
   ]
  },
  {
   "cell_type": "code",
   "execution_count": 6,
   "metadata": {
    "ExecuteTime": {
     "end_time": "2023-06-06T04:25:48.692051200Z",
     "start_time": "2023-06-06T04:25:48.653997400Z"
    }
   },
   "outputs": [],
   "source": [
    "#find the slope of plot\n",
    "def get_slope(x, y):\n",
    "    slope, intercept, r_value, p_value, std_err = stats.linregress(x, y)\n",
    "    return slope\n"
   ]
  },
  {
   "cell_type": "markdown",
   "metadata": {},
   "source": [
    "# Fit circle for radius calculation"
   ]
  },
  {
   "cell_type": "code",
   "execution_count": 7,
   "metadata": {
    "ExecuteTime": {
     "end_time": "2023-06-06T04:25:49.518791600Z",
     "start_time": "2023-06-06T04:25:49.501220700Z"
    }
   },
   "outputs": [],
   "source": [
    "def fit_circle(data):\n",
    "    x, y = data[:,0], data[:,1]\n",
    "    x_m, y_m = np.mean(x), np.mean(y)\n",
    "\n",
    "    def calc_R(xc, yc):\n",
    "        \"\"\" calculate the distance of each 2D points from the center (xc, yc) \"\"\"\n",
    "        return np.sqrt((x-xc)**2 + (y-yc)**2)\n",
    "\n",
    "    def f(c):\n",
    "        \"\"\" calculate the algebraic distance between the data points and the mean circle centered at c=(xc, yc) \"\"\"\n",
    "        Ri = calc_R(*c)\n",
    "        return Ri - Ri.mean()\n",
    "\n",
    "    center_estimate = x_m, y_m\n",
    "    center, _ = optimize.leastsq(f, center_estimate)\n",
    "\n",
    "    xc, yc = center\n",
    "    Ri       = calc_R(*center)\n",
    "    R       = Ri.mean()\n",
    "    return xc, yc, R"
   ]
  },
  {
   "cell_type": "markdown",
   "metadata": {},
   "source": [
    "## Plot functions"
   ]
  },
  {
   "cell_type": "code",
   "execution_count": 21,
   "metadata": {
    "ExecuteTime": {
     "end_time": "2023-06-06T04:17:10.925611600Z",
     "start_time": "2023-06-06T04:17:10.908546200Z"
    }
   },
   "outputs": [],
   "source": [
    "def plot_circle(xc, yc, radii, arrays, energies, particle):\n",
    "    # Create the output directory if it doesn't already exist\n",
    "    output_dir = \"../media/plots/\"+f\"{particle}\"+\"/fit/\"\n",
    "    os.makedirs(output_dir, exist_ok=True)\n",
    "    for i, array in enumerate(arrays):\n",
    "        # Create the output directory if it doesn't already exist\n",
    "        output_dir = \"../media/plots/1.1_pion-/fit/\"\n",
    "        os.makedirs(output_dir, exist_ok=True)\n",
    "\n",
    "        energy_str = str(energies[i]).replace('.', '_')\n",
    "        theta_fit = np.linspace(0, 2*np.pi, 180)\n",
    "        x_fit = xc[i] + (radii[i])*np.cos(theta_fit)\n",
    "        y_fit = yc[i] + (radii[i])*np.sin(theta_fit)\n",
    "        fig = go.Figure(data=go.Scatter(x=x_fit, y=y_fit, mode='lines', marker=dict(color='blue', opacity=0.8)))\n",
    "        fig.add_trace(go.Scatter(x=array[:,0], y=array[:,1], mode='markers', marker=dict(color='violet', size=3, opacity=0.8)))\n",
    "        fig.update_layout(title=f\"{energy_str}\"+ 'G', xaxis_title='y', yaxis_title='z')\n",
    "\n",
    "        fig.update_layout(\n",
    "            width=500,\n",
    "            height=500,\n",
    "            margin=dict(\n",
    "                l=50,\n",
    "                r=50,\n",
    "                b=100,\n",
    "                t=100,\n",
    "                pad=4\n",
    "            ),\n",
    "            xaxis=dict(\n",
    "                showgrid=True,\n",
    "                zeroline=True,\n",
    "                showline=True,\n",
    "                showticklabels=True,\n",
    "                scaleratio=1,\n",
    "                scaleanchor=\"x\",\n",
    "                range=[-200, 200]\n",
    "            ),\n",
    "            yaxis=dict(\n",
    "                showgrid=True,\n",
    "                zeroline=True,\n",
    "                showline=True,\n",
    "                showticklabels=True,\n",
    "                scaleratio=1,\n",
    "                scaleanchor=\"y\",\n",
    "                range=[-200, 200]\n",
    "            )\n",
    "        )\n",
    "        fig.update_layout(\n",
    "            plot_bgcolor=\"white\",\n",
    "            #paper_bgcolor=\"white\",\n",
    "        )\n",
    "        # fig.show()\n",
    "        fig.write_image(\"../media/plots/\"+f\"{particle}\"+\"/fit/\"+f\"{energies[i]}\"+ 'G'+\".png\")\n",
    "        pio.write_image(fig, \"../media/plots/\"+f\"{particle}\"+\"/fit/\"+f\"{energies[i]}\"+ 'G'+\".png\", scale=2)\n",
    "\n"
   ]
  },
  {
   "cell_type": "code",
   "execution_count": 9,
   "metadata": {
    "ExecuteTime": {
     "end_time": "2023-06-06T04:17:10.962988600Z",
     "start_time": "2023-06-06T04:17:10.926612400Z"
    }
   },
   "outputs": [],
   "source": [
    "def plot_cos_beta(cos_theta,beta_1, particle):\n",
    "    # Create the output directory if it doesn't already exist\n",
    "    output_dir = \"../media/plots/beta/\"\n",
    "    os.makedirs(output_dir, exist_ok=True)\n",
    "    # output_dir = \"../media/plots/1.1_pion-/beta/\"\n",
    "    fig = go.Figure(data=go.Scatter(x=cos_theta, y=beta_1, mode='markers', marker=dict(color='darkgreen', opacity=0.8)))\n",
    "    fig.update_layout(title='Cherenkov angle vs beta', xaxis_title='beta', yaxis_title='cherenkov angle', width=500, height=500)\n",
    "    fig.write_image(\"../media/plots/beta/\"+f\"{particle}\"+\".png\")\n",
    "    # fig.show()"
   ]
  },
  {
   "cell_type": "markdown",
   "metadata": {},
   "source": [
    "# Calculate Cherenkov cone aperture angle"
   ]
  },
  {
   "cell_type": "code",
   "execution_count": 10,
   "metadata": {
    "ExecuteTime": {
     "end_time": "2023-06-06T04:17:10.964504700Z",
     "start_time": "2023-06-06T04:17:10.947226900Z"
    }
   },
   "outputs": [],
   "source": [
    "def plot_momenta_cherenkov_angle(data, particle):\n",
    "    # Create the output directory if it doesn't already exist\n",
    "    # output_dir = \"../media/plots/1.1_pion-/p/\"\n",
    "    output_dir = \"../media/plots/p/\"\n",
    "    os.makedirs(output_dir, exist_ok=True)\n",
    "    fig = go.Figure(data=go.Scatter(x=data[:,2], y=data[:,3], mode='markers', marker=dict(color='darkgreen', opacity=0.8, size=2)))\n",
    "    fig.update_layout(title='Cherenkov angle vs momenta', xaxis_title='momenta', yaxis_title='cherenkov angle', width=500, height=500)\n",
    "    fig.write_image(\"../media/plots/p/\"+f\"{particle}\"+\".png\")\n",
    "    # fig.show()"
   ]
  },
  {
   "cell_type": "markdown",
   "metadata": {},
   "source": [
    "## Pion - n=1.1"
   ]
  },
  {
   "cell_type": "code",
   "execution_count": 22,
   "metadata": {
    "ExecuteTime": {
     "end_time": "2023-06-06T04:59:36.915981600Z",
     "start_time": "2023-06-06T04:59:36.845812400Z"
    }
   },
   "outputs": [
    {
     "name": "stdout",
     "output_type": "stream",
     "text": [
      "n -1.5460383208702406\n",
      "slope -0.646814497739691\n"
     ]
    }
   ],
   "source": [
    "#Read energy in GeV of data files, save to list named energies\n",
    "momenta_pion = []\n",
    "\n",
    "#Read all pion datasets\n",
    "for root, dir, files in os.walk('../data/n1.1pion-'):\n",
    "    for file in files:\n",
    "        if file.endswith('.csv'):\n",
    "            momenta_pion.append(file.replace('.csv', '').replace('_', '.').replace('G', ''))\n",
    "momenta_pion = np.array(momenta_pion, dtype=float)\n",
    "momenta_pion = np.sort(momenta_pion)\n",
    "# print(\"momenta_pion: \",momenta_pion)\n",
    "\n",
    "pion_data = []\n",
    "for root, dir, files in os.walk('../data/n1.1pion-'):\n",
    "    for file in files:\n",
    "        if file.endswith('.csv'):\n",
    "            data = read_data(os.path.join(root, file))\n",
    "            pion_data.append(data)\n",
    "\n",
    "plot_pion_dir = '../media/plots/1.1_pion-/pos/'\n",
    "# plot_pos(pion_data, momenta_pion, 'n1.1_pion-')\n",
    "\n",
    "#Circle fit for pion data\n",
    "radii_pion = []\n",
    "xc_pion=[]\n",
    "yc_pion=[]\n",
    "energies_pion = []\n",
    "\n",
    "\n",
    "#quantities calculated for pion\n",
    "# #Mass in GeV\n",
    "for e in range(len(momenta_pion)):\n",
    "    E = get_energy(momenta_pion[e], 0.13957)\n",
    "    # print(E)\n",
    "    energies_pion.append(E)\n",
    "energies_pion = np.array(energies_pion)\n",
    "# print(\"energies\", energies_pion)\n",
    "for array in pion_data:\n",
    "    radii_pion.append(fit_circle(array)[2])\n",
    "    xc_pion.append(fit_circle(array)[0])\n",
    "    yc_pion.append(fit_circle(array)[1])\n",
    "radii_pion = np.array(radii_pion)\n",
    "xc_pion = np.array(xc_pion)\n",
    "yc_pion = np.array(yc_pion)\n",
    "# distancia 0.24 m\n",
    "d = 240 # mm\n",
    "\n",
    "pion_cherenkov_angle = []\n",
    "\n",
    "for i in range(len(radii_pion)):\n",
    "    theta = np.arctan(radii_pion[i]/d)\n",
    "    theta_deg = np.degrees(theta)\n",
    "    pion_cherenkov_angle.append(theta_deg)\n",
    "pion_cherenkov_ang = np.array(pion_cherenkov_angle)\n",
    "pion_physdata = np.column_stack((momenta_pion, radii_pion, momenta_pion,pion_cherenkov_ang))\n",
    "pion_directory = '../data/exported_data/1.1_pion-/'\n",
    "if not os.path.exists(pion_directory):\n",
    "    os.makedirs(pion_directory)\n",
    "np.savetxt(pion_directory + 'pion_physdata.dat', pion_physdata, delimiter=',')\n",
    "\n",
    "# plot_circle(xc_pion, yc_pion, radii_pion, pion_data, momenta_pion, particle=\"n1.1_pion-\")\n",
    "\n",
    "# plot_momenta_cherenkov_angle(pion_physdata, particle=\"1_1pion\")\n",
    "\n",
    "beta_pion = get_beta(energies_pion, momenta_pion)\n",
    "\n",
    "\n",
    "cos_theta_pion = np.cos(np.radians(pion_cherenkov_angle))\n",
    "beta_1_pion = 1/beta_pion\n",
    "#\n",
    "# print(pion_cherenkov_angle)\n",
    "# print(cos_theta_pion)\n",
    "# print(beta_1_pion)\n",
    "\n",
    "# plot_cos_beta(cos_theta_pion, beta_1_pion, \"n_1_1_pion\")\n",
    "\n",
    "slope = get_slope(beta_1_pion,cos_theta_pion)\n",
    "print(\"n\", (1/slope))\n",
    "print(\"slope\", slope)"
   ]
  },
  {
   "cell_type": "markdown",
   "metadata": {},
   "source": [
    "## Kaon - n=1.1"
   ]
  },
  {
   "cell_type": "code",
   "execution_count": 23,
   "metadata": {
    "ExecuteTime": {
     "end_time": "2023-06-06T04:17:12.483223Z",
     "start_time": "2023-06-06T04:17:11.082689700Z"
    }
   },
   "outputs": [
    {
     "name": "stdout",
     "output_type": "stream",
     "text": [
      "['10.0', '7.0', '6.0', '5.0', '4.5', '3.0', '2.5', '1.9', '1.8', '1.7', '1.6', '1.5', '1.3', '1.2', '8.0', '4.0', '3.5', '2.0', '1.4', '1.1', '9.0']\n",
      "[10.   7.   6.   5.   4.5  3.   2.5  1.9  1.8  1.7  1.6  1.5  1.3  1.2\n",
      "  8.   4.   3.5  2.   1.4  1.1  9. ]\n",
      "[ 1.1  1.2  1.3  1.4  1.5  1.6  1.7  1.8  1.9  2.   2.5  3.   3.5  4.\n",
      "  4.5  5.   6.   7.   8.   9.  10. ]\n",
      "(21, 4)\n",
      "[0.89888864 0.89998851 0.90083862 0.90243817 0.90338613 0.91145888\n",
      " 0.91772548 0.93196213 0.93569992 0.94039303 0.94607884 0.9522005\n",
      " 0.9700354  0.98148142 0.89935947 0.90528908 0.90799587 0.92889362\n",
      " 0.96005723 0.99624203 0.89918991]\n",
      "slope -0.49917679068773796\n"
     ]
    }
   ],
   "source": [
    "momenta_kaon = []\n",
    "\n",
    "#Read all kaon datasets\n",
    "for root, dir, files in os.walk('../data/n1.1kaon-'):\n",
    "    for file in files:\n",
    "        if file.endswith('.csv'):\n",
    "            momenta_kaon.append(file.replace('.csv', '').replace('_', '.').replace('G', ''))\n",
    "print(momenta_kaon)\n",
    "momenta_kaon = np.array(momenta_kaon, dtype=float)\n",
    "print(momenta_kaon)\n",
    "momenta_kaon = np.sort(momenta_kaon)\n",
    "print(momenta_kaon)\n",
    "kaon_data = []\n",
    "\n",
    "for root, dir, files in os.walk('../data/n1.1kaon-'):\n",
    "    for file in files:\n",
    "        if file.endswith('.csv'):\n",
    "            data = read_data(os.path.join(root, file))\n",
    "            kaon_data.append(data)\n",
    "\n",
    "\n",
    "plot_kaon_dir = '../media/plots/1.1_kaon-/pos/'\n",
    "# plot_pos(kaon_data, energies_kaon,'n1.1_kaon-')\n",
    "\n",
    "#Circle fit for kaon data\n",
    "radii_kaon = []\n",
    "xc_kaon=[]\n",
    "yc_kaon=[]\n",
    "energies_kaon = []\n",
    "\n",
    "\n",
    "#quantities calculated for kaon\n",
    "#Mass in GeV\n",
    "for e in range(len(momenta_kaon)):\n",
    "    energy = get_energy(momenta_kaon[e], 0.493677)\n",
    "    # print(energies_kaon[e])\n",
    "    # print(p)\n",
    "    energies_kaon.append(energy)\n",
    "energies_kaon = np.array(energies_kaon)\n",
    "for array in kaon_data:\n",
    "    radii_kaon.append(fit_circle(array)[2])\n",
    "    xc_kaon.append(fit_circle(array)[0])\n",
    "    yc_kaon.append(fit_circle(array)[1])\n",
    "radii_kaon = np.array(radii_kaon)\n",
    "xc_kaon = np.array(xc_kaon)\n",
    "yc_kaon = np.array(yc_kaon)\n",
    "# print(\"momenta array\", momenta_kaon.shape, \"energies\", energies_kaon.shape, \"radios \",radii_kaon.shape)\n",
    "# distancia 0.24 m\n",
    "d = 240 # mm\n",
    "kaon_cherenkov_angle = []\n",
    "for i, array in enumerate(kaon_data):\n",
    "    theta = np.arctan(radii_kaon[i]/d)\n",
    "    theta = np.degrees(theta)\n",
    "    kaon_cherenkov_angle.append(theta)\n",
    "kaon_cherenkov_ang = np.array(kaon_cherenkov_angle)\n",
    "kaon_physdata = np.column_stack((momenta_kaon, radii_kaon, energies_kaon,kaon_cherenkov_ang))\n",
    "print(kaon_physdata.shape)\n",
    "kaon_directory = '../data/exported_data/1.1_kaon-/'\n",
    "if not os.path.exists(kaon_directory):\n",
    "    os.makedirs(kaon_directory)\n",
    "np.savetxt(kaon_directory + 'kaon_physdata.dat', kaon_physdata, delimiter=',')\n",
    "\n",
    "# plot_circle(xc_kaon, yc_kaon, radii_kaon, kaon_data, energies_kaon)\n",
    "\n",
    "# plot_momenta_cherenkov_angle(kaon_physdata, particle=\"1.1_kaon-\")\n",
    "\n",
    "beta_kaon = get_beta(energies_kaon, momenta_kaon)\n",
    "cos_theta_kaon = np.cos(np.radians(kaon_cherenkov_angle))\n",
    "beta_1_kaon = 1/beta_kaon\n",
    "print(cos_theta_kaon)\n",
    "\n",
    "# plot_cos_beta(cos_theta_kaon, beta_1_kaon)\n",
    "kaon_slope = get_slope(cos_theta_kaon, beta_1_kaon)\n",
    "print(\"slope\", kaon_slope)"
   ]
  },
  {
   "cell_type": "markdown",
   "metadata": {},
   "source": [
    "## Proton - n=1.1"
   ]
  },
  {
   "cell_type": "code",
   "execution_count": null,
   "metadata": {},
   "outputs": [
    {
     "name": "stdout",
     "output_type": "stream",
     "text": [
      "[ 2.1  2.2  2.3  2.4  2.5  2.6  2.7  2.8  2.9  3.   3.2  3.4  3.6  3.8\n",
      "  4.   4.5  5.   5.5  6.   6.5  7.   7.5  8.   8.5  9.   9.5 10. ]\n",
      "[24.572778783988422, 23.688852347558523, 21.501539382061264, 19.103134900981654, 18.08437842676402, 14.102943058623266, 8.786290956733115, 24.73715409068357, 24.67593514330456, 24.62654729340485, 24.43277181788488, 24.306819145641125, 24.13522527706146, 23.357235372549003, 22.962628357683357, 22.360231805810947, 21.048331198830994, 20.506716051939453, 19.89546457858308, 17.560352573680078, 16.85297126495888, 16.073743734995453, 15.024634508555215, 12.748333379002315, 11.072218812768018, 5.3591120314072285, 23.925215981689004]\n",
      "[[  2.1        113.85803474   2.30007703  24.57277878]\n",
      " [  2.2        109.24558154   2.39172623  23.68885235]\n",
      " [  2.3         98.09143651   2.4840198   21.50153938]\n",
      " [  2.4         86.23923859   2.5768885   19.1031349 ]\n",
      " [  2.5         81.3106097    2.67027234  18.08437843]\n",
      " [  2.6         62.55807427   2.76411909  14.10294306]\n",
      " [  2.7         38.48623333   2.85838317   8.78629096]\n",
      " [  2.8        114.72288798   2.95302461  24.73715409]\n",
      " [  2.9        114.40052096   3.04800826  24.67593514]\n",
      " [  3.         114.1406848    3.14330309  24.62654729]\n",
      " [  3.2        113.12318242   3.33471953  24.43277182]\n",
      " [  3.4        112.46348964   3.52708865  24.30681915]\n",
      " [  3.6        111.5668494    3.72026267  24.13522528]\n",
      " [  3.8        107.53134093   3.91412242  23.35723537]\n",
      " [  4.         105.50260671   4.10857084  22.96262836]\n",
      " [  4.5        102.42826374   4.59677652  22.36023181]\n",
      " [  5.          95.82321383   5.08727376  21.0483312 ]\n",
      " [  5.5         93.13055379   5.57945825  20.50671605]\n",
      " [  6.          90.11444911   6.07291975  19.89546458]\n",
      " [  6.5         78.79785334   6.56737043  17.56035257]\n",
      " [  7.          75.42879302   7.06260252  16.85297126]\n",
      " [  7.5         71.74656082   7.55846243  16.07374373]\n",
      " [  8.          66.83410696   8.05483422  15.02463451]\n",
      " [  8.5         56.33533395   8.55162875  12.74833338]\n",
      " [  9.          48.72648908   9.0487764   11.07221881]\n",
      " [  9.5         23.35816045   9.54622199   5.35911203]\n",
      " [ 10.         110.47274238  10.04392126  23.92521598]]\n"
     ]
    }
   ],
   "source": [
    "momentum_proton = []\n",
    "\n",
    "#Read all proton datasets\n",
    "for root, dir, files in os.walk('../data/n1.1proton'):\n",
    "    for file in files:\n",
    "        if file.endswith('.csv'):\n",
    "            momentum_proton.append(file.replace('.csv', '').replace('_', '.').replace('G', ''))\n",
    "momentum_proton = np.array(momentum_proton, dtype=float)\n",
    "rounded_pm = np.around(momentum_proton, decimals=2)\n",
    "momentum_proton = np.sort(rounded_pm)\n",
    "\n",
    "print(momentum_proton)\n",
    "\n",
    "proton_data = []\n",
    "for root, dir, files in os.walk('../data/n1.1proton'):\n",
    "    for file in files:\n",
    "        if file.endswith('.csv'):\n",
    "            data = read_data(os.path.join(root, file))\n",
    "            proton_data.append(data)\n",
    "\n",
    "\n",
    "plot_proton_dir = '../media/plots/1.1_proton/pos/'\n",
    "\n",
    "plot_pos(proton_data, momentum_proton, particle='n1.1_proton')\n",
    "\n",
    "#Circle fit for proton data\n",
    "radii_proton = []\n",
    "xc_proton=[]\n",
    "yc_proton=[]\n",
    "energies_proton = []\n",
    "\n",
    "\n",
    "\n",
    "#quantities calculated for proton\n",
    "#Mass in GeV\n",
    "for e in range(len(momentum_proton)):\n",
    "    E = get_energy(momentum_proton[e], 0.938272)\n",
    "    # print(momentum_proton[e])\n",
    "    # print(p)\n",
    "    energies_proton.append(E)\n",
    "energies_proton = np.array(energies_proton)\n",
    "for array in proton_data:\n",
    "    radii_proton.append(fit_circle(array)[2])\n",
    "    xc_proton.append(fit_circle(array)[0])\n",
    "    yc_proton.append(fit_circle(array)[1])\n",
    "radii_proton = np.array(radii_proton)\n",
    "xc_proton = np.array(xc_proton)\n",
    "yc_proton = np.array(yc_proton)\n",
    "# print(\"momenta array\", energies_proton.shape, \"energies\", energies_proton.shape, \"radios \",radii_proton.shape)\n",
    "# distancia 0.24 m\n",
    "d = 249 # mm\n",
    "proton_cherenkov_angle = []\n",
    "for i, array in enumerate(proton_data):\n",
    "    theta = np.arctan(radii_proton[i]/d)\n",
    "    theta = np.degrees(theta)\n",
    "    proton_cherenkov_angle.append(theta)\n",
    "proton_cherenkov_ang = np.array(proton_cherenkov_angle)\n",
    "print(proton_cherenkov_angle)\n",
    "proton_physdata = np.column_stack((momentum_proton, radii_proton, energies_proton,proton_cherenkov_ang))\n",
    "print(proton_physdata)\n",
    "proton_directory = '../data/exported_data/1.1_proton-/'\n",
    "if not os.path.exists(proton_directory):\n",
    "    os.makedirs(proton_directory)\n",
    "np.savetxt(proton_directory + 'proton_physdata.dat', proton_physdata, delimiter=',')\n",
    "\n",
    "plot_circle(xc_proton, yc_proton, radii_proton, proton_data, momentum_proton,\"1.1_proton-\")\n",
    "plot_momenta_cherenkov_angle(proton_physdata, particle=\"1.1_proton-\")\n",
    "beta_proton = get_beta(momentum_proton, energies_proton)\n",
    "cos_theta_proton = np.cos(proton_cherenkov_ang)\n",
    "beta_1_proton = 1/beta_proton\n",
    "\n",
    "plot_cos_beta(cos_theta_proton, beta_1_proton,\"1.1_proton-\")\n",
    "\n",
    "proton_slope = get_slope(cos_theta_proton, beta_1_proton)\n",
    "print(\"slope\", 1/proton_slope)"
   ]
  },
  {
   "cell_type": "code",
   "execution_count": 15,
   "metadata": {
    "ExecuteTime": {
     "start_time": "2023-06-06T05:20:35.668750400Z"
    },
    "is_executing": true
   },
   "outputs": [
    {
     "name": "stdout",
     "output_type": "stream",
     "text": [
      "[[  0.24       117.85032933   0.26222817  26.1530252 ]\n",
      " [  0.25       117.82901617   0.27141041  26.14892543]\n",
      " [  0.26       114.11873295   0.28064856  25.43084098]\n",
      " [  0.27       117.70482975   0.28993726  26.12503137]\n",
      " [  0.28       114.11873295   0.2992718   25.43084098]\n",
      " [  0.29       112.78412787   0.30864804  25.17042084]\n",
      " [  0.3        109.84767173   0.31806228  24.59350499]\n",
      " [  0.32       108.56833419   0.33699201  24.3404767 ]\n",
      " [  0.34       106.93751942   0.35603878  24.0164619 ]\n",
      " [  0.36        98.87860209   0.37518477  22.39137576]\n",
      " [  0.38        94.94609447   0.39441553  21.58418383]\n",
      " [  0.4         86.06084383   0.41371924  19.727166  ]\n",
      " [  0.42        81.73319877   0.43308615  18.80653222]\n",
      " [  0.44       117.77257406   0.45250814  26.13806691]\n",
      " [  0.46       117.54686636   0.4719784   26.09462432]\n",
      " [  0.48       117.34876667   0.49149121  26.05646893]\n",
      " [  0.5        116.9170108    0.51104169  25.97322356]\n",
      " [  0.55       116.27247959   0.56005679  25.84873417]\n",
      " [  0.6        113.61413746   0.60923199  25.33251136]\n",
      " [  0.65       112.08350101   0.65853141  25.03326078]\n",
      " [  0.7        111.78287177   0.7079291   24.97431304]\n",
      " [  0.75       110.94493643   0.75740584  24.80971133]\n",
      " [  0.8        102.01450322   0.80694709  23.02842462]\n",
      " [  0.85       100.49666393   0.85654166  22.72082054]\n",
      " [  0.9         92.543773     0.90618078  21.08659205]\n",
      " [  0.95        76.64569217   0.95585753  17.71124895]\n",
      " [  1.         104.59949212   1.00556631  23.54907533]\n",
      " [  1.5         97.00170153   1.5037166   22.00726631]\n",
      " [  2.          70.26650937   2.00278896  16.31882346]\n",
      " [  2.5         65.7226864    2.50223173  15.31468399]\n",
      " [  3.          61.32452203   3.00186003  14.33346082]\n",
      " [  4.          56.01252138   4.00139521  13.13685719]\n",
      " [  5.          48.76730276   5.00111624  11.48595835]\n",
      " [  6.          40.46057671   6.00093023   9.56927165]\n",
      " [  8.          28.82635114   8.0006977    6.8489749 ]\n",
      " [ 10.          89.5919937   10.00055817  20.47060195]]\n",
      "slope -0.013729612372008483\n",
      "n -72.83526824389956\n"
     ]
    }
   ],
   "source": [
    "momenta_muon = []\n",
    "\n",
    "#Read all muon datasets\n",
    "for root, dir, files in os.walk('../data/n1.1muon'):\n",
    "    for file in files:\n",
    "        if file.endswith('.csv'):\n",
    "            momenta_muon.append(file.replace('.csv', '').replace('_', '.').replace('G', ''))\n",
    "momenta_muon = np.array(momenta_muon, dtype=float)\n",
    "momenta_muon = np.sort(momenta_muon)\n",
    "\n",
    "muon_data = []\n",
    "for root, dir, files in os.walk('../data/n1.1muon'):\n",
    "    for file in files:\n",
    "        if file.endswith('.csv'):\n",
    "            data = read_data(os.path.join(root, file))\n",
    "            muon_data.append(data)\n",
    "\n",
    "plot_muon_dir = '../media/plots/1.1_muon/pos/'\n",
    "plot_pos(muon_data, momenta_muon, 'n1.1_muon')\n",
    "\n",
    "#Circle fit for muon data\n",
    "radii_muon = []\n",
    "xc_muon=[]\n",
    "yc_muon=[]\n",
    "energies_muon = []\n",
    "\n",
    "#quantities calculated for muon\n",
    "#Mass in GeV\n",
    "for e in range(len(momenta_muon)):\n",
    "    E = get_energy(momenta_muon[e], 0.105658)\n",
    "    # print(momentum_proton[e])\n",
    "    # print(p)\n",
    "    energies_muon.append(E)\n",
    "energies_muon = np.array(energies_muon)\n",
    "for array in muon_data:\n",
    "    radii_muon.append(fit_circle(array)[2])\n",
    "    xc_muon.append(fit_circle(array)[0])\n",
    "    yc_muon.append(fit_circle(array)[1])\n",
    "radii_muon = np.array(radii_muon)\n",
    "xc_muon = np.array(xc_muon)\n",
    "yc_muon = np.array(yc_muon)\n",
    "# print(\"momenta array\", energies_muon.shape, \"energies\", energies_muon.shape, \"radios \",radii_muon.shape)\n",
    "# distancia 0.24 m\n",
    "d = 240 # mm\n",
    "muon_cherenkov_angle = []\n",
    "for i, array in enumerate(muon_data):\n",
    "    theta = np.arctan(radii_muon[i]/d)\n",
    "    theta = np.degrees(theta)\n",
    "    muon_cherenkov_angle.append(theta)\n",
    "muon_cherenkov_ang = np.array(muon_cherenkov_angle)\n",
    "muon_physdata = np.column_stack((momenta_muon, radii_muon, energies_muon,muon_cherenkov_ang))\n",
    "print(muon_physdata)\n",
    "muon_directory = '../data/exported_data/1.1_muon/'\n",
    "if not os.path.exists(muon_directory):\n",
    "    os.makedirs(muon_directory)\n",
    "np.savetxt(muon_directory + 'muon_physdata.dat', muon_physdata, delimiter=',')\n",
    "plot_circle(xc_muon, yc_muon, radii_muon, muon_data, momenta_muon, \"1.1_muon\")\n",
    "plot_momenta_cherenkov_angle(muon_physdata, particle=\"1.1_muon\")\n",
    "beta_muon = get_beta(momenta_muon, energies_muon)\n",
    "cos_theta_muon = np.cos(muon_cherenkov_ang)\n",
    "beta_1_muon = 1/beta_muon\n",
    "\n",
    "plot_cos_beta(cos_theta_muon, beta_1_muon,\"1.1_muon\")\n",
    "\n",
    "muon_slope = get_slope(cos_theta_muon, beta_1_muon)\n",
    "print(\"slope\", muon_slope)\n",
    "print(\"n\", (1/muon_slope))"
   ]
  },
  {
   "cell_type": "code",
   "execution_count": null,
   "metadata": {},
   "outputs": [],
   "source": [
    "\n",
    "# #Read energy in GeV of data files, save to list named energies\n",
    "# momenta_pion = []\n",
    "#\n",
    "# #Read all pion datasets\n",
    "# for root, dir, files in os.walk('../data/n1.1pion-'):\n",
    "#     for file in files:\n",
    "#         if file.endswith('.csv'):\n",
    "#             momenta_pion.append(file.replace('.csv', '').replace('_', '.').replace('G', ''))\n",
    "# momenta_pion = np.array(momenta_pion, dtype=float)\n",
    "# momenta_pion = np.sort(momenta_pion)\n",
    "# # print(\"momenta_pion: \",momenta_pion)\n",
    "#\n",
    "# pion_data = []\n",
    "# for root, dir, files in os.walk('../data/n1.1pion-'):\n",
    "#     for file in files:\n",
    "#         if file.endswith('.csv'):\n",
    "#             data = read_data(os.path.join(root, file))\n",
    "#             pion_data.append(data)\n",
    "#\n",
    "# plot_pion_dir = '../media/plots/1.1_pion-/pos/'\n",
    "# # plot_pos(pion_data, momenta_pion, 'n1.1_pion-')\n",
    "#\n",
    "# #Circle fit for pion data\n",
    "# radii_pion = []\n",
    "# xc_pion=[]\n",
    "# yc_pion=[]\n",
    "# energies_pion = []\n",
    "#\n",
    "#\n",
    "# #quantities calculated for pion\n",
    "# # #Mass in GeV\n",
    "# for e in range(len(momenta_pion)):\n",
    "#     E = get_energy(momenta_pion[e], 0.13957)\n",
    "#     # print(E)\n",
    "#     energies_pion.append(E)\n",
    "# energies_pion = np.array(energies_pion)\n",
    "# # print(\"energies\", energies_pion)\n",
    "# for array in pion_data:\n",
    "#     radii_pion.append(fit_circle(array)[2])\n",
    "#     xc_pion.append(fit_circle(array)[0])\n",
    "#     yc_pion.append(fit_circle(array)[1])\n",
    "# radii_pion = np.array(radii_pion)\n",
    "# xc_pion = np.array(xc_pion)\n",
    "# yc_pion = np.array(yc_pion)\n",
    "# # distancia 0.24 m\n",
    "# d = 240 # mm\n",
    "#\n",
    "# pion_cherenkov_angle = []\n",
    "#\n",
    "# for i in range(len(radii_pion)):\n",
    "#     theta = np.arctan(radii_pion[i]/d)\n",
    "#     theta_deg = np.degrees(theta)\n",
    "#     pion_cherenkov_angle.append(theta_deg)\n",
    "# pion_cherenkov_ang = np.array(pion_cherenkov_angle)\n",
    "# pion_physdata = np.column_stack((momenta_pion, radii_pion, momenta_pion,pion_cherenkov_ang))\n",
    "# pion_directory = '../data/exported_data/1.1_pion-/'\n",
    "# if not os.path.exists(pion_directory):\n",
    "#     os.makedirs(pion_directory)\n",
    "# np.savetxt(pion_directory + 'pion_physdata.dat', pion_physdata, delimiter=',')\n",
    "#\n",
    "# # plot_circle(xc_pion, yc_pion, radii_pion, pion_data, momenta_pion, particle=\"n1.1_pion-\")\n",
    "#\n",
    "# # plot_momenta_cherenkov_angle(pion_physdata, particle=\"1_1pion\")\n",
    "#\n",
    "# beta_pion = get_beta(energies_pion, momenta_pion)\n",
    "#\n",
    "#\n",
    "# cos_theta_pion = np.cos(np.radians(pion_cherenkov_angle))\n",
    "# beta_1_pion = 1/beta_pion\n",
    "# #\n",
    "# # print(pion_cherenkov_angle)\n",
    "# # print(cos_theta_pion)\n",
    "# # print(beta_1_pion)\n",
    "#\n",
    "# # plot_cos_beta(cos_theta_pion, beta_1_pion, \"n_1_1_pion\")\n",
    "#\n",
    "# slope = get_slope(beta_1_pion,cos_theta_pion)\n",
    "# print(\"n\", (1/slope))\n",
    "# print(\"slope\", slope)"
   ]
  },
  {
   "cell_type": "code",
   "execution_count": null,
   "metadata": {},
   "outputs": [],
   "source": []
  },
  {
   "cell_type": "code",
   "execution_count": null,
   "metadata": {},
   "outputs": [],
   "source": []
  }
 ],
 "metadata": {
  "kernelspec": {
   "display_name": "Python 3",
   "language": "python",
   "name": "python3"
  },
  "language_info": {
   "codemirror_mode": {
    "name": "ipython",
    "version": 3
   },
   "file_extension": ".py",
   "mimetype": "text/x-python",
   "name": "python",
   "nbconvert_exporter": "python",
   "pygments_lexer": "ipython3",
   "version": "3.7.10"
  }
 },
 "nbformat": 4,
 "nbformat_minor": 1
}
