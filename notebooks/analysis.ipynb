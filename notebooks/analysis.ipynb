{
 "cells": [
  {
   "cell_type": "code",
   "execution_count": 23,
   "metadata": {
    "collapsed": true,
    "ExecuteTime": {
     "end_time": "2023-06-04T15:50:39.201603900Z",
     "start_time": "2023-06-04T15:50:39.146802900Z"
    }
   },
   "outputs": [],
   "source": [
    "import numpy as np\n",
    "import plotly.graph_objects as go\n",
    "import csv\n",
    "import scipy as sp"
   ]
  },
  {
   "cell_type": "code",
   "execution_count": 9,
   "outputs": [],
   "source": [
    "def read_data(file_path):\n",
    "\n",
    "    with open(file_path) as f:\n",
    "        reader = csv.reader(f)\n",
    "        data = []\n",
    "        for column in reader:\n",
    "            column[0] = column[0].replace('(', '').replace(\"'\" , '')\n",
    "            column[2] = column[2].replace(')', '').replace(\"'\" , '')\n",
    "            column[1] = column[1].replace(\"'\" , '')\n",
    "            column[0] = float(column[0])\n",
    "            column[1] = float(column[1])\n",
    "            column[2] = float(column[2])\n",
    "            data.append(column)\n",
    "        data = np.array(data)\n",
    "    return data\n",
    "        # print(data)"
   ],
   "metadata": {
    "collapsed": false,
    "ExecuteTime": {
     "end_time": "2023-06-04T14:51:53.103740600Z",
     "start_time": "2023-06-04T14:51:53.097158700Z"
    }
   }
  },
  {
   "cell_type": "code",
   "execution_count": 19,
   "outputs": [],
   "source": [
    "initial = read_data('../data/0_31G.csv')\n",
    "second = read_data('../data/0_32G.csv')\n",
    "third = read_data('../data/0_9G.csv')\n",
    "\n"
   ],
   "metadata": {
    "collapsed": false,
    "ExecuteTime": {
     "end_time": "2023-06-04T15:00:15.817585800Z",
     "start_time": "2023-06-04T15:00:15.793584900Z"
    }
   }
  },
  {
   "cell_type": "code",
   "execution_count": 14,
   "outputs": [],
   "source": [
    "def plot_pos(data, title, proj):\n",
    "    if proj=='xy':\n",
    "        fig = go.Figure(data=go.Scatter(x=data[:,0], y=data[:,1], mode='markers'))\n",
    "        fig.update_layout(title=title, xaxis_title='x', yaxis_title='y')\n",
    "        fig.update_layout(\n",
    "            width=500,\n",
    "            height=500,\n",
    "            margin=dict(\n",
    "                l=50,\n",
    "                r=50,\n",
    "                b=100,\n",
    "                t=100,\n",
    "                pad=4\n",
    "            ),\n",
    "            xaxis=dict(\n",
    "                showgrid=True,\n",
    "                zeroline=True,\n",
    "                showline=True,\n",
    "                showticklabels=True,\n",
    "                scaleratio=1\n",
    "            ),\n",
    "            yaxis=dict(\n",
    "                showgrid=True,\n",
    "                zeroline=True,\n",
    "                showline=True,\n",
    "                showticklabels=True,\n",
    "                scaleratio=1\n",
    "            )\n",
    "        )\n",
    "        fig.show()\n",
    "    elif proj=='xz':\n",
    "        fig = go.Figure(data=go.Scatter(x=data[:,0], y=data[:,2], mode='markers'))\n",
    "        fig.update_layout(title=title, xaxis_title='x', yaxis_title='z')\n",
    "        fig.update_layout(\n",
    "            width=500,\n",
    "            height=500,\n",
    "            margin=dict(\n",
    "                l=50,\n",
    "                r=50,\n",
    "                b=100,\n",
    "                t=100,\n",
    "                pad=4\n",
    "            ),\n",
    "            xaxis=dict(\n",
    "                showgrid=True,\n",
    "                zeroline=True,\n",
    "                showline=True,\n",
    "                showticklabels=True,\n",
    "                scaleratio=1\n",
    "            ),\n",
    "            yaxis=dict(\n",
    "                showgrid=True,\n",
    "                zeroline=True,\n",
    "                showline=True,\n",
    "                showticklabels=True,\n",
    "                scaleratio=1\n",
    "            )\n",
    "        )\n",
    "        fig.show()\n",
    "    elif proj=='yz':\n",
    "        fig = go.Figure(data=go.Scatter(x=data[:,1], y=data[:,2], mode='markers'))\n",
    "        fig.update_layout(title=title, xaxis_title='y', yaxis_title='z')\n",
    "        fig.update_layout(\n",
    "            width=500,\n",
    "            height=500,\n",
    "            margin=dict(\n",
    "                l=50,\n",
    "                r=50,\n",
    "                b=100,\n",
    "                t=100,\n",
    "                pad=4\n",
    "            ),\n",
    "            xaxis=dict(\n",
    "                showgrid=True,\n",
    "                zeroline=True,\n",
    "                showline=True,\n",
    "                showticklabels=True,\n",
    "                scaleratio=1\n",
    "            ),\n",
    "            yaxis=dict(\n",
    "                showgrid=True,\n",
    "                zeroline=True,\n",
    "                showline=True,\n",
    "                showticklabels=True,\n",
    "                scaleratio=1\n",
    "            )\n",
    "        )\n",
    "        fig.show()\n",
    "    elif proj=='3d':\n",
    "        fig = go.Figure(data=[go.Scatter3d(x=data[:,0], y=data[:,1], z=data[:,2], mode='markers')])\n",
    "        fig.update_layout(title=title, scene_aspectmode='cube', scene=dict(xaxis_title='x', yaxis_title='y', zaxis_title='z'), width=700, height=700)\n",
    "        fig.show()\n",
    "    else:\n",
    "        print('Invalid projection')"
   ],
   "metadata": {
    "collapsed": false,
    "ExecuteTime": {
     "end_time": "2023-06-04T14:54:07.262250900Z",
     "start_time": "2023-06-04T14:54:07.238249300Z"
    }
   }
  },
  {
   "cell_type": "code",
   "execution_count": 21,
   "outputs": [
    {
     "data": {
      "application/vnd.plotly.v1+json": {
       "data": [
        {
         "mode": "markers",
         "x": [
          -17.5,
          12.5,
          -2.5,
          2.5,
          17.5,
          -12.5,
          2.5,
          17.5,
          22.5,
          -17.5,
          2.5,
          -7.5,
          2.5,
          7.5,
          17.5,
          -7.5,
          -7.5,
          -12.5,
          -7.5,
          -2.5,
          7.5,
          -12.5,
          2.5,
          2.5
         ],
         "y": [
          -7.5,
          17.5,
          17.5,
          22.5,
          7.5,
          12.5,
          17.5,
          -12.5,
          2.5,
          -2.5,
          17.5,
          17.5,
          -17.5,
          -17.5,
          -2.5,
          -17.5,
          -17.5,
          -12.5,
          17.5,
          17.5,
          -12.5,
          12.5,
          2.5,
          2.5
         ],
         "z": [
          -490.0,
          -490.0,
          -490.0,
          -490.0,
          -490.0,
          -490.0,
          -490.0,
          -490.0,
          -490.0,
          -490.0,
          -490.0,
          -490.0,
          -490.0,
          -490.0,
          -490.0,
          -490.0,
          -490.0,
          -490.0,
          -490.0,
          -490.0,
          -490.0,
          -490.0,
          -490.0,
          -490.0
         ],
         "type": "scatter3d"
        }
       ],
       "layout": {
        "template": {
         "data": {
          "histogram2dcontour": [
           {
            "type": "histogram2dcontour",
            "colorbar": {
             "outlinewidth": 0,
             "ticks": ""
            },
            "colorscale": [
             [
              0.0,
              "#0d0887"
             ],
             [
              0.1111111111111111,
              "#46039f"
             ],
             [
              0.2222222222222222,
              "#7201a8"
             ],
             [
              0.3333333333333333,
              "#9c179e"
             ],
             [
              0.4444444444444444,
              "#bd3786"
             ],
             [
              0.5555555555555556,
              "#d8576b"
             ],
             [
              0.6666666666666666,
              "#ed7953"
             ],
             [
              0.7777777777777778,
              "#fb9f3a"
             ],
             [
              0.8888888888888888,
              "#fdca26"
             ],
             [
              1.0,
              "#f0f921"
             ]
            ]
           }
          ],
          "choropleth": [
           {
            "type": "choropleth",
            "colorbar": {
             "outlinewidth": 0,
             "ticks": ""
            }
           }
          ],
          "histogram2d": [
           {
            "type": "histogram2d",
            "colorbar": {
             "outlinewidth": 0,
             "ticks": ""
            },
            "colorscale": [
             [
              0.0,
              "#0d0887"
             ],
             [
              0.1111111111111111,
              "#46039f"
             ],
             [
              0.2222222222222222,
              "#7201a8"
             ],
             [
              0.3333333333333333,
              "#9c179e"
             ],
             [
              0.4444444444444444,
              "#bd3786"
             ],
             [
              0.5555555555555556,
              "#d8576b"
             ],
             [
              0.6666666666666666,
              "#ed7953"
             ],
             [
              0.7777777777777778,
              "#fb9f3a"
             ],
             [
              0.8888888888888888,
              "#fdca26"
             ],
             [
              1.0,
              "#f0f921"
             ]
            ]
           }
          ],
          "heatmap": [
           {
            "type": "heatmap",
            "colorbar": {
             "outlinewidth": 0,
             "ticks": ""
            },
            "colorscale": [
             [
              0.0,
              "#0d0887"
             ],
             [
              0.1111111111111111,
              "#46039f"
             ],
             [
              0.2222222222222222,
              "#7201a8"
             ],
             [
              0.3333333333333333,
              "#9c179e"
             ],
             [
              0.4444444444444444,
              "#bd3786"
             ],
             [
              0.5555555555555556,
              "#d8576b"
             ],
             [
              0.6666666666666666,
              "#ed7953"
             ],
             [
              0.7777777777777778,
              "#fb9f3a"
             ],
             [
              0.8888888888888888,
              "#fdca26"
             ],
             [
              1.0,
              "#f0f921"
             ]
            ]
           }
          ],
          "heatmapgl": [
           {
            "type": "heatmapgl",
            "colorbar": {
             "outlinewidth": 0,
             "ticks": ""
            },
            "colorscale": [
             [
              0.0,
              "#0d0887"
             ],
             [
              0.1111111111111111,
              "#46039f"
             ],
             [
              0.2222222222222222,
              "#7201a8"
             ],
             [
              0.3333333333333333,
              "#9c179e"
             ],
             [
              0.4444444444444444,
              "#bd3786"
             ],
             [
              0.5555555555555556,
              "#d8576b"
             ],
             [
              0.6666666666666666,
              "#ed7953"
             ],
             [
              0.7777777777777778,
              "#fb9f3a"
             ],
             [
              0.8888888888888888,
              "#fdca26"
             ],
             [
              1.0,
              "#f0f921"
             ]
            ]
           }
          ],
          "contourcarpet": [
           {
            "type": "contourcarpet",
            "colorbar": {
             "outlinewidth": 0,
             "ticks": ""
            }
           }
          ],
          "contour": [
           {
            "type": "contour",
            "colorbar": {
             "outlinewidth": 0,
             "ticks": ""
            },
            "colorscale": [
             [
              0.0,
              "#0d0887"
             ],
             [
              0.1111111111111111,
              "#46039f"
             ],
             [
              0.2222222222222222,
              "#7201a8"
             ],
             [
              0.3333333333333333,
              "#9c179e"
             ],
             [
              0.4444444444444444,
              "#bd3786"
             ],
             [
              0.5555555555555556,
              "#d8576b"
             ],
             [
              0.6666666666666666,
              "#ed7953"
             ],
             [
              0.7777777777777778,
              "#fb9f3a"
             ],
             [
              0.8888888888888888,
              "#fdca26"
             ],
             [
              1.0,
              "#f0f921"
             ]
            ]
           }
          ],
          "surface": [
           {
            "type": "surface",
            "colorbar": {
             "outlinewidth": 0,
             "ticks": ""
            },
            "colorscale": [
             [
              0.0,
              "#0d0887"
             ],
             [
              0.1111111111111111,
              "#46039f"
             ],
             [
              0.2222222222222222,
              "#7201a8"
             ],
             [
              0.3333333333333333,
              "#9c179e"
             ],
             [
              0.4444444444444444,
              "#bd3786"
             ],
             [
              0.5555555555555556,
              "#d8576b"
             ],
             [
              0.6666666666666666,
              "#ed7953"
             ],
             [
              0.7777777777777778,
              "#fb9f3a"
             ],
             [
              0.8888888888888888,
              "#fdca26"
             ],
             [
              1.0,
              "#f0f921"
             ]
            ]
           }
          ],
          "mesh3d": [
           {
            "type": "mesh3d",
            "colorbar": {
             "outlinewidth": 0,
             "ticks": ""
            }
           }
          ],
          "scatter": [
           {
            "fillpattern": {
             "fillmode": "overlay",
             "size": 10,
             "solidity": 0.2
            },
            "type": "scatter"
           }
          ],
          "parcoords": [
           {
            "type": "parcoords",
            "line": {
             "colorbar": {
              "outlinewidth": 0,
              "ticks": ""
             }
            }
           }
          ],
          "scatterpolargl": [
           {
            "type": "scatterpolargl",
            "marker": {
             "colorbar": {
              "outlinewidth": 0,
              "ticks": ""
             }
            }
           }
          ],
          "bar": [
           {
            "error_x": {
             "color": "#2a3f5f"
            },
            "error_y": {
             "color": "#2a3f5f"
            },
            "marker": {
             "line": {
              "color": "#E5ECF6",
              "width": 0.5
             },
             "pattern": {
              "fillmode": "overlay",
              "size": 10,
              "solidity": 0.2
             }
            },
            "type": "bar"
           }
          ],
          "scattergeo": [
           {
            "type": "scattergeo",
            "marker": {
             "colorbar": {
              "outlinewidth": 0,
              "ticks": ""
             }
            }
           }
          ],
          "scatterpolar": [
           {
            "type": "scatterpolar",
            "marker": {
             "colorbar": {
              "outlinewidth": 0,
              "ticks": ""
             }
            }
           }
          ],
          "histogram": [
           {
            "marker": {
             "pattern": {
              "fillmode": "overlay",
              "size": 10,
              "solidity": 0.2
             }
            },
            "type": "histogram"
           }
          ],
          "scattergl": [
           {
            "type": "scattergl",
            "marker": {
             "colorbar": {
              "outlinewidth": 0,
              "ticks": ""
             }
            }
           }
          ],
          "scatter3d": [
           {
            "type": "scatter3d",
            "line": {
             "colorbar": {
              "outlinewidth": 0,
              "ticks": ""
             }
            },
            "marker": {
             "colorbar": {
              "outlinewidth": 0,
              "ticks": ""
             }
            }
           }
          ],
          "scattermapbox": [
           {
            "type": "scattermapbox",
            "marker": {
             "colorbar": {
              "outlinewidth": 0,
              "ticks": ""
             }
            }
           }
          ],
          "scatterternary": [
           {
            "type": "scatterternary",
            "marker": {
             "colorbar": {
              "outlinewidth": 0,
              "ticks": ""
             }
            }
           }
          ],
          "scattercarpet": [
           {
            "type": "scattercarpet",
            "marker": {
             "colorbar": {
              "outlinewidth": 0,
              "ticks": ""
             }
            }
           }
          ],
          "carpet": [
           {
            "aaxis": {
             "endlinecolor": "#2a3f5f",
             "gridcolor": "white",
             "linecolor": "white",
             "minorgridcolor": "white",
             "startlinecolor": "#2a3f5f"
            },
            "baxis": {
             "endlinecolor": "#2a3f5f",
             "gridcolor": "white",
             "linecolor": "white",
             "minorgridcolor": "white",
             "startlinecolor": "#2a3f5f"
            },
            "type": "carpet"
           }
          ],
          "table": [
           {
            "cells": {
             "fill": {
              "color": "#EBF0F8"
             },
             "line": {
              "color": "white"
             }
            },
            "header": {
             "fill": {
              "color": "#C8D4E3"
             },
             "line": {
              "color": "white"
             }
            },
            "type": "table"
           }
          ],
          "barpolar": [
           {
            "marker": {
             "line": {
              "color": "#E5ECF6",
              "width": 0.5
             },
             "pattern": {
              "fillmode": "overlay",
              "size": 10,
              "solidity": 0.2
             }
            },
            "type": "barpolar"
           }
          ],
          "pie": [
           {
            "automargin": true,
            "type": "pie"
           }
          ]
         },
         "layout": {
          "autotypenumbers": "strict",
          "colorway": [
           "#636efa",
           "#EF553B",
           "#00cc96",
           "#ab63fa",
           "#FFA15A",
           "#19d3f3",
           "#FF6692",
           "#B6E880",
           "#FF97FF",
           "#FECB52"
          ],
          "font": {
           "color": "#2a3f5f"
          },
          "hovermode": "closest",
          "hoverlabel": {
           "align": "left"
          },
          "paper_bgcolor": "white",
          "plot_bgcolor": "#E5ECF6",
          "polar": {
           "bgcolor": "#E5ECF6",
           "angularaxis": {
            "gridcolor": "white",
            "linecolor": "white",
            "ticks": ""
           },
           "radialaxis": {
            "gridcolor": "white",
            "linecolor": "white",
            "ticks": ""
           }
          },
          "ternary": {
           "bgcolor": "#E5ECF6",
           "aaxis": {
            "gridcolor": "white",
            "linecolor": "white",
            "ticks": ""
           },
           "baxis": {
            "gridcolor": "white",
            "linecolor": "white",
            "ticks": ""
           },
           "caxis": {
            "gridcolor": "white",
            "linecolor": "white",
            "ticks": ""
           }
          },
          "coloraxis": {
           "colorbar": {
            "outlinewidth": 0,
            "ticks": ""
           }
          },
          "colorscale": {
           "sequential": [
            [
             0.0,
             "#0d0887"
            ],
            [
             0.1111111111111111,
             "#46039f"
            ],
            [
             0.2222222222222222,
             "#7201a8"
            ],
            [
             0.3333333333333333,
             "#9c179e"
            ],
            [
             0.4444444444444444,
             "#bd3786"
            ],
            [
             0.5555555555555556,
             "#d8576b"
            ],
            [
             0.6666666666666666,
             "#ed7953"
            ],
            [
             0.7777777777777778,
             "#fb9f3a"
            ],
            [
             0.8888888888888888,
             "#fdca26"
            ],
            [
             1.0,
             "#f0f921"
            ]
           ],
           "sequentialminus": [
            [
             0.0,
             "#0d0887"
            ],
            [
             0.1111111111111111,
             "#46039f"
            ],
            [
             0.2222222222222222,
             "#7201a8"
            ],
            [
             0.3333333333333333,
             "#9c179e"
            ],
            [
             0.4444444444444444,
             "#bd3786"
            ],
            [
             0.5555555555555556,
             "#d8576b"
            ],
            [
             0.6666666666666666,
             "#ed7953"
            ],
            [
             0.7777777777777778,
             "#fb9f3a"
            ],
            [
             0.8888888888888888,
             "#fdca26"
            ],
            [
             1.0,
             "#f0f921"
            ]
           ],
           "diverging": [
            [
             0,
             "#8e0152"
            ],
            [
             0.1,
             "#c51b7d"
            ],
            [
             0.2,
             "#de77ae"
            ],
            [
             0.3,
             "#f1b6da"
            ],
            [
             0.4,
             "#fde0ef"
            ],
            [
             0.5,
             "#f7f7f7"
            ],
            [
             0.6,
             "#e6f5d0"
            ],
            [
             0.7,
             "#b8e186"
            ],
            [
             0.8,
             "#7fbc41"
            ],
            [
             0.9,
             "#4d9221"
            ],
            [
             1,
             "#276419"
            ]
           ]
          },
          "xaxis": {
           "gridcolor": "white",
           "linecolor": "white",
           "ticks": "",
           "title": {
            "standoff": 15
           },
           "zerolinecolor": "white",
           "automargin": true,
           "zerolinewidth": 2
          },
          "yaxis": {
           "gridcolor": "white",
           "linecolor": "white",
           "ticks": "",
           "title": {
            "standoff": 15
           },
           "zerolinecolor": "white",
           "automargin": true,
           "zerolinewidth": 2
          },
          "scene": {
           "xaxis": {
            "backgroundcolor": "#E5ECF6",
            "gridcolor": "white",
            "linecolor": "white",
            "showbackground": true,
            "ticks": "",
            "zerolinecolor": "white",
            "gridwidth": 2
           },
           "yaxis": {
            "backgroundcolor": "#E5ECF6",
            "gridcolor": "white",
            "linecolor": "white",
            "showbackground": true,
            "ticks": "",
            "zerolinecolor": "white",
            "gridwidth": 2
           },
           "zaxis": {
            "backgroundcolor": "#E5ECF6",
            "gridcolor": "white",
            "linecolor": "white",
            "showbackground": true,
            "ticks": "",
            "zerolinecolor": "white",
            "gridwidth": 2
           }
          },
          "shapedefaults": {
           "line": {
            "color": "#2a3f5f"
           }
          },
          "annotationdefaults": {
           "arrowcolor": "#2a3f5f",
           "arrowhead": 0,
           "arrowwidth": 1
          },
          "geo": {
           "bgcolor": "white",
           "landcolor": "#E5ECF6",
           "subunitcolor": "white",
           "showland": true,
           "showlakes": true,
           "lakecolor": "white"
          },
          "title": {
           "x": 0.05
          },
          "mapbox": {
           "style": "light"
          }
         }
        },
        "scene": {
         "aspectmode": "cube",
         "xaxis": {
          "title": {
           "text": "x"
          }
         },
         "yaxis": {
          "title": {
           "text": "y"
          }
         },
         "zaxis": {
          "title": {
           "text": "z"
          }
         }
        },
        "title": {
         "text": "0_31G"
        },
        "width": 700,
        "height": 700
       },
       "config": {
        "plotlyServerURL": "https://plot.ly"
       }
      },
      "text/html": "<div>                            <div id=\"78535625-46cc-4aef-b4bf-ac2f38375555\" class=\"plotly-graph-div\" style=\"height:700px; width:700px;\"></div>            <script type=\"text/javascript\">                require([\"plotly\"], function(Plotly) {                    window.PLOTLYENV=window.PLOTLYENV || {};                                    if (document.getElementById(\"78535625-46cc-4aef-b4bf-ac2f38375555\")) {                    Plotly.newPlot(                        \"78535625-46cc-4aef-b4bf-ac2f38375555\",                        [{\"mode\":\"markers\",\"x\":[-17.5,12.5,-2.5,2.5,17.5,-12.5,2.5,17.5,22.5,-17.5,2.5,-7.5,2.5,7.5,17.5,-7.5,-7.5,-12.5,-7.5,-2.5,7.5,-12.5,2.5,2.5],\"y\":[-7.5,17.5,17.5,22.5,7.5,12.5,17.5,-12.5,2.5,-2.5,17.5,17.5,-17.5,-17.5,-2.5,-17.5,-17.5,-12.5,17.5,17.5,-12.5,12.5,2.5,2.5],\"z\":[-490.0,-490.0,-490.0,-490.0,-490.0,-490.0,-490.0,-490.0,-490.0,-490.0,-490.0,-490.0,-490.0,-490.0,-490.0,-490.0,-490.0,-490.0,-490.0,-490.0,-490.0,-490.0,-490.0,-490.0],\"type\":\"scatter3d\"}],                        {\"template\":{\"data\":{\"histogram2dcontour\":[{\"type\":\"histogram2dcontour\",\"colorbar\":{\"outlinewidth\":0,\"ticks\":\"\"},\"colorscale\":[[0.0,\"#0d0887\"],[0.1111111111111111,\"#46039f\"],[0.2222222222222222,\"#7201a8\"],[0.3333333333333333,\"#9c179e\"],[0.4444444444444444,\"#bd3786\"],[0.5555555555555556,\"#d8576b\"],[0.6666666666666666,\"#ed7953\"],[0.7777777777777778,\"#fb9f3a\"],[0.8888888888888888,\"#fdca26\"],[1.0,\"#f0f921\"]]}],\"choropleth\":[{\"type\":\"choropleth\",\"colorbar\":{\"outlinewidth\":0,\"ticks\":\"\"}}],\"histogram2d\":[{\"type\":\"histogram2d\",\"colorbar\":{\"outlinewidth\":0,\"ticks\":\"\"},\"colorscale\":[[0.0,\"#0d0887\"],[0.1111111111111111,\"#46039f\"],[0.2222222222222222,\"#7201a8\"],[0.3333333333333333,\"#9c179e\"],[0.4444444444444444,\"#bd3786\"],[0.5555555555555556,\"#d8576b\"],[0.6666666666666666,\"#ed7953\"],[0.7777777777777778,\"#fb9f3a\"],[0.8888888888888888,\"#fdca26\"],[1.0,\"#f0f921\"]]}],\"heatmap\":[{\"type\":\"heatmap\",\"colorbar\":{\"outlinewidth\":0,\"ticks\":\"\"},\"colorscale\":[[0.0,\"#0d0887\"],[0.1111111111111111,\"#46039f\"],[0.2222222222222222,\"#7201a8\"],[0.3333333333333333,\"#9c179e\"],[0.4444444444444444,\"#bd3786\"],[0.5555555555555556,\"#d8576b\"],[0.6666666666666666,\"#ed7953\"],[0.7777777777777778,\"#fb9f3a\"],[0.8888888888888888,\"#fdca26\"],[1.0,\"#f0f921\"]]}],\"heatmapgl\":[{\"type\":\"heatmapgl\",\"colorbar\":{\"outlinewidth\":0,\"ticks\":\"\"},\"colorscale\":[[0.0,\"#0d0887\"],[0.1111111111111111,\"#46039f\"],[0.2222222222222222,\"#7201a8\"],[0.3333333333333333,\"#9c179e\"],[0.4444444444444444,\"#bd3786\"],[0.5555555555555556,\"#d8576b\"],[0.6666666666666666,\"#ed7953\"],[0.7777777777777778,\"#fb9f3a\"],[0.8888888888888888,\"#fdca26\"],[1.0,\"#f0f921\"]]}],\"contourcarpet\":[{\"type\":\"contourcarpet\",\"colorbar\":{\"outlinewidth\":0,\"ticks\":\"\"}}],\"contour\":[{\"type\":\"contour\",\"colorbar\":{\"outlinewidth\":0,\"ticks\":\"\"},\"colorscale\":[[0.0,\"#0d0887\"],[0.1111111111111111,\"#46039f\"],[0.2222222222222222,\"#7201a8\"],[0.3333333333333333,\"#9c179e\"],[0.4444444444444444,\"#bd3786\"],[0.5555555555555556,\"#d8576b\"],[0.6666666666666666,\"#ed7953\"],[0.7777777777777778,\"#fb9f3a\"],[0.8888888888888888,\"#fdca26\"],[1.0,\"#f0f921\"]]}],\"surface\":[{\"type\":\"surface\",\"colorbar\":{\"outlinewidth\":0,\"ticks\":\"\"},\"colorscale\":[[0.0,\"#0d0887\"],[0.1111111111111111,\"#46039f\"],[0.2222222222222222,\"#7201a8\"],[0.3333333333333333,\"#9c179e\"],[0.4444444444444444,\"#bd3786\"],[0.5555555555555556,\"#d8576b\"],[0.6666666666666666,\"#ed7953\"],[0.7777777777777778,\"#fb9f3a\"],[0.8888888888888888,\"#fdca26\"],[1.0,\"#f0f921\"]]}],\"mesh3d\":[{\"type\":\"mesh3d\",\"colorbar\":{\"outlinewidth\":0,\"ticks\":\"\"}}],\"scatter\":[{\"fillpattern\":{\"fillmode\":\"overlay\",\"size\":10,\"solidity\":0.2},\"type\":\"scatter\"}],\"parcoords\":[{\"type\":\"parcoords\",\"line\":{\"colorbar\":{\"outlinewidth\":0,\"ticks\":\"\"}}}],\"scatterpolargl\":[{\"type\":\"scatterpolargl\",\"marker\":{\"colorbar\":{\"outlinewidth\":0,\"ticks\":\"\"}}}],\"bar\":[{\"error_x\":{\"color\":\"#2a3f5f\"},\"error_y\":{\"color\":\"#2a3f5f\"},\"marker\":{\"line\":{\"color\":\"#E5ECF6\",\"width\":0.5},\"pattern\":{\"fillmode\":\"overlay\",\"size\":10,\"solidity\":0.2}},\"type\":\"bar\"}],\"scattergeo\":[{\"type\":\"scattergeo\",\"marker\":{\"colorbar\":{\"outlinewidth\":0,\"ticks\":\"\"}}}],\"scatterpolar\":[{\"type\":\"scatterpolar\",\"marker\":{\"colorbar\":{\"outlinewidth\":0,\"ticks\":\"\"}}}],\"histogram\":[{\"marker\":{\"pattern\":{\"fillmode\":\"overlay\",\"size\":10,\"solidity\":0.2}},\"type\":\"histogram\"}],\"scattergl\":[{\"type\":\"scattergl\",\"marker\":{\"colorbar\":{\"outlinewidth\":0,\"ticks\":\"\"}}}],\"scatter3d\":[{\"type\":\"scatter3d\",\"line\":{\"colorbar\":{\"outlinewidth\":0,\"ticks\":\"\"}},\"marker\":{\"colorbar\":{\"outlinewidth\":0,\"ticks\":\"\"}}}],\"scattermapbox\":[{\"type\":\"scattermapbox\",\"marker\":{\"colorbar\":{\"outlinewidth\":0,\"ticks\":\"\"}}}],\"scatterternary\":[{\"type\":\"scatterternary\",\"marker\":{\"colorbar\":{\"outlinewidth\":0,\"ticks\":\"\"}}}],\"scattercarpet\":[{\"type\":\"scattercarpet\",\"marker\":{\"colorbar\":{\"outlinewidth\":0,\"ticks\":\"\"}}}],\"carpet\":[{\"aaxis\":{\"endlinecolor\":\"#2a3f5f\",\"gridcolor\":\"white\",\"linecolor\":\"white\",\"minorgridcolor\":\"white\",\"startlinecolor\":\"#2a3f5f\"},\"baxis\":{\"endlinecolor\":\"#2a3f5f\",\"gridcolor\":\"white\",\"linecolor\":\"white\",\"minorgridcolor\":\"white\",\"startlinecolor\":\"#2a3f5f\"},\"type\":\"carpet\"}],\"table\":[{\"cells\":{\"fill\":{\"color\":\"#EBF0F8\"},\"line\":{\"color\":\"white\"}},\"header\":{\"fill\":{\"color\":\"#C8D4E3\"},\"line\":{\"color\":\"white\"}},\"type\":\"table\"}],\"barpolar\":[{\"marker\":{\"line\":{\"color\":\"#E5ECF6\",\"width\":0.5},\"pattern\":{\"fillmode\":\"overlay\",\"size\":10,\"solidity\":0.2}},\"type\":\"barpolar\"}],\"pie\":[{\"automargin\":true,\"type\":\"pie\"}]},\"layout\":{\"autotypenumbers\":\"strict\",\"colorway\":[\"#636efa\",\"#EF553B\",\"#00cc96\",\"#ab63fa\",\"#FFA15A\",\"#19d3f3\",\"#FF6692\",\"#B6E880\",\"#FF97FF\",\"#FECB52\"],\"font\":{\"color\":\"#2a3f5f\"},\"hovermode\":\"closest\",\"hoverlabel\":{\"align\":\"left\"},\"paper_bgcolor\":\"white\",\"plot_bgcolor\":\"#E5ECF6\",\"polar\":{\"bgcolor\":\"#E5ECF6\",\"angularaxis\":{\"gridcolor\":\"white\",\"linecolor\":\"white\",\"ticks\":\"\"},\"radialaxis\":{\"gridcolor\":\"white\",\"linecolor\":\"white\",\"ticks\":\"\"}},\"ternary\":{\"bgcolor\":\"#E5ECF6\",\"aaxis\":{\"gridcolor\":\"white\",\"linecolor\":\"white\",\"ticks\":\"\"},\"baxis\":{\"gridcolor\":\"white\",\"linecolor\":\"white\",\"ticks\":\"\"},\"caxis\":{\"gridcolor\":\"white\",\"linecolor\":\"white\",\"ticks\":\"\"}},\"coloraxis\":{\"colorbar\":{\"outlinewidth\":0,\"ticks\":\"\"}},\"colorscale\":{\"sequential\":[[0.0,\"#0d0887\"],[0.1111111111111111,\"#46039f\"],[0.2222222222222222,\"#7201a8\"],[0.3333333333333333,\"#9c179e\"],[0.4444444444444444,\"#bd3786\"],[0.5555555555555556,\"#d8576b\"],[0.6666666666666666,\"#ed7953\"],[0.7777777777777778,\"#fb9f3a\"],[0.8888888888888888,\"#fdca26\"],[1.0,\"#f0f921\"]],\"sequentialminus\":[[0.0,\"#0d0887\"],[0.1111111111111111,\"#46039f\"],[0.2222222222222222,\"#7201a8\"],[0.3333333333333333,\"#9c179e\"],[0.4444444444444444,\"#bd3786\"],[0.5555555555555556,\"#d8576b\"],[0.6666666666666666,\"#ed7953\"],[0.7777777777777778,\"#fb9f3a\"],[0.8888888888888888,\"#fdca26\"],[1.0,\"#f0f921\"]],\"diverging\":[[0,\"#8e0152\"],[0.1,\"#c51b7d\"],[0.2,\"#de77ae\"],[0.3,\"#f1b6da\"],[0.4,\"#fde0ef\"],[0.5,\"#f7f7f7\"],[0.6,\"#e6f5d0\"],[0.7,\"#b8e186\"],[0.8,\"#7fbc41\"],[0.9,\"#4d9221\"],[1,\"#276419\"]]},\"xaxis\":{\"gridcolor\":\"white\",\"linecolor\":\"white\",\"ticks\":\"\",\"title\":{\"standoff\":15},\"zerolinecolor\":\"white\",\"automargin\":true,\"zerolinewidth\":2},\"yaxis\":{\"gridcolor\":\"white\",\"linecolor\":\"white\",\"ticks\":\"\",\"title\":{\"standoff\":15},\"zerolinecolor\":\"white\",\"automargin\":true,\"zerolinewidth\":2},\"scene\":{\"xaxis\":{\"backgroundcolor\":\"#E5ECF6\",\"gridcolor\":\"white\",\"linecolor\":\"white\",\"showbackground\":true,\"ticks\":\"\",\"zerolinecolor\":\"white\",\"gridwidth\":2},\"yaxis\":{\"backgroundcolor\":\"#E5ECF6\",\"gridcolor\":\"white\",\"linecolor\":\"white\",\"showbackground\":true,\"ticks\":\"\",\"zerolinecolor\":\"white\",\"gridwidth\":2},\"zaxis\":{\"backgroundcolor\":\"#E5ECF6\",\"gridcolor\":\"white\",\"linecolor\":\"white\",\"showbackground\":true,\"ticks\":\"\",\"zerolinecolor\":\"white\",\"gridwidth\":2}},\"shapedefaults\":{\"line\":{\"color\":\"#2a3f5f\"}},\"annotationdefaults\":{\"arrowcolor\":\"#2a3f5f\",\"arrowhead\":0,\"arrowwidth\":1},\"geo\":{\"bgcolor\":\"white\",\"landcolor\":\"#E5ECF6\",\"subunitcolor\":\"white\",\"showland\":true,\"showlakes\":true,\"lakecolor\":\"white\"},\"title\":{\"x\":0.05},\"mapbox\":{\"style\":\"light\"}}},\"scene\":{\"aspectmode\":\"cube\",\"xaxis\":{\"title\":{\"text\":\"x\"}},\"yaxis\":{\"title\":{\"text\":\"y\"}},\"zaxis\":{\"title\":{\"text\":\"z\"}}},\"title\":{\"text\":\"0_31G\"},\"width\":700,\"height\":700},                        {\"responsive\": true}                    ).then(function(){\n                            \nvar gd = document.getElementById('78535625-46cc-4aef-b4bf-ac2f38375555');\nvar x = new MutationObserver(function (mutations, observer) {{\n        var display = window.getComputedStyle(gd).display;\n        if (!display || display === 'none') {{\n            console.log([gd, 'removed!']);\n            Plotly.purge(gd);\n            observer.disconnect();\n        }}\n}});\n\n// Listen for the removal of the full notebook cells\nvar notebookContainer = gd.closest('#notebook-container');\nif (notebookContainer) {{\n    x.observe(notebookContainer, {childList: true});\n}}\n\n// Listen for the clearing of the current output cell\nvar outputEl = gd.closest('.output');\nif (outputEl) {{\n    x.observe(outputEl, {childList: true});\n}}\n\n                        })                };                });            </script>        </div>"
     },
     "metadata": {},
     "output_type": "display_data"
    },
    {
     "data": {
      "application/vnd.plotly.v1+json": {
       "data": [
        {
         "mode": "markers",
         "x": [
          -12.5,
          2.5,
          -27.5,
          17.5,
          -17.5,
          22.5,
          7.5,
          2.5,
          -7.5,
          -22.5,
          2.5,
          17.5,
          -2.5,
          12.5,
          22.5,
          7.5,
          7.5,
          -7.5,
          -2.5,
          -32.5,
          32.5,
          -32.5,
          7.5,
          27.5,
          -12.5,
          17.5,
          17.5,
          -27.5,
          17.5,
          -2.5,
          7.5,
          32.5,
          -27.5,
          2.5,
          27.5,
          32.5,
          -27.5,
          2.5,
          -12.5,
          7.5,
          32.5,
          -7.5,
          17.5,
          -17.5,
          32.5,
          12.5,
          -7.5,
          2.5
         ],
         "y": [
          27.5,
          32.5,
          17.5,
          -27.5,
          -22.5,
          -22.5,
          -32.5,
          -32.5,
          -27.5,
          -22.5,
          -32.5,
          -27.5,
          -32.5,
          -27.5,
          22.5,
          32.5,
          -32.5,
          -27.5,
          32.5,
          -2.5,
          17.5,
          2.5,
          -32.5,
          -17.5,
          -27.5,
          -27.5,
          -22.5,
          -12.5,
          27.5,
          32.5,
          32.5,
          7.5,
          17.5,
          32.5,
          -17.5,
          2.5,
          -2.5,
          32.5,
          27.5,
          -32.5,
          -7.5,
          -27.5,
          -27.5,
          -22.5,
          -2.5,
          32.5,
          -27.5,
          2.5
         ],
         "type": "scatter"
        }
       ],
       "layout": {
        "template": {
         "data": {
          "histogram2dcontour": [
           {
            "type": "histogram2dcontour",
            "colorbar": {
             "outlinewidth": 0,
             "ticks": ""
            },
            "colorscale": [
             [
              0.0,
              "#0d0887"
             ],
             [
              0.1111111111111111,
              "#46039f"
             ],
             [
              0.2222222222222222,
              "#7201a8"
             ],
             [
              0.3333333333333333,
              "#9c179e"
             ],
             [
              0.4444444444444444,
              "#bd3786"
             ],
             [
              0.5555555555555556,
              "#d8576b"
             ],
             [
              0.6666666666666666,
              "#ed7953"
             ],
             [
              0.7777777777777778,
              "#fb9f3a"
             ],
             [
              0.8888888888888888,
              "#fdca26"
             ],
             [
              1.0,
              "#f0f921"
             ]
            ]
           }
          ],
          "choropleth": [
           {
            "type": "choropleth",
            "colorbar": {
             "outlinewidth": 0,
             "ticks": ""
            }
           }
          ],
          "histogram2d": [
           {
            "type": "histogram2d",
            "colorbar": {
             "outlinewidth": 0,
             "ticks": ""
            },
            "colorscale": [
             [
              0.0,
              "#0d0887"
             ],
             [
              0.1111111111111111,
              "#46039f"
             ],
             [
              0.2222222222222222,
              "#7201a8"
             ],
             [
              0.3333333333333333,
              "#9c179e"
             ],
             [
              0.4444444444444444,
              "#bd3786"
             ],
             [
              0.5555555555555556,
              "#d8576b"
             ],
             [
              0.6666666666666666,
              "#ed7953"
             ],
             [
              0.7777777777777778,
              "#fb9f3a"
             ],
             [
              0.8888888888888888,
              "#fdca26"
             ],
             [
              1.0,
              "#f0f921"
             ]
            ]
           }
          ],
          "heatmap": [
           {
            "type": "heatmap",
            "colorbar": {
             "outlinewidth": 0,
             "ticks": ""
            },
            "colorscale": [
             [
              0.0,
              "#0d0887"
             ],
             [
              0.1111111111111111,
              "#46039f"
             ],
             [
              0.2222222222222222,
              "#7201a8"
             ],
             [
              0.3333333333333333,
              "#9c179e"
             ],
             [
              0.4444444444444444,
              "#bd3786"
             ],
             [
              0.5555555555555556,
              "#d8576b"
             ],
             [
              0.6666666666666666,
              "#ed7953"
             ],
             [
              0.7777777777777778,
              "#fb9f3a"
             ],
             [
              0.8888888888888888,
              "#fdca26"
             ],
             [
              1.0,
              "#f0f921"
             ]
            ]
           }
          ],
          "heatmapgl": [
           {
            "type": "heatmapgl",
            "colorbar": {
             "outlinewidth": 0,
             "ticks": ""
            },
            "colorscale": [
             [
              0.0,
              "#0d0887"
             ],
             [
              0.1111111111111111,
              "#46039f"
             ],
             [
              0.2222222222222222,
              "#7201a8"
             ],
             [
              0.3333333333333333,
              "#9c179e"
             ],
             [
              0.4444444444444444,
              "#bd3786"
             ],
             [
              0.5555555555555556,
              "#d8576b"
             ],
             [
              0.6666666666666666,
              "#ed7953"
             ],
             [
              0.7777777777777778,
              "#fb9f3a"
             ],
             [
              0.8888888888888888,
              "#fdca26"
             ],
             [
              1.0,
              "#f0f921"
             ]
            ]
           }
          ],
          "contourcarpet": [
           {
            "type": "contourcarpet",
            "colorbar": {
             "outlinewidth": 0,
             "ticks": ""
            }
           }
          ],
          "contour": [
           {
            "type": "contour",
            "colorbar": {
             "outlinewidth": 0,
             "ticks": ""
            },
            "colorscale": [
             [
              0.0,
              "#0d0887"
             ],
             [
              0.1111111111111111,
              "#46039f"
             ],
             [
              0.2222222222222222,
              "#7201a8"
             ],
             [
              0.3333333333333333,
              "#9c179e"
             ],
             [
              0.4444444444444444,
              "#bd3786"
             ],
             [
              0.5555555555555556,
              "#d8576b"
             ],
             [
              0.6666666666666666,
              "#ed7953"
             ],
             [
              0.7777777777777778,
              "#fb9f3a"
             ],
             [
              0.8888888888888888,
              "#fdca26"
             ],
             [
              1.0,
              "#f0f921"
             ]
            ]
           }
          ],
          "surface": [
           {
            "type": "surface",
            "colorbar": {
             "outlinewidth": 0,
             "ticks": ""
            },
            "colorscale": [
             [
              0.0,
              "#0d0887"
             ],
             [
              0.1111111111111111,
              "#46039f"
             ],
             [
              0.2222222222222222,
              "#7201a8"
             ],
             [
              0.3333333333333333,
              "#9c179e"
             ],
             [
              0.4444444444444444,
              "#bd3786"
             ],
             [
              0.5555555555555556,
              "#d8576b"
             ],
             [
              0.6666666666666666,
              "#ed7953"
             ],
             [
              0.7777777777777778,
              "#fb9f3a"
             ],
             [
              0.8888888888888888,
              "#fdca26"
             ],
             [
              1.0,
              "#f0f921"
             ]
            ]
           }
          ],
          "mesh3d": [
           {
            "type": "mesh3d",
            "colorbar": {
             "outlinewidth": 0,
             "ticks": ""
            }
           }
          ],
          "scatter": [
           {
            "fillpattern": {
             "fillmode": "overlay",
             "size": 10,
             "solidity": 0.2
            },
            "type": "scatter"
           }
          ],
          "parcoords": [
           {
            "type": "parcoords",
            "line": {
             "colorbar": {
              "outlinewidth": 0,
              "ticks": ""
             }
            }
           }
          ],
          "scatterpolargl": [
           {
            "type": "scatterpolargl",
            "marker": {
             "colorbar": {
              "outlinewidth": 0,
              "ticks": ""
             }
            }
           }
          ],
          "bar": [
           {
            "error_x": {
             "color": "#2a3f5f"
            },
            "error_y": {
             "color": "#2a3f5f"
            },
            "marker": {
             "line": {
              "color": "#E5ECF6",
              "width": 0.5
             },
             "pattern": {
              "fillmode": "overlay",
              "size": 10,
              "solidity": 0.2
             }
            },
            "type": "bar"
           }
          ],
          "scattergeo": [
           {
            "type": "scattergeo",
            "marker": {
             "colorbar": {
              "outlinewidth": 0,
              "ticks": ""
             }
            }
           }
          ],
          "scatterpolar": [
           {
            "type": "scatterpolar",
            "marker": {
             "colorbar": {
              "outlinewidth": 0,
              "ticks": ""
             }
            }
           }
          ],
          "histogram": [
           {
            "marker": {
             "pattern": {
              "fillmode": "overlay",
              "size": 10,
              "solidity": 0.2
             }
            },
            "type": "histogram"
           }
          ],
          "scattergl": [
           {
            "type": "scattergl",
            "marker": {
             "colorbar": {
              "outlinewidth": 0,
              "ticks": ""
             }
            }
           }
          ],
          "scatter3d": [
           {
            "type": "scatter3d",
            "line": {
             "colorbar": {
              "outlinewidth": 0,
              "ticks": ""
             }
            },
            "marker": {
             "colorbar": {
              "outlinewidth": 0,
              "ticks": ""
             }
            }
           }
          ],
          "scattermapbox": [
           {
            "type": "scattermapbox",
            "marker": {
             "colorbar": {
              "outlinewidth": 0,
              "ticks": ""
             }
            }
           }
          ],
          "scatterternary": [
           {
            "type": "scatterternary",
            "marker": {
             "colorbar": {
              "outlinewidth": 0,
              "ticks": ""
             }
            }
           }
          ],
          "scattercarpet": [
           {
            "type": "scattercarpet",
            "marker": {
             "colorbar": {
              "outlinewidth": 0,
              "ticks": ""
             }
            }
           }
          ],
          "carpet": [
           {
            "aaxis": {
             "endlinecolor": "#2a3f5f",
             "gridcolor": "white",
             "linecolor": "white",
             "minorgridcolor": "white",
             "startlinecolor": "#2a3f5f"
            },
            "baxis": {
             "endlinecolor": "#2a3f5f",
             "gridcolor": "white",
             "linecolor": "white",
             "minorgridcolor": "white",
             "startlinecolor": "#2a3f5f"
            },
            "type": "carpet"
           }
          ],
          "table": [
           {
            "cells": {
             "fill": {
              "color": "#EBF0F8"
             },
             "line": {
              "color": "white"
             }
            },
            "header": {
             "fill": {
              "color": "#C8D4E3"
             },
             "line": {
              "color": "white"
             }
            },
            "type": "table"
           }
          ],
          "barpolar": [
           {
            "marker": {
             "line": {
              "color": "#E5ECF6",
              "width": 0.5
             },
             "pattern": {
              "fillmode": "overlay",
              "size": 10,
              "solidity": 0.2
             }
            },
            "type": "barpolar"
           }
          ],
          "pie": [
           {
            "automargin": true,
            "type": "pie"
           }
          ]
         },
         "layout": {
          "autotypenumbers": "strict",
          "colorway": [
           "#636efa",
           "#EF553B",
           "#00cc96",
           "#ab63fa",
           "#FFA15A",
           "#19d3f3",
           "#FF6692",
           "#B6E880",
           "#FF97FF",
           "#FECB52"
          ],
          "font": {
           "color": "#2a3f5f"
          },
          "hovermode": "closest",
          "hoverlabel": {
           "align": "left"
          },
          "paper_bgcolor": "white",
          "plot_bgcolor": "#E5ECF6",
          "polar": {
           "bgcolor": "#E5ECF6",
           "angularaxis": {
            "gridcolor": "white",
            "linecolor": "white",
            "ticks": ""
           },
           "radialaxis": {
            "gridcolor": "white",
            "linecolor": "white",
            "ticks": ""
           }
          },
          "ternary": {
           "bgcolor": "#E5ECF6",
           "aaxis": {
            "gridcolor": "white",
            "linecolor": "white",
            "ticks": ""
           },
           "baxis": {
            "gridcolor": "white",
            "linecolor": "white",
            "ticks": ""
           },
           "caxis": {
            "gridcolor": "white",
            "linecolor": "white",
            "ticks": ""
           }
          },
          "coloraxis": {
           "colorbar": {
            "outlinewidth": 0,
            "ticks": ""
           }
          },
          "colorscale": {
           "sequential": [
            [
             0.0,
             "#0d0887"
            ],
            [
             0.1111111111111111,
             "#46039f"
            ],
            [
             0.2222222222222222,
             "#7201a8"
            ],
            [
             0.3333333333333333,
             "#9c179e"
            ],
            [
             0.4444444444444444,
             "#bd3786"
            ],
            [
             0.5555555555555556,
             "#d8576b"
            ],
            [
             0.6666666666666666,
             "#ed7953"
            ],
            [
             0.7777777777777778,
             "#fb9f3a"
            ],
            [
             0.8888888888888888,
             "#fdca26"
            ],
            [
             1.0,
             "#f0f921"
            ]
           ],
           "sequentialminus": [
            [
             0.0,
             "#0d0887"
            ],
            [
             0.1111111111111111,
             "#46039f"
            ],
            [
             0.2222222222222222,
             "#7201a8"
            ],
            [
             0.3333333333333333,
             "#9c179e"
            ],
            [
             0.4444444444444444,
             "#bd3786"
            ],
            [
             0.5555555555555556,
             "#d8576b"
            ],
            [
             0.6666666666666666,
             "#ed7953"
            ],
            [
             0.7777777777777778,
             "#fb9f3a"
            ],
            [
             0.8888888888888888,
             "#fdca26"
            ],
            [
             1.0,
             "#f0f921"
            ]
           ],
           "diverging": [
            [
             0,
             "#8e0152"
            ],
            [
             0.1,
             "#c51b7d"
            ],
            [
             0.2,
             "#de77ae"
            ],
            [
             0.3,
             "#f1b6da"
            ],
            [
             0.4,
             "#fde0ef"
            ],
            [
             0.5,
             "#f7f7f7"
            ],
            [
             0.6,
             "#e6f5d0"
            ],
            [
             0.7,
             "#b8e186"
            ],
            [
             0.8,
             "#7fbc41"
            ],
            [
             0.9,
             "#4d9221"
            ],
            [
             1,
             "#276419"
            ]
           ]
          },
          "xaxis": {
           "gridcolor": "white",
           "linecolor": "white",
           "ticks": "",
           "title": {
            "standoff": 15
           },
           "zerolinecolor": "white",
           "automargin": true,
           "zerolinewidth": 2
          },
          "yaxis": {
           "gridcolor": "white",
           "linecolor": "white",
           "ticks": "",
           "title": {
            "standoff": 15
           },
           "zerolinecolor": "white",
           "automargin": true,
           "zerolinewidth": 2
          },
          "scene": {
           "xaxis": {
            "backgroundcolor": "#E5ECF6",
            "gridcolor": "white",
            "linecolor": "white",
            "showbackground": true,
            "ticks": "",
            "zerolinecolor": "white",
            "gridwidth": 2
           },
           "yaxis": {
            "backgroundcolor": "#E5ECF6",
            "gridcolor": "white",
            "linecolor": "white",
            "showbackground": true,
            "ticks": "",
            "zerolinecolor": "white",
            "gridwidth": 2
           },
           "zaxis": {
            "backgroundcolor": "#E5ECF6",
            "gridcolor": "white",
            "linecolor": "white",
            "showbackground": true,
            "ticks": "",
            "zerolinecolor": "white",
            "gridwidth": 2
           }
          },
          "shapedefaults": {
           "line": {
            "color": "#2a3f5f"
           }
          },
          "annotationdefaults": {
           "arrowcolor": "#2a3f5f",
           "arrowhead": 0,
           "arrowwidth": 1
          },
          "geo": {
           "bgcolor": "white",
           "landcolor": "#E5ECF6",
           "subunitcolor": "white",
           "showland": true,
           "showlakes": true,
           "lakecolor": "white"
          },
          "title": {
           "x": 0.05
          },
          "mapbox": {
           "style": "light"
          }
         }
        },
        "title": {
         "text": "0_32G"
        },
        "xaxis": {
         "title": {
          "text": "x"
         },
         "showgrid": true,
         "zeroline": true,
         "showline": true,
         "showticklabels": true,
         "scaleratio": 1
        },
        "yaxis": {
         "title": {
          "text": "y"
         },
         "showgrid": true,
         "zeroline": true,
         "showline": true,
         "showticklabels": true,
         "scaleratio": 1
        },
        "margin": {
         "l": 50,
         "r": 50,
         "b": 100,
         "t": 100,
         "pad": 4
        },
        "width": 500,
        "height": 500
       },
       "config": {
        "plotlyServerURL": "https://plot.ly"
       }
      },
      "text/html": "<div>                            <div id=\"24bdd967-6f09-45ed-92ab-92e283195078\" class=\"plotly-graph-div\" style=\"height:500px; width:500px;\"></div>            <script type=\"text/javascript\">                require([\"plotly\"], function(Plotly) {                    window.PLOTLYENV=window.PLOTLYENV || {};                                    if (document.getElementById(\"24bdd967-6f09-45ed-92ab-92e283195078\")) {                    Plotly.newPlot(                        \"24bdd967-6f09-45ed-92ab-92e283195078\",                        [{\"mode\":\"markers\",\"x\":[-12.5,2.5,-27.5,17.5,-17.5,22.5,7.5,2.5,-7.5,-22.5,2.5,17.5,-2.5,12.5,22.5,7.5,7.5,-7.5,-2.5,-32.5,32.5,-32.5,7.5,27.5,-12.5,17.5,17.5,-27.5,17.5,-2.5,7.5,32.5,-27.5,2.5,27.5,32.5,-27.5,2.5,-12.5,7.5,32.5,-7.5,17.5,-17.5,32.5,12.5,-7.5,2.5],\"y\":[27.5,32.5,17.5,-27.5,-22.5,-22.5,-32.5,-32.5,-27.5,-22.5,-32.5,-27.5,-32.5,-27.5,22.5,32.5,-32.5,-27.5,32.5,-2.5,17.5,2.5,-32.5,-17.5,-27.5,-27.5,-22.5,-12.5,27.5,32.5,32.5,7.5,17.5,32.5,-17.5,2.5,-2.5,32.5,27.5,-32.5,-7.5,-27.5,-27.5,-22.5,-2.5,32.5,-27.5,2.5],\"type\":\"scatter\"}],                        {\"template\":{\"data\":{\"histogram2dcontour\":[{\"type\":\"histogram2dcontour\",\"colorbar\":{\"outlinewidth\":0,\"ticks\":\"\"},\"colorscale\":[[0.0,\"#0d0887\"],[0.1111111111111111,\"#46039f\"],[0.2222222222222222,\"#7201a8\"],[0.3333333333333333,\"#9c179e\"],[0.4444444444444444,\"#bd3786\"],[0.5555555555555556,\"#d8576b\"],[0.6666666666666666,\"#ed7953\"],[0.7777777777777778,\"#fb9f3a\"],[0.8888888888888888,\"#fdca26\"],[1.0,\"#f0f921\"]]}],\"choropleth\":[{\"type\":\"choropleth\",\"colorbar\":{\"outlinewidth\":0,\"ticks\":\"\"}}],\"histogram2d\":[{\"type\":\"histogram2d\",\"colorbar\":{\"outlinewidth\":0,\"ticks\":\"\"},\"colorscale\":[[0.0,\"#0d0887\"],[0.1111111111111111,\"#46039f\"],[0.2222222222222222,\"#7201a8\"],[0.3333333333333333,\"#9c179e\"],[0.4444444444444444,\"#bd3786\"],[0.5555555555555556,\"#d8576b\"],[0.6666666666666666,\"#ed7953\"],[0.7777777777777778,\"#fb9f3a\"],[0.8888888888888888,\"#fdca26\"],[1.0,\"#f0f921\"]]}],\"heatmap\":[{\"type\":\"heatmap\",\"colorbar\":{\"outlinewidth\":0,\"ticks\":\"\"},\"colorscale\":[[0.0,\"#0d0887\"],[0.1111111111111111,\"#46039f\"],[0.2222222222222222,\"#7201a8\"],[0.3333333333333333,\"#9c179e\"],[0.4444444444444444,\"#bd3786\"],[0.5555555555555556,\"#d8576b\"],[0.6666666666666666,\"#ed7953\"],[0.7777777777777778,\"#fb9f3a\"],[0.8888888888888888,\"#fdca26\"],[1.0,\"#f0f921\"]]}],\"heatmapgl\":[{\"type\":\"heatmapgl\",\"colorbar\":{\"outlinewidth\":0,\"ticks\":\"\"},\"colorscale\":[[0.0,\"#0d0887\"],[0.1111111111111111,\"#46039f\"],[0.2222222222222222,\"#7201a8\"],[0.3333333333333333,\"#9c179e\"],[0.4444444444444444,\"#bd3786\"],[0.5555555555555556,\"#d8576b\"],[0.6666666666666666,\"#ed7953\"],[0.7777777777777778,\"#fb9f3a\"],[0.8888888888888888,\"#fdca26\"],[1.0,\"#f0f921\"]]}],\"contourcarpet\":[{\"type\":\"contourcarpet\",\"colorbar\":{\"outlinewidth\":0,\"ticks\":\"\"}}],\"contour\":[{\"type\":\"contour\",\"colorbar\":{\"outlinewidth\":0,\"ticks\":\"\"},\"colorscale\":[[0.0,\"#0d0887\"],[0.1111111111111111,\"#46039f\"],[0.2222222222222222,\"#7201a8\"],[0.3333333333333333,\"#9c179e\"],[0.4444444444444444,\"#bd3786\"],[0.5555555555555556,\"#d8576b\"],[0.6666666666666666,\"#ed7953\"],[0.7777777777777778,\"#fb9f3a\"],[0.8888888888888888,\"#fdca26\"],[1.0,\"#f0f921\"]]}],\"surface\":[{\"type\":\"surface\",\"colorbar\":{\"outlinewidth\":0,\"ticks\":\"\"},\"colorscale\":[[0.0,\"#0d0887\"],[0.1111111111111111,\"#46039f\"],[0.2222222222222222,\"#7201a8\"],[0.3333333333333333,\"#9c179e\"],[0.4444444444444444,\"#bd3786\"],[0.5555555555555556,\"#d8576b\"],[0.6666666666666666,\"#ed7953\"],[0.7777777777777778,\"#fb9f3a\"],[0.8888888888888888,\"#fdca26\"],[1.0,\"#f0f921\"]]}],\"mesh3d\":[{\"type\":\"mesh3d\",\"colorbar\":{\"outlinewidth\":0,\"ticks\":\"\"}}],\"scatter\":[{\"fillpattern\":{\"fillmode\":\"overlay\",\"size\":10,\"solidity\":0.2},\"type\":\"scatter\"}],\"parcoords\":[{\"type\":\"parcoords\",\"line\":{\"colorbar\":{\"outlinewidth\":0,\"ticks\":\"\"}}}],\"scatterpolargl\":[{\"type\":\"scatterpolargl\",\"marker\":{\"colorbar\":{\"outlinewidth\":0,\"ticks\":\"\"}}}],\"bar\":[{\"error_x\":{\"color\":\"#2a3f5f\"},\"error_y\":{\"color\":\"#2a3f5f\"},\"marker\":{\"line\":{\"color\":\"#E5ECF6\",\"width\":0.5},\"pattern\":{\"fillmode\":\"overlay\",\"size\":10,\"solidity\":0.2}},\"type\":\"bar\"}],\"scattergeo\":[{\"type\":\"scattergeo\",\"marker\":{\"colorbar\":{\"outlinewidth\":0,\"ticks\":\"\"}}}],\"scatterpolar\":[{\"type\":\"scatterpolar\",\"marker\":{\"colorbar\":{\"outlinewidth\":0,\"ticks\":\"\"}}}],\"histogram\":[{\"marker\":{\"pattern\":{\"fillmode\":\"overlay\",\"size\":10,\"solidity\":0.2}},\"type\":\"histogram\"}],\"scattergl\":[{\"type\":\"scattergl\",\"marker\":{\"colorbar\":{\"outlinewidth\":0,\"ticks\":\"\"}}}],\"scatter3d\":[{\"type\":\"scatter3d\",\"line\":{\"colorbar\":{\"outlinewidth\":0,\"ticks\":\"\"}},\"marker\":{\"colorbar\":{\"outlinewidth\":0,\"ticks\":\"\"}}}],\"scattermapbox\":[{\"type\":\"scattermapbox\",\"marker\":{\"colorbar\":{\"outlinewidth\":0,\"ticks\":\"\"}}}],\"scatterternary\":[{\"type\":\"scatterternary\",\"marker\":{\"colorbar\":{\"outlinewidth\":0,\"ticks\":\"\"}}}],\"scattercarpet\":[{\"type\":\"scattercarpet\",\"marker\":{\"colorbar\":{\"outlinewidth\":0,\"ticks\":\"\"}}}],\"carpet\":[{\"aaxis\":{\"endlinecolor\":\"#2a3f5f\",\"gridcolor\":\"white\",\"linecolor\":\"white\",\"minorgridcolor\":\"white\",\"startlinecolor\":\"#2a3f5f\"},\"baxis\":{\"endlinecolor\":\"#2a3f5f\",\"gridcolor\":\"white\",\"linecolor\":\"white\",\"minorgridcolor\":\"white\",\"startlinecolor\":\"#2a3f5f\"},\"type\":\"carpet\"}],\"table\":[{\"cells\":{\"fill\":{\"color\":\"#EBF0F8\"},\"line\":{\"color\":\"white\"}},\"header\":{\"fill\":{\"color\":\"#C8D4E3\"},\"line\":{\"color\":\"white\"}},\"type\":\"table\"}],\"barpolar\":[{\"marker\":{\"line\":{\"color\":\"#E5ECF6\",\"width\":0.5},\"pattern\":{\"fillmode\":\"overlay\",\"size\":10,\"solidity\":0.2}},\"type\":\"barpolar\"}],\"pie\":[{\"automargin\":true,\"type\":\"pie\"}]},\"layout\":{\"autotypenumbers\":\"strict\",\"colorway\":[\"#636efa\",\"#EF553B\",\"#00cc96\",\"#ab63fa\",\"#FFA15A\",\"#19d3f3\",\"#FF6692\",\"#B6E880\",\"#FF97FF\",\"#FECB52\"],\"font\":{\"color\":\"#2a3f5f\"},\"hovermode\":\"closest\",\"hoverlabel\":{\"align\":\"left\"},\"paper_bgcolor\":\"white\",\"plot_bgcolor\":\"#E5ECF6\",\"polar\":{\"bgcolor\":\"#E5ECF6\",\"angularaxis\":{\"gridcolor\":\"white\",\"linecolor\":\"white\",\"ticks\":\"\"},\"radialaxis\":{\"gridcolor\":\"white\",\"linecolor\":\"white\",\"ticks\":\"\"}},\"ternary\":{\"bgcolor\":\"#E5ECF6\",\"aaxis\":{\"gridcolor\":\"white\",\"linecolor\":\"white\",\"ticks\":\"\"},\"baxis\":{\"gridcolor\":\"white\",\"linecolor\":\"white\",\"ticks\":\"\"},\"caxis\":{\"gridcolor\":\"white\",\"linecolor\":\"white\",\"ticks\":\"\"}},\"coloraxis\":{\"colorbar\":{\"outlinewidth\":0,\"ticks\":\"\"}},\"colorscale\":{\"sequential\":[[0.0,\"#0d0887\"],[0.1111111111111111,\"#46039f\"],[0.2222222222222222,\"#7201a8\"],[0.3333333333333333,\"#9c179e\"],[0.4444444444444444,\"#bd3786\"],[0.5555555555555556,\"#d8576b\"],[0.6666666666666666,\"#ed7953\"],[0.7777777777777778,\"#fb9f3a\"],[0.8888888888888888,\"#fdca26\"],[1.0,\"#f0f921\"]],\"sequentialminus\":[[0.0,\"#0d0887\"],[0.1111111111111111,\"#46039f\"],[0.2222222222222222,\"#7201a8\"],[0.3333333333333333,\"#9c179e\"],[0.4444444444444444,\"#bd3786\"],[0.5555555555555556,\"#d8576b\"],[0.6666666666666666,\"#ed7953\"],[0.7777777777777778,\"#fb9f3a\"],[0.8888888888888888,\"#fdca26\"],[1.0,\"#f0f921\"]],\"diverging\":[[0,\"#8e0152\"],[0.1,\"#c51b7d\"],[0.2,\"#de77ae\"],[0.3,\"#f1b6da\"],[0.4,\"#fde0ef\"],[0.5,\"#f7f7f7\"],[0.6,\"#e6f5d0\"],[0.7,\"#b8e186\"],[0.8,\"#7fbc41\"],[0.9,\"#4d9221\"],[1,\"#276419\"]]},\"xaxis\":{\"gridcolor\":\"white\",\"linecolor\":\"white\",\"ticks\":\"\",\"title\":{\"standoff\":15},\"zerolinecolor\":\"white\",\"automargin\":true,\"zerolinewidth\":2},\"yaxis\":{\"gridcolor\":\"white\",\"linecolor\":\"white\",\"ticks\":\"\",\"title\":{\"standoff\":15},\"zerolinecolor\":\"white\",\"automargin\":true,\"zerolinewidth\":2},\"scene\":{\"xaxis\":{\"backgroundcolor\":\"#E5ECF6\",\"gridcolor\":\"white\",\"linecolor\":\"white\",\"showbackground\":true,\"ticks\":\"\",\"zerolinecolor\":\"white\",\"gridwidth\":2},\"yaxis\":{\"backgroundcolor\":\"#E5ECF6\",\"gridcolor\":\"white\",\"linecolor\":\"white\",\"showbackground\":true,\"ticks\":\"\",\"zerolinecolor\":\"white\",\"gridwidth\":2},\"zaxis\":{\"backgroundcolor\":\"#E5ECF6\",\"gridcolor\":\"white\",\"linecolor\":\"white\",\"showbackground\":true,\"ticks\":\"\",\"zerolinecolor\":\"white\",\"gridwidth\":2}},\"shapedefaults\":{\"line\":{\"color\":\"#2a3f5f\"}},\"annotationdefaults\":{\"arrowcolor\":\"#2a3f5f\",\"arrowhead\":0,\"arrowwidth\":1},\"geo\":{\"bgcolor\":\"white\",\"landcolor\":\"#E5ECF6\",\"subunitcolor\":\"white\",\"showland\":true,\"showlakes\":true,\"lakecolor\":\"white\"},\"title\":{\"x\":0.05},\"mapbox\":{\"style\":\"light\"}}},\"title\":{\"text\":\"0_32G\"},\"xaxis\":{\"title\":{\"text\":\"x\"},\"showgrid\":true,\"zeroline\":true,\"showline\":true,\"showticklabels\":true,\"scaleratio\":1},\"yaxis\":{\"title\":{\"text\":\"y\"},\"showgrid\":true,\"zeroline\":true,\"showline\":true,\"showticklabels\":true,\"scaleratio\":1},\"margin\":{\"l\":50,\"r\":50,\"b\":100,\"t\":100,\"pad\":4},\"width\":500,\"height\":500},                        {\"responsive\": true}                    ).then(function(){\n                            \nvar gd = document.getElementById('24bdd967-6f09-45ed-92ab-92e283195078');\nvar x = new MutationObserver(function (mutations, observer) {{\n        var display = window.getComputedStyle(gd).display;\n        if (!display || display === 'none') {{\n            console.log([gd, 'removed!']);\n            Plotly.purge(gd);\n            observer.disconnect();\n        }}\n}});\n\n// Listen for the removal of the full notebook cells\nvar notebookContainer = gd.closest('#notebook-container');\nif (notebookContainer) {{\n    x.observe(notebookContainer, {childList: true});\n}}\n\n// Listen for the clearing of the current output cell\nvar outputEl = gd.closest('.output');\nif (outputEl) {{\n    x.observe(outputEl, {childList: true});\n}}\n\n                        })                };                });            </script>        </div>"
     },
     "metadata": {},
     "output_type": "display_data"
    },
    {
     "data": {
      "application/vnd.plotly.v1+json": {
       "data": [
        {
         "mode": "markers",
         "x": [
          112.5,
          37.5,
          -102.5,
          112.5,
          57.5,
          87.5,
          17.5,
          -27.5,
          -87.5,
          17.5,
          107.5,
          67.5,
          -102.5,
          -112.5,
          -102.5,
          -72.5,
          -102.5,
          67.5,
          -112.5,
          -92.5,
          -97.5,
          -27.5,
          112.5,
          -22.5,
          47.5,
          67.5,
          -82.5,
          -112.5,
          -17.5,
          67.5,
          -27.5,
          107.5,
          107.5,
          112.5,
          112.5,
          32.5,
          102.5,
          57.5,
          7.5,
          -12.5,
          72.5,
          -102.5,
          112.5,
          -7.5,
          -97.5,
          -37.5,
          77.5,
          -97.5,
          -97.5,
          -37.5,
          -97.5,
          112.5,
          12.5,
          -62.5,
          -17.5,
          -87.5,
          -107.5,
          87.5,
          112.5,
          112.5,
          -7.5,
          22.5,
          62.5,
          92.5,
          -82.5,
          87.5,
          112.5,
          52.5,
          -62.5,
          -62.5,
          -92.5,
          -37.5,
          -2.5,
          27.5,
          92.5,
          -72.5,
          107.5,
          -102.5,
          -57.5,
          92.5,
          107.5,
          37.5,
          102.5,
          -72.5,
          52.5,
          -102.5,
          -97.5,
          -62.5,
          -42.5,
          -107.5,
          -57.5,
          92.5,
          72.5,
          62.5,
          -42.5,
          -32.5,
          -107.5,
          72.5,
          -62.5,
          102.5,
          -17.5,
          -87.5,
          107.5,
          82.5,
          2.5,
          62.5,
          -52.5,
          2.5,
          32.5,
          107.5,
          -97.5,
          -12.5,
          107.5,
          67.5,
          27.5,
          82.5,
          87.5,
          -107.5,
          -112.5,
          112.5,
          -57.5,
          -72.5,
          102.5,
          92.5,
          47.5,
          -112.5,
          -12.5,
          107.5,
          97.5,
          72.5,
          -12.5,
          12.5,
          -7.5,
          97.5,
          -67.5,
          -7.5,
          -97.5,
          -107.5,
          67.5,
          112.5,
          -62.5,
          -102.5,
          -42.5,
          -52.5,
          107.5,
          -92.5,
          97.5,
          42.5,
          -87.5,
          47.5,
          -62.5,
          67.5,
          87.5,
          -92.5,
          -62.5,
          107.5,
          102.5,
          112.5,
          -37.5,
          107.5,
          92.5,
          12.5,
          87.5,
          -97.5,
          -97.5,
          -112.5,
          -12.5,
          37.5,
          37.5,
          112.5,
          97.5,
          77.5,
          -37.5,
          82.5,
          -77.5,
          52.5,
          92.5,
          87.5,
          -62.5,
          -107.5,
          32.5,
          52.5,
          72.5,
          42.5,
          107.5,
          107.5,
          -97.5,
          97.5,
          107.5,
          -32.5,
          62.5,
          -17.5,
          97.5,
          87.5,
          2.5,
          57.5,
          -92.5,
          -82.5,
          -107.5,
          -102.5,
          -97.5,
          22.5,
          97.5,
          87.5,
          -37.5,
          -92.5,
          -107.5,
          -107.5,
          107.5,
          -62.5,
          2.5,
          -47.5,
          107.5,
          52.5,
          -97.5,
          -17.5,
          37.5,
          -107.5,
          -87.5,
          112.5,
          7.5,
          -102.5,
          107.5,
          -92.5,
          -2.5,
          97.5,
          102.5,
          -37.5,
          92.5,
          -22.5,
          112.5,
          107.5,
          -12.5,
          -17.5,
          47.5,
          -97.5,
          -97.5,
          37.5,
          -77.5,
          -102.5,
          -67.5,
          37.5,
          2.5,
          87.5,
          -77.5,
          22.5,
          12.5,
          12.5,
          -77.5,
          -102.5,
          -32.5,
          52.5,
          97.5,
          82.5,
          -7.5,
          107.5,
          107.5,
          47.5,
          -92.5,
          112.5,
          17.5,
          -102.5,
          -67.5,
          -27.5,
          67.5,
          -82.5,
          82.5,
          -2.5,
          42.5,
          107.5,
          -102.5,
          97.5,
          37.5,
          107.5,
          2.5,
          82.5,
          -102.5,
          112.5,
          -67.5,
          72.5,
          102.5,
          27.5,
          92.5,
          47.5,
          -102.5,
          -67.5,
          72.5,
          47.5,
          57.5,
          -47.5,
          97.5,
          -87.5,
          57.5,
          92.5,
          62.5,
          -72.5,
          97.5,
          77.5,
          62.5,
          57.5,
          22.5,
          52.5,
          -72.5,
          -102.5,
          27.5,
          32.5,
          -32.5,
          -7.5,
          -107.5,
          102.5,
          -72.5,
          92.5,
          22.5,
          67.5,
          -97.5,
          42.5,
          92.5,
          -92.5,
          37.5,
          42.5,
          102.5,
          72.5,
          77.5,
          17.5,
          97.5,
          -22.5,
          62.5,
          107.5,
          52.5,
          -87.5,
          2.5,
          -72.5,
          67.5,
          -2.5,
          -37.5,
          87.5,
          -82.5,
          57.5,
          47.5,
          -97.5,
          102.5,
          12.5,
          22.5,
          -47.5,
          -102.5,
          107.5,
          37.5,
          57.5,
          102.5,
          107.5,
          102.5,
          42.5,
          -92.5,
          -57.5,
          -62.5,
          27.5,
          -82.5,
          -42.5,
          -32.5,
          107.5,
          -92.5,
          -92.5,
          -17.5,
          87.5,
          -82.5,
          92.5,
          82.5,
          57.5,
          -77.5,
          -97.5,
          47.5,
          -87.5,
          -102.5,
          -12.5,
          -107.5,
          37.5,
          97.5,
          -97.5,
          -107.5,
          -27.5,
          102.5,
          -67.5,
          107.5,
          -97.5,
          -62.5,
          -42.5,
          27.5,
          107.5,
          -107.5,
          -47.5,
          -32.5,
          12.5,
          97.5,
          -97.5,
          87.5,
          62.5,
          -87.5,
          -102.5,
          102.5,
          107.5,
          17.5,
          32.5,
          107.5,
          57.5,
          72.5,
          -37.5,
          92.5,
          -27.5,
          27.5,
          -72.5,
          -42.5,
          72.5,
          107.5,
          97.5,
          -77.5,
          -92.5,
          92.5,
          -67.5,
          -47.5,
          -87.5,
          -92.5,
          62.5,
          -77.5,
          47.5,
          57.5,
          42.5,
          97.5,
          -82.5,
          -87.5,
          -22.5,
          -42.5,
          -87.5,
          102.5,
          -57.5,
          87.5,
          107.5,
          -12.5,
          102.5,
          77.5,
          -102.5,
          -107.5,
          -102.5,
          -22.5,
          102.5,
          -87.5,
          -97.5,
          -32.5,
          102.5,
          -67.5,
          102.5,
          -97.5,
          -107.5,
          -57.5,
          72.5,
          -107.5,
          62.5,
          87.5,
          -102.5,
          -77.5,
          -2.5,
          -27.5,
          17.5,
          -107.5,
          -97.5,
          62.5,
          32.5,
          107.5,
          97.5,
          -102.5,
          -22.5,
          22.5,
          -107.5,
          77.5,
          -2.5,
          97.5,
          82.5,
          27.5,
          -102.5,
          -12.5,
          97.5,
          -22.5,
          -17.5,
          -67.5,
          -72.5,
          -72.5,
          -92.5,
          -17.5,
          107.5,
          -82.5,
          67.5,
          87.5,
          -37.5,
          27.5,
          -72.5,
          102.5,
          27.5,
          77.5,
          67.5,
          -87.5,
          -22.5,
          17.5,
          -12.5,
          -32.5,
          -67.5,
          102.5,
          22.5,
          42.5,
          67.5,
          -77.5,
          -102.5,
          -7.5,
          -22.5,
          22.5,
          -102.5,
          17.5,
          -102.5,
          -87.5,
          57.5,
          22.5,
          32.5,
          87.5,
          107.5,
          -87.5,
          -17.5,
          -102.5,
          97.5,
          102.5,
          -62.5,
          22.5,
          82.5,
          67.5,
          -102.5,
          82.5,
          82.5,
          107.5,
          -77.5,
          107.5,
          77.5,
          -97.5,
          -67.5,
          22.5,
          -92.5,
          37.5,
          17.5,
          -87.5,
          87.5,
          -37.5,
          -87.5,
          97.5,
          -17.5,
          -12.5,
          77.5,
          92.5,
          37.5,
          77.5,
          107.5,
          -7.5,
          47.5,
          52.5,
          -52.5,
          102.5,
          47.5,
          37.5,
          2.5,
          37.5,
          -67.5,
          97.5,
          -17.5,
          52.5,
          -102.5,
          42.5,
          -72.5,
          -57.5,
          -37.5,
          -92.5,
          32.5,
          72.5,
          -32.5,
          102.5,
          2.5,
          2.5,
          27.5,
          102.5,
          77.5,
          62.5,
          32.5,
          17.5,
          -2.5,
          47.5,
          107.5,
          -57.5,
          -87.5,
          62.5,
          -52.5,
          -87.5,
          -72.5,
          -42.5,
          27.5,
          -112.5,
          -77.5,
          -82.5,
          -2.5,
          -52.5,
          -52.5,
          82.5,
          27.5,
          -112.5,
          82.5,
          -57.5,
          -107.5,
          -82.5,
          -67.5,
          -82.5,
          107.5,
          -42.5,
          -97.5,
          92.5,
          2.5,
          -102.5,
          -92.5,
          7.5,
          -97.5,
          -62.5,
          -112.5,
          -57.5,
          -112.5,
          -7.5,
          112.5,
          7.5,
          -107.5,
          92.5,
          37.5,
          -62.5,
          -72.5,
          -97.5,
          -47.5,
          -102.5,
          77.5,
          87.5,
          -107.5,
          107.5,
          -32.5,
          82.5,
          -107.5,
          -107.5,
          -57.5,
          -62.5,
          97.5,
          22.5,
          87.5,
          67.5,
          112.5,
          -107.5,
          -67.5,
          -2.5,
          -112.5,
          -92.5,
          27.5,
          72.5,
          97.5,
          72.5,
          -7.5,
          -92.5,
          32.5,
          107.5,
          -17.5,
          -52.5,
          -37.5,
          -92.5,
          47.5,
          -112.5,
          -97.5,
          52.5,
          2.5,
          -42.5,
          -92.5,
          -92.5,
          -32.5,
          -52.5,
          107.5,
          -107.5,
          -112.5,
          37.5,
          -47.5,
          -107.5,
          52.5,
          -82.5,
          102.5,
          42.5,
          -107.5,
          22.5,
          -102.5,
          107.5,
          -102.5,
          47.5,
          -67.5,
          -42.5,
          -107.5,
          2.5,
          -92.5,
          -32.5,
          107.5,
          102.5,
          -77.5,
          47.5,
          -107.5,
          17.5,
          92.5,
          102.5,
          -87.5,
          42.5,
          -77.5,
          -77.5,
          62.5,
          87.5,
          -62.5,
          12.5,
          82.5,
          107.5,
          -32.5,
          -97.5,
          -102.5,
          47.5,
          97.5,
          22.5,
          77.5,
          -112.5,
          42.5,
          42.5,
          -67.5,
          -107.5,
          32.5,
          -22.5,
          -107.5,
          37.5,
          107.5,
          62.5,
          112.5,
          -37.5,
          42.5,
          -57.5,
          102.5,
          -92.5,
          -42.5,
          87.5,
          107.5,
          -32.5,
          112.5,
          112.5,
          -112.5,
          97.5,
          12.5,
          47.5,
          57.5,
          -67.5,
          -27.5,
          37.5,
          -12.5,
          -27.5,
          102.5,
          -97.5,
          102.5,
          -107.5,
          -7.5,
          -7.5,
          107.5,
          -17.5,
          -2.5,
          112.5,
          -82.5,
          -112.5,
          -2.5,
          102.5,
          107.5,
          42.5,
          -107.5,
          -82.5,
          37.5,
          -47.5,
          -47.5,
          -102.5,
          27.5,
          97.5,
          -107.5,
          -67.5,
          52.5,
          67.5,
          -57.5,
          -107.5,
          87.5,
          97.5,
          87.5,
          -102.5,
          32.5,
          -107.5,
          27.5,
          -107.5,
          67.5,
          -87.5,
          22.5,
          62.5,
          -47.5,
          -22.5,
          87.5,
          -112.5,
          -107.5,
          2.5,
          102.5,
          77.5,
          -12.5,
          -52.5,
          92.5,
          107.5,
          62.5,
          -12.5,
          -72.5,
          -102.5,
          -42.5,
          -87.5,
          -107.5,
          57.5,
          -7.5,
          -97.5,
          -102.5,
          -37.5,
          -67.5,
          107.5,
          72.5,
          -22.5,
          17.5,
          87.5,
          27.5,
          72.5,
          -82.5,
          27.5,
          -107.5,
          -107.5,
          -2.5,
          -107.5,
          27.5,
          102.5,
          -2.5,
          87.5,
          107.5,
          -107.5,
          107.5,
          57.5,
          12.5,
          107.5,
          97.5,
          -107.5,
          27.5,
          87.5,
          47.5,
          -107.5,
          82.5,
          87.5,
          -42.5,
          67.5,
          77.5,
          87.5,
          22.5,
          82.5,
          -102.5,
          72.5,
          112.5,
          -107.5,
          -107.5,
          -92.5,
          7.5,
          -107.5,
          -42.5,
          102.5,
          37.5,
          102.5,
          77.5,
          -32.5,
          72.5,
          -107.5,
          107.5,
          62.5,
          107.5,
          -107.5,
          -107.5,
          77.5,
          27.5,
          37.5,
          -97.5,
          37.5,
          -7.5,
          -52.5,
          97.5,
          7.5,
          107.5,
          107.5,
          -7.5,
          -77.5,
          22.5,
          -67.5,
          -67.5,
          92.5,
          107.5,
          -92.5,
          107.5,
          12.5,
          -52.5,
          -67.5,
          27.5,
          -92.5,
          -62.5,
          72.5,
          -107.5,
          82.5,
          67.5,
          17.5,
          -82.5,
          -2.5,
          -72.5,
          -92.5,
          42.5,
          12.5,
          -32.5,
          -77.5,
          -42.5,
          82.5,
          -107.5,
          32.5,
          47.5,
          -97.5,
          -107.5,
          -82.5,
          2.5,
          102.5,
          77.5,
          22.5,
          52.5,
          -2.5,
          -72.5,
          102.5,
          52.5,
          -102.5,
          -32.5,
          67.5,
          -82.5,
          -92.5,
          17.5,
          -12.5,
          37.5,
          102.5,
          82.5,
          37.5,
          77.5,
          -92.5,
          2.5,
          -27.5,
          77.5,
          12.5,
          -22.5,
          77.5,
          -32.5,
          77.5,
          -62.5,
          -87.5,
          27.5,
          -22.5,
          62.5,
          82.5,
          107.5,
          -87.5,
          -92.5,
          72.5,
          -82.5,
          82.5,
          107.5,
          -82.5,
          -77.5,
          -57.5,
          -22.5,
          102.5,
          -102.5,
          87.5,
          -92.5,
          -102.5,
          102.5,
          107.5,
          57.5,
          102.5,
          -107.5,
          -62.5,
          97.5,
          -67.5,
          -62.5,
          -42.5,
          -12.5,
          57.5,
          77.5,
          -27.5,
          67.5,
          -92.5,
          -92.5,
          -7.5,
          7.5,
          -17.5,
          37.5,
          -7.5,
          82.5,
          -52.5,
          62.5,
          27.5,
          -87.5,
          -37.5,
          47.5,
          -107.5,
          17.5,
          47.5,
          82.5,
          -32.5,
          107.5,
          97.5,
          32.5,
          -7.5,
          -107.5,
          12.5,
          -107.5,
          47.5,
          -72.5,
          -52.5,
          -107.5,
          -107.5,
          97.5,
          77.5,
          102.5,
          -2.5,
          -62.5,
          72.5,
          107.5,
          57.5,
          27.5,
          72.5,
          72.5,
          37.5,
          12.5,
          -87.5,
          12.5,
          7.5,
          -92.5,
          107.5,
          57.5,
          -92.5,
          -72.5,
          47.5,
          -37.5,
          -42.5,
          102.5,
          77.5,
          -102.5,
          -87.5,
          7.5,
          -92.5,
          102.5,
          72.5,
          97.5,
          -52.5,
          -82.5,
          -57.5,
          -22.5,
          -107.5,
          52.5,
          102.5,
          102.5,
          62.5,
          -67.5,
          67.5,
          97.5,
          97.5,
          17.5,
          17.5,
          -47.5,
          -107.5,
          27.5,
          47.5,
          -42.5,
          -102.5,
          -87.5,
          -17.5,
          2.5,
          37.5,
          102.5,
          107.5,
          -52.5,
          102.5,
          -22.5,
          77.5,
          22.5,
          -32.5,
          82.5,
          -42.5,
          2.5
         ],
         "y": [
          22.5,
          107.5,
          -47.5,
          22.5,
          -97.5,
          -72.5,
          112.5,
          -107.5,
          -72.5,
          -112.5,
          -32.5,
          92.5,
          42.5,
          2.5,
          -47.5,
          -87.5,
          -47.5,
          92.5,
          2.5,
          -62.5,
          57.5,
          107.5,
          17.5,
          -112.5,
          -102.5,
          -92.5,
          77.5,
          22.5,
          112.5,
          92.5,
          -112.5,
          42.5,
          37.5,
          2.5,
          -7.5,
          107.5,
          47.5,
          97.5,
          -112.5,
          -112.5,
          -87.5,
          -42.5,
          2.5,
          112.5,
          57.5,
          107.5,
          77.5,
          57.5,
          62.5,
          -102.5,
          -52.5,
          -2.5,
          112.5,
          92.5,
          -112.5,
          -72.5,
          -27.5,
          -67.5,
          -17.5,
          7.5,
          112.5,
          -112.5,
          97.5,
          -67.5,
          -72.5,
          72.5,
          17.5,
          102.5,
          -92.5,
          -92.5,
          -62.5,
          107.5,
          112.5,
          -107.5,
          -67.5,
          -82.5,
          27.5,
          47.5,
          92.5,
          67.5,
          -27.5,
          107.5,
          -42.5,
          87.5,
          97.5,
          42.5,
          -52.5,
          92.5,
          102.5,
          22.5,
          97.5,
          -67.5,
          -82.5,
          92.5,
          102.5,
          -107.5,
          27.5,
          87.5,
          92.5,
          -42.5,
          -107.5,
          72.5,
          32.5,
          -72.5,
          112.5,
          92.5,
          -97.5,
          112.5,
          107.5,
          32.5,
          -52.5,
          112.5,
          -37.5,
          -87.5,
          107.5,
          77.5,
          72.5,
          -27.5,
          -2.5,
          7.5,
          -92.5,
          82.5,
          42.5,
          -62.5,
          -102.5,
          -2.5,
          112.5,
          37.5,
          -52.5,
          82.5,
          112.5,
          112.5,
          112.5,
          -52.5,
          -87.5,
          112.5,
          52.5,
          -22.5,
          -87.5,
          2.5,
          92.5,
          47.5,
          -102.5,
          97.5,
          -22.5,
          -62.5,
          -52.5,
          102.5,
          72.5,
          -102.5,
          -87.5,
          87.5,
          -67.5,
          -62.5,
          92.5,
          -37.5,
          -47.5,
          17.5,
          -102.5,
          37.5,
          62.5,
          112.5,
          -67.5,
          52.5,
          -47.5,
          -12.5,
          112.5,
          -107.5,
          107.5,
          22.5,
          52.5,
          82.5,
          -102.5,
          -72.5,
          -77.5,
          97.5,
          62.5,
          -62.5,
          -87.5,
          -2.5,
          -102.5,
          -92.5,
          82.5,
          102.5,
          -7.5,
          7.5,
          -52.5,
          52.5,
          -7.5,
          -102.5,
          -92.5,
          -107.5,
          57.5,
          -67.5,
          112.5,
          92.5,
          -57.5,
          -67.5,
          17.5,
          32.5,
          -47.5,
          -107.5,
          47.5,
          -67.5,
          102.5,
          -57.5,
          22.5,
          2.5,
          -27.5,
          -87.5,
          -107.5,
          -97.5,
          -17.5,
          97.5,
          52.5,
          -107.5,
          102.5,
          -17.5,
          -62.5,
          12.5,
          112.5,
          -37.5,
          -22.5,
          -57.5,
          112.5,
          -52.5,
          47.5,
          102.5,
          57.5,
          107.5,
          -2.5,
          -22.5,
          112.5,
          107.5,
          -97.5,
          52.5,
          -52.5,
          -102.5,
          77.5,
          -32.5,
          87.5,
          102.5,
          112.5,
          67.5,
          -72.5,
          -107.5,
          107.5,
          -107.5,
          77.5,
          32.5,
          102.5,
          97.5,
          52.5,
          -77.5,
          -107.5,
          -22.5,
          -32.5,
          97.5,
          -57.5,
          2.5,
          -107.5,
          32.5,
          -87.5,
          107.5,
          -82.5,
          -67.5,
          72.5,
          107.5,
          -102.5,
          32.5,
          42.5,
          52.5,
          102.5,
          -27.5,
          107.5,
          -72.5,
          37.5,
          -2.5,
          -87.5,
          77.5,
          -27.5,
          -107.5,
          -57.5,
          -97.5,
          -37.5,
          87.5,
          -82.5,
          -97.5,
          -92.5,
          97.5,
          -47.5,
          -62.5,
          -92.5,
          -62.5,
          92.5,
          -77.5,
          -52.5,
          -77.5,
          87.5,
          -92.5,
          107.5,
          -97.5,
          82.5,
          -42.5,
          107.5,
          102.5,
          -102.5,
          107.5,
          -22.5,
          -32.5,
          82.5,
          52.5,
          107.5,
          -87.5,
          -47.5,
          102.5,
          -57.5,
          -57.5,
          102.5,
          -97.5,
          -42.5,
          82.5,
          77.5,
          107.5,
          47.5,
          107.5,
          87.5,
          12.5,
          97.5,
          -62.5,
          107.5,
          82.5,
          -82.5,
          -107.5,
          -97.5,
          -67.5,
          72.5,
          -92.5,
          97.5,
          52.5,
          -32.5,
          -107.5,
          -107.5,
          97.5,
          -37.5,
          -12.5,
          -102.5,
          92.5,
          32.5,
          -12.5,
          -42.5,
          102.5,
          57.5,
          92.5,
          87.5,
          -102.5,
          -67.5,
          102.5,
          -102.5,
          -12.5,
          57.5,
          57.5,
          107.5,
          62.5,
          -72.5,
          57.5,
          -67.5,
          92.5,
          -72.5,
          47.5,
          -97.5,
          62.5,
          32.5,
          107.5,
          -7.5,
          -102.5,
          -47.5,
          -42.5,
          7.5,
          -102.5,
          -42.5,
          -82.5,
          -17.5,
          -42.5,
          -87.5,
          97.5,
          -107.5,
          -12.5,
          -17.5,
          97.5,
          -102.5,
          -107.5,
          -47.5,
          47.5,
          -67.5,
          87.5,
          -62.5,
          27.5,
          -37.5,
          -2.5,
          107.5,
          102.5,
          2.5,
          92.5,
          -72.5,
          102.5,
          -57.5,
          102.5,
          -102.5,
          77.5,
          -97.5,
          82.5,
          12.5,
          52.5,
          -67.5,
          -47.5,
          57.5,
          -77.5,
          -92.5,
          62.5,
          52.5,
          -87.5,
          77.5,
          -92.5,
          92.5,
          102.5,
          47.5,
          -67.5,
          -62.5,
          -102.5,
          -97.5,
          -52.5,
          32.5,
          -87.5,
          -57.5,
          -7.5,
          107.5,
          -37.5,
          -72.5,
          -22.5,
          12.5,
          32.5,
          -102.5,
          32.5,
          57.5,
          -32.5,
          102.5,
          37.5,
          -82.5,
          27.5,
          -37.5,
          -12.5,
          -87.5,
          82.5,
          2.5,
          87.5,
          62.5,
          12.5,
          72.5,
          -107.5,
          102.5,
          107.5,
          -12.5,
          -42.5,
          -87.5,
          -102.5,
          -17.5,
          -47.5,
          32.5,
          107.5,
          -102.5,
          12.5,
          77.5,
          107.5,
          -47.5,
          72.5,
          107.5,
          -32.5,
          107.5,
          -47.5,
          -102.5,
          -102.5,
          -82.5,
          -77.5,
          77.5,
          52.5,
          -102.5,
          22.5,
          -67.5,
          87.5,
          62.5,
          102.5,
          107.5,
          -72.5,
          32.5,
          107.5,
          -72.5,
          87.5,
          62.5,
          107.5,
          -102.5,
          107.5,
          -97.5,
          82.5,
          -22.5,
          107.5,
          97.5,
          -82.5,
          -72.5,
          -17.5,
          107.5,
          107.5,
          107.5,
          -22.5,
          -102.5,
          32.5,
          62.5,
          -87.5,
          102.5,
          102.5,
          62.5,
          7.5,
          -57.5,
          -102.5,
          17.5,
          -42.5,
          -27.5,
          -82.5,
          107.5,
          67.5,
          -82.5,
          2.5,
          67.5,
          -62.5,
          2.5,
          -67.5,
          7.5,
          -67.5,
          42.5,
          -77.5,
          -102.5,
          -47.5,
          102.5,
          -102.5,
          62.5,
          62.5,
          -97.5,
          -52.5,
          37.5,
          107.5,
          -102.5,
          -72.5,
          -52.5,
          -97.5,
          -67.5,
          7.5,
          107.5,
          97.5,
          92.5,
          -87.5,
          -22.5,
          97.5,
          102.5,
          107.5,
          -97.5,
          -77.5,
          -42.5,
          -102.5,
          -92.5,
          -27.5,
          97.5,
          -72.5,
          -82.5,
          -97.5,
          52.5,
          102.5,
          -77.5,
          -97.5,
          27.5,
          2.5,
          2.5,
          -107.5,
          -42.5,
          -82.5,
          -92.5,
          107.5,
          -112.5,
          -112.5,
          102.5,
          32.5,
          -97.5,
          77.5,
          92.5,
          -102.5,
          -67.5,
          87.5,
          102.5,
          -107.5,
          17.5,
          82.5,
          -72.5,
          -112.5,
          97.5,
          -97.5,
          -77.5,
          -107.5,
          -7.5,
          -77.5,
          -97.5,
          42.5,
          72.5,
          92.5,
          77.5,
          27.5,
          107.5,
          -57.5,
          -62.5,
          -112.5,
          -42.5,
          62.5,
          -112.5,
          -57.5,
          -92.5,
          -2.5,
          -97.5,
          17.5,
          -112.5,
          -2.5,
          112.5,
          37.5,
          -62.5,
          107.5,
          -92.5,
          87.5,
          57.5,
          102.5,
          47.5,
          -77.5,
          72.5,
          37.5,
          -37.5,
          107.5,
          77.5,
          42.5,
          -27.5,
          97.5,
          -92.5,
          57.5,
          -107.5,
          -72.5,
          -92.5,
          -22.5,
          -32.5,
          -87.5,
          112.5,
          -22.5,
          -62.5,
          107.5,
          -87.5,
          -57.5,
          -87.5,
          112.5,
          -62.5,
          107.5,
          37.5,
          -112.5,
          -102.5,
          -107.5,
          62.5,
          -102.5,
          -22.5,
          -57.5,
          -97.5,
          112.5,
          102.5,
          62.5,
          -62.5,
          107.5,
          -97.5,
          17.5,
          32.5,
          -7.5,
          -102.5,
          102.5,
          -32.5,
          -97.5,
          -72.5,
          37.5,
          -102.5,
          -22.5,
          107.5,
          -42.5,
          -22.5,
          47.5,
          -102.5,
          -87.5,
          -102.5,
          32.5,
          112.5,
          -62.5,
          -107.5,
          -27.5,
          47.5,
          -82.5,
          -97.5,
          22.5,
          112.5,
          -62.5,
          42.5,
          67.5,
          -102.5,
          82.5,
          82.5,
          -92.5,
          67.5,
          -92.5,
          -107.5,
          -72.5,
          32.5,
          -107.5,
          52.5,
          42.5,
          -97.5,
          47.5,
          107.5,
          82.5,
          -17.5,
          102.5,
          -102.5,
          87.5,
          -37.5,
          107.5,
          107.5,
          -37.5,
          102.5,
          27.5,
          92.5,
          -12.5,
          -102.5,
          -102.5,
          -92.5,
          42.5,
          -62.5,
          -102.5,
          -67.5,
          27.5,
          -107.5,
          -2.5,
          7.5,
          12.5,
          -52.5,
          112.5,
          -97.5,
          92.5,
          87.5,
          107.5,
          107.5,
          112.5,
          -107.5,
          -42.5,
          -57.5,
          37.5,
          -32.5,
          -112.5,
          -112.5,
          -32.5,
          -107.5,
          -112.5,
          2.5,
          77.5,
          17.5,
          112.5,
          47.5,
          12.5,
          102.5,
          2.5,
          77.5,
          102.5,
          -97.5,
          97.5,
          32.5,
          107.5,
          -52.5,
          -17.5,
          -87.5,
          -97.5,
          -82.5,
          -97.5,
          12.5,
          62.5,
          47.5,
          -62.5,
          -32.5,
          102.5,
          -17.5,
          -107.5,
          12.5,
          87.5,
          -67.5,
          -107.5,
          87.5,
          -97.5,
          -107.5,
          -67.5,
          7.5,
          2.5,
          107.5,
          -37.5,
          -77.5,
          107.5,
          97.5,
          62.5,
          -7.5,
          -87.5,
          107.5,
          -77.5,
          42.5,
          -102.5,
          67.5,
          27.5,
          92.5,
          -107.5,
          -47.5,
          37.5,
          102.5,
          -87.5,
          17.5,
          82.5,
          107.5,
          107.5,
          -62.5,
          -107.5,
          -82.5,
          -72.5,
          -107.5,
          -17.5,
          -12.5,
          107.5,
          -22.5,
          -107.5,
          -32.5,
          112.5,
          67.5,
          12.5,
          -17.5,
          -22.5,
          92.5,
          107.5,
          -7.5,
          -47.5,
          12.5,
          -107.5,
          67.5,
          -97.5,
          7.5,
          77.5,
          67.5,
          -97.5,
          87.5,
          -77.5,
          67.5,
          -107.5,
          67.5,
          -37.5,
          -82.5,
          -7.5,
          2.5,
          -27.5,
          -62.5,
          112.5,
          27.5,
          102.5,
          32.5,
          102.5,
          32.5,
          72.5,
          102.5,
          -77.5,
          -12.5,
          -2.5,
          -87.5,
          -17.5,
          -27.5,
          -7.5,
          -72.5,
          -102.5,
          102.5,
          -47.5,
          102.5,
          107.5,
          -92.5,
          -47.5,
          107.5,
          -17.5,
          2.5,
          107.5,
          72.5,
          -102.5,
          -87.5,
          82.5,
          -57.5,
          -12.5,
          -57.5,
          17.5,
          107.5,
          -97.5,
          82.5,
          -107.5,
          52.5,
          87.5,
          77.5,
          17.5,
          -72.5,
          82.5,
          -107.5,
          -67.5,
          107.5,
          -77.5,
          52.5,
          -97.5,
          -107.5,
          102.5,
          -72.5,
          -97.5,
          -72.5,
          -22.5,
          102.5,
          -97.5,
          52.5,
          12.5,
          -67.5,
          107.5,
          37.5,
          72.5,
          -107.5,
          97.5,
          -107.5,
          -77.5,
          37.5,
          97.5,
          -37.5,
          102.5,
          82.5,
          72.5,
          52.5,
          107.5,
          -107.5,
          -102.5,
          42.5,
          -72.5,
          -102.5,
          77.5,
          52.5,
          107.5,
          102.5,
          77.5,
          107.5,
          -107.5,
          -72.5,
          -102.5,
          72.5,
          -87.5,
          -62.5,
          -102.5,
          107.5,
          -87.5,
          72.5,
          22.5,
          62.5,
          57.5,
          -82.5,
          -67.5,
          -67.5,
          2.5,
          67.5,
          -72.5,
          -87.5,
          -102.5,
          -32.5,
          -37.5,
          62.5,
          -52.5,
          -22.5,
          -32.5,
          -7.5,
          -87.5,
          27.5,
          -2.5,
          82.5,
          47.5,
          82.5,
          -87.5,
          -97.5,
          -107.5,
          -87.5,
          -72.5,
          -102.5,
          82.5,
          52.5,
          -52.5,
          -107.5,
          -107.5,
          107.5,
          -97.5,
          -107.5,
          67.5,
          92.5,
          -87.5,
          102.5,
          -62.5,
          -97.5,
          -97.5,
          -22.5,
          -107.5,
          92.5,
          -67.5,
          102.5,
          -7.5,
          -42.5,
          -102.5,
          -107.5,
          2.5,
          107.5,
          -7.5,
          97.5,
          -77.5,
          92.5,
          7.5,
          -12.5,
          42.5,
          72.5,
          -32.5,
          107.5,
          87.5,
          77.5,
          12.5,
          -87.5,
          102.5,
          -77.5,
          -77.5,
          97.5,
          -107.5,
          -62.5,
          -107.5,
          -107.5,
          52.5,
          -12.5,
          87.5,
          -57.5,
          -82.5,
          -97.5,
          -102.5,
          97.5,
          27.5,
          72.5,
          -27.5,
          62.5,
          107.5,
          -52.5,
          -17.5,
          77.5,
          -42.5,
          92.5,
          62.5,
          -87.5,
          102.5,
          2.5,
          92.5,
          -17.5,
          -12.5,
          82.5,
          -82.5,
          -82.5,
          37.5,
          -42.5,
          102.5,
          102.5,
          97.5,
          -2.5,
          102.5,
          92.5,
          -97.5,
          -17.5,
          -62.5,
          -102.5,
          107.5,
          -97.5,
          -22.5,
          7.5,
          -92.5,
          32.5,
          102.5,
          72.5,
          -102.5,
          102.5,
          62.5,
          -97.5,
          2.5
         ],
         "z": [
          -490.0,
          -490.0,
          -490.0,
          -490.0,
          -490.0,
          -490.0,
          -490.0,
          -490.0,
          -490.0,
          -490.0,
          -490.0,
          -490.0,
          -490.0,
          -490.0,
          -490.0,
          -490.0,
          -490.0,
          -490.0,
          -490.0,
          -490.0,
          -490.0,
          -490.0,
          -490.0,
          -490.0,
          -490.0,
          -490.0,
          -490.0,
          -490.0,
          -490.0,
          -490.0,
          -490.0,
          -490.0,
          -490.0,
          -490.0,
          -490.0,
          -490.0,
          -490.0,
          -490.0,
          -490.0,
          -490.0,
          -490.0,
          -490.0,
          -490.0,
          -490.0,
          -490.0,
          -490.0,
          -490.0,
          -490.0,
          -490.0,
          -490.0,
          -490.0,
          -490.0,
          -490.0,
          -490.0,
          -490.0,
          -490.0,
          -490.0,
          -490.0,
          -490.0,
          -490.0,
          -490.0,
          -490.0,
          -490.0,
          -490.0,
          -490.0,
          -490.0,
          -490.0,
          -490.0,
          -490.0,
          -490.0,
          -490.0,
          -490.0,
          -490.0,
          -490.0,
          -490.0,
          -490.0,
          -490.0,
          -490.0,
          -490.0,
          -490.0,
          -490.0,
          -490.0,
          -490.0,
          -490.0,
          -490.0,
          -490.0,
          -490.0,
          -490.0,
          -490.0,
          -490.0,
          -490.0,
          -490.0,
          -490.0,
          -490.0,
          -490.0,
          -490.0,
          -490.0,
          -490.0,
          -490.0,
          -490.0,
          -490.0,
          -490.0,
          -490.0,
          -490.0,
          -490.0,
          -490.0,
          -490.0,
          -490.0,
          -490.0,
          -490.0,
          -490.0,
          -490.0,
          -490.0,
          -490.0,
          -490.0,
          -490.0,
          -490.0,
          -490.0,
          -490.0,
          -490.0,
          -490.0,
          -490.0,
          -490.0,
          -490.0,
          -490.0,
          -490.0,
          -490.0,
          -490.0,
          -490.0,
          -490.0,
          -490.0,
          -490.0,
          -490.0,
          -490.0,
          -490.0,
          -490.0,
          -490.0,
          -490.0,
          -490.0,
          -490.0,
          -490.0,
          -490.0,
          -490.0,
          -490.0,
          -490.0,
          -490.0,
          -490.0,
          -490.0,
          -490.0,
          -490.0,
          -490.0,
          -490.0,
          -490.0,
          -490.0,
          -490.0,
          -490.0,
          -490.0,
          -490.0,
          -490.0,
          -490.0,
          -490.0,
          -490.0,
          -490.0,
          -490.0,
          -490.0,
          -490.0,
          -490.0,
          -490.0,
          -490.0,
          -490.0,
          -490.0,
          -490.0,
          -490.0,
          -490.0,
          -490.0,
          -490.0,
          -490.0,
          -490.0,
          -490.0,
          -490.0,
          -490.0,
          -490.0,
          -490.0,
          -490.0,
          -490.0,
          -490.0,
          -490.0,
          -490.0,
          -490.0,
          -490.0,
          -490.0,
          -490.0,
          -490.0,
          -490.0,
          -490.0,
          -490.0,
          -490.0,
          -490.0,
          -490.0,
          -490.0,
          -490.0,
          -490.0,
          -490.0,
          -490.0,
          -490.0,
          -490.0,
          -490.0,
          -490.0,
          -490.0,
          -490.0,
          -490.0,
          -490.0,
          -490.0,
          -490.0,
          -490.0,
          -490.0,
          -490.0,
          -490.0,
          -490.0,
          -490.0,
          -490.0,
          -490.0,
          -490.0,
          -490.0,
          -490.0,
          -490.0,
          -490.0,
          -490.0,
          -490.0,
          -490.0,
          -490.0,
          -490.0,
          -490.0,
          -490.0,
          -490.0,
          -490.0,
          -490.0,
          -490.0,
          -490.0,
          -490.0,
          -490.0,
          -490.0,
          -490.0,
          -490.0,
          -490.0,
          -490.0,
          -490.0,
          -490.0,
          -490.0,
          -490.0,
          -490.0,
          -490.0,
          -490.0,
          -490.0,
          -490.0,
          -490.0,
          -490.0,
          -490.0,
          -490.0,
          -490.0,
          -490.0,
          -490.0,
          -490.0,
          -490.0,
          -490.0,
          -490.0,
          -490.0,
          -490.0,
          -490.0,
          -490.0,
          -490.0,
          -490.0,
          -490.0,
          -490.0,
          -490.0,
          -490.0,
          -490.0,
          -490.0,
          -490.0,
          -490.0,
          -490.0,
          -490.0,
          -490.0,
          -490.0,
          -490.0,
          -490.0,
          -490.0,
          -490.0,
          -490.0,
          -490.0,
          -490.0,
          -490.0,
          -490.0,
          -490.0,
          -490.0,
          -490.0,
          -490.0,
          -490.0,
          -490.0,
          -490.0,
          -490.0,
          -490.0,
          -490.0,
          -490.0,
          -490.0,
          -490.0,
          -490.0,
          -490.0,
          -490.0,
          -490.0,
          -490.0,
          -490.0,
          -490.0,
          -490.0,
          -490.0,
          -490.0,
          -490.0,
          -490.0,
          -490.0,
          -490.0,
          -490.0,
          -490.0,
          -490.0,
          -490.0,
          -490.0,
          -490.0,
          -490.0,
          -490.0,
          -490.0,
          -490.0,
          -490.0,
          -490.0,
          -490.0,
          -490.0,
          -490.0,
          -490.0,
          -490.0,
          -490.0,
          -490.0,
          -490.0,
          -490.0,
          -490.0,
          -490.0,
          -490.0,
          -490.0,
          -490.0,
          -490.0,
          -490.0,
          -490.0,
          -490.0,
          -490.0,
          -490.0,
          -490.0,
          -490.0,
          -490.0,
          -490.0,
          -490.0,
          -490.0,
          -490.0,
          -490.0,
          -490.0,
          -490.0,
          -490.0,
          -490.0,
          -490.0,
          -490.0,
          -490.0,
          -490.0,
          -490.0,
          -490.0,
          -490.0,
          -490.0,
          -490.0,
          -490.0,
          -490.0,
          -490.0,
          -490.0,
          -490.0,
          -490.0,
          -490.0,
          -490.0,
          -490.0,
          -490.0,
          -490.0,
          -490.0,
          -490.0,
          -490.0,
          -490.0,
          -490.0,
          -490.0,
          -490.0,
          -490.0,
          -490.0,
          -490.0,
          -490.0,
          -490.0,
          -490.0,
          -490.0,
          -490.0,
          -490.0,
          -490.0,
          -490.0,
          -490.0,
          -490.0,
          -490.0,
          -490.0,
          -490.0,
          -490.0,
          -490.0,
          -490.0,
          -490.0,
          -490.0,
          -490.0,
          -490.0,
          -490.0,
          -490.0,
          -490.0,
          -490.0,
          -490.0,
          -490.0,
          -490.0,
          -490.0,
          -490.0,
          -490.0,
          -490.0,
          -490.0,
          -490.0,
          -490.0,
          -490.0,
          -490.0,
          -490.0,
          -490.0,
          -490.0,
          -490.0,
          -490.0,
          -490.0,
          -490.0,
          -490.0,
          -490.0,
          -490.0,
          -490.0,
          -490.0,
          -490.0,
          -490.0,
          -490.0,
          -490.0,
          -490.0,
          -490.0,
          -490.0,
          -490.0,
          -490.0,
          -490.0,
          -490.0,
          -490.0,
          -490.0,
          -490.0,
          -490.0,
          -490.0,
          -490.0,
          -490.0,
          -490.0,
          -490.0,
          -490.0,
          -490.0,
          -490.0,
          -490.0,
          -490.0,
          -490.0,
          -490.0,
          -490.0,
          -490.0,
          -490.0,
          -490.0,
          -490.0,
          -490.0,
          -490.0,
          -490.0,
          -490.0,
          -490.0,
          -490.0,
          -490.0,
          -490.0,
          -490.0,
          -490.0,
          -490.0,
          -490.0,
          -490.0,
          -490.0,
          -490.0,
          -490.0,
          -490.0,
          -490.0,
          -490.0,
          -490.0,
          -490.0,
          -490.0,
          -490.0,
          -490.0,
          -490.0,
          -490.0,
          -490.0,
          -490.0,
          -490.0,
          -490.0,
          -490.0,
          -490.0,
          -490.0,
          -490.0,
          -490.0,
          -490.0,
          -490.0,
          -490.0,
          -490.0,
          -490.0,
          -490.0,
          -490.0,
          -490.0,
          -490.0,
          -490.0,
          -490.0,
          -490.0,
          -490.0,
          -490.0,
          -490.0,
          -490.0,
          -490.0,
          -490.0,
          -490.0,
          -490.0,
          -490.0,
          -490.0,
          -490.0,
          -490.0,
          -490.0,
          -490.0,
          -490.0,
          -490.0,
          -490.0,
          -490.0,
          -490.0,
          -490.0,
          -490.0,
          -490.0,
          -490.0,
          -490.0,
          -490.0,
          -490.0,
          -490.0,
          -490.0,
          -490.0,
          -490.0,
          -490.0,
          -490.0,
          -490.0,
          -490.0,
          -490.0,
          -490.0,
          -490.0,
          -490.0,
          -490.0,
          -490.0,
          -490.0,
          -490.0,
          -490.0,
          -490.0,
          -490.0,
          -490.0,
          -490.0,
          -490.0,
          -490.0,
          -490.0,
          -490.0,
          -490.0,
          -490.0,
          -490.0,
          -490.0,
          -490.0,
          -490.0,
          -490.0,
          -490.0,
          -490.0,
          -490.0,
          -490.0,
          -490.0,
          -490.0,
          -490.0,
          -490.0,
          -490.0,
          -490.0,
          -490.0,
          -490.0,
          -490.0,
          -490.0,
          -490.0,
          -490.0,
          -490.0,
          -490.0,
          -490.0,
          -490.0,
          -490.0,
          -490.0,
          -490.0,
          -490.0,
          -490.0,
          -490.0,
          -490.0,
          -490.0,
          -490.0,
          -490.0,
          -490.0,
          -490.0,
          -490.0,
          -490.0,
          -490.0,
          -490.0,
          -490.0,
          -490.0,
          -490.0,
          -490.0,
          -490.0,
          -490.0,
          -490.0,
          -490.0,
          -490.0,
          -490.0,
          -490.0,
          -490.0,
          -490.0,
          -490.0,
          -490.0,
          -490.0,
          -490.0,
          -490.0,
          -490.0,
          -490.0,
          -490.0,
          -490.0,
          -490.0,
          -490.0,
          -490.0,
          -490.0,
          -490.0,
          -490.0,
          -490.0,
          -490.0,
          -490.0,
          -490.0,
          -490.0,
          -490.0,
          -490.0,
          -490.0,
          -490.0,
          -490.0,
          -490.0,
          -490.0,
          -490.0,
          -490.0,
          -490.0,
          -490.0,
          -490.0,
          -490.0,
          -490.0,
          -490.0,
          -490.0,
          -490.0,
          -490.0,
          -490.0,
          -490.0,
          -490.0,
          -490.0,
          -490.0,
          -490.0,
          -490.0,
          -490.0,
          -490.0,
          -490.0,
          -490.0,
          -490.0,
          -490.0,
          -490.0,
          -490.0,
          -490.0,
          -490.0,
          -490.0,
          -490.0,
          -490.0,
          -490.0,
          -490.0,
          -490.0,
          -490.0,
          -490.0,
          -490.0,
          -490.0,
          -490.0,
          -490.0,
          -490.0,
          -490.0,
          -490.0,
          -490.0,
          -490.0,
          -490.0,
          -490.0,
          -490.0,
          -490.0,
          -490.0,
          -490.0,
          -490.0,
          -490.0,
          -490.0,
          -490.0,
          -490.0,
          -490.0,
          -490.0,
          -490.0,
          -490.0,
          -490.0,
          -490.0,
          -490.0,
          -490.0,
          -490.0,
          -490.0,
          -490.0,
          -490.0,
          -490.0,
          -490.0,
          -490.0,
          -490.0,
          -490.0,
          -490.0,
          -490.0,
          -490.0,
          -490.0,
          -490.0,
          -490.0,
          -490.0,
          -490.0,
          -490.0,
          -490.0,
          -490.0,
          -490.0,
          -490.0,
          -490.0,
          -490.0,
          -490.0,
          -490.0,
          -490.0,
          -490.0,
          -490.0,
          -490.0,
          -490.0,
          -490.0,
          -490.0,
          -490.0,
          -490.0,
          -490.0,
          -490.0,
          -490.0,
          -490.0,
          -490.0,
          -490.0,
          -490.0,
          -490.0,
          -490.0,
          -490.0,
          -490.0,
          -490.0,
          -490.0,
          -490.0,
          -490.0,
          -490.0,
          -490.0,
          -490.0,
          -490.0,
          -490.0,
          -490.0,
          -490.0,
          -490.0,
          -490.0,
          -490.0,
          -490.0,
          -490.0,
          -490.0,
          -490.0,
          -490.0,
          -490.0,
          -490.0,
          -490.0,
          -490.0,
          -490.0,
          -490.0,
          -490.0,
          -490.0,
          -490.0,
          -490.0,
          -490.0,
          -490.0,
          -490.0,
          -490.0,
          -490.0,
          -490.0,
          -490.0,
          -490.0,
          -490.0,
          -490.0,
          -490.0,
          -490.0,
          -490.0,
          -490.0,
          -490.0,
          -490.0,
          -490.0,
          -490.0,
          -490.0,
          -490.0,
          -490.0,
          -490.0,
          -490.0,
          -490.0,
          -490.0,
          -490.0,
          -490.0,
          -490.0,
          -490.0,
          -490.0,
          -490.0,
          -490.0,
          -490.0,
          -490.0,
          -490.0,
          -490.0,
          -490.0,
          -490.0,
          -490.0,
          -490.0,
          -490.0,
          -490.0,
          -490.0,
          -490.0,
          -490.0,
          -490.0,
          -490.0,
          -490.0,
          -490.0,
          -490.0,
          -490.0,
          -490.0,
          -490.0,
          -490.0,
          -490.0,
          -490.0,
          -490.0,
          -490.0,
          -490.0,
          -490.0,
          -490.0,
          -490.0,
          -490.0,
          -490.0,
          -490.0,
          -490.0,
          -490.0,
          -490.0,
          -490.0,
          -490.0,
          -490.0,
          -490.0,
          -490.0,
          -490.0,
          -490.0,
          -490.0,
          -490.0,
          -490.0,
          -490.0,
          -490.0,
          -490.0,
          -490.0,
          -490.0,
          -490.0,
          -490.0,
          -490.0,
          -490.0,
          -490.0,
          -490.0,
          -490.0,
          -490.0,
          -490.0,
          -490.0,
          -490.0,
          -490.0,
          -490.0,
          -490.0,
          -490.0,
          -490.0,
          -490.0,
          -490.0,
          -490.0,
          -490.0,
          -490.0,
          -490.0,
          -490.0,
          -490.0,
          -490.0,
          -490.0,
          -490.0,
          -490.0,
          -490.0,
          -490.0,
          -490.0,
          -490.0,
          -490.0,
          -490.0,
          -490.0,
          -490.0,
          -490.0,
          -490.0,
          -490.0,
          -490.0,
          -490.0,
          -490.0,
          -490.0,
          -490.0,
          -490.0,
          -490.0,
          -490.0,
          -490.0,
          -490.0,
          -490.0,
          -490.0,
          -490.0,
          -490.0,
          -490.0,
          -490.0,
          -490.0,
          -490.0,
          -490.0,
          -490.0,
          -490.0,
          -490.0,
          -490.0,
          -490.0,
          -490.0,
          -490.0,
          -490.0,
          -490.0,
          -490.0,
          -490.0,
          -490.0,
          -490.0,
          -490.0,
          -490.0,
          -490.0,
          -490.0,
          -490.0,
          -490.0,
          -490.0,
          -490.0,
          -490.0,
          -490.0,
          -490.0,
          -490.0,
          -490.0,
          -490.0,
          -490.0,
          -490.0,
          -490.0,
          -490.0,
          -490.0,
          -490.0,
          -490.0,
          -490.0,
          -490.0,
          -490.0,
          -490.0,
          -490.0,
          -490.0,
          -490.0,
          -490.0,
          -490.0,
          -490.0,
          -490.0,
          -490.0,
          -490.0,
          -490.0,
          -490.0,
          -490.0,
          -490.0,
          -490.0,
          -490.0,
          -490.0,
          -490.0,
          -490.0,
          -490.0,
          -490.0,
          -490.0,
          -490.0,
          -490.0,
          -490.0,
          -490.0,
          -490.0,
          -490.0,
          -490.0,
          -490.0,
          -490.0,
          -490.0,
          -490.0,
          -490.0,
          -490.0,
          -490.0,
          -490.0,
          -490.0,
          -490.0,
          -490.0,
          -490.0,
          -490.0,
          -490.0,
          -490.0,
          -490.0,
          -490.0,
          -490.0,
          -490.0,
          -490.0,
          -490.0,
          -490.0,
          -490.0,
          -490.0,
          -490.0,
          -490.0,
          -490.0,
          -490.0,
          -490.0,
          -490.0,
          -490.0,
          -490.0,
          -490.0,
          -490.0,
          -490.0,
          -490.0,
          -490.0,
          -490.0,
          -490.0,
          -490.0,
          -490.0,
          -490.0,
          -490.0,
          -490.0,
          -490.0,
          -490.0,
          -490.0,
          -490.0,
          -490.0,
          -490.0,
          -490.0,
          -490.0,
          -490.0,
          -490.0,
          -490.0,
          -490.0,
          -490.0,
          -490.0,
          -490.0,
          -490.0,
          -490.0,
          -490.0,
          -490.0,
          -490.0,
          -490.0,
          -490.0,
          -490.0,
          -490.0,
          -490.0,
          -490.0,
          -490.0,
          -490.0,
          -490.0,
          -490.0,
          -490.0,
          -490.0,
          -490.0,
          -490.0,
          -490.0,
          -490.0,
          -490.0,
          -490.0,
          -490.0,
          -490.0,
          -490.0,
          -490.0,
          -490.0,
          -490.0,
          -490.0,
          -490.0,
          -490.0,
          -490.0,
          -490.0,
          -490.0,
          -490.0,
          -490.0,
          -490.0
         ],
         "type": "scatter3d"
        }
       ],
       "layout": {
        "template": {
         "data": {
          "histogram2dcontour": [
           {
            "type": "histogram2dcontour",
            "colorbar": {
             "outlinewidth": 0,
             "ticks": ""
            },
            "colorscale": [
             [
              0.0,
              "#0d0887"
             ],
             [
              0.1111111111111111,
              "#46039f"
             ],
             [
              0.2222222222222222,
              "#7201a8"
             ],
             [
              0.3333333333333333,
              "#9c179e"
             ],
             [
              0.4444444444444444,
              "#bd3786"
             ],
             [
              0.5555555555555556,
              "#d8576b"
             ],
             [
              0.6666666666666666,
              "#ed7953"
             ],
             [
              0.7777777777777778,
              "#fb9f3a"
             ],
             [
              0.8888888888888888,
              "#fdca26"
             ],
             [
              1.0,
              "#f0f921"
             ]
            ]
           }
          ],
          "choropleth": [
           {
            "type": "choropleth",
            "colorbar": {
             "outlinewidth": 0,
             "ticks": ""
            }
           }
          ],
          "histogram2d": [
           {
            "type": "histogram2d",
            "colorbar": {
             "outlinewidth": 0,
             "ticks": ""
            },
            "colorscale": [
             [
              0.0,
              "#0d0887"
             ],
             [
              0.1111111111111111,
              "#46039f"
             ],
             [
              0.2222222222222222,
              "#7201a8"
             ],
             [
              0.3333333333333333,
              "#9c179e"
             ],
             [
              0.4444444444444444,
              "#bd3786"
             ],
             [
              0.5555555555555556,
              "#d8576b"
             ],
             [
              0.6666666666666666,
              "#ed7953"
             ],
             [
              0.7777777777777778,
              "#fb9f3a"
             ],
             [
              0.8888888888888888,
              "#fdca26"
             ],
             [
              1.0,
              "#f0f921"
             ]
            ]
           }
          ],
          "heatmap": [
           {
            "type": "heatmap",
            "colorbar": {
             "outlinewidth": 0,
             "ticks": ""
            },
            "colorscale": [
             [
              0.0,
              "#0d0887"
             ],
             [
              0.1111111111111111,
              "#46039f"
             ],
             [
              0.2222222222222222,
              "#7201a8"
             ],
             [
              0.3333333333333333,
              "#9c179e"
             ],
             [
              0.4444444444444444,
              "#bd3786"
             ],
             [
              0.5555555555555556,
              "#d8576b"
             ],
             [
              0.6666666666666666,
              "#ed7953"
             ],
             [
              0.7777777777777778,
              "#fb9f3a"
             ],
             [
              0.8888888888888888,
              "#fdca26"
             ],
             [
              1.0,
              "#f0f921"
             ]
            ]
           }
          ],
          "heatmapgl": [
           {
            "type": "heatmapgl",
            "colorbar": {
             "outlinewidth": 0,
             "ticks": ""
            },
            "colorscale": [
             [
              0.0,
              "#0d0887"
             ],
             [
              0.1111111111111111,
              "#46039f"
             ],
             [
              0.2222222222222222,
              "#7201a8"
             ],
             [
              0.3333333333333333,
              "#9c179e"
             ],
             [
              0.4444444444444444,
              "#bd3786"
             ],
             [
              0.5555555555555556,
              "#d8576b"
             ],
             [
              0.6666666666666666,
              "#ed7953"
             ],
             [
              0.7777777777777778,
              "#fb9f3a"
             ],
             [
              0.8888888888888888,
              "#fdca26"
             ],
             [
              1.0,
              "#f0f921"
             ]
            ]
           }
          ],
          "contourcarpet": [
           {
            "type": "contourcarpet",
            "colorbar": {
             "outlinewidth": 0,
             "ticks": ""
            }
           }
          ],
          "contour": [
           {
            "type": "contour",
            "colorbar": {
             "outlinewidth": 0,
             "ticks": ""
            },
            "colorscale": [
             [
              0.0,
              "#0d0887"
             ],
             [
              0.1111111111111111,
              "#46039f"
             ],
             [
              0.2222222222222222,
              "#7201a8"
             ],
             [
              0.3333333333333333,
              "#9c179e"
             ],
             [
              0.4444444444444444,
              "#bd3786"
             ],
             [
              0.5555555555555556,
              "#d8576b"
             ],
             [
              0.6666666666666666,
              "#ed7953"
             ],
             [
              0.7777777777777778,
              "#fb9f3a"
             ],
             [
              0.8888888888888888,
              "#fdca26"
             ],
             [
              1.0,
              "#f0f921"
             ]
            ]
           }
          ],
          "surface": [
           {
            "type": "surface",
            "colorbar": {
             "outlinewidth": 0,
             "ticks": ""
            },
            "colorscale": [
             [
              0.0,
              "#0d0887"
             ],
             [
              0.1111111111111111,
              "#46039f"
             ],
             [
              0.2222222222222222,
              "#7201a8"
             ],
             [
              0.3333333333333333,
              "#9c179e"
             ],
             [
              0.4444444444444444,
              "#bd3786"
             ],
             [
              0.5555555555555556,
              "#d8576b"
             ],
             [
              0.6666666666666666,
              "#ed7953"
             ],
             [
              0.7777777777777778,
              "#fb9f3a"
             ],
             [
              0.8888888888888888,
              "#fdca26"
             ],
             [
              1.0,
              "#f0f921"
             ]
            ]
           }
          ],
          "mesh3d": [
           {
            "type": "mesh3d",
            "colorbar": {
             "outlinewidth": 0,
             "ticks": ""
            }
           }
          ],
          "scatter": [
           {
            "fillpattern": {
             "fillmode": "overlay",
             "size": 10,
             "solidity": 0.2
            },
            "type": "scatter"
           }
          ],
          "parcoords": [
           {
            "type": "parcoords",
            "line": {
             "colorbar": {
              "outlinewidth": 0,
              "ticks": ""
             }
            }
           }
          ],
          "scatterpolargl": [
           {
            "type": "scatterpolargl",
            "marker": {
             "colorbar": {
              "outlinewidth": 0,
              "ticks": ""
             }
            }
           }
          ],
          "bar": [
           {
            "error_x": {
             "color": "#2a3f5f"
            },
            "error_y": {
             "color": "#2a3f5f"
            },
            "marker": {
             "line": {
              "color": "#E5ECF6",
              "width": 0.5
             },
             "pattern": {
              "fillmode": "overlay",
              "size": 10,
              "solidity": 0.2
             }
            },
            "type": "bar"
           }
          ],
          "scattergeo": [
           {
            "type": "scattergeo",
            "marker": {
             "colorbar": {
              "outlinewidth": 0,
              "ticks": ""
             }
            }
           }
          ],
          "scatterpolar": [
           {
            "type": "scatterpolar",
            "marker": {
             "colorbar": {
              "outlinewidth": 0,
              "ticks": ""
             }
            }
           }
          ],
          "histogram": [
           {
            "marker": {
             "pattern": {
              "fillmode": "overlay",
              "size": 10,
              "solidity": 0.2
             }
            },
            "type": "histogram"
           }
          ],
          "scattergl": [
           {
            "type": "scattergl",
            "marker": {
             "colorbar": {
              "outlinewidth": 0,
              "ticks": ""
             }
            }
           }
          ],
          "scatter3d": [
           {
            "type": "scatter3d",
            "line": {
             "colorbar": {
              "outlinewidth": 0,
              "ticks": ""
             }
            },
            "marker": {
             "colorbar": {
              "outlinewidth": 0,
              "ticks": ""
             }
            }
           }
          ],
          "scattermapbox": [
           {
            "type": "scattermapbox",
            "marker": {
             "colorbar": {
              "outlinewidth": 0,
              "ticks": ""
             }
            }
           }
          ],
          "scatterternary": [
           {
            "type": "scatterternary",
            "marker": {
             "colorbar": {
              "outlinewidth": 0,
              "ticks": ""
             }
            }
           }
          ],
          "scattercarpet": [
           {
            "type": "scattercarpet",
            "marker": {
             "colorbar": {
              "outlinewidth": 0,
              "ticks": ""
             }
            }
           }
          ],
          "carpet": [
           {
            "aaxis": {
             "endlinecolor": "#2a3f5f",
             "gridcolor": "white",
             "linecolor": "white",
             "minorgridcolor": "white",
             "startlinecolor": "#2a3f5f"
            },
            "baxis": {
             "endlinecolor": "#2a3f5f",
             "gridcolor": "white",
             "linecolor": "white",
             "minorgridcolor": "white",
             "startlinecolor": "#2a3f5f"
            },
            "type": "carpet"
           }
          ],
          "table": [
           {
            "cells": {
             "fill": {
              "color": "#EBF0F8"
             },
             "line": {
              "color": "white"
             }
            },
            "header": {
             "fill": {
              "color": "#C8D4E3"
             },
             "line": {
              "color": "white"
             }
            },
            "type": "table"
           }
          ],
          "barpolar": [
           {
            "marker": {
             "line": {
              "color": "#E5ECF6",
              "width": 0.5
             },
             "pattern": {
              "fillmode": "overlay",
              "size": 10,
              "solidity": 0.2
             }
            },
            "type": "barpolar"
           }
          ],
          "pie": [
           {
            "automargin": true,
            "type": "pie"
           }
          ]
         },
         "layout": {
          "autotypenumbers": "strict",
          "colorway": [
           "#636efa",
           "#EF553B",
           "#00cc96",
           "#ab63fa",
           "#FFA15A",
           "#19d3f3",
           "#FF6692",
           "#B6E880",
           "#FF97FF",
           "#FECB52"
          ],
          "font": {
           "color": "#2a3f5f"
          },
          "hovermode": "closest",
          "hoverlabel": {
           "align": "left"
          },
          "paper_bgcolor": "white",
          "plot_bgcolor": "#E5ECF6",
          "polar": {
           "bgcolor": "#E5ECF6",
           "angularaxis": {
            "gridcolor": "white",
            "linecolor": "white",
            "ticks": ""
           },
           "radialaxis": {
            "gridcolor": "white",
            "linecolor": "white",
            "ticks": ""
           }
          },
          "ternary": {
           "bgcolor": "#E5ECF6",
           "aaxis": {
            "gridcolor": "white",
            "linecolor": "white",
            "ticks": ""
           },
           "baxis": {
            "gridcolor": "white",
            "linecolor": "white",
            "ticks": ""
           },
           "caxis": {
            "gridcolor": "white",
            "linecolor": "white",
            "ticks": ""
           }
          },
          "coloraxis": {
           "colorbar": {
            "outlinewidth": 0,
            "ticks": ""
           }
          },
          "colorscale": {
           "sequential": [
            [
             0.0,
             "#0d0887"
            ],
            [
             0.1111111111111111,
             "#46039f"
            ],
            [
             0.2222222222222222,
             "#7201a8"
            ],
            [
             0.3333333333333333,
             "#9c179e"
            ],
            [
             0.4444444444444444,
             "#bd3786"
            ],
            [
             0.5555555555555556,
             "#d8576b"
            ],
            [
             0.6666666666666666,
             "#ed7953"
            ],
            [
             0.7777777777777778,
             "#fb9f3a"
            ],
            [
             0.8888888888888888,
             "#fdca26"
            ],
            [
             1.0,
             "#f0f921"
            ]
           ],
           "sequentialminus": [
            [
             0.0,
             "#0d0887"
            ],
            [
             0.1111111111111111,
             "#46039f"
            ],
            [
             0.2222222222222222,
             "#7201a8"
            ],
            [
             0.3333333333333333,
             "#9c179e"
            ],
            [
             0.4444444444444444,
             "#bd3786"
            ],
            [
             0.5555555555555556,
             "#d8576b"
            ],
            [
             0.6666666666666666,
             "#ed7953"
            ],
            [
             0.7777777777777778,
             "#fb9f3a"
            ],
            [
             0.8888888888888888,
             "#fdca26"
            ],
            [
             1.0,
             "#f0f921"
            ]
           ],
           "diverging": [
            [
             0,
             "#8e0152"
            ],
            [
             0.1,
             "#c51b7d"
            ],
            [
             0.2,
             "#de77ae"
            ],
            [
             0.3,
             "#f1b6da"
            ],
            [
             0.4,
             "#fde0ef"
            ],
            [
             0.5,
             "#f7f7f7"
            ],
            [
             0.6,
             "#e6f5d0"
            ],
            [
             0.7,
             "#b8e186"
            ],
            [
             0.8,
             "#7fbc41"
            ],
            [
             0.9,
             "#4d9221"
            ],
            [
             1,
             "#276419"
            ]
           ]
          },
          "xaxis": {
           "gridcolor": "white",
           "linecolor": "white",
           "ticks": "",
           "title": {
            "standoff": 15
           },
           "zerolinecolor": "white",
           "automargin": true,
           "zerolinewidth": 2
          },
          "yaxis": {
           "gridcolor": "white",
           "linecolor": "white",
           "ticks": "",
           "title": {
            "standoff": 15
           },
           "zerolinecolor": "white",
           "automargin": true,
           "zerolinewidth": 2
          },
          "scene": {
           "xaxis": {
            "backgroundcolor": "#E5ECF6",
            "gridcolor": "white",
            "linecolor": "white",
            "showbackground": true,
            "ticks": "",
            "zerolinecolor": "white",
            "gridwidth": 2
           },
           "yaxis": {
            "backgroundcolor": "#E5ECF6",
            "gridcolor": "white",
            "linecolor": "white",
            "showbackground": true,
            "ticks": "",
            "zerolinecolor": "white",
            "gridwidth": 2
           },
           "zaxis": {
            "backgroundcolor": "#E5ECF6",
            "gridcolor": "white",
            "linecolor": "white",
            "showbackground": true,
            "ticks": "",
            "zerolinecolor": "white",
            "gridwidth": 2
           }
          },
          "shapedefaults": {
           "line": {
            "color": "#2a3f5f"
           }
          },
          "annotationdefaults": {
           "arrowcolor": "#2a3f5f",
           "arrowhead": 0,
           "arrowwidth": 1
          },
          "geo": {
           "bgcolor": "white",
           "landcolor": "#E5ECF6",
           "subunitcolor": "white",
           "showland": true,
           "showlakes": true,
           "lakecolor": "white"
          },
          "title": {
           "x": 0.05
          },
          "mapbox": {
           "style": "light"
          }
         }
        },
        "scene": {
         "aspectmode": "cube",
         "xaxis": {
          "title": {
           "text": "x"
          }
         },
         "yaxis": {
          "title": {
           "text": "y"
          }
         },
         "zaxis": {
          "title": {
           "text": "z"
          }
         }
        },
        "title": {
         "text": "0_9G"
        },
        "width": 700,
        "height": 700
       },
       "config": {
        "plotlyServerURL": "https://plot.ly"
       }
      },
      "text/html": "<div>                            <div id=\"2a77bb29-7f88-49dc-b1d2-25f2fd0b3caa\" class=\"plotly-graph-div\" style=\"height:700px; width:700px;\"></div>            <script type=\"text/javascript\">                require([\"plotly\"], function(Plotly) {                    window.PLOTLYENV=window.PLOTLYENV || {};                                    if (document.getElementById(\"2a77bb29-7f88-49dc-b1d2-25f2fd0b3caa\")) {                    Plotly.newPlot(                        \"2a77bb29-7f88-49dc-b1d2-25f2fd0b3caa\",                        [{\"mode\":\"markers\",\"x\":[112.5,37.5,-102.5,112.5,57.5,87.5,17.5,-27.5,-87.5,17.5,107.5,67.5,-102.5,-112.5,-102.5,-72.5,-102.5,67.5,-112.5,-92.5,-97.5,-27.5,112.5,-22.5,47.5,67.5,-82.5,-112.5,-17.5,67.5,-27.5,107.5,107.5,112.5,112.5,32.5,102.5,57.5,7.5,-12.5,72.5,-102.5,112.5,-7.5,-97.5,-37.5,77.5,-97.5,-97.5,-37.5,-97.5,112.5,12.5,-62.5,-17.5,-87.5,-107.5,87.5,112.5,112.5,-7.5,22.5,62.5,92.5,-82.5,87.5,112.5,52.5,-62.5,-62.5,-92.5,-37.5,-2.5,27.5,92.5,-72.5,107.5,-102.5,-57.5,92.5,107.5,37.5,102.5,-72.5,52.5,-102.5,-97.5,-62.5,-42.5,-107.5,-57.5,92.5,72.5,62.5,-42.5,-32.5,-107.5,72.5,-62.5,102.5,-17.5,-87.5,107.5,82.5,2.5,62.5,-52.5,2.5,32.5,107.5,-97.5,-12.5,107.5,67.5,27.5,82.5,87.5,-107.5,-112.5,112.5,-57.5,-72.5,102.5,92.5,47.5,-112.5,-12.5,107.5,97.5,72.5,-12.5,12.5,-7.5,97.5,-67.5,-7.5,-97.5,-107.5,67.5,112.5,-62.5,-102.5,-42.5,-52.5,107.5,-92.5,97.5,42.5,-87.5,47.5,-62.5,67.5,87.5,-92.5,-62.5,107.5,102.5,112.5,-37.5,107.5,92.5,12.5,87.5,-97.5,-97.5,-112.5,-12.5,37.5,37.5,112.5,97.5,77.5,-37.5,82.5,-77.5,52.5,92.5,87.5,-62.5,-107.5,32.5,52.5,72.5,42.5,107.5,107.5,-97.5,97.5,107.5,-32.5,62.5,-17.5,97.5,87.5,2.5,57.5,-92.5,-82.5,-107.5,-102.5,-97.5,22.5,97.5,87.5,-37.5,-92.5,-107.5,-107.5,107.5,-62.5,2.5,-47.5,107.5,52.5,-97.5,-17.5,37.5,-107.5,-87.5,112.5,7.5,-102.5,107.5,-92.5,-2.5,97.5,102.5,-37.5,92.5,-22.5,112.5,107.5,-12.5,-17.5,47.5,-97.5,-97.5,37.5,-77.5,-102.5,-67.5,37.5,2.5,87.5,-77.5,22.5,12.5,12.5,-77.5,-102.5,-32.5,52.5,97.5,82.5,-7.5,107.5,107.5,47.5,-92.5,112.5,17.5,-102.5,-67.5,-27.5,67.5,-82.5,82.5,-2.5,42.5,107.5,-102.5,97.5,37.5,107.5,2.5,82.5,-102.5,112.5,-67.5,72.5,102.5,27.5,92.5,47.5,-102.5,-67.5,72.5,47.5,57.5,-47.5,97.5,-87.5,57.5,92.5,62.5,-72.5,97.5,77.5,62.5,57.5,22.5,52.5,-72.5,-102.5,27.5,32.5,-32.5,-7.5,-107.5,102.5,-72.5,92.5,22.5,67.5,-97.5,42.5,92.5,-92.5,37.5,42.5,102.5,72.5,77.5,17.5,97.5,-22.5,62.5,107.5,52.5,-87.5,2.5,-72.5,67.5,-2.5,-37.5,87.5,-82.5,57.5,47.5,-97.5,102.5,12.5,22.5,-47.5,-102.5,107.5,37.5,57.5,102.5,107.5,102.5,42.5,-92.5,-57.5,-62.5,27.5,-82.5,-42.5,-32.5,107.5,-92.5,-92.5,-17.5,87.5,-82.5,92.5,82.5,57.5,-77.5,-97.5,47.5,-87.5,-102.5,-12.5,-107.5,37.5,97.5,-97.5,-107.5,-27.5,102.5,-67.5,107.5,-97.5,-62.5,-42.5,27.5,107.5,-107.5,-47.5,-32.5,12.5,97.5,-97.5,87.5,62.5,-87.5,-102.5,102.5,107.5,17.5,32.5,107.5,57.5,72.5,-37.5,92.5,-27.5,27.5,-72.5,-42.5,72.5,107.5,97.5,-77.5,-92.5,92.5,-67.5,-47.5,-87.5,-92.5,62.5,-77.5,47.5,57.5,42.5,97.5,-82.5,-87.5,-22.5,-42.5,-87.5,102.5,-57.5,87.5,107.5,-12.5,102.5,77.5,-102.5,-107.5,-102.5,-22.5,102.5,-87.5,-97.5,-32.5,102.5,-67.5,102.5,-97.5,-107.5,-57.5,72.5,-107.5,62.5,87.5,-102.5,-77.5,-2.5,-27.5,17.5,-107.5,-97.5,62.5,32.5,107.5,97.5,-102.5,-22.5,22.5,-107.5,77.5,-2.5,97.5,82.5,27.5,-102.5,-12.5,97.5,-22.5,-17.5,-67.5,-72.5,-72.5,-92.5,-17.5,107.5,-82.5,67.5,87.5,-37.5,27.5,-72.5,102.5,27.5,77.5,67.5,-87.5,-22.5,17.5,-12.5,-32.5,-67.5,102.5,22.5,42.5,67.5,-77.5,-102.5,-7.5,-22.5,22.5,-102.5,17.5,-102.5,-87.5,57.5,22.5,32.5,87.5,107.5,-87.5,-17.5,-102.5,97.5,102.5,-62.5,22.5,82.5,67.5,-102.5,82.5,82.5,107.5,-77.5,107.5,77.5,-97.5,-67.5,22.5,-92.5,37.5,17.5,-87.5,87.5,-37.5,-87.5,97.5,-17.5,-12.5,77.5,92.5,37.5,77.5,107.5,-7.5,47.5,52.5,-52.5,102.5,47.5,37.5,2.5,37.5,-67.5,97.5,-17.5,52.5,-102.5,42.5,-72.5,-57.5,-37.5,-92.5,32.5,72.5,-32.5,102.5,2.5,2.5,27.5,102.5,77.5,62.5,32.5,17.5,-2.5,47.5,107.5,-57.5,-87.5,62.5,-52.5,-87.5,-72.5,-42.5,27.5,-112.5,-77.5,-82.5,-2.5,-52.5,-52.5,82.5,27.5,-112.5,82.5,-57.5,-107.5,-82.5,-67.5,-82.5,107.5,-42.5,-97.5,92.5,2.5,-102.5,-92.5,7.5,-97.5,-62.5,-112.5,-57.5,-112.5,-7.5,112.5,7.5,-107.5,92.5,37.5,-62.5,-72.5,-97.5,-47.5,-102.5,77.5,87.5,-107.5,107.5,-32.5,82.5,-107.5,-107.5,-57.5,-62.5,97.5,22.5,87.5,67.5,112.5,-107.5,-67.5,-2.5,-112.5,-92.5,27.5,72.5,97.5,72.5,-7.5,-92.5,32.5,107.5,-17.5,-52.5,-37.5,-92.5,47.5,-112.5,-97.5,52.5,2.5,-42.5,-92.5,-92.5,-32.5,-52.5,107.5,-107.5,-112.5,37.5,-47.5,-107.5,52.5,-82.5,102.5,42.5,-107.5,22.5,-102.5,107.5,-102.5,47.5,-67.5,-42.5,-107.5,2.5,-92.5,-32.5,107.5,102.5,-77.5,47.5,-107.5,17.5,92.5,102.5,-87.5,42.5,-77.5,-77.5,62.5,87.5,-62.5,12.5,82.5,107.5,-32.5,-97.5,-102.5,47.5,97.5,22.5,77.5,-112.5,42.5,42.5,-67.5,-107.5,32.5,-22.5,-107.5,37.5,107.5,62.5,112.5,-37.5,42.5,-57.5,102.5,-92.5,-42.5,87.5,107.5,-32.5,112.5,112.5,-112.5,97.5,12.5,47.5,57.5,-67.5,-27.5,37.5,-12.5,-27.5,102.5,-97.5,102.5,-107.5,-7.5,-7.5,107.5,-17.5,-2.5,112.5,-82.5,-112.5,-2.5,102.5,107.5,42.5,-107.5,-82.5,37.5,-47.5,-47.5,-102.5,27.5,97.5,-107.5,-67.5,52.5,67.5,-57.5,-107.5,87.5,97.5,87.5,-102.5,32.5,-107.5,27.5,-107.5,67.5,-87.5,22.5,62.5,-47.5,-22.5,87.5,-112.5,-107.5,2.5,102.5,77.5,-12.5,-52.5,92.5,107.5,62.5,-12.5,-72.5,-102.5,-42.5,-87.5,-107.5,57.5,-7.5,-97.5,-102.5,-37.5,-67.5,107.5,72.5,-22.5,17.5,87.5,27.5,72.5,-82.5,27.5,-107.5,-107.5,-2.5,-107.5,27.5,102.5,-2.5,87.5,107.5,-107.5,107.5,57.5,12.5,107.5,97.5,-107.5,27.5,87.5,47.5,-107.5,82.5,87.5,-42.5,67.5,77.5,87.5,22.5,82.5,-102.5,72.5,112.5,-107.5,-107.5,-92.5,7.5,-107.5,-42.5,102.5,37.5,102.5,77.5,-32.5,72.5,-107.5,107.5,62.5,107.5,-107.5,-107.5,77.5,27.5,37.5,-97.5,37.5,-7.5,-52.5,97.5,7.5,107.5,107.5,-7.5,-77.5,22.5,-67.5,-67.5,92.5,107.5,-92.5,107.5,12.5,-52.5,-67.5,27.5,-92.5,-62.5,72.5,-107.5,82.5,67.5,17.5,-82.5,-2.5,-72.5,-92.5,42.5,12.5,-32.5,-77.5,-42.5,82.5,-107.5,32.5,47.5,-97.5,-107.5,-82.5,2.5,102.5,77.5,22.5,52.5,-2.5,-72.5,102.5,52.5,-102.5,-32.5,67.5,-82.5,-92.5,17.5,-12.5,37.5,102.5,82.5,37.5,77.5,-92.5,2.5,-27.5,77.5,12.5,-22.5,77.5,-32.5,77.5,-62.5,-87.5,27.5,-22.5,62.5,82.5,107.5,-87.5,-92.5,72.5,-82.5,82.5,107.5,-82.5,-77.5,-57.5,-22.5,102.5,-102.5,87.5,-92.5,-102.5,102.5,107.5,57.5,102.5,-107.5,-62.5,97.5,-67.5,-62.5,-42.5,-12.5,57.5,77.5,-27.5,67.5,-92.5,-92.5,-7.5,7.5,-17.5,37.5,-7.5,82.5,-52.5,62.5,27.5,-87.5,-37.5,47.5,-107.5,17.5,47.5,82.5,-32.5,107.5,97.5,32.5,-7.5,-107.5,12.5,-107.5,47.5,-72.5,-52.5,-107.5,-107.5,97.5,77.5,102.5,-2.5,-62.5,72.5,107.5,57.5,27.5,72.5,72.5,37.5,12.5,-87.5,12.5,7.5,-92.5,107.5,57.5,-92.5,-72.5,47.5,-37.5,-42.5,102.5,77.5,-102.5,-87.5,7.5,-92.5,102.5,72.5,97.5,-52.5,-82.5,-57.5,-22.5,-107.5,52.5,102.5,102.5,62.5,-67.5,67.5,97.5,97.5,17.5,17.5,-47.5,-107.5,27.5,47.5,-42.5,-102.5,-87.5,-17.5,2.5,37.5,102.5,107.5,-52.5,102.5,-22.5,77.5,22.5,-32.5,82.5,-42.5,2.5],\"y\":[22.5,107.5,-47.5,22.5,-97.5,-72.5,112.5,-107.5,-72.5,-112.5,-32.5,92.5,42.5,2.5,-47.5,-87.5,-47.5,92.5,2.5,-62.5,57.5,107.5,17.5,-112.5,-102.5,-92.5,77.5,22.5,112.5,92.5,-112.5,42.5,37.5,2.5,-7.5,107.5,47.5,97.5,-112.5,-112.5,-87.5,-42.5,2.5,112.5,57.5,107.5,77.5,57.5,62.5,-102.5,-52.5,-2.5,112.5,92.5,-112.5,-72.5,-27.5,-67.5,-17.5,7.5,112.5,-112.5,97.5,-67.5,-72.5,72.5,17.5,102.5,-92.5,-92.5,-62.5,107.5,112.5,-107.5,-67.5,-82.5,27.5,47.5,92.5,67.5,-27.5,107.5,-42.5,87.5,97.5,42.5,-52.5,92.5,102.5,22.5,97.5,-67.5,-82.5,92.5,102.5,-107.5,27.5,87.5,92.5,-42.5,-107.5,72.5,32.5,-72.5,112.5,92.5,-97.5,112.5,107.5,32.5,-52.5,112.5,-37.5,-87.5,107.5,77.5,72.5,-27.5,-2.5,7.5,-92.5,82.5,42.5,-62.5,-102.5,-2.5,112.5,37.5,-52.5,82.5,112.5,112.5,112.5,-52.5,-87.5,112.5,52.5,-22.5,-87.5,2.5,92.5,47.5,-102.5,97.5,-22.5,-62.5,-52.5,102.5,72.5,-102.5,-87.5,87.5,-67.5,-62.5,92.5,-37.5,-47.5,17.5,-102.5,37.5,62.5,112.5,-67.5,52.5,-47.5,-12.5,112.5,-107.5,107.5,22.5,52.5,82.5,-102.5,-72.5,-77.5,97.5,62.5,-62.5,-87.5,-2.5,-102.5,-92.5,82.5,102.5,-7.5,7.5,-52.5,52.5,-7.5,-102.5,-92.5,-107.5,57.5,-67.5,112.5,92.5,-57.5,-67.5,17.5,32.5,-47.5,-107.5,47.5,-67.5,102.5,-57.5,22.5,2.5,-27.5,-87.5,-107.5,-97.5,-17.5,97.5,52.5,-107.5,102.5,-17.5,-62.5,12.5,112.5,-37.5,-22.5,-57.5,112.5,-52.5,47.5,102.5,57.5,107.5,-2.5,-22.5,112.5,107.5,-97.5,52.5,-52.5,-102.5,77.5,-32.5,87.5,102.5,112.5,67.5,-72.5,-107.5,107.5,-107.5,77.5,32.5,102.5,97.5,52.5,-77.5,-107.5,-22.5,-32.5,97.5,-57.5,2.5,-107.5,32.5,-87.5,107.5,-82.5,-67.5,72.5,107.5,-102.5,32.5,42.5,52.5,102.5,-27.5,107.5,-72.5,37.5,-2.5,-87.5,77.5,-27.5,-107.5,-57.5,-97.5,-37.5,87.5,-82.5,-97.5,-92.5,97.5,-47.5,-62.5,-92.5,-62.5,92.5,-77.5,-52.5,-77.5,87.5,-92.5,107.5,-97.5,82.5,-42.5,107.5,102.5,-102.5,107.5,-22.5,-32.5,82.5,52.5,107.5,-87.5,-47.5,102.5,-57.5,-57.5,102.5,-97.5,-42.5,82.5,77.5,107.5,47.5,107.5,87.5,12.5,97.5,-62.5,107.5,82.5,-82.5,-107.5,-97.5,-67.5,72.5,-92.5,97.5,52.5,-32.5,-107.5,-107.5,97.5,-37.5,-12.5,-102.5,92.5,32.5,-12.5,-42.5,102.5,57.5,92.5,87.5,-102.5,-67.5,102.5,-102.5,-12.5,57.5,57.5,107.5,62.5,-72.5,57.5,-67.5,92.5,-72.5,47.5,-97.5,62.5,32.5,107.5,-7.5,-102.5,-47.5,-42.5,7.5,-102.5,-42.5,-82.5,-17.5,-42.5,-87.5,97.5,-107.5,-12.5,-17.5,97.5,-102.5,-107.5,-47.5,47.5,-67.5,87.5,-62.5,27.5,-37.5,-2.5,107.5,102.5,2.5,92.5,-72.5,102.5,-57.5,102.5,-102.5,77.5,-97.5,82.5,12.5,52.5,-67.5,-47.5,57.5,-77.5,-92.5,62.5,52.5,-87.5,77.5,-92.5,92.5,102.5,47.5,-67.5,-62.5,-102.5,-97.5,-52.5,32.5,-87.5,-57.5,-7.5,107.5,-37.5,-72.5,-22.5,12.5,32.5,-102.5,32.5,57.5,-32.5,102.5,37.5,-82.5,27.5,-37.5,-12.5,-87.5,82.5,2.5,87.5,62.5,12.5,72.5,-107.5,102.5,107.5,-12.5,-42.5,-87.5,-102.5,-17.5,-47.5,32.5,107.5,-102.5,12.5,77.5,107.5,-47.5,72.5,107.5,-32.5,107.5,-47.5,-102.5,-102.5,-82.5,-77.5,77.5,52.5,-102.5,22.5,-67.5,87.5,62.5,102.5,107.5,-72.5,32.5,107.5,-72.5,87.5,62.5,107.5,-102.5,107.5,-97.5,82.5,-22.5,107.5,97.5,-82.5,-72.5,-17.5,107.5,107.5,107.5,-22.5,-102.5,32.5,62.5,-87.5,102.5,102.5,62.5,7.5,-57.5,-102.5,17.5,-42.5,-27.5,-82.5,107.5,67.5,-82.5,2.5,67.5,-62.5,2.5,-67.5,7.5,-67.5,42.5,-77.5,-102.5,-47.5,102.5,-102.5,62.5,62.5,-97.5,-52.5,37.5,107.5,-102.5,-72.5,-52.5,-97.5,-67.5,7.5,107.5,97.5,92.5,-87.5,-22.5,97.5,102.5,107.5,-97.5,-77.5,-42.5,-102.5,-92.5,-27.5,97.5,-72.5,-82.5,-97.5,52.5,102.5,-77.5,-97.5,27.5,2.5,2.5,-107.5,-42.5,-82.5,-92.5,107.5,-112.5,-112.5,102.5,32.5,-97.5,77.5,92.5,-102.5,-67.5,87.5,102.5,-107.5,17.5,82.5,-72.5,-112.5,97.5,-97.5,-77.5,-107.5,-7.5,-77.5,-97.5,42.5,72.5,92.5,77.5,27.5,107.5,-57.5,-62.5,-112.5,-42.5,62.5,-112.5,-57.5,-92.5,-2.5,-97.5,17.5,-112.5,-2.5,112.5,37.5,-62.5,107.5,-92.5,87.5,57.5,102.5,47.5,-77.5,72.5,37.5,-37.5,107.5,77.5,42.5,-27.5,97.5,-92.5,57.5,-107.5,-72.5,-92.5,-22.5,-32.5,-87.5,112.5,-22.5,-62.5,107.5,-87.5,-57.5,-87.5,112.5,-62.5,107.5,37.5,-112.5,-102.5,-107.5,62.5,-102.5,-22.5,-57.5,-97.5,112.5,102.5,62.5,-62.5,107.5,-97.5,17.5,32.5,-7.5,-102.5,102.5,-32.5,-97.5,-72.5,37.5,-102.5,-22.5,107.5,-42.5,-22.5,47.5,-102.5,-87.5,-102.5,32.5,112.5,-62.5,-107.5,-27.5,47.5,-82.5,-97.5,22.5,112.5,-62.5,42.5,67.5,-102.5,82.5,82.5,-92.5,67.5,-92.5,-107.5,-72.5,32.5,-107.5,52.5,42.5,-97.5,47.5,107.5,82.5,-17.5,102.5,-102.5,87.5,-37.5,107.5,107.5,-37.5,102.5,27.5,92.5,-12.5,-102.5,-102.5,-92.5,42.5,-62.5,-102.5,-67.5,27.5,-107.5,-2.5,7.5,12.5,-52.5,112.5,-97.5,92.5,87.5,107.5,107.5,112.5,-107.5,-42.5,-57.5,37.5,-32.5,-112.5,-112.5,-32.5,-107.5,-112.5,2.5,77.5,17.5,112.5,47.5,12.5,102.5,2.5,77.5,102.5,-97.5,97.5,32.5,107.5,-52.5,-17.5,-87.5,-97.5,-82.5,-97.5,12.5,62.5,47.5,-62.5,-32.5,102.5,-17.5,-107.5,12.5,87.5,-67.5,-107.5,87.5,-97.5,-107.5,-67.5,7.5,2.5,107.5,-37.5,-77.5,107.5,97.5,62.5,-7.5,-87.5,107.5,-77.5,42.5,-102.5,67.5,27.5,92.5,-107.5,-47.5,37.5,102.5,-87.5,17.5,82.5,107.5,107.5,-62.5,-107.5,-82.5,-72.5,-107.5,-17.5,-12.5,107.5,-22.5,-107.5,-32.5,112.5,67.5,12.5,-17.5,-22.5,92.5,107.5,-7.5,-47.5,12.5,-107.5,67.5,-97.5,7.5,77.5,67.5,-97.5,87.5,-77.5,67.5,-107.5,67.5,-37.5,-82.5,-7.5,2.5,-27.5,-62.5,112.5,27.5,102.5,32.5,102.5,32.5,72.5,102.5,-77.5,-12.5,-2.5,-87.5,-17.5,-27.5,-7.5,-72.5,-102.5,102.5,-47.5,102.5,107.5,-92.5,-47.5,107.5,-17.5,2.5,107.5,72.5,-102.5,-87.5,82.5,-57.5,-12.5,-57.5,17.5,107.5,-97.5,82.5,-107.5,52.5,87.5,77.5,17.5,-72.5,82.5,-107.5,-67.5,107.5,-77.5,52.5,-97.5,-107.5,102.5,-72.5,-97.5,-72.5,-22.5,102.5,-97.5,52.5,12.5,-67.5,107.5,37.5,72.5,-107.5,97.5,-107.5,-77.5,37.5,97.5,-37.5,102.5,82.5,72.5,52.5,107.5,-107.5,-102.5,42.5,-72.5,-102.5,77.5,52.5,107.5,102.5,77.5,107.5,-107.5,-72.5,-102.5,72.5,-87.5,-62.5,-102.5,107.5,-87.5,72.5,22.5,62.5,57.5,-82.5,-67.5,-67.5,2.5,67.5,-72.5,-87.5,-102.5,-32.5,-37.5,62.5,-52.5,-22.5,-32.5,-7.5,-87.5,27.5,-2.5,82.5,47.5,82.5,-87.5,-97.5,-107.5,-87.5,-72.5,-102.5,82.5,52.5,-52.5,-107.5,-107.5,107.5,-97.5,-107.5,67.5,92.5,-87.5,102.5,-62.5,-97.5,-97.5,-22.5,-107.5,92.5,-67.5,102.5,-7.5,-42.5,-102.5,-107.5,2.5,107.5,-7.5,97.5,-77.5,92.5,7.5,-12.5,42.5,72.5,-32.5,107.5,87.5,77.5,12.5,-87.5,102.5,-77.5,-77.5,97.5,-107.5,-62.5,-107.5,-107.5,52.5,-12.5,87.5,-57.5,-82.5,-97.5,-102.5,97.5,27.5,72.5,-27.5,62.5,107.5,-52.5,-17.5,77.5,-42.5,92.5,62.5,-87.5,102.5,2.5,92.5,-17.5,-12.5,82.5,-82.5,-82.5,37.5,-42.5,102.5,102.5,97.5,-2.5,102.5,92.5,-97.5,-17.5,-62.5,-102.5,107.5,-97.5,-22.5,7.5,-92.5,32.5,102.5,72.5,-102.5,102.5,62.5,-97.5,2.5],\"z\":[-490.0,-490.0,-490.0,-490.0,-490.0,-490.0,-490.0,-490.0,-490.0,-490.0,-490.0,-490.0,-490.0,-490.0,-490.0,-490.0,-490.0,-490.0,-490.0,-490.0,-490.0,-490.0,-490.0,-490.0,-490.0,-490.0,-490.0,-490.0,-490.0,-490.0,-490.0,-490.0,-490.0,-490.0,-490.0,-490.0,-490.0,-490.0,-490.0,-490.0,-490.0,-490.0,-490.0,-490.0,-490.0,-490.0,-490.0,-490.0,-490.0,-490.0,-490.0,-490.0,-490.0,-490.0,-490.0,-490.0,-490.0,-490.0,-490.0,-490.0,-490.0,-490.0,-490.0,-490.0,-490.0,-490.0,-490.0,-490.0,-490.0,-490.0,-490.0,-490.0,-490.0,-490.0,-490.0,-490.0,-490.0,-490.0,-490.0,-490.0,-490.0,-490.0,-490.0,-490.0,-490.0,-490.0,-490.0,-490.0,-490.0,-490.0,-490.0,-490.0,-490.0,-490.0,-490.0,-490.0,-490.0,-490.0,-490.0,-490.0,-490.0,-490.0,-490.0,-490.0,-490.0,-490.0,-490.0,-490.0,-490.0,-490.0,-490.0,-490.0,-490.0,-490.0,-490.0,-490.0,-490.0,-490.0,-490.0,-490.0,-490.0,-490.0,-490.0,-490.0,-490.0,-490.0,-490.0,-490.0,-490.0,-490.0,-490.0,-490.0,-490.0,-490.0,-490.0,-490.0,-490.0,-490.0,-490.0,-490.0,-490.0,-490.0,-490.0,-490.0,-490.0,-490.0,-490.0,-490.0,-490.0,-490.0,-490.0,-490.0,-490.0,-490.0,-490.0,-490.0,-490.0,-490.0,-490.0,-490.0,-490.0,-490.0,-490.0,-490.0,-490.0,-490.0,-490.0,-490.0,-490.0,-490.0,-490.0,-490.0,-490.0,-490.0,-490.0,-490.0,-490.0,-490.0,-490.0,-490.0,-490.0,-490.0,-490.0,-490.0,-490.0,-490.0,-490.0,-490.0,-490.0,-490.0,-490.0,-490.0,-490.0,-490.0,-490.0,-490.0,-490.0,-490.0,-490.0,-490.0,-490.0,-490.0,-490.0,-490.0,-490.0,-490.0,-490.0,-490.0,-490.0,-490.0,-490.0,-490.0,-490.0,-490.0,-490.0,-490.0,-490.0,-490.0,-490.0,-490.0,-490.0,-490.0,-490.0,-490.0,-490.0,-490.0,-490.0,-490.0,-490.0,-490.0,-490.0,-490.0,-490.0,-490.0,-490.0,-490.0,-490.0,-490.0,-490.0,-490.0,-490.0,-490.0,-490.0,-490.0,-490.0,-490.0,-490.0,-490.0,-490.0,-490.0,-490.0,-490.0,-490.0,-490.0,-490.0,-490.0,-490.0,-490.0,-490.0,-490.0,-490.0,-490.0,-490.0,-490.0,-490.0,-490.0,-490.0,-490.0,-490.0,-490.0,-490.0,-490.0,-490.0,-490.0,-490.0,-490.0,-490.0,-490.0,-490.0,-490.0,-490.0,-490.0,-490.0,-490.0,-490.0,-490.0,-490.0,-490.0,-490.0,-490.0,-490.0,-490.0,-490.0,-490.0,-490.0,-490.0,-490.0,-490.0,-490.0,-490.0,-490.0,-490.0,-490.0,-490.0,-490.0,-490.0,-490.0,-490.0,-490.0,-490.0,-490.0,-490.0,-490.0,-490.0,-490.0,-490.0,-490.0,-490.0,-490.0,-490.0,-490.0,-490.0,-490.0,-490.0,-490.0,-490.0,-490.0,-490.0,-490.0,-490.0,-490.0,-490.0,-490.0,-490.0,-490.0,-490.0,-490.0,-490.0,-490.0,-490.0,-490.0,-490.0,-490.0,-490.0,-490.0,-490.0,-490.0,-490.0,-490.0,-490.0,-490.0,-490.0,-490.0,-490.0,-490.0,-490.0,-490.0,-490.0,-490.0,-490.0,-490.0,-490.0,-490.0,-490.0,-490.0,-490.0,-490.0,-490.0,-490.0,-490.0,-490.0,-490.0,-490.0,-490.0,-490.0,-490.0,-490.0,-490.0,-490.0,-490.0,-490.0,-490.0,-490.0,-490.0,-490.0,-490.0,-490.0,-490.0,-490.0,-490.0,-490.0,-490.0,-490.0,-490.0,-490.0,-490.0,-490.0,-490.0,-490.0,-490.0,-490.0,-490.0,-490.0,-490.0,-490.0,-490.0,-490.0,-490.0,-490.0,-490.0,-490.0,-490.0,-490.0,-490.0,-490.0,-490.0,-490.0,-490.0,-490.0,-490.0,-490.0,-490.0,-490.0,-490.0,-490.0,-490.0,-490.0,-490.0,-490.0,-490.0,-490.0,-490.0,-490.0,-490.0,-490.0,-490.0,-490.0,-490.0,-490.0,-490.0,-490.0,-490.0,-490.0,-490.0,-490.0,-490.0,-490.0,-490.0,-490.0,-490.0,-490.0,-490.0,-490.0,-490.0,-490.0,-490.0,-490.0,-490.0,-490.0,-490.0,-490.0,-490.0,-490.0,-490.0,-490.0,-490.0,-490.0,-490.0,-490.0,-490.0,-490.0,-490.0,-490.0,-490.0,-490.0,-490.0,-490.0,-490.0,-490.0,-490.0,-490.0,-490.0,-490.0,-490.0,-490.0,-490.0,-490.0,-490.0,-490.0,-490.0,-490.0,-490.0,-490.0,-490.0,-490.0,-490.0,-490.0,-490.0,-490.0,-490.0,-490.0,-490.0,-490.0,-490.0,-490.0,-490.0,-490.0,-490.0,-490.0,-490.0,-490.0,-490.0,-490.0,-490.0,-490.0,-490.0,-490.0,-490.0,-490.0,-490.0,-490.0,-490.0,-490.0,-490.0,-490.0,-490.0,-490.0,-490.0,-490.0,-490.0,-490.0,-490.0,-490.0,-490.0,-490.0,-490.0,-490.0,-490.0,-490.0,-490.0,-490.0,-490.0,-490.0,-490.0,-490.0,-490.0,-490.0,-490.0,-490.0,-490.0,-490.0,-490.0,-490.0,-490.0,-490.0,-490.0,-490.0,-490.0,-490.0,-490.0,-490.0,-490.0,-490.0,-490.0,-490.0,-490.0,-490.0,-490.0,-490.0,-490.0,-490.0,-490.0,-490.0,-490.0,-490.0,-490.0,-490.0,-490.0,-490.0,-490.0,-490.0,-490.0,-490.0,-490.0,-490.0,-490.0,-490.0,-490.0,-490.0,-490.0,-490.0,-490.0,-490.0,-490.0,-490.0,-490.0,-490.0,-490.0,-490.0,-490.0,-490.0,-490.0,-490.0,-490.0,-490.0,-490.0,-490.0,-490.0,-490.0,-490.0,-490.0,-490.0,-490.0,-490.0,-490.0,-490.0,-490.0,-490.0,-490.0,-490.0,-490.0,-490.0,-490.0,-490.0,-490.0,-490.0,-490.0,-490.0,-490.0,-490.0,-490.0,-490.0,-490.0,-490.0,-490.0,-490.0,-490.0,-490.0,-490.0,-490.0,-490.0,-490.0,-490.0,-490.0,-490.0,-490.0,-490.0,-490.0,-490.0,-490.0,-490.0,-490.0,-490.0,-490.0,-490.0,-490.0,-490.0,-490.0,-490.0,-490.0,-490.0,-490.0,-490.0,-490.0,-490.0,-490.0,-490.0,-490.0,-490.0,-490.0,-490.0,-490.0,-490.0,-490.0,-490.0,-490.0,-490.0,-490.0,-490.0,-490.0,-490.0,-490.0,-490.0,-490.0,-490.0,-490.0,-490.0,-490.0,-490.0,-490.0,-490.0,-490.0,-490.0,-490.0,-490.0,-490.0,-490.0,-490.0,-490.0,-490.0,-490.0,-490.0,-490.0,-490.0,-490.0,-490.0,-490.0,-490.0,-490.0,-490.0,-490.0,-490.0,-490.0,-490.0,-490.0,-490.0,-490.0,-490.0,-490.0,-490.0,-490.0,-490.0,-490.0,-490.0,-490.0,-490.0,-490.0,-490.0,-490.0,-490.0,-490.0,-490.0,-490.0,-490.0,-490.0,-490.0,-490.0,-490.0,-490.0,-490.0,-490.0,-490.0,-490.0,-490.0,-490.0,-490.0,-490.0,-490.0,-490.0,-490.0,-490.0,-490.0,-490.0,-490.0,-490.0,-490.0,-490.0,-490.0,-490.0,-490.0,-490.0,-490.0,-490.0,-490.0,-490.0,-490.0,-490.0,-490.0,-490.0,-490.0,-490.0,-490.0,-490.0,-490.0,-490.0,-490.0,-490.0,-490.0,-490.0,-490.0,-490.0,-490.0,-490.0,-490.0,-490.0,-490.0,-490.0,-490.0,-490.0,-490.0,-490.0,-490.0,-490.0,-490.0,-490.0,-490.0,-490.0,-490.0,-490.0,-490.0,-490.0,-490.0,-490.0,-490.0,-490.0,-490.0,-490.0,-490.0,-490.0,-490.0,-490.0,-490.0,-490.0,-490.0,-490.0,-490.0,-490.0,-490.0,-490.0,-490.0,-490.0,-490.0,-490.0,-490.0,-490.0,-490.0,-490.0,-490.0,-490.0,-490.0,-490.0,-490.0,-490.0,-490.0,-490.0,-490.0,-490.0,-490.0,-490.0,-490.0,-490.0,-490.0,-490.0,-490.0,-490.0,-490.0,-490.0,-490.0,-490.0,-490.0,-490.0,-490.0,-490.0,-490.0,-490.0,-490.0,-490.0,-490.0,-490.0,-490.0,-490.0,-490.0,-490.0,-490.0,-490.0,-490.0,-490.0,-490.0,-490.0,-490.0,-490.0,-490.0,-490.0,-490.0,-490.0,-490.0,-490.0,-490.0,-490.0,-490.0,-490.0,-490.0,-490.0,-490.0,-490.0,-490.0,-490.0,-490.0,-490.0,-490.0,-490.0,-490.0,-490.0,-490.0,-490.0,-490.0,-490.0,-490.0,-490.0,-490.0,-490.0,-490.0,-490.0,-490.0,-490.0,-490.0,-490.0,-490.0,-490.0,-490.0,-490.0,-490.0,-490.0,-490.0,-490.0,-490.0,-490.0,-490.0,-490.0,-490.0,-490.0,-490.0,-490.0,-490.0,-490.0,-490.0,-490.0,-490.0,-490.0,-490.0,-490.0,-490.0,-490.0,-490.0,-490.0,-490.0,-490.0,-490.0,-490.0,-490.0,-490.0,-490.0,-490.0,-490.0,-490.0,-490.0,-490.0,-490.0,-490.0,-490.0,-490.0,-490.0,-490.0,-490.0,-490.0,-490.0,-490.0,-490.0,-490.0,-490.0,-490.0,-490.0,-490.0,-490.0,-490.0,-490.0,-490.0,-490.0,-490.0,-490.0,-490.0,-490.0,-490.0,-490.0,-490.0,-490.0,-490.0,-490.0,-490.0,-490.0,-490.0,-490.0,-490.0,-490.0,-490.0,-490.0,-490.0,-490.0,-490.0,-490.0,-490.0,-490.0,-490.0,-490.0,-490.0,-490.0,-490.0,-490.0,-490.0,-490.0,-490.0,-490.0,-490.0,-490.0,-490.0,-490.0,-490.0,-490.0,-490.0,-490.0,-490.0,-490.0,-490.0,-490.0,-490.0,-490.0,-490.0,-490.0,-490.0,-490.0,-490.0,-490.0,-490.0,-490.0,-490.0,-490.0,-490.0,-490.0,-490.0,-490.0,-490.0,-490.0,-490.0,-490.0,-490.0,-490.0,-490.0,-490.0,-490.0,-490.0,-490.0,-490.0,-490.0,-490.0,-490.0,-490.0,-490.0,-490.0,-490.0,-490.0,-490.0,-490.0,-490.0,-490.0,-490.0,-490.0,-490.0,-490.0,-490.0,-490.0,-490.0,-490.0,-490.0,-490.0,-490.0,-490.0,-490.0,-490.0,-490.0,-490.0,-490.0,-490.0,-490.0,-490.0,-490.0,-490.0,-490.0,-490.0,-490.0,-490.0,-490.0,-490.0,-490.0,-490.0,-490.0,-490.0,-490.0,-490.0,-490.0,-490.0,-490.0,-490.0,-490.0,-490.0,-490.0,-490.0,-490.0,-490.0],\"type\":\"scatter3d\"}],                        {\"template\":{\"data\":{\"histogram2dcontour\":[{\"type\":\"histogram2dcontour\",\"colorbar\":{\"outlinewidth\":0,\"ticks\":\"\"},\"colorscale\":[[0.0,\"#0d0887\"],[0.1111111111111111,\"#46039f\"],[0.2222222222222222,\"#7201a8\"],[0.3333333333333333,\"#9c179e\"],[0.4444444444444444,\"#bd3786\"],[0.5555555555555556,\"#d8576b\"],[0.6666666666666666,\"#ed7953\"],[0.7777777777777778,\"#fb9f3a\"],[0.8888888888888888,\"#fdca26\"],[1.0,\"#f0f921\"]]}],\"choropleth\":[{\"type\":\"choropleth\",\"colorbar\":{\"outlinewidth\":0,\"ticks\":\"\"}}],\"histogram2d\":[{\"type\":\"histogram2d\",\"colorbar\":{\"outlinewidth\":0,\"ticks\":\"\"},\"colorscale\":[[0.0,\"#0d0887\"],[0.1111111111111111,\"#46039f\"],[0.2222222222222222,\"#7201a8\"],[0.3333333333333333,\"#9c179e\"],[0.4444444444444444,\"#bd3786\"],[0.5555555555555556,\"#d8576b\"],[0.6666666666666666,\"#ed7953\"],[0.7777777777777778,\"#fb9f3a\"],[0.8888888888888888,\"#fdca26\"],[1.0,\"#f0f921\"]]}],\"heatmap\":[{\"type\":\"heatmap\",\"colorbar\":{\"outlinewidth\":0,\"ticks\":\"\"},\"colorscale\":[[0.0,\"#0d0887\"],[0.1111111111111111,\"#46039f\"],[0.2222222222222222,\"#7201a8\"],[0.3333333333333333,\"#9c179e\"],[0.4444444444444444,\"#bd3786\"],[0.5555555555555556,\"#d8576b\"],[0.6666666666666666,\"#ed7953\"],[0.7777777777777778,\"#fb9f3a\"],[0.8888888888888888,\"#fdca26\"],[1.0,\"#f0f921\"]]}],\"heatmapgl\":[{\"type\":\"heatmapgl\",\"colorbar\":{\"outlinewidth\":0,\"ticks\":\"\"},\"colorscale\":[[0.0,\"#0d0887\"],[0.1111111111111111,\"#46039f\"],[0.2222222222222222,\"#7201a8\"],[0.3333333333333333,\"#9c179e\"],[0.4444444444444444,\"#bd3786\"],[0.5555555555555556,\"#d8576b\"],[0.6666666666666666,\"#ed7953\"],[0.7777777777777778,\"#fb9f3a\"],[0.8888888888888888,\"#fdca26\"],[1.0,\"#f0f921\"]]}],\"contourcarpet\":[{\"type\":\"contourcarpet\",\"colorbar\":{\"outlinewidth\":0,\"ticks\":\"\"}}],\"contour\":[{\"type\":\"contour\",\"colorbar\":{\"outlinewidth\":0,\"ticks\":\"\"},\"colorscale\":[[0.0,\"#0d0887\"],[0.1111111111111111,\"#46039f\"],[0.2222222222222222,\"#7201a8\"],[0.3333333333333333,\"#9c179e\"],[0.4444444444444444,\"#bd3786\"],[0.5555555555555556,\"#d8576b\"],[0.6666666666666666,\"#ed7953\"],[0.7777777777777778,\"#fb9f3a\"],[0.8888888888888888,\"#fdca26\"],[1.0,\"#f0f921\"]]}],\"surface\":[{\"type\":\"surface\",\"colorbar\":{\"outlinewidth\":0,\"ticks\":\"\"},\"colorscale\":[[0.0,\"#0d0887\"],[0.1111111111111111,\"#46039f\"],[0.2222222222222222,\"#7201a8\"],[0.3333333333333333,\"#9c179e\"],[0.4444444444444444,\"#bd3786\"],[0.5555555555555556,\"#d8576b\"],[0.6666666666666666,\"#ed7953\"],[0.7777777777777778,\"#fb9f3a\"],[0.8888888888888888,\"#fdca26\"],[1.0,\"#f0f921\"]]}],\"mesh3d\":[{\"type\":\"mesh3d\",\"colorbar\":{\"outlinewidth\":0,\"ticks\":\"\"}}],\"scatter\":[{\"fillpattern\":{\"fillmode\":\"overlay\",\"size\":10,\"solidity\":0.2},\"type\":\"scatter\"}],\"parcoords\":[{\"type\":\"parcoords\",\"line\":{\"colorbar\":{\"outlinewidth\":0,\"ticks\":\"\"}}}],\"scatterpolargl\":[{\"type\":\"scatterpolargl\",\"marker\":{\"colorbar\":{\"outlinewidth\":0,\"ticks\":\"\"}}}],\"bar\":[{\"error_x\":{\"color\":\"#2a3f5f\"},\"error_y\":{\"color\":\"#2a3f5f\"},\"marker\":{\"line\":{\"color\":\"#E5ECF6\",\"width\":0.5},\"pattern\":{\"fillmode\":\"overlay\",\"size\":10,\"solidity\":0.2}},\"type\":\"bar\"}],\"scattergeo\":[{\"type\":\"scattergeo\",\"marker\":{\"colorbar\":{\"outlinewidth\":0,\"ticks\":\"\"}}}],\"scatterpolar\":[{\"type\":\"scatterpolar\",\"marker\":{\"colorbar\":{\"outlinewidth\":0,\"ticks\":\"\"}}}],\"histogram\":[{\"marker\":{\"pattern\":{\"fillmode\":\"overlay\",\"size\":10,\"solidity\":0.2}},\"type\":\"histogram\"}],\"scattergl\":[{\"type\":\"scattergl\",\"marker\":{\"colorbar\":{\"outlinewidth\":0,\"ticks\":\"\"}}}],\"scatter3d\":[{\"type\":\"scatter3d\",\"line\":{\"colorbar\":{\"outlinewidth\":0,\"ticks\":\"\"}},\"marker\":{\"colorbar\":{\"outlinewidth\":0,\"ticks\":\"\"}}}],\"scattermapbox\":[{\"type\":\"scattermapbox\",\"marker\":{\"colorbar\":{\"outlinewidth\":0,\"ticks\":\"\"}}}],\"scatterternary\":[{\"type\":\"scatterternary\",\"marker\":{\"colorbar\":{\"outlinewidth\":0,\"ticks\":\"\"}}}],\"scattercarpet\":[{\"type\":\"scattercarpet\",\"marker\":{\"colorbar\":{\"outlinewidth\":0,\"ticks\":\"\"}}}],\"carpet\":[{\"aaxis\":{\"endlinecolor\":\"#2a3f5f\",\"gridcolor\":\"white\",\"linecolor\":\"white\",\"minorgridcolor\":\"white\",\"startlinecolor\":\"#2a3f5f\"},\"baxis\":{\"endlinecolor\":\"#2a3f5f\",\"gridcolor\":\"white\",\"linecolor\":\"white\",\"minorgridcolor\":\"white\",\"startlinecolor\":\"#2a3f5f\"},\"type\":\"carpet\"}],\"table\":[{\"cells\":{\"fill\":{\"color\":\"#EBF0F8\"},\"line\":{\"color\":\"white\"}},\"header\":{\"fill\":{\"color\":\"#C8D4E3\"},\"line\":{\"color\":\"white\"}},\"type\":\"table\"}],\"barpolar\":[{\"marker\":{\"line\":{\"color\":\"#E5ECF6\",\"width\":0.5},\"pattern\":{\"fillmode\":\"overlay\",\"size\":10,\"solidity\":0.2}},\"type\":\"barpolar\"}],\"pie\":[{\"automargin\":true,\"type\":\"pie\"}]},\"layout\":{\"autotypenumbers\":\"strict\",\"colorway\":[\"#636efa\",\"#EF553B\",\"#00cc96\",\"#ab63fa\",\"#FFA15A\",\"#19d3f3\",\"#FF6692\",\"#B6E880\",\"#FF97FF\",\"#FECB52\"],\"font\":{\"color\":\"#2a3f5f\"},\"hovermode\":\"closest\",\"hoverlabel\":{\"align\":\"left\"},\"paper_bgcolor\":\"white\",\"plot_bgcolor\":\"#E5ECF6\",\"polar\":{\"bgcolor\":\"#E5ECF6\",\"angularaxis\":{\"gridcolor\":\"white\",\"linecolor\":\"white\",\"ticks\":\"\"},\"radialaxis\":{\"gridcolor\":\"white\",\"linecolor\":\"white\",\"ticks\":\"\"}},\"ternary\":{\"bgcolor\":\"#E5ECF6\",\"aaxis\":{\"gridcolor\":\"white\",\"linecolor\":\"white\",\"ticks\":\"\"},\"baxis\":{\"gridcolor\":\"white\",\"linecolor\":\"white\",\"ticks\":\"\"},\"caxis\":{\"gridcolor\":\"white\",\"linecolor\":\"white\",\"ticks\":\"\"}},\"coloraxis\":{\"colorbar\":{\"outlinewidth\":0,\"ticks\":\"\"}},\"colorscale\":{\"sequential\":[[0.0,\"#0d0887\"],[0.1111111111111111,\"#46039f\"],[0.2222222222222222,\"#7201a8\"],[0.3333333333333333,\"#9c179e\"],[0.4444444444444444,\"#bd3786\"],[0.5555555555555556,\"#d8576b\"],[0.6666666666666666,\"#ed7953\"],[0.7777777777777778,\"#fb9f3a\"],[0.8888888888888888,\"#fdca26\"],[1.0,\"#f0f921\"]],\"sequentialminus\":[[0.0,\"#0d0887\"],[0.1111111111111111,\"#46039f\"],[0.2222222222222222,\"#7201a8\"],[0.3333333333333333,\"#9c179e\"],[0.4444444444444444,\"#bd3786\"],[0.5555555555555556,\"#d8576b\"],[0.6666666666666666,\"#ed7953\"],[0.7777777777777778,\"#fb9f3a\"],[0.8888888888888888,\"#fdca26\"],[1.0,\"#f0f921\"]],\"diverging\":[[0,\"#8e0152\"],[0.1,\"#c51b7d\"],[0.2,\"#de77ae\"],[0.3,\"#f1b6da\"],[0.4,\"#fde0ef\"],[0.5,\"#f7f7f7\"],[0.6,\"#e6f5d0\"],[0.7,\"#b8e186\"],[0.8,\"#7fbc41\"],[0.9,\"#4d9221\"],[1,\"#276419\"]]},\"xaxis\":{\"gridcolor\":\"white\",\"linecolor\":\"white\",\"ticks\":\"\",\"title\":{\"standoff\":15},\"zerolinecolor\":\"white\",\"automargin\":true,\"zerolinewidth\":2},\"yaxis\":{\"gridcolor\":\"white\",\"linecolor\":\"white\",\"ticks\":\"\",\"title\":{\"standoff\":15},\"zerolinecolor\":\"white\",\"automargin\":true,\"zerolinewidth\":2},\"scene\":{\"xaxis\":{\"backgroundcolor\":\"#E5ECF6\",\"gridcolor\":\"white\",\"linecolor\":\"white\",\"showbackground\":true,\"ticks\":\"\",\"zerolinecolor\":\"white\",\"gridwidth\":2},\"yaxis\":{\"backgroundcolor\":\"#E5ECF6\",\"gridcolor\":\"white\",\"linecolor\":\"white\",\"showbackground\":true,\"ticks\":\"\",\"zerolinecolor\":\"white\",\"gridwidth\":2},\"zaxis\":{\"backgroundcolor\":\"#E5ECF6\",\"gridcolor\":\"white\",\"linecolor\":\"white\",\"showbackground\":true,\"ticks\":\"\",\"zerolinecolor\":\"white\",\"gridwidth\":2}},\"shapedefaults\":{\"line\":{\"color\":\"#2a3f5f\"}},\"annotationdefaults\":{\"arrowcolor\":\"#2a3f5f\",\"arrowhead\":0,\"arrowwidth\":1},\"geo\":{\"bgcolor\":\"white\",\"landcolor\":\"#E5ECF6\",\"subunitcolor\":\"white\",\"showland\":true,\"showlakes\":true,\"lakecolor\":\"white\"},\"title\":{\"x\":0.05},\"mapbox\":{\"style\":\"light\"}}},\"scene\":{\"aspectmode\":\"cube\",\"xaxis\":{\"title\":{\"text\":\"x\"}},\"yaxis\":{\"title\":{\"text\":\"y\"}},\"zaxis\":{\"title\":{\"text\":\"z\"}}},\"title\":{\"text\":\"0_9G\"},\"width\":700,\"height\":700},                        {\"responsive\": true}                    ).then(function(){\n                            \nvar gd = document.getElementById('2a77bb29-7f88-49dc-b1d2-25f2fd0b3caa');\nvar x = new MutationObserver(function (mutations, observer) {{\n        var display = window.getComputedStyle(gd).display;\n        if (!display || display === 'none') {{\n            console.log([gd, 'removed!']);\n            Plotly.purge(gd);\n            observer.disconnect();\n        }}\n}});\n\n// Listen for the removal of the full notebook cells\nvar notebookContainer = gd.closest('#notebook-container');\nif (notebookContainer) {{\n    x.observe(notebookContainer, {childList: true});\n}}\n\n// Listen for the clearing of the current output cell\nvar outputEl = gd.closest('.output');\nif (outputEl) {{\n    x.observe(outputEl, {childList: true});\n}}\n\n                        })                };                });            </script>        </div>"
     },
     "metadata": {},
     "output_type": "display_data"
    }
   ],
   "source": [
    "plot_pos(initial, '0_31G', '3d')\n",
    "plot_pos(second, '0_32G', 'xy')\n",
    "plot_pos(third, '0_9G', '3d')\n"
   ],
   "metadata": {
    "collapsed": false,
    "ExecuteTime": {
     "end_time": "2023-06-04T15:03:58.994327900Z",
     "start_time": "2023-06-04T15:03:58.945370200Z"
    }
   }
  },
  {
   "cell_type": "code",
   "execution_count": 16,
   "outputs": [
    {
     "ename": "NameError",
     "evalue": "name 'data' is not defined",
     "output_type": "error",
     "traceback": [
      "\u001B[1;31m---------------------------------------------------------------------------\u001B[0m",
      "\u001B[1;31mNameError\u001B[0m                                 Traceback (most recent call last)",
      "Cell \u001B[1;32mIn[16], line 3\u001B[0m\n\u001B[0;32m      1\u001B[0m \u001B[38;5;66;03m#create lines from origin to each point\u001B[39;00m\n\u001B[0;32m      2\u001B[0m origin \u001B[38;5;241m=\u001B[39m np\u001B[38;5;241m.\u001B[39marray([\u001B[38;5;241m0\u001B[39m,\u001B[38;5;241m0\u001B[39m,\u001B[38;5;241m-\u001B[39m\u001B[38;5;241m500\u001B[39m])\n\u001B[1;32m----> 3\u001B[0m lines \u001B[38;5;241m=\u001B[39m np\u001B[38;5;241m.\u001B[39mzeros((\u001B[38;5;28mlen\u001B[39m(\u001B[43mdata\u001B[49m), \u001B[38;5;241m2\u001B[39m, \u001B[38;5;241m3\u001B[39m))\n\u001B[0;32m      4\u001B[0m \u001B[38;5;28;01mfor\u001B[39;00m i \u001B[38;5;129;01min\u001B[39;00m \u001B[38;5;28mrange\u001B[39m(\u001B[38;5;28mlen\u001B[39m(data)):\n\u001B[0;32m      5\u001B[0m     lines[i][\u001B[38;5;241m0\u001B[39m] \u001B[38;5;241m=\u001B[39m origin\n",
      "\u001B[1;31mNameError\u001B[0m: name 'data' is not defined"
     ]
    }
   ],
   "source": [
    "#create lines from origin to each point\n",
    "origin = np.array([0,0,-500])\n",
    "lines = np.zeros((len(data), 2, 3))\n",
    "for i in range(len(data)):\n",
    "    lines[i][0] = origin\n",
    "    lines[i][1] = data[i]\n",
    "print(lines)"
   ],
   "metadata": {
    "collapsed": false,
    "ExecuteTime": {
     "end_time": "2023-06-04T14:54:08.337284600Z",
     "start_time": "2023-06-04T14:54:08.279769700Z"
    }
   }
  },
  {
   "cell_type": "code",
   "execution_count": 42,
   "outputs": [
    {
     "name": "stdout",
     "output_type": "stream",
     "text": [
      "0\n",
      "[30. 25.  0.]\n",
      "1\n",
      "[-15.   0.   0.]\n",
      "2\n",
      "[5. 5. 0.]\n",
      "3\n",
      "[ 15. -15.   0.]\n",
      "4\n",
      "[-30.   5.   0.]\n",
      "5\n",
      "[15.  5.  0.]\n",
      "6\n",
      "[ 15. -30.   0.]\n",
      "7\n",
      "[ 5. 15.  0.]\n",
      "8\n",
      "[-40.  -5.   0.]\n",
      "9\n",
      "[20. 20.  0.]\n",
      "10\n",
      "[-10.   0.   0.]\n",
      "11\n",
      "[ 10. -35.   0.]\n",
      "12\n",
      "[5. 0. 0.]\n",
      "13\n",
      "[10. 15.  0.]\n",
      "14\n",
      "[-25. -15.   0.]\n",
      "15\n",
      "[0. 0. 0.]\n",
      "16\n",
      "[-5.  5.  0.]\n",
      "17\n",
      "[ 5. 30.  0.]\n",
      "18\n",
      "[5. 0. 0.]\n",
      "19\n",
      "[ 10. -30.   0.]\n",
      "20\n",
      "[-20.  25.   0.]\n",
      "21\n",
      "[ 15. -10.   0.]\n",
      "22\n",
      "[0. 0. 0.]\n"
     ]
    },
    {
     "name": "stderr",
     "output_type": "stream",
     "text": [
      "C:\\Users\\Stephanie\\AppData\\Local\\Temp\\ipykernel_3324\\335807945.py:14: RuntimeWarning:\n",
      "\n",
      "invalid value encountered in scalar divide\n",
      "\n"
     ]
    }
   ],
   "source": [
    "angle = cherenkov_angle(data)"
   ],
   "metadata": {
    "collapsed": false,
    "ExecuteTime": {
     "end_time": "2023-06-04T14:32:54.505010400Z",
     "start_time": "2023-06-04T14:32:54.456130200Z"
    }
   }
  },
  {
   "cell_type": "markdown",
   "source": [
    "# Plot the cherenkov angle"
   ],
   "metadata": {
    "collapsed": false
   }
  },
  {
   "cell_type": "code",
   "execution_count": null,
   "outputs": [],
   "source": [
    "def momentum(E, m):\n",
    "    return np.sqrt(E**2 - m**2)"
   ],
   "metadata": {
    "collapsed": false
   }
  },
  {
   "cell_type": "code",
   "execution_count": 25,
   "outputs": [],
   "source": [
    "def fit_circle(data):\n",
    "    x, y = data[:,0], data[:,1]\n",
    "    x_m, y_m = np.mean(x), np.mean(y)\n",
    "\n",
    "    def calc_R(xc, yc):\n",
    "        \"\"\" calculate the distance of each 2D points from the center (xc, yc) \"\"\"\n",
    "        return np.sqrt((x-xc)**2 + (y-yc)**2)\n",
    "\n",
    "    def f(c):\n",
    "        \"\"\" calculate the algebraic distance between the data points and the mean circle centered at c=(xc, yc) \"\"\"\n",
    "        Ri = calc_R(*c)\n",
    "        return Ri - Ri.mean()\n",
    "\n",
    "    center_estimate = x_m, y_m\n",
    "    center, _ = sp.optimize.leastsq(f, center_estimate)\n",
    "\n",
    "    xc, yc = center\n",
    "    Ri       = calc_R(*center)\n",
    "    R       = Ri.mean()\n",
    "    return xc, yc, R"
   ],
   "metadata": {
    "collapsed": false,
    "ExecuteTime": {
     "end_time": "2023-06-04T15:53:21.331241400Z",
     "start_time": "2023-06-04T15:53:21.309212800Z"
    }
   }
  },
  {
   "cell_type": "code",
   "execution_count": 30,
   "outputs": [
    {
     "name": "stdout",
     "output_type": "stream",
     "text": [
      "Center at (-0.23599393838940805, 0.2430185736353024) with radius 109.05464897964558\n",
      "-0.23599393838940805 0.2430185736353024 109.05464897964558\n"
     ]
    }
   ],
   "source": [
    "yc, zc, Rc = fit_circle(third)\n",
    "print(f\"Center at ({yc}, {zc}) with radius {Rc}\")\n",
    "print(yc, zc, Rc)"
   ],
   "metadata": {
    "collapsed": false,
    "ExecuteTime": {
     "end_time": "2023-06-04T15:56:29.265068200Z",
     "start_time": "2023-06-04T15:56:29.257552300Z"
    }
   }
  },
  {
   "cell_type": "code",
   "execution_count": 31,
   "outputs": [],
   "source": [
    "def plot_circle(xc, yc, R):\n",
    "    theta_fit = np.linspace(0, 2*np.pi, 180)\n",
    "    x_fit = xc + R*np.cos(theta_fit)\n",
    "    y_fit = yc + R*np.sin(theta_fit)\n",
    "    fig = go.Figure(data=go.Scatter(x=x_fit, y=y_fit, mode='lines'))\n",
    "    fig.update_layout(title='0_9G', xaxis_title='y', yaxis_title='z')\n",
    "    fig.update_layout(\n",
    "        width=500,\n",
    "        height=500,\n",
    "        margin=dict(\n",
    "            l=50,\n",
    "            r=50,\n",
    "            b=100,\n",
    "            t=100,\n",
    "            pad=4\n",
    "        ),\n",
    "        xaxis=dict(\n",
    "            showgrid=True,\n",
    "            zeroline=True,\n",
    "            showline=True,\n",
    "            showticklabels=True,\n",
    "            scaleratio=1\n",
    "        ),\n",
    "        yaxis=dict(\n",
    "            showgrid=True,\n",
    "            zeroline=True,\n",
    "            showline=True,\n",
    "            showticklabels=True,\n",
    "            scaleratio=1\n",
    "        )\n",
    "    )\n",
    "    fig.show()\n",
    "\n"
   ],
   "metadata": {
    "collapsed": false,
    "ExecuteTime": {
     "end_time": "2023-06-04T15:58:42.560163Z",
     "start_time": "2023-06-04T15:58:42.536093100Z"
    }
   }
  },
  {
   "cell_type": "code",
   "execution_count": 32,
   "outputs": [
    {
     "data": {
      "application/vnd.plotly.v1+json": {
       "data": [
        {
         "mode": "lines",
         "x": [
          108.81865504125616,
          108.75147762892155,
          108.55002815417993,
          108.21455480185524,
          107.74547087357064,
          107.14335427856273,
          106.40894682170004,
          105.54315328958296,
          104.54704033585067,
          103.42183516706892,
          102.16892403081705,
          100.78985050783753,
          99.28631361035144,
          97.66016568888341,
          95.91341015017413,
          94.04819898899265,
          92.06683013688868,
          89.97174463115152,
          87.76552360746334,
          85.45088511995198,
          83.0306807925608,
          80.50789230586103,
          77.88562772363522,
          75.16711766375687,
          72.35571131808412,
          69.45487232627084,
          66.4681745085786,
          63.39929746294653,
          60.25202203174354,
          57.03022564378821,
          53.73787753737409,
          50.37903387018659,
          46.95783272213536,
          43.47848899725891,
          39.945289230982326,
          36.36258630912534,
          32.73479410516709,
          29.066382042374332,
          25.36186958749264,
          21.62582068278414,
          17.86283812327173,
          14.077557886116814,
          10.274643419116897,
          6.458779895359267,
          2.6346684411094556,
          -1.1929796559546768,
          -5.019448751027628,
          -8.840024651828916,
          -12.650000426466224,
          -16.44468220235379,
          -20.219394949041785,
          -23.96948823783228,
          -27.690341971085946,
          -31.377372074161045,
          -35.026036142972245,
          -38.631839040211524,
          -42.19033843333662,
          -45.697150267504114,
          -49.147954166705034,
          -52.53849875644786,
          -55.86460690143262,
          -59.12218085176198,
          -62.307207291350565,
          -65.41576228231156,
          -68.44401609923037,
          -71.3882379473684,
          -74.24480055898515,
          -77.01018466211536,
          -79.6809833162957,
          -82.25390610989984,
          -84.72578321391036,
          -87.09356928713345,
          -89.35434722804521,
          -91.50533176864744,
          -93.54387290590469,
          -95.46745916653603,
          -97.27372070113836,
          -98.9604322038302,
          -100.5255156538179,
          -101.9670428755081,
          -103.28323791401078,
          -104.47247922310781,
          -105.5333016629902,
          -106.46439830530366,
          -107.2646220432784,
          -107.93298700495919,
          -108.46866976779522,
          -108.87101037309282,
          -109.13951313908153,
          -109.2738472715918,
          -109.2738472715918,
          -109.13951313908154,
          -108.87101037309282,
          -108.46866976779522,
          -107.9329870049592,
          -107.26462204327841,
          -106.46439830530369,
          -105.5333016629902,
          -104.47247922310784,
          -103.2832379140108,
          -101.96704287550811,
          -100.52551565381793,
          -98.96043220383022,
          -97.2737207011384,
          -95.46745916653606,
          -93.54387290590472,
          -91.5053317686475,
          -89.35434722804527,
          -87.09356928713349,
          -84.7257832139104,
          -82.2539061098999,
          -79.68098331629574,
          -77.01018466211538,
          -74.24480055898519,
          -71.38823794736847,
          -68.4440160992304,
          -65.41576228231163,
          -62.30720729135063,
          -59.12218085176209,
          -55.864606901432644,
          -52.53849875644793,
          -49.1479541667051,
          -45.69715026750423,
          -42.19033843333664,
          -38.631839040211595,
          -35.02603614297234,
          -31.37737207416116,
          -27.690341971085996,
          -23.969488237832355,
          -20.219394949041885,
          -16.444682202353818,
          -12.650000426466276,
          -8.840024651828992,
          -5.019448751027729,
          -1.1929796559547037,
          2.6346684411094046,
          6.458779895359192,
          10.274643419116797,
          14.07755788611679,
          17.862838123271658,
          21.625820682784042,
          25.36186958749252,
          29.066382042374283,
          32.73479410516701,
          36.36258630912524,
          39.9452892309823,
          43.47848899725886,
          46.95783272213528,
          50.379033870186504,
          53.73787753737407,
          57.03022564378817,
          60.25202203174348,
          63.39929746294643,
          66.46817450857858,
          69.45487232627079,
          72.35571131808405,
          75.16711766375678,
          77.8856277236352,
          80.50789230586099,
          83.03068079256073,
          85.4508851199519,
          87.76552360746331,
          89.97174463115148,
          92.06683013688864,
          94.04819898899264,
          95.9134101501741,
          97.66016568888337,
          99.28631361035141,
          100.78985050783751,
          102.16892403081702,
          103.42183516706888,
          104.54704033585064,
          105.54315328958295,
          106.40894682170003,
          107.14335427856271,
          107.74547087357062,
          108.21455480185524,
          108.55002815417991,
          108.75147762892155,
          108.81865504125616
         ],
         "y": [
          0.2430185736353024,
          4.0702245307660725,
          7.8927153878056995,
          11.705781853644615,
          15.504726247979745,
          19.284868288834996,
          23.041550858647053,
          26.770145741812755,
          30.466059326629363,
          34.12473826460302,
          37.741675080153065,
          41.31241372380119,
          44.83255506200385,
          48.29776229686446,
          51.7037663090485,
          55.046370917318704,
          58.32145804821117,
          61.52499280948274,
          64.65302846107967,
          67.70171127750324,
          70.66728529558172,
          73.54609694179973,
          76.33459953348391,
          79.02935764829965,
          81.62705135667565,
          84.12448031194164,
          86.51856769314092,
          88.8063639956595,
          90.98505066500216,
          93.05194356923865,
          95.00449630584184,
          96.84030333884384,
          98.5571029624453,
          100.15278008742646,
          101.62536884692733,
          102.97305501838662,
          104.19417825865558,
          105.28723414953302,
          106.25087605120169,
          107.08391676128231,
          107.78532997746136,
          108.3542515618909,
          108.7899806058023,
          109.0919802930227,
          109.25987856133005,
          109.293468560832,
          109.19270890880404,
          108.95772374067285,
          108.58880255708202,
          108.08639986722854,
          107.45113462890963,
          106.68378948596956,
          105.78530980408605,
          104.75680250608411,
          103.5995347082122,
          102.31493215906092,
          100.9045774830472,
          99.37020823062853,
          97.71371473764853,
          95.93713779645213,
          94.04266614163873,
          92.03263375355127,
          89.90951698282315,
          87.67593149952583,
          85.33462907067513,
          82.88849417006722,
          80.34054042462004,
          77.69390690159874,
          74.9518542412996,
          72.11776063995586,
          69.19511768781585,
          66.18752606751961,
          63.09869111807481,
          59.93241826989579,
          56.69260835653128,
          53.383252808855005,
          50.00842873764166,
          46.57229391058488,
          43.07908162994696,
          39.533095517149626,
          35.93870421073265,
          32.30033598421096,
          28.622473290462402,
          24.90964723936634,
          21.166432015497005,
          17.39743924274956,
          13.607312302840322,
          9.800720614682293,
          5.982353881682201,
          2.1569163140479124,
          -1.6708791667772325,
          -5.496316734411521,
          -9.314683467411616,
          -13.121275155569643,
          -16.911402095478877,
          -20.680394868226326,
          -24.423610092095657,
          -28.136436143191773,
          -31.81429883694028,
          -35.452667063461966,
          -39.04705836987895,
          -42.59304448267629,
          -46.08625676331421,
          -49.52239159037099,
          -52.897215661584326,
          -56.2065712092606,
          -59.44638112262513,
          -62.61265397080414,
          -65.70148892024896,
          -68.7090805405452,
          -71.63172349268521,
          -74.46581709402896,
          -77.20786975432814,
          -79.85450327734938,
          -82.40245702279658,
          -84.84859192340453,
          -87.18989435225518,
          -89.42347983555251,
          -91.54659660628062,
          -93.55662899436813,
          -95.45110064918151,
          -97.2276775903779,
          -98.88417108335788,
          -100.4185403357766,
          -101.8288950117903,
          -103.11349756094158,
          -104.27076535881349,
          -105.29927265681545,
          -106.19775233869896,
          -106.96509748163902,
          -107.60036271995794,
          -108.10276540981141,
          -108.47168659340224,
          -108.70667176153343,
          -108.8074314135614,
          -108.77384141405946,
          -108.60594314575212,
          -108.3039434585317,
          -107.86821441462031,
          -107.29929283019078,
          -106.59787961401173,
          -105.76483890393114,
          -104.80119700226244,
          -103.70814111138499,
          -102.48701787111607,
          -101.13933169965674,
          -99.66674294015587,
          -98.07106581517475,
          -96.35426619157329,
          -94.51845915857126,
          -92.56590642196808,
          -90.4990135177316,
          -88.32032684838896,
          -86.03253054587034,
          -83.63844316467109,
          -81.14101420940511,
          -78.54332050102914,
          -75.84856238621333,
          -73.06005979452918,
          -70.18124814831121,
          -67.21567413023274,
          -64.16699131380912,
          -61.03895566221219,
          -57.83542090094065,
          -54.560333770048125,
          -51.21772916177793,
          -47.811725149593926,
          -44.34651791473333,
          -40.82637657653061,
          -37.255637932882514,
          -33.63870111733249,
          -29.980022179358862,
          -26.284108594542186,
          -22.55551371137651,
          -18.798831141564477,
          -15.018689100709258,
          -11.219744706374057,
          -7.406678240535168,
          -3.584187383495565,
          0.2430185736352757
         ],
         "type": "scatter"
        }
       ],
       "layout": {
        "template": {
         "data": {
          "histogram2dcontour": [
           {
            "type": "histogram2dcontour",
            "colorbar": {
             "outlinewidth": 0,
             "ticks": ""
            },
            "colorscale": [
             [
              0.0,
              "#0d0887"
             ],
             [
              0.1111111111111111,
              "#46039f"
             ],
             [
              0.2222222222222222,
              "#7201a8"
             ],
             [
              0.3333333333333333,
              "#9c179e"
             ],
             [
              0.4444444444444444,
              "#bd3786"
             ],
             [
              0.5555555555555556,
              "#d8576b"
             ],
             [
              0.6666666666666666,
              "#ed7953"
             ],
             [
              0.7777777777777778,
              "#fb9f3a"
             ],
             [
              0.8888888888888888,
              "#fdca26"
             ],
             [
              1.0,
              "#f0f921"
             ]
            ]
           }
          ],
          "choropleth": [
           {
            "type": "choropleth",
            "colorbar": {
             "outlinewidth": 0,
             "ticks": ""
            }
           }
          ],
          "histogram2d": [
           {
            "type": "histogram2d",
            "colorbar": {
             "outlinewidth": 0,
             "ticks": ""
            },
            "colorscale": [
             [
              0.0,
              "#0d0887"
             ],
             [
              0.1111111111111111,
              "#46039f"
             ],
             [
              0.2222222222222222,
              "#7201a8"
             ],
             [
              0.3333333333333333,
              "#9c179e"
             ],
             [
              0.4444444444444444,
              "#bd3786"
             ],
             [
              0.5555555555555556,
              "#d8576b"
             ],
             [
              0.6666666666666666,
              "#ed7953"
             ],
             [
              0.7777777777777778,
              "#fb9f3a"
             ],
             [
              0.8888888888888888,
              "#fdca26"
             ],
             [
              1.0,
              "#f0f921"
             ]
            ]
           }
          ],
          "heatmap": [
           {
            "type": "heatmap",
            "colorbar": {
             "outlinewidth": 0,
             "ticks": ""
            },
            "colorscale": [
             [
              0.0,
              "#0d0887"
             ],
             [
              0.1111111111111111,
              "#46039f"
             ],
             [
              0.2222222222222222,
              "#7201a8"
             ],
             [
              0.3333333333333333,
              "#9c179e"
             ],
             [
              0.4444444444444444,
              "#bd3786"
             ],
             [
              0.5555555555555556,
              "#d8576b"
             ],
             [
              0.6666666666666666,
              "#ed7953"
             ],
             [
              0.7777777777777778,
              "#fb9f3a"
             ],
             [
              0.8888888888888888,
              "#fdca26"
             ],
             [
              1.0,
              "#f0f921"
             ]
            ]
           }
          ],
          "heatmapgl": [
           {
            "type": "heatmapgl",
            "colorbar": {
             "outlinewidth": 0,
             "ticks": ""
            },
            "colorscale": [
             [
              0.0,
              "#0d0887"
             ],
             [
              0.1111111111111111,
              "#46039f"
             ],
             [
              0.2222222222222222,
              "#7201a8"
             ],
             [
              0.3333333333333333,
              "#9c179e"
             ],
             [
              0.4444444444444444,
              "#bd3786"
             ],
             [
              0.5555555555555556,
              "#d8576b"
             ],
             [
              0.6666666666666666,
              "#ed7953"
             ],
             [
              0.7777777777777778,
              "#fb9f3a"
             ],
             [
              0.8888888888888888,
              "#fdca26"
             ],
             [
              1.0,
              "#f0f921"
             ]
            ]
           }
          ],
          "contourcarpet": [
           {
            "type": "contourcarpet",
            "colorbar": {
             "outlinewidth": 0,
             "ticks": ""
            }
           }
          ],
          "contour": [
           {
            "type": "contour",
            "colorbar": {
             "outlinewidth": 0,
             "ticks": ""
            },
            "colorscale": [
             [
              0.0,
              "#0d0887"
             ],
             [
              0.1111111111111111,
              "#46039f"
             ],
             [
              0.2222222222222222,
              "#7201a8"
             ],
             [
              0.3333333333333333,
              "#9c179e"
             ],
             [
              0.4444444444444444,
              "#bd3786"
             ],
             [
              0.5555555555555556,
              "#d8576b"
             ],
             [
              0.6666666666666666,
              "#ed7953"
             ],
             [
              0.7777777777777778,
              "#fb9f3a"
             ],
             [
              0.8888888888888888,
              "#fdca26"
             ],
             [
              1.0,
              "#f0f921"
             ]
            ]
           }
          ],
          "surface": [
           {
            "type": "surface",
            "colorbar": {
             "outlinewidth": 0,
             "ticks": ""
            },
            "colorscale": [
             [
              0.0,
              "#0d0887"
             ],
             [
              0.1111111111111111,
              "#46039f"
             ],
             [
              0.2222222222222222,
              "#7201a8"
             ],
             [
              0.3333333333333333,
              "#9c179e"
             ],
             [
              0.4444444444444444,
              "#bd3786"
             ],
             [
              0.5555555555555556,
              "#d8576b"
             ],
             [
              0.6666666666666666,
              "#ed7953"
             ],
             [
              0.7777777777777778,
              "#fb9f3a"
             ],
             [
              0.8888888888888888,
              "#fdca26"
             ],
             [
              1.0,
              "#f0f921"
             ]
            ]
           }
          ],
          "mesh3d": [
           {
            "type": "mesh3d",
            "colorbar": {
             "outlinewidth": 0,
             "ticks": ""
            }
           }
          ],
          "scatter": [
           {
            "fillpattern": {
             "fillmode": "overlay",
             "size": 10,
             "solidity": 0.2
            },
            "type": "scatter"
           }
          ],
          "parcoords": [
           {
            "type": "parcoords",
            "line": {
             "colorbar": {
              "outlinewidth": 0,
              "ticks": ""
             }
            }
           }
          ],
          "scatterpolargl": [
           {
            "type": "scatterpolargl",
            "marker": {
             "colorbar": {
              "outlinewidth": 0,
              "ticks": ""
             }
            }
           }
          ],
          "bar": [
           {
            "error_x": {
             "color": "#2a3f5f"
            },
            "error_y": {
             "color": "#2a3f5f"
            },
            "marker": {
             "line": {
              "color": "#E5ECF6",
              "width": 0.5
             },
             "pattern": {
              "fillmode": "overlay",
              "size": 10,
              "solidity": 0.2
             }
            },
            "type": "bar"
           }
          ],
          "scattergeo": [
           {
            "type": "scattergeo",
            "marker": {
             "colorbar": {
              "outlinewidth": 0,
              "ticks": ""
             }
            }
           }
          ],
          "scatterpolar": [
           {
            "type": "scatterpolar",
            "marker": {
             "colorbar": {
              "outlinewidth": 0,
              "ticks": ""
             }
            }
           }
          ],
          "histogram": [
           {
            "marker": {
             "pattern": {
              "fillmode": "overlay",
              "size": 10,
              "solidity": 0.2
             }
            },
            "type": "histogram"
           }
          ],
          "scattergl": [
           {
            "type": "scattergl",
            "marker": {
             "colorbar": {
              "outlinewidth": 0,
              "ticks": ""
             }
            }
           }
          ],
          "scatter3d": [
           {
            "type": "scatter3d",
            "line": {
             "colorbar": {
              "outlinewidth": 0,
              "ticks": ""
             }
            },
            "marker": {
             "colorbar": {
              "outlinewidth": 0,
              "ticks": ""
             }
            }
           }
          ],
          "scattermapbox": [
           {
            "type": "scattermapbox",
            "marker": {
             "colorbar": {
              "outlinewidth": 0,
              "ticks": ""
             }
            }
           }
          ],
          "scatterternary": [
           {
            "type": "scatterternary",
            "marker": {
             "colorbar": {
              "outlinewidth": 0,
              "ticks": ""
             }
            }
           }
          ],
          "scattercarpet": [
           {
            "type": "scattercarpet",
            "marker": {
             "colorbar": {
              "outlinewidth": 0,
              "ticks": ""
             }
            }
           }
          ],
          "carpet": [
           {
            "aaxis": {
             "endlinecolor": "#2a3f5f",
             "gridcolor": "white",
             "linecolor": "white",
             "minorgridcolor": "white",
             "startlinecolor": "#2a3f5f"
            },
            "baxis": {
             "endlinecolor": "#2a3f5f",
             "gridcolor": "white",
             "linecolor": "white",
             "minorgridcolor": "white",
             "startlinecolor": "#2a3f5f"
            },
            "type": "carpet"
           }
          ],
          "table": [
           {
            "cells": {
             "fill": {
              "color": "#EBF0F8"
             },
             "line": {
              "color": "white"
             }
            },
            "header": {
             "fill": {
              "color": "#C8D4E3"
             },
             "line": {
              "color": "white"
             }
            },
            "type": "table"
           }
          ],
          "barpolar": [
           {
            "marker": {
             "line": {
              "color": "#E5ECF6",
              "width": 0.5
             },
             "pattern": {
              "fillmode": "overlay",
              "size": 10,
              "solidity": 0.2
             }
            },
            "type": "barpolar"
           }
          ],
          "pie": [
           {
            "automargin": true,
            "type": "pie"
           }
          ]
         },
         "layout": {
          "autotypenumbers": "strict",
          "colorway": [
           "#636efa",
           "#EF553B",
           "#00cc96",
           "#ab63fa",
           "#FFA15A",
           "#19d3f3",
           "#FF6692",
           "#B6E880",
           "#FF97FF",
           "#FECB52"
          ],
          "font": {
           "color": "#2a3f5f"
          },
          "hovermode": "closest",
          "hoverlabel": {
           "align": "left"
          },
          "paper_bgcolor": "white",
          "plot_bgcolor": "#E5ECF6",
          "polar": {
           "bgcolor": "#E5ECF6",
           "angularaxis": {
            "gridcolor": "white",
            "linecolor": "white",
            "ticks": ""
           },
           "radialaxis": {
            "gridcolor": "white",
            "linecolor": "white",
            "ticks": ""
           }
          },
          "ternary": {
           "bgcolor": "#E5ECF6",
           "aaxis": {
            "gridcolor": "white",
            "linecolor": "white",
            "ticks": ""
           },
           "baxis": {
            "gridcolor": "white",
            "linecolor": "white",
            "ticks": ""
           },
           "caxis": {
            "gridcolor": "white",
            "linecolor": "white",
            "ticks": ""
           }
          },
          "coloraxis": {
           "colorbar": {
            "outlinewidth": 0,
            "ticks": ""
           }
          },
          "colorscale": {
           "sequential": [
            [
             0.0,
             "#0d0887"
            ],
            [
             0.1111111111111111,
             "#46039f"
            ],
            [
             0.2222222222222222,
             "#7201a8"
            ],
            [
             0.3333333333333333,
             "#9c179e"
            ],
            [
             0.4444444444444444,
             "#bd3786"
            ],
            [
             0.5555555555555556,
             "#d8576b"
            ],
            [
             0.6666666666666666,
             "#ed7953"
            ],
            [
             0.7777777777777778,
             "#fb9f3a"
            ],
            [
             0.8888888888888888,
             "#fdca26"
            ],
            [
             1.0,
             "#f0f921"
            ]
           ],
           "sequentialminus": [
            [
             0.0,
             "#0d0887"
            ],
            [
             0.1111111111111111,
             "#46039f"
            ],
            [
             0.2222222222222222,
             "#7201a8"
            ],
            [
             0.3333333333333333,
             "#9c179e"
            ],
            [
             0.4444444444444444,
             "#bd3786"
            ],
            [
             0.5555555555555556,
             "#d8576b"
            ],
            [
             0.6666666666666666,
             "#ed7953"
            ],
            [
             0.7777777777777778,
             "#fb9f3a"
            ],
            [
             0.8888888888888888,
             "#fdca26"
            ],
            [
             1.0,
             "#f0f921"
            ]
           ],
           "diverging": [
            [
             0,
             "#8e0152"
            ],
            [
             0.1,
             "#c51b7d"
            ],
            [
             0.2,
             "#de77ae"
            ],
            [
             0.3,
             "#f1b6da"
            ],
            [
             0.4,
             "#fde0ef"
            ],
            [
             0.5,
             "#f7f7f7"
            ],
            [
             0.6,
             "#e6f5d0"
            ],
            [
             0.7,
             "#b8e186"
            ],
            [
             0.8,
             "#7fbc41"
            ],
            [
             0.9,
             "#4d9221"
            ],
            [
             1,
             "#276419"
            ]
           ]
          },
          "xaxis": {
           "gridcolor": "white",
           "linecolor": "white",
           "ticks": "",
           "title": {
            "standoff": 15
           },
           "zerolinecolor": "white",
           "automargin": true,
           "zerolinewidth": 2
          },
          "yaxis": {
           "gridcolor": "white",
           "linecolor": "white",
           "ticks": "",
           "title": {
            "standoff": 15
           },
           "zerolinecolor": "white",
           "automargin": true,
           "zerolinewidth": 2
          },
          "scene": {
           "xaxis": {
            "backgroundcolor": "#E5ECF6",
            "gridcolor": "white",
            "linecolor": "white",
            "showbackground": true,
            "ticks": "",
            "zerolinecolor": "white",
            "gridwidth": 2
           },
           "yaxis": {
            "backgroundcolor": "#E5ECF6",
            "gridcolor": "white",
            "linecolor": "white",
            "showbackground": true,
            "ticks": "",
            "zerolinecolor": "white",
            "gridwidth": 2
           },
           "zaxis": {
            "backgroundcolor": "#E5ECF6",
            "gridcolor": "white",
            "linecolor": "white",
            "showbackground": true,
            "ticks": "",
            "zerolinecolor": "white",
            "gridwidth": 2
           }
          },
          "shapedefaults": {
           "line": {
            "color": "#2a3f5f"
           }
          },
          "annotationdefaults": {
           "arrowcolor": "#2a3f5f",
           "arrowhead": 0,
           "arrowwidth": 1
          },
          "geo": {
           "bgcolor": "white",
           "landcolor": "#E5ECF6",
           "subunitcolor": "white",
           "showland": true,
           "showlakes": true,
           "lakecolor": "white"
          },
          "title": {
           "x": 0.05
          },
          "mapbox": {
           "style": "light"
          }
         }
        },
        "title": {
         "text": "0_9G"
        },
        "xaxis": {
         "title": {
          "text": "y"
         },
         "showgrid": true,
         "zeroline": true,
         "showline": true,
         "showticklabels": true,
         "scaleratio": 1
        },
        "yaxis": {
         "title": {
          "text": "z"
         },
         "showgrid": true,
         "zeroline": true,
         "showline": true,
         "showticklabels": true,
         "scaleratio": 1
        },
        "margin": {
         "l": 50,
         "r": 50,
         "b": 100,
         "t": 100,
         "pad": 4
        },
        "width": 500,
        "height": 500
       },
       "config": {
        "plotlyServerURL": "https://plot.ly"
       }
      },
      "text/html": "<div>                            <div id=\"50a06b9a-690a-49f8-8019-50b572fa37e7\" class=\"plotly-graph-div\" style=\"height:500px; width:500px;\"></div>            <script type=\"text/javascript\">                require([\"plotly\"], function(Plotly) {                    window.PLOTLYENV=window.PLOTLYENV || {};                                    if (document.getElementById(\"50a06b9a-690a-49f8-8019-50b572fa37e7\")) {                    Plotly.newPlot(                        \"50a06b9a-690a-49f8-8019-50b572fa37e7\",                        [{\"mode\":\"lines\",\"x\":[108.81865504125616,108.75147762892155,108.55002815417993,108.21455480185524,107.74547087357064,107.14335427856273,106.40894682170004,105.54315328958296,104.54704033585067,103.42183516706892,102.16892403081705,100.78985050783753,99.28631361035144,97.66016568888341,95.91341015017413,94.04819898899265,92.06683013688868,89.97174463115152,87.76552360746334,85.45088511995198,83.0306807925608,80.50789230586103,77.88562772363522,75.16711766375687,72.35571131808412,69.45487232627084,66.4681745085786,63.39929746294653,60.25202203174354,57.03022564378821,53.73787753737409,50.37903387018659,46.95783272213536,43.47848899725891,39.945289230982326,36.36258630912534,32.73479410516709,29.066382042374332,25.36186958749264,21.62582068278414,17.86283812327173,14.077557886116814,10.274643419116897,6.458779895359267,2.6346684411094556,-1.1929796559546768,-5.019448751027628,-8.840024651828916,-12.650000426466224,-16.44468220235379,-20.219394949041785,-23.96948823783228,-27.690341971085946,-31.377372074161045,-35.026036142972245,-38.631839040211524,-42.19033843333662,-45.697150267504114,-49.147954166705034,-52.53849875644786,-55.86460690143262,-59.12218085176198,-62.307207291350565,-65.41576228231156,-68.44401609923037,-71.3882379473684,-74.24480055898515,-77.01018466211536,-79.6809833162957,-82.25390610989984,-84.72578321391036,-87.09356928713345,-89.35434722804521,-91.50533176864744,-93.54387290590469,-95.46745916653603,-97.27372070113836,-98.9604322038302,-100.5255156538179,-101.9670428755081,-103.28323791401078,-104.47247922310781,-105.5333016629902,-106.46439830530366,-107.2646220432784,-107.93298700495919,-108.46866976779522,-108.87101037309282,-109.13951313908153,-109.2738472715918,-109.2738472715918,-109.13951313908154,-108.87101037309282,-108.46866976779522,-107.9329870049592,-107.26462204327841,-106.46439830530369,-105.5333016629902,-104.47247922310784,-103.2832379140108,-101.96704287550811,-100.52551565381793,-98.96043220383022,-97.2737207011384,-95.46745916653606,-93.54387290590472,-91.5053317686475,-89.35434722804527,-87.09356928713349,-84.7257832139104,-82.2539061098999,-79.68098331629574,-77.01018466211538,-74.24480055898519,-71.38823794736847,-68.4440160992304,-65.41576228231163,-62.30720729135063,-59.12218085176209,-55.864606901432644,-52.53849875644793,-49.1479541667051,-45.69715026750423,-42.19033843333664,-38.631839040211595,-35.02603614297234,-31.37737207416116,-27.690341971085996,-23.969488237832355,-20.219394949041885,-16.444682202353818,-12.650000426466276,-8.840024651828992,-5.019448751027729,-1.1929796559547037,2.6346684411094046,6.458779895359192,10.274643419116797,14.07755788611679,17.862838123271658,21.625820682784042,25.36186958749252,29.066382042374283,32.73479410516701,36.36258630912524,39.9452892309823,43.47848899725886,46.95783272213528,50.379033870186504,53.73787753737407,57.03022564378817,60.25202203174348,63.39929746294643,66.46817450857858,69.45487232627079,72.35571131808405,75.16711766375678,77.8856277236352,80.50789230586099,83.03068079256073,85.4508851199519,87.76552360746331,89.97174463115148,92.06683013688864,94.04819898899264,95.9134101501741,97.66016568888337,99.28631361035141,100.78985050783751,102.16892403081702,103.42183516706888,104.54704033585064,105.54315328958295,106.40894682170003,107.14335427856271,107.74547087357062,108.21455480185524,108.55002815417991,108.75147762892155,108.81865504125616],\"y\":[0.2430185736353024,4.0702245307660725,7.8927153878056995,11.705781853644615,15.504726247979745,19.284868288834996,23.041550858647053,26.770145741812755,30.466059326629363,34.12473826460302,37.741675080153065,41.31241372380119,44.83255506200385,48.29776229686446,51.7037663090485,55.046370917318704,58.32145804821117,61.52499280948274,64.65302846107967,67.70171127750324,70.66728529558172,73.54609694179973,76.33459953348391,79.02935764829965,81.62705135667565,84.12448031194164,86.51856769314092,88.8063639956595,90.98505066500216,93.05194356923865,95.00449630584184,96.84030333884384,98.5571029624453,100.15278008742646,101.62536884692733,102.97305501838662,104.19417825865558,105.28723414953302,106.25087605120169,107.08391676128231,107.78532997746136,108.3542515618909,108.7899806058023,109.0919802930227,109.25987856133005,109.293468560832,109.19270890880404,108.95772374067285,108.58880255708202,108.08639986722854,107.45113462890963,106.68378948596956,105.78530980408605,104.75680250608411,103.5995347082122,102.31493215906092,100.9045774830472,99.37020823062853,97.71371473764853,95.93713779645213,94.04266614163873,92.03263375355127,89.90951698282315,87.67593149952583,85.33462907067513,82.88849417006722,80.34054042462004,77.69390690159874,74.9518542412996,72.11776063995586,69.19511768781585,66.18752606751961,63.09869111807481,59.93241826989579,56.69260835653128,53.383252808855005,50.00842873764166,46.57229391058488,43.07908162994696,39.533095517149626,35.93870421073265,32.30033598421096,28.622473290462402,24.90964723936634,21.166432015497005,17.39743924274956,13.607312302840322,9.800720614682293,5.982353881682201,2.1569163140479124,-1.6708791667772325,-5.496316734411521,-9.314683467411616,-13.121275155569643,-16.911402095478877,-20.680394868226326,-24.423610092095657,-28.136436143191773,-31.81429883694028,-35.452667063461966,-39.04705836987895,-42.59304448267629,-46.08625676331421,-49.52239159037099,-52.897215661584326,-56.2065712092606,-59.44638112262513,-62.61265397080414,-65.70148892024896,-68.7090805405452,-71.63172349268521,-74.46581709402896,-77.20786975432814,-79.85450327734938,-82.40245702279658,-84.84859192340453,-87.18989435225518,-89.42347983555251,-91.54659660628062,-93.55662899436813,-95.45110064918151,-97.2276775903779,-98.88417108335788,-100.4185403357766,-101.8288950117903,-103.11349756094158,-104.27076535881349,-105.29927265681545,-106.19775233869896,-106.96509748163902,-107.60036271995794,-108.10276540981141,-108.47168659340224,-108.70667176153343,-108.8074314135614,-108.77384141405946,-108.60594314575212,-108.3039434585317,-107.86821441462031,-107.29929283019078,-106.59787961401173,-105.76483890393114,-104.80119700226244,-103.70814111138499,-102.48701787111607,-101.13933169965674,-99.66674294015587,-98.07106581517475,-96.35426619157329,-94.51845915857126,-92.56590642196808,-90.4990135177316,-88.32032684838896,-86.03253054587034,-83.63844316467109,-81.14101420940511,-78.54332050102914,-75.84856238621333,-73.06005979452918,-70.18124814831121,-67.21567413023274,-64.16699131380912,-61.03895566221219,-57.83542090094065,-54.560333770048125,-51.21772916177793,-47.811725149593926,-44.34651791473333,-40.82637657653061,-37.255637932882514,-33.63870111733249,-29.980022179358862,-26.284108594542186,-22.55551371137651,-18.798831141564477,-15.018689100709258,-11.219744706374057,-7.406678240535168,-3.584187383495565,0.2430185736352757],\"type\":\"scatter\"}],                        {\"template\":{\"data\":{\"histogram2dcontour\":[{\"type\":\"histogram2dcontour\",\"colorbar\":{\"outlinewidth\":0,\"ticks\":\"\"},\"colorscale\":[[0.0,\"#0d0887\"],[0.1111111111111111,\"#46039f\"],[0.2222222222222222,\"#7201a8\"],[0.3333333333333333,\"#9c179e\"],[0.4444444444444444,\"#bd3786\"],[0.5555555555555556,\"#d8576b\"],[0.6666666666666666,\"#ed7953\"],[0.7777777777777778,\"#fb9f3a\"],[0.8888888888888888,\"#fdca26\"],[1.0,\"#f0f921\"]]}],\"choropleth\":[{\"type\":\"choropleth\",\"colorbar\":{\"outlinewidth\":0,\"ticks\":\"\"}}],\"histogram2d\":[{\"type\":\"histogram2d\",\"colorbar\":{\"outlinewidth\":0,\"ticks\":\"\"},\"colorscale\":[[0.0,\"#0d0887\"],[0.1111111111111111,\"#46039f\"],[0.2222222222222222,\"#7201a8\"],[0.3333333333333333,\"#9c179e\"],[0.4444444444444444,\"#bd3786\"],[0.5555555555555556,\"#d8576b\"],[0.6666666666666666,\"#ed7953\"],[0.7777777777777778,\"#fb9f3a\"],[0.8888888888888888,\"#fdca26\"],[1.0,\"#f0f921\"]]}],\"heatmap\":[{\"type\":\"heatmap\",\"colorbar\":{\"outlinewidth\":0,\"ticks\":\"\"},\"colorscale\":[[0.0,\"#0d0887\"],[0.1111111111111111,\"#46039f\"],[0.2222222222222222,\"#7201a8\"],[0.3333333333333333,\"#9c179e\"],[0.4444444444444444,\"#bd3786\"],[0.5555555555555556,\"#d8576b\"],[0.6666666666666666,\"#ed7953\"],[0.7777777777777778,\"#fb9f3a\"],[0.8888888888888888,\"#fdca26\"],[1.0,\"#f0f921\"]]}],\"heatmapgl\":[{\"type\":\"heatmapgl\",\"colorbar\":{\"outlinewidth\":0,\"ticks\":\"\"},\"colorscale\":[[0.0,\"#0d0887\"],[0.1111111111111111,\"#46039f\"],[0.2222222222222222,\"#7201a8\"],[0.3333333333333333,\"#9c179e\"],[0.4444444444444444,\"#bd3786\"],[0.5555555555555556,\"#d8576b\"],[0.6666666666666666,\"#ed7953\"],[0.7777777777777778,\"#fb9f3a\"],[0.8888888888888888,\"#fdca26\"],[1.0,\"#f0f921\"]]}],\"contourcarpet\":[{\"type\":\"contourcarpet\",\"colorbar\":{\"outlinewidth\":0,\"ticks\":\"\"}}],\"contour\":[{\"type\":\"contour\",\"colorbar\":{\"outlinewidth\":0,\"ticks\":\"\"},\"colorscale\":[[0.0,\"#0d0887\"],[0.1111111111111111,\"#46039f\"],[0.2222222222222222,\"#7201a8\"],[0.3333333333333333,\"#9c179e\"],[0.4444444444444444,\"#bd3786\"],[0.5555555555555556,\"#d8576b\"],[0.6666666666666666,\"#ed7953\"],[0.7777777777777778,\"#fb9f3a\"],[0.8888888888888888,\"#fdca26\"],[1.0,\"#f0f921\"]]}],\"surface\":[{\"type\":\"surface\",\"colorbar\":{\"outlinewidth\":0,\"ticks\":\"\"},\"colorscale\":[[0.0,\"#0d0887\"],[0.1111111111111111,\"#46039f\"],[0.2222222222222222,\"#7201a8\"],[0.3333333333333333,\"#9c179e\"],[0.4444444444444444,\"#bd3786\"],[0.5555555555555556,\"#d8576b\"],[0.6666666666666666,\"#ed7953\"],[0.7777777777777778,\"#fb9f3a\"],[0.8888888888888888,\"#fdca26\"],[1.0,\"#f0f921\"]]}],\"mesh3d\":[{\"type\":\"mesh3d\",\"colorbar\":{\"outlinewidth\":0,\"ticks\":\"\"}}],\"scatter\":[{\"fillpattern\":{\"fillmode\":\"overlay\",\"size\":10,\"solidity\":0.2},\"type\":\"scatter\"}],\"parcoords\":[{\"type\":\"parcoords\",\"line\":{\"colorbar\":{\"outlinewidth\":0,\"ticks\":\"\"}}}],\"scatterpolargl\":[{\"type\":\"scatterpolargl\",\"marker\":{\"colorbar\":{\"outlinewidth\":0,\"ticks\":\"\"}}}],\"bar\":[{\"error_x\":{\"color\":\"#2a3f5f\"},\"error_y\":{\"color\":\"#2a3f5f\"},\"marker\":{\"line\":{\"color\":\"#E5ECF6\",\"width\":0.5},\"pattern\":{\"fillmode\":\"overlay\",\"size\":10,\"solidity\":0.2}},\"type\":\"bar\"}],\"scattergeo\":[{\"type\":\"scattergeo\",\"marker\":{\"colorbar\":{\"outlinewidth\":0,\"ticks\":\"\"}}}],\"scatterpolar\":[{\"type\":\"scatterpolar\",\"marker\":{\"colorbar\":{\"outlinewidth\":0,\"ticks\":\"\"}}}],\"histogram\":[{\"marker\":{\"pattern\":{\"fillmode\":\"overlay\",\"size\":10,\"solidity\":0.2}},\"type\":\"histogram\"}],\"scattergl\":[{\"type\":\"scattergl\",\"marker\":{\"colorbar\":{\"outlinewidth\":0,\"ticks\":\"\"}}}],\"scatter3d\":[{\"type\":\"scatter3d\",\"line\":{\"colorbar\":{\"outlinewidth\":0,\"ticks\":\"\"}},\"marker\":{\"colorbar\":{\"outlinewidth\":0,\"ticks\":\"\"}}}],\"scattermapbox\":[{\"type\":\"scattermapbox\",\"marker\":{\"colorbar\":{\"outlinewidth\":0,\"ticks\":\"\"}}}],\"scatterternary\":[{\"type\":\"scatterternary\",\"marker\":{\"colorbar\":{\"outlinewidth\":0,\"ticks\":\"\"}}}],\"scattercarpet\":[{\"type\":\"scattercarpet\",\"marker\":{\"colorbar\":{\"outlinewidth\":0,\"ticks\":\"\"}}}],\"carpet\":[{\"aaxis\":{\"endlinecolor\":\"#2a3f5f\",\"gridcolor\":\"white\",\"linecolor\":\"white\",\"minorgridcolor\":\"white\",\"startlinecolor\":\"#2a3f5f\"},\"baxis\":{\"endlinecolor\":\"#2a3f5f\",\"gridcolor\":\"white\",\"linecolor\":\"white\",\"minorgridcolor\":\"white\",\"startlinecolor\":\"#2a3f5f\"},\"type\":\"carpet\"}],\"table\":[{\"cells\":{\"fill\":{\"color\":\"#EBF0F8\"},\"line\":{\"color\":\"white\"}},\"header\":{\"fill\":{\"color\":\"#C8D4E3\"},\"line\":{\"color\":\"white\"}},\"type\":\"table\"}],\"barpolar\":[{\"marker\":{\"line\":{\"color\":\"#E5ECF6\",\"width\":0.5},\"pattern\":{\"fillmode\":\"overlay\",\"size\":10,\"solidity\":0.2}},\"type\":\"barpolar\"}],\"pie\":[{\"automargin\":true,\"type\":\"pie\"}]},\"layout\":{\"autotypenumbers\":\"strict\",\"colorway\":[\"#636efa\",\"#EF553B\",\"#00cc96\",\"#ab63fa\",\"#FFA15A\",\"#19d3f3\",\"#FF6692\",\"#B6E880\",\"#FF97FF\",\"#FECB52\"],\"font\":{\"color\":\"#2a3f5f\"},\"hovermode\":\"closest\",\"hoverlabel\":{\"align\":\"left\"},\"paper_bgcolor\":\"white\",\"plot_bgcolor\":\"#E5ECF6\",\"polar\":{\"bgcolor\":\"#E5ECF6\",\"angularaxis\":{\"gridcolor\":\"white\",\"linecolor\":\"white\",\"ticks\":\"\"},\"radialaxis\":{\"gridcolor\":\"white\",\"linecolor\":\"white\",\"ticks\":\"\"}},\"ternary\":{\"bgcolor\":\"#E5ECF6\",\"aaxis\":{\"gridcolor\":\"white\",\"linecolor\":\"white\",\"ticks\":\"\"},\"baxis\":{\"gridcolor\":\"white\",\"linecolor\":\"white\",\"ticks\":\"\"},\"caxis\":{\"gridcolor\":\"white\",\"linecolor\":\"white\",\"ticks\":\"\"}},\"coloraxis\":{\"colorbar\":{\"outlinewidth\":0,\"ticks\":\"\"}},\"colorscale\":{\"sequential\":[[0.0,\"#0d0887\"],[0.1111111111111111,\"#46039f\"],[0.2222222222222222,\"#7201a8\"],[0.3333333333333333,\"#9c179e\"],[0.4444444444444444,\"#bd3786\"],[0.5555555555555556,\"#d8576b\"],[0.6666666666666666,\"#ed7953\"],[0.7777777777777778,\"#fb9f3a\"],[0.8888888888888888,\"#fdca26\"],[1.0,\"#f0f921\"]],\"sequentialminus\":[[0.0,\"#0d0887\"],[0.1111111111111111,\"#46039f\"],[0.2222222222222222,\"#7201a8\"],[0.3333333333333333,\"#9c179e\"],[0.4444444444444444,\"#bd3786\"],[0.5555555555555556,\"#d8576b\"],[0.6666666666666666,\"#ed7953\"],[0.7777777777777778,\"#fb9f3a\"],[0.8888888888888888,\"#fdca26\"],[1.0,\"#f0f921\"]],\"diverging\":[[0,\"#8e0152\"],[0.1,\"#c51b7d\"],[0.2,\"#de77ae\"],[0.3,\"#f1b6da\"],[0.4,\"#fde0ef\"],[0.5,\"#f7f7f7\"],[0.6,\"#e6f5d0\"],[0.7,\"#b8e186\"],[0.8,\"#7fbc41\"],[0.9,\"#4d9221\"],[1,\"#276419\"]]},\"xaxis\":{\"gridcolor\":\"white\",\"linecolor\":\"white\",\"ticks\":\"\",\"title\":{\"standoff\":15},\"zerolinecolor\":\"white\",\"automargin\":true,\"zerolinewidth\":2},\"yaxis\":{\"gridcolor\":\"white\",\"linecolor\":\"white\",\"ticks\":\"\",\"title\":{\"standoff\":15},\"zerolinecolor\":\"white\",\"automargin\":true,\"zerolinewidth\":2},\"scene\":{\"xaxis\":{\"backgroundcolor\":\"#E5ECF6\",\"gridcolor\":\"white\",\"linecolor\":\"white\",\"showbackground\":true,\"ticks\":\"\",\"zerolinecolor\":\"white\",\"gridwidth\":2},\"yaxis\":{\"backgroundcolor\":\"#E5ECF6\",\"gridcolor\":\"white\",\"linecolor\":\"white\",\"showbackground\":true,\"ticks\":\"\",\"zerolinecolor\":\"white\",\"gridwidth\":2},\"zaxis\":{\"backgroundcolor\":\"#E5ECF6\",\"gridcolor\":\"white\",\"linecolor\":\"white\",\"showbackground\":true,\"ticks\":\"\",\"zerolinecolor\":\"white\",\"gridwidth\":2}},\"shapedefaults\":{\"line\":{\"color\":\"#2a3f5f\"}},\"annotationdefaults\":{\"arrowcolor\":\"#2a3f5f\",\"arrowhead\":0,\"arrowwidth\":1},\"geo\":{\"bgcolor\":\"white\",\"landcolor\":\"#E5ECF6\",\"subunitcolor\":\"white\",\"showland\":true,\"showlakes\":true,\"lakecolor\":\"white\"},\"title\":{\"x\":0.05},\"mapbox\":{\"style\":\"light\"}}},\"title\":{\"text\":\"0_9G\"},\"xaxis\":{\"title\":{\"text\":\"y\"},\"showgrid\":true,\"zeroline\":true,\"showline\":true,\"showticklabels\":true,\"scaleratio\":1},\"yaxis\":{\"title\":{\"text\":\"z\"},\"showgrid\":true,\"zeroline\":true,\"showline\":true,\"showticklabels\":true,\"scaleratio\":1},\"margin\":{\"l\":50,\"r\":50,\"b\":100,\"t\":100,\"pad\":4},\"width\":500,\"height\":500},                        {\"responsive\": true}                    ).then(function(){\n                            \nvar gd = document.getElementById('50a06b9a-690a-49f8-8019-50b572fa37e7');\nvar x = new MutationObserver(function (mutations, observer) {{\n        var display = window.getComputedStyle(gd).display;\n        if (!display || display === 'none') {{\n            console.log([gd, 'removed!']);\n            Plotly.purge(gd);\n            observer.disconnect();\n        }}\n}});\n\n// Listen for the removal of the full notebook cells\nvar notebookContainer = gd.closest('#notebook-container');\nif (notebookContainer) {{\n    x.observe(notebookContainer, {childList: true});\n}}\n\n// Listen for the clearing of the current output cell\nvar outputEl = gd.closest('.output');\nif (outputEl) {{\n    x.observe(outputEl, {childList: true});\n}}\n\n                        })                };                });            </script>        </div>"
     },
     "metadata": {},
     "output_type": "display_data"
    }
   ],
   "source": [
    "plot_circle(yc, zc, Rc)"
   ],
   "metadata": {
    "collapsed": false,
    "ExecuteTime": {
     "end_time": "2023-06-04T15:58:52.517759Z",
     "start_time": "2023-06-04T15:58:52.459979500Z"
    }
   }
  },
  {
   "cell_type": "code",
   "execution_count": null,
   "outputs": [],
   "source": [],
   "metadata": {
    "collapsed": false
   }
  }
 ],
 "metadata": {
  "kernelspec": {
   "display_name": "Python 3",
   "language": "python",
   "name": "python3"
  },
  "language_info": {
   "codemirror_mode": {
    "name": "ipython",
    "version": 2
   },
   "file_extension": ".py",
   "mimetype": "text/x-python",
   "name": "python",
   "nbconvert_exporter": "python",
   "pygments_lexer": "ipython2",
   "version": "2.7.6"
  }
 },
 "nbformat": 4,
 "nbformat_minor": 0
}
