{
 "cells": [
  {
   "cell_type": "code",
   "execution_count": null,
   "metadata": {
    "collapsed": true
   },
   "outputs": [],
   "source": [
    "import numpy as np\n",
    "import plotly.graph_objects as go\n",
    "import csv\n",
    "import scipy as sp\n",
    "import sys,os"
   ]
  },
  {
   "cell_type": "code",
   "execution_count": null,
   "outputs": [],
   "source": [
    "def read_data(file_path):\n",
    "\n",
    "    with open(file_path) as f:\n",
    "        reader = csv.reader(f)\n",
    "        data = []\n",
    "        for column in reader:\n",
    "            column[0] = column[0].replace('(', '').replace(\"'\" , '')\n",
    "            column[2] = column[2].replace(')', '').replace(\"'\" , '')\n",
    "            column[1] = column[1].replace(\"'\" , '')\n",
    "            column[0] = float(column[0])\n",
    "            column[1] = float(column[1])\n",
    "            column[2] = float(column[2])\n",
    "            data.append(column)\n",
    "            # print(data)\n",
    "        data = np.array(data)\n",
    "    return data\n",
    "        # print(data)"
   ],
   "metadata": {
    "collapsed": false
   }
  },
  {
   "cell_type": "code",
   "execution_count": null,
   "outputs": [],
   "source": [
    "#Read energy in GeV of data files, save to list named energies\n",
    "energies = []\n",
    "#Read all files in data folder\n",
    "for root, dir, files in os.walk('../data'):\n",
    "    for file in files:\n",
    "        if file.endswith('.csv'):\n",
    "            energies.append(file.replace('.csv', '').replace('_', '.').replace('G', ''))\n",
    "energies = np.array(energies, dtype=float)"
   ],
   "metadata": {
    "collapsed": false
   }
  },
  {
   "cell_type": "code",
   "execution_count": null,
   "outputs": [],
   "source": [
    "results = []\n",
    "for root, dir, files in os.walk('../data'):\n",
    "    for file in files:\n",
    "        if file.endswith('.csv'):\n",
    "            # print(file)\n",
    "            data = read_data(os.path.join(root, file))\n",
    "            results.append(data)"
   ],
   "metadata": {
    "collapsed": false
   }
  },
  {
   "cell_type": "code",
   "execution_count": null,
   "outputs": [],
   "source": [
    "for i, array in enumerate(results):\n",
    "    print(f'data set{i} shape: {array.shape}')"
   ],
   "metadata": {
    "collapsed": false
   }
  },
  {
   "cell_type": "code",
   "execution_count": 25,
   "outputs": [],
   "source": [
    "def plot_pos(arrays, title, directory):\n",
    "    # if not os.path.exists(directory):\n",
    "    #     os.makedirs(directory)\n",
    "    for i, array in enumerate(arrays):\n",
    "        # np.savetxt(f'{directory}/array_{i}.csv', array, delimiter=',')\n",
    "        # print(f\"plotting array {array[:,0]}\")\n",
    "        energy_str = str(energies[i]).replace('.', '_')\n",
    "        fig = go.Figure(data=go.Scatter(x=array[:,0], y=array[:,1], mode='markers'))\n",
    "        fig.update_layout(title=f\"{energy_str}\"+ 'G', xaxis_title='x', yaxis_title='y')\n",
    "        fig.update_layout(\n",
    "            width=500,\n",
    "            height=500,\n",
    "            margin=dict(\n",
    "                l=50,\n",
    "                r=50,\n",
    "                b=100,\n",
    "                t=100,\n",
    "                pad=4\n",
    "            ),\n",
    "            xaxis=dict(\n",
    "                showgrid=True,\n",
    "                zeroline=True,\n",
    "                showline=True,\n",
    "                showticklabels=True,\n",
    "                scaleratio=1\n",
    "            ),\n",
    "            yaxis=dict(\n",
    "                showgrid=True,\n",
    "                zeroline=True,\n",
    "                showline=True,\n",
    "                showticklabels=True,\n",
    "                scaleratio=1\n",
    "            )\n",
    "        )\n",
    "        # fig.show()\n",
    "        # fig.write_image('../media/plots/'+title+'.png')\n",
    "        fig.write_image(\"../media/plots/\"+f\"{energies[i]}\"+ 'G'+\".png\")\n",
    "\n",
    "\n",
    "        # print(\"../media/plots/\"+f\"{energy_str}\"+ 'G'+\".png\")"
   ],
   "metadata": {
    "collapsed": false,
    "ExecuteTime": {
     "end_time": "2023-06-04T23:53:26.216058300Z",
     "start_time": "2023-06-04T23:53:26.204242800Z"
    }
   }
  },
  {
   "cell_type": "code",
   "execution_count": 26,
   "outputs": [
    {
     "ename": "KeyboardInterrupt",
     "evalue": "",
     "output_type": "error",
     "traceback": [
      "\u001B[1;31m---------------------------------------------------------------------------\u001B[0m",
      "\u001B[1;31mKeyboardInterrupt\u001B[0m                         Traceback (most recent call last)",
      "Cell \u001B[1;32mIn[26], line 2\u001B[0m\n\u001B[0;32m      1\u001B[0m plot_dir \u001B[38;5;241m=\u001B[39m \u001B[38;5;124m'\u001B[39m\u001B[38;5;124m../media/plots\u001B[39m\u001B[38;5;124m'\u001B[39m\n\u001B[1;32m----> 2\u001B[0m \u001B[43mplot_pos\u001B[49m\u001B[43m(\u001B[49m\u001B[43mresults\u001B[49m\u001B[43m,\u001B[49m\u001B[43m \u001B[49m\u001B[38;5;124;43m'\u001B[39;49m\u001B[38;5;124;43mGeV\u001B[39;49m\u001B[38;5;124;43m'\u001B[39;49m\u001B[43m,\u001B[49m\u001B[43m \u001B[49m\u001B[43mplot_dir\u001B[49m\u001B[43m)\u001B[49m\n",
      "Cell \u001B[1;32mIn[25], line 37\u001B[0m, in \u001B[0;36mplot_pos\u001B[1;34m(arrays, title, directory)\u001B[0m\n\u001B[0;32m     10\u001B[0m fig\u001B[38;5;241m.\u001B[39mupdate_layout(\n\u001B[0;32m     11\u001B[0m     width\u001B[38;5;241m=\u001B[39m\u001B[38;5;241m500\u001B[39m,\n\u001B[0;32m     12\u001B[0m     height\u001B[38;5;241m=\u001B[39m\u001B[38;5;241m500\u001B[39m,\n\u001B[1;32m   (...)\u001B[0m\n\u001B[0;32m     33\u001B[0m     )\n\u001B[0;32m     34\u001B[0m )\n\u001B[0;32m     35\u001B[0m \u001B[38;5;66;03m# fig.show()\u001B[39;00m\n\u001B[0;32m     36\u001B[0m \u001B[38;5;66;03m# fig.write_image('../media/plots/'+title+'.png')\u001B[39;00m\n\u001B[1;32m---> 37\u001B[0m \u001B[43mfig\u001B[49m\u001B[38;5;241;43m.\u001B[39;49m\u001B[43mwrite_image\u001B[49m\u001B[43m(\u001B[49m\u001B[38;5;124;43m\"\u001B[39;49m\u001B[38;5;124;43m../media/plots/\u001B[39;49m\u001B[38;5;124;43m\"\u001B[39;49m\u001B[38;5;241;43m+\u001B[39;49m\u001B[38;5;124;43mf\u001B[39;49m\u001B[38;5;124;43m\"\u001B[39;49m\u001B[38;5;132;43;01m{\u001B[39;49;00m\u001B[43menergies\u001B[49m\u001B[43m[\u001B[49m\u001B[43mi\u001B[49m\u001B[43m]\u001B[49m\u001B[38;5;132;43;01m}\u001B[39;49;00m\u001B[38;5;124;43m\"\u001B[39;49m\u001B[38;5;241;43m+\u001B[39;49m\u001B[43m \u001B[49m\u001B[38;5;124;43m'\u001B[39;49m\u001B[38;5;124;43mG\u001B[39;49m\u001B[38;5;124;43m'\u001B[39;49m\u001B[38;5;241;43m+\u001B[39;49m\u001B[38;5;124;43m\"\u001B[39;49m\u001B[38;5;124;43m.png\u001B[39;49m\u001B[38;5;124;43m\"\u001B[39;49m\u001B[43m)\u001B[49m\n",
      "File \u001B[1;32mC:\\ProgramData\\Anaconda3\\envs\\cherenkov\\lib\\site-packages\\plotly\\basedatatypes.py:3829\u001B[0m, in \u001B[0;36mBaseFigure.write_image\u001B[1;34m(self, *args, **kwargs)\u001B[0m\n\u001B[0;32m   3769\u001B[0m \u001B[38;5;250m\u001B[39m\u001B[38;5;124;03m\"\"\"\u001B[39;00m\n\u001B[0;32m   3770\u001B[0m \u001B[38;5;124;03mConvert a figure to a static image and write it to a file or writeable\u001B[39;00m\n\u001B[0;32m   3771\u001B[0m \u001B[38;5;124;03mobject\u001B[39;00m\n\u001B[1;32m   (...)\u001B[0m\n\u001B[0;32m   3825\u001B[0m \u001B[38;5;124;03mNone\u001B[39;00m\n\u001B[0;32m   3826\u001B[0m \u001B[38;5;124;03m\"\"\"\u001B[39;00m\n\u001B[0;32m   3827\u001B[0m \u001B[38;5;28;01mimport\u001B[39;00m \u001B[38;5;21;01mplotly\u001B[39;00m\u001B[38;5;21;01m.\u001B[39;00m\u001B[38;5;21;01mio\u001B[39;00m \u001B[38;5;28;01mas\u001B[39;00m \u001B[38;5;21;01mpio\u001B[39;00m\n\u001B[1;32m-> 3829\u001B[0m \u001B[38;5;28;01mreturn\u001B[39;00m pio\u001B[38;5;241m.\u001B[39mwrite_image(\u001B[38;5;28mself\u001B[39m, \u001B[38;5;241m*\u001B[39margs, \u001B[38;5;241m*\u001B[39m\u001B[38;5;241m*\u001B[39mkwargs)\n",
      "File \u001B[1;32mC:\\ProgramData\\Anaconda3\\envs\\cherenkov\\lib\\site-packages\\plotly\\io\\_kaleido.py:267\u001B[0m, in \u001B[0;36mwrite_image\u001B[1;34m(fig, file, format, scale, width, height, validate, engine)\u001B[0m\n\u001B[0;32m    251\u001B[0m             \u001B[38;5;28;01mraise\u001B[39;00m \u001B[38;5;167;01mValueError\u001B[39;00m(\n\u001B[0;32m    252\u001B[0m \u001B[38;5;250m                \u001B[39m\u001B[38;5;124;03m\"\"\"\u001B[39;00m\n\u001B[0;32m    253\u001B[0m \u001B[38;5;124;03mCannot infer image type from output path '{file}'.\u001B[39;00m\n\u001B[1;32m   (...)\u001B[0m\n\u001B[0;32m    261\u001B[0m                 )\n\u001B[0;32m    262\u001B[0m             )\n\u001B[0;32m    264\u001B[0m     \u001B[38;5;66;03m# Request image\u001B[39;00m\n\u001B[0;32m    265\u001B[0m     \u001B[38;5;66;03m# -------------\u001B[39;00m\n\u001B[0;32m    266\u001B[0m     \u001B[38;5;66;03m# Do this first so we don't create a file if image conversion fails\u001B[39;00m\n\u001B[1;32m--> 267\u001B[0m     img_data \u001B[38;5;241m=\u001B[39m \u001B[43mto_image\u001B[49m\u001B[43m(\u001B[49m\n\u001B[0;32m    268\u001B[0m \u001B[43m        \u001B[49m\u001B[43mfig\u001B[49m\u001B[43m,\u001B[49m\n\u001B[0;32m    269\u001B[0m \u001B[43m        \u001B[49m\u001B[38;5;28;43mformat\u001B[39;49m\u001B[38;5;241;43m=\u001B[39;49m\u001B[38;5;28;43mformat\u001B[39;49m\u001B[43m,\u001B[49m\n\u001B[0;32m    270\u001B[0m \u001B[43m        \u001B[49m\u001B[43mscale\u001B[49m\u001B[38;5;241;43m=\u001B[39;49m\u001B[43mscale\u001B[49m\u001B[43m,\u001B[49m\n\u001B[0;32m    271\u001B[0m \u001B[43m        \u001B[49m\u001B[43mwidth\u001B[49m\u001B[38;5;241;43m=\u001B[39;49m\u001B[43mwidth\u001B[49m\u001B[43m,\u001B[49m\n\u001B[0;32m    272\u001B[0m \u001B[43m        \u001B[49m\u001B[43mheight\u001B[49m\u001B[38;5;241;43m=\u001B[39;49m\u001B[43mheight\u001B[49m\u001B[43m,\u001B[49m\n\u001B[0;32m    273\u001B[0m \u001B[43m        \u001B[49m\u001B[43mvalidate\u001B[49m\u001B[38;5;241;43m=\u001B[39;49m\u001B[43mvalidate\u001B[49m\u001B[43m,\u001B[49m\n\u001B[0;32m    274\u001B[0m \u001B[43m        \u001B[49m\u001B[43mengine\u001B[49m\u001B[38;5;241;43m=\u001B[39;49m\u001B[43mengine\u001B[49m\u001B[43m,\u001B[49m\n\u001B[0;32m    275\u001B[0m \u001B[43m    \u001B[49m\u001B[43m)\u001B[49m\n\u001B[0;32m    277\u001B[0m     \u001B[38;5;66;03m# Open file\u001B[39;00m\n\u001B[0;32m    278\u001B[0m     \u001B[38;5;66;03m# ---------\u001B[39;00m\n\u001B[0;32m    279\u001B[0m     \u001B[38;5;28;01mif\u001B[39;00m path \u001B[38;5;129;01mis\u001B[39;00m \u001B[38;5;28;01mNone\u001B[39;00m:\n\u001B[0;32m    280\u001B[0m         \u001B[38;5;66;03m# We previously failed to make sense of `file` as a pathlib object.\u001B[39;00m\n\u001B[0;32m    281\u001B[0m         \u001B[38;5;66;03m# Attempt to write to `file` as an open file descriptor.\u001B[39;00m\n",
      "File \u001B[1;32mC:\\ProgramData\\Anaconda3\\envs\\cherenkov\\lib\\site-packages\\plotly\\io\\_kaleido.py:144\u001B[0m, in \u001B[0;36mto_image\u001B[1;34m(fig, format, width, height, scale, validate, engine)\u001B[0m\n\u001B[0;32m    141\u001B[0m \u001B[38;5;66;03m# Validate figure\u001B[39;00m\n\u001B[0;32m    142\u001B[0m \u001B[38;5;66;03m# ---------------\u001B[39;00m\n\u001B[0;32m    143\u001B[0m fig_dict \u001B[38;5;241m=\u001B[39m validate_coerce_fig_to_dict(fig, validate)\n\u001B[1;32m--> 144\u001B[0m img_bytes \u001B[38;5;241m=\u001B[39m \u001B[43mscope\u001B[49m\u001B[38;5;241;43m.\u001B[39;49m\u001B[43mtransform\u001B[49m\u001B[43m(\u001B[49m\n\u001B[0;32m    145\u001B[0m \u001B[43m    \u001B[49m\u001B[43mfig_dict\u001B[49m\u001B[43m,\u001B[49m\u001B[43m \u001B[49m\u001B[38;5;28;43mformat\u001B[39;49m\u001B[38;5;241;43m=\u001B[39;49m\u001B[38;5;28;43mformat\u001B[39;49m\u001B[43m,\u001B[49m\u001B[43m \u001B[49m\u001B[43mwidth\u001B[49m\u001B[38;5;241;43m=\u001B[39;49m\u001B[43mwidth\u001B[49m\u001B[43m,\u001B[49m\u001B[43m \u001B[49m\u001B[43mheight\u001B[49m\u001B[38;5;241;43m=\u001B[39;49m\u001B[43mheight\u001B[49m\u001B[43m,\u001B[49m\u001B[43m \u001B[49m\u001B[43mscale\u001B[49m\u001B[38;5;241;43m=\u001B[39;49m\u001B[43mscale\u001B[49m\n\u001B[0;32m    146\u001B[0m \u001B[43m\u001B[49m\u001B[43m)\u001B[49m\n\u001B[0;32m    148\u001B[0m \u001B[38;5;28;01mreturn\u001B[39;00m img_bytes\n",
      "File \u001B[1;32mC:\\ProgramData\\Anaconda3\\envs\\cherenkov\\lib\\site-packages\\kaleido\\scopes\\plotly.py:153\u001B[0m, in \u001B[0;36mPlotlyScope.transform\u001B[1;34m(self, figure, format, width, height, scale)\u001B[0m\n\u001B[0;32m    142\u001B[0m     \u001B[38;5;28;01mraise\u001B[39;00m \u001B[38;5;167;01mValueError\u001B[39;00m(\n\u001B[0;32m    143\u001B[0m         \u001B[38;5;124m\"\u001B[39m\u001B[38;5;124mInvalid format \u001B[39m\u001B[38;5;124m'\u001B[39m\u001B[38;5;132;01m{original_format}\u001B[39;00m\u001B[38;5;124m'\u001B[39m\u001B[38;5;124m.\u001B[39m\u001B[38;5;130;01m\\n\u001B[39;00m\u001B[38;5;124m\"\u001B[39m\n\u001B[0;32m    144\u001B[0m         \u001B[38;5;124m\"\u001B[39m\u001B[38;5;124m    Supported formats: \u001B[39m\u001B[38;5;132;01m{supported_formats_str}\u001B[39;00m\u001B[38;5;124m\"\u001B[39m\n\u001B[1;32m   (...)\u001B[0m\n\u001B[0;32m    148\u001B[0m         )\n\u001B[0;32m    149\u001B[0m     )\n\u001B[0;32m    151\u001B[0m \u001B[38;5;66;03m# Transform in using _perform_transform rather than superclass so we can access the full\u001B[39;00m\n\u001B[0;32m    152\u001B[0m \u001B[38;5;66;03m# response dict, including error codes.\u001B[39;00m\n\u001B[1;32m--> 153\u001B[0m response \u001B[38;5;241m=\u001B[39m \u001B[38;5;28;43mself\u001B[39;49m\u001B[38;5;241;43m.\u001B[39;49m\u001B[43m_perform_transform\u001B[49m\u001B[43m(\u001B[49m\n\u001B[0;32m    154\u001B[0m \u001B[43m    \u001B[49m\u001B[43mfigure\u001B[49m\u001B[43m,\u001B[49m\u001B[43m \u001B[49m\u001B[38;5;28;43mformat\u001B[39;49m\u001B[38;5;241;43m=\u001B[39;49m\u001B[38;5;28;43mformat\u001B[39;49m\u001B[43m,\u001B[49m\u001B[43m \u001B[49m\u001B[43mwidth\u001B[49m\u001B[38;5;241;43m=\u001B[39;49m\u001B[43mwidth\u001B[49m\u001B[43m,\u001B[49m\u001B[43m \u001B[49m\u001B[43mheight\u001B[49m\u001B[38;5;241;43m=\u001B[39;49m\u001B[43mheight\u001B[49m\u001B[43m,\u001B[49m\u001B[43m \u001B[49m\u001B[43mscale\u001B[49m\u001B[38;5;241;43m=\u001B[39;49m\u001B[43mscale\u001B[49m\n\u001B[0;32m    155\u001B[0m \u001B[43m\u001B[49m\u001B[43m)\u001B[49m\n\u001B[0;32m    157\u001B[0m \u001B[38;5;66;03m# Check for export error, later can customize error messages for plotly Python users\u001B[39;00m\n\u001B[0;32m    158\u001B[0m code \u001B[38;5;241m=\u001B[39m response\u001B[38;5;241m.\u001B[39mget(\u001B[38;5;124m\"\u001B[39m\u001B[38;5;124mcode\u001B[39m\u001B[38;5;124m\"\u001B[39m, \u001B[38;5;241m0\u001B[39m)\n",
      "File \u001B[1;32mC:\\ProgramData\\Anaconda3\\envs\\cherenkov\\lib\\site-packages\\kaleido\\scopes\\base.py:293\u001B[0m, in \u001B[0;36mBaseScope._perform_transform\u001B[1;34m(self, data, **kwargs)\u001B[0m\n\u001B[0;32m    284\u001B[0m \u001B[38;5;250m\u001B[39m\u001B[38;5;124;03m\"\"\"\u001B[39;00m\n\u001B[0;32m    285\u001B[0m \u001B[38;5;124;03mTransform input data using the current scope, returning dict response with error code\u001B[39;00m\n\u001B[0;32m    286\u001B[0m \u001B[38;5;124;03mwhether successful or not.\u001B[39;00m\n\u001B[1;32m   (...)\u001B[0m\n\u001B[0;32m    290\u001B[0m \u001B[38;5;124;03m:return: Dict of response from Kaleido executable, whether successful or not\u001B[39;00m\n\u001B[0;32m    291\u001B[0m \u001B[38;5;124;03m\"\"\"\u001B[39;00m\n\u001B[0;32m    292\u001B[0m \u001B[38;5;66;03m# Ensure that kaleido subprocess is running\u001B[39;00m\n\u001B[1;32m--> 293\u001B[0m \u001B[38;5;28;43mself\u001B[39;49m\u001B[38;5;241;43m.\u001B[39;49m\u001B[43m_ensure_kaleido\u001B[49m\u001B[43m(\u001B[49m\u001B[43m)\u001B[49m\n\u001B[0;32m    295\u001B[0m \u001B[38;5;66;03m# Perform export\u001B[39;00m\n\u001B[0;32m    296\u001B[0m export_spec \u001B[38;5;241m=\u001B[39m \u001B[38;5;28mself\u001B[39m\u001B[38;5;241m.\u001B[39m_json_dumps(\u001B[38;5;28mdict\u001B[39m(kwargs, data\u001B[38;5;241m=\u001B[39mdata))\u001B[38;5;241m.\u001B[39mencode(\u001B[38;5;124m'\u001B[39m\u001B[38;5;124mutf-8\u001B[39m\u001B[38;5;124m'\u001B[39m)\n",
      "File \u001B[1;32mC:\\ProgramData\\Anaconda3\\envs\\cherenkov\\lib\\site-packages\\kaleido\\scopes\\base.py:192\u001B[0m, in \u001B[0;36mBaseScope._ensure_kaleido\u001B[1;34m(self)\u001B[0m\n\u001B[0;32m    189\u001B[0m     \u001B[38;5;28mself\u001B[39m\u001B[38;5;241m.\u001B[39m_std_error_thread\u001B[38;5;241m.\u001B[39mstart()\n\u001B[0;32m    191\u001B[0m \u001B[38;5;66;03m# Read startup message and check for errors\u001B[39;00m\n\u001B[1;32m--> 192\u001B[0m startup_response_string \u001B[38;5;241m=\u001B[39m \u001B[38;5;28;43mself\u001B[39;49m\u001B[38;5;241;43m.\u001B[39;49m\u001B[43m_proc\u001B[49m\u001B[38;5;241;43m.\u001B[39;49m\u001B[43mstdout\u001B[49m\u001B[38;5;241;43m.\u001B[39;49m\u001B[43mreadline\u001B[49m\u001B[43m(\u001B[49m\u001B[43m)\u001B[49m\u001B[38;5;241m.\u001B[39mdecode(\u001B[38;5;124m'\u001B[39m\u001B[38;5;124mutf-8\u001B[39m\u001B[38;5;124m'\u001B[39m)\n\u001B[0;32m    193\u001B[0m \u001B[38;5;28;01mif\u001B[39;00m \u001B[38;5;129;01mnot\u001B[39;00m startup_response_string:\n\u001B[0;32m    194\u001B[0m     message \u001B[38;5;241m=\u001B[39m (\n\u001B[0;32m    195\u001B[0m         \u001B[38;5;124m\"\u001B[39m\u001B[38;5;124mFailed to start Kaleido subprocess. Error stream:\u001B[39m\u001B[38;5;130;01m\\n\u001B[39;00m\u001B[38;5;130;01m\\n\u001B[39;00m\u001B[38;5;124m\"\u001B[39m \u001B[38;5;241m+\u001B[39m\n\u001B[0;32m    196\u001B[0m         \u001B[38;5;28mself\u001B[39m\u001B[38;5;241m.\u001B[39m_get_decoded_std_error()\n\u001B[0;32m    197\u001B[0m     )\n",
      "\u001B[1;31mKeyboardInterrupt\u001B[0m: "
     ]
    }
   ],
   "source": [
    "plot_dir = '../media/plots'\n",
    "plot_pos(results, 'GeV', plot_dir)"
   ],
   "metadata": {
    "collapsed": false,
    "ExecuteTime": {
     "end_time": "2023-06-04T23:57:59.331005400Z",
     "start_time": "2023-06-04T23:53:27.761288300Z"
    }
   }
  },
  {
   "cell_type": "markdown",
   "source": [
    "# Calculate emision angle"
   ],
   "metadata": {
    "collapsed": false
   }
  },
  {
   "cell_type": "code",
   "execution_count": null,
   "outputs": [],
   "source": [
    "def momentum(E, m):\n",
    "    return np.sqrt(E**2 - m**2)"
   ],
   "metadata": {
    "collapsed": false
   }
  },
  {
   "cell_type": "code",
   "execution_count": null,
   "outputs": [],
   "source": [
    "def fit_circle(data):\n",
    "    x, y = data[:,0], data[:,1]\n",
    "    x_m, y_m = np.mean(x), np.mean(y)\n",
    "\n",
    "    def calc_R(xc, yc):\n",
    "        \"\"\" calculate the distance of each 2D points from the center (xc, yc) \"\"\"\n",
    "        return np.sqrt((x-xc)**2 + (y-yc)**2)\n",
    "\n",
    "    def f(c):\n",
    "        \"\"\" calculate the algebraic distance between the data points and the mean circle centered at c=(xc, yc) \"\"\"\n",
    "        Ri = calc_R(*c)\n",
    "        return Ri - Ri.mean()\n",
    "\n",
    "    center_estimate = x_m, y_m\n",
    "    center, _ = sp.optimize.leastsq(f, center_estimate)\n",
    "\n",
    "    xc, yc = center\n",
    "    Ri       = calc_R(*center)\n",
    "    R       = Ri.mean()\n",
    "    return xc, yc, R"
   ],
   "metadata": {
    "collapsed": false
   }
  },
  {
   "cell_type": "code",
   "execution_count": null,
   "outputs": [],
   "source": [
    "# distancia 0.24 m\n",
    "d = 240 # mm\n",
    "cherenkov_angle = []\n",
    "for i, array in enumerate(results):\n",
    "    theta = np.arctan(radii[i]/d)\n",
    "    cherenkov_angle.append(theta)\n",
    "    print(f'angle for {energies[i]} GeV: {theta}')\n",
    "cherenkov_ang = np.array(cherenkov_angle)\n",
    "\n",
    "print(cherenkov_ang)"
   ],
   "metadata": {
    "collapsed": false
   }
  },
  {
   "cell_type": "code",
   "execution_count": null,
   "outputs": [],
   "source": [
    "radii = []\n",
    "xc = fit_circle(array)[0]\n",
    "yc = fit_circle(array)[1]\n",
    "momenta = []\n",
    "# print(type(energies))\n",
    "for e in range(len(energies)):\n",
    "    p = momentum(energies[e], 0.139)\n",
    "    print(energies[e])\n",
    "    momenta.append(p)\n",
    "momenta_array = np.array(momenta)\n",
    "for array in results:\n",
    "    radii.append(fit_circle(array)[2])\n",
    "radii = np.array(radii)\n",
    "print(\"momenta array\", momenta_array.shape, \"energies\", energies.shape, \"radios \",radii.shape)\n",
    "# distancia 0.24 m\n",
    "d = 240 # mm\n",
    "cherenkov_angle = []\n",
    "for i, array in enumerate(results):\n",
    "    theta = np.arctan(radii[i]/d)\n",
    "    cherenkov_angle.append(theta)\n",
    "cherenkov_ang = np.array(cherenkov_angle)\n",
    "\n",
    "\n",
    "processed_data = np.column_stack((energies, radii, momenta_array,cherenkov_ang))\n",
    "print(processed_data.shape)"
   ],
   "metadata": {
    "collapsed": false
   }
  },
  {
   "cell_type": "code",
   "execution_count": null,
   "outputs": [],
   "source": [
    "def plot_circle(xc, yc, radii, arrays, energies):\n",
    "    for i, array in enumerate(arrays):\n",
    "        energy_str = str(energies[i]).replace('.', '_')\n",
    "        theta_fit = np.linspace(0, 2*np.pi, 180)\n",
    "        x_fit = xc + (radii[i])*np.cos(theta_fit)\n",
    "        y_fit = yc + (radii[i])*np.sin(theta_fit)\n",
    "        fig = go.Figure(data=go.Scatter(x=x_fit, y=y_fit, mode='lines', marker=dict(color='blue', opacity=0.8)))\n",
    "        fig.add_trace(go.Scatter(x=array[:,0], y=array[:,1], mode='markers', marker=dict(color='violet', size=3, opacity=0.8)))\n",
    "        fig.update_layout(title=f\"{energy_str}\"+ 'G', xaxis_title='y', yaxis_title='z')\n",
    "\n",
    "        fig.update_layout(\n",
    "            width=500,\n",
    "            height=500,\n",
    "            margin=dict(\n",
    "                l=50,\n",
    "                r=50,\n",
    "                b=100,\n",
    "                t=100,\n",
    "                pad=4\n",
    "            ),\n",
    "            xaxis=dict(\n",
    "                showgrid=True,\n",
    "                zeroline=True,\n",
    "                showline=True,\n",
    "                showticklabels=True,\n",
    "                scaleratio=1,\n",
    "                scaleanchor=\"x\",\n",
    "                range=[-200, 200]\n",
    "            ),\n",
    "            yaxis=dict(\n",
    "                showgrid=True,\n",
    "                zeroline=True,\n",
    "                showline=True,\n",
    "                showticklabels=True,\n",
    "                scaleratio=1,\n",
    "                scaleanchor=\"y\",\n",
    "                range=[-200, 200]\n",
    "            )\n",
    "        )\n",
    "\n",
    "        fig.write_image(\"../media/plots/\"+\"ang_p\"+f\"{energies[i]}\"+ 'G'+\".png\")\n",
    "\n"
   ],
   "metadata": {
    "collapsed": false
   }
  },
  {
   "cell_type": "code",
   "execution_count": null,
   "outputs": [],
   "source": [
    "plot_circle(xc, yc, radii, results, energies)"
   ],
   "metadata": {
    "collapsed": false
   }
  },
  {
   "cell_type": "code",
   "execution_count": null,
   "outputs": [],
   "source": [
    "def plot_momenta_cherenkov_angle(data):\n",
    "        fig = go.Figure(data=go.Scatter(x=data[:,2], y=data[:,3], mode='markers', marker=dict(color='darkgreen', opacity=0.8, size=2)))\n",
    "        fig.update_layout(title='Cherenkov angle vs momenta', xaxis_title='momenta', yaxis_title='cherenkov angle', width=500, height=500)\n",
    "        fig.show()"
   ],
   "metadata": {
    "collapsed": false
   }
  },
  {
   "cell_type": "code",
   "execution_count": null,
   "outputs": [],
   "source": [
    "plot_momenta_cherenkov_angle(processed_data)"
   ],
   "metadata": {
    "collapsed": false
   }
  },
  {
   "cell_type": "code",
   "execution_count": null,
   "outputs": [],
   "source": [],
   "metadata": {
    "collapsed": false
   }
  }
 ],
 "metadata": {
  "kernelspec": {
   "display_name": "Python 3",
   "language": "python",
   "name": "python3"
  },
  "language_info": {
   "codemirror_mode": {
    "name": "ipython",
    "version": 2
   },
   "file_extension": ".py",
   "mimetype": "text/x-python",
   "name": "python",
   "nbconvert_exporter": "python",
   "pygments_lexer": "ipython2",
   "version": "2.7.6"
  }
 },
 "nbformat": 4,
 "nbformat_minor": 0
}
